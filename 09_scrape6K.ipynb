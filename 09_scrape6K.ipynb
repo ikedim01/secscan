{
 "cells": [
  {
   "cell_type": "code",
   "execution_count": null,
   "metadata": {},
   "outputs": [],
   "source": [
    "# default_exp scrape6K"
   ]
  },
  {
   "cell_type": "markdown",
   "metadata": {},
   "source": [
    "# scrape6K\n",
    "\n",
    "> Scrape item summaries from 6-K SEC filings."
   ]
  },
  {
   "cell_type": "code",
   "execution_count": null,
   "metadata": {},
   "outputs": [],
   "source": [
    "#hide\n",
    "%load_ext autoreload\n",
    "%autoreload 2\n",
    "from nbdev import show_doc"
   ]
  },
  {
   "cell_type": "code",
   "execution_count": null,
   "metadata": {},
   "outputs": [],
   "source": [
    "#export\n",
    "\n",
    "import collections\n",
    "import itertools\n",
    "import os\n",
    "import re\n",
    "\n",
    "from secscan import utils, dailyList, basicInfo, infoScraper\n",
    "\n",
    "default6KDir = os.path.join(utils.stockDataRoot,'scraped6K')"
   ]
  },
  {
   "cell_type": "markdown",
   "metadata": {},
   "source": [
    "6K scraper class - scrape XXX from the SEC filing:"
   ]
  },
  {
   "cell_type": "code",
   "execution_count": null,
   "metadata": {},
   "outputs": [],
   "source": [
    "#export\n",
    "\n",
    "extract6KPats = [\n",
    "    re.compile(r'12g.*?no(?:.{1,20}is marked.{1,100}82.)?(.*)signature',re.IGNORECASE),\n",
    "    re.compile(r'101\\s*\\(b\\)\\s*\\(7\\)(?:.{1,20}note\\s*:.*?on edgar.)?(.*)signature',re.IGNORECASE),\n",
    "    re.compile(r'exhibit\\s+index(.*)signature',re.IGNORECASE),\n",
    "    re.compile(r'signature.*exhibit(?:\\s+index)?(.*)',re.IGNORECASE),\n",
    "]\n",
    "\n",
    "def parse6K(accNo, formType=None, textLimit=500) :\n",
    "    print(f'[{accNo}]',end=' ')\n",
    "    info = basicInfo.getSecFormInfo(accNo, formType)\n",
    "    mainText = utils.downloadSecUrl(info['links'][0][3], toFormat='souptext')\n",
    "    for extract6KPat in extract6KPats :\n",
    "        m = extract6KPat.search(mainText)\n",
    "        if m :\n",
    "            m = m.group(1).strip()\n",
    "            if len(m)>20 :\n",
    "                break\n",
    "    if m and len(m)>20 :\n",
    "        info['mainText'] = m[:textLimit]\n",
    "    else :\n",
    "        print('*** no main text')\n",
    "    return info\n",
    "\n",
    "class scraper6K(infoScraper.scraperBase) :\n",
    "    def __init__(self, infoDir=default6KDir, startD=None, endD=None, fSuff='m.pkl', **pickle_kwargs) :\n",
    "        super().__init__(infoDir, '6-K', startD=startD, endD=endD, fSuff=fSuff, **pickle_kwargs)\n",
    "    def scrapeInfo(self, accNo, formType=None) :\n",
    "        return parse6K(accNo, formType), None"
   ]
  },
  {
   "cell_type": "markdown",
   "metadata": {},
   "source": [
    "Test 6-K scraper class:"
   ]
  },
  {
   "cell_type": "code",
   "execution_count": null,
   "metadata": {},
   "outputs": [
    {
     "name": "stdout",
     "output_type": "stream",
     "text": [
      "20210704 WEEKEND 20210703 WEEKEND 20210702 ### list index 13 filings for 20210702: 6569 * 20210701 filings for 20210701: 5573 * "
     ]
    }
   ],
   "source": [
    "dl = dailyList.dailyList(startD='empty')\n",
    "dl.updateForDays('20210701','20210705')\n",
    "assert len(dl.getFilingsList(None,'6-K')[0])==188,\"testing 6-K scraper class (daily list count)\""
   ]
  },
  {
   "cell_type": "code",
   "execution_count": null,
   "metadata": {},
   "outputs": [
    {
     "data": {
      "text/plain": [
       "5788"
      ]
     },
     "execution_count": null,
     "metadata": {},
     "output_type": "execute_result"
    }
   ],
   "source": [
    "# dailyList.dlCountFilings(startD='20210101',endD='20210331',formClass='6-K',noAmend=False)"
   ]
  },
  {
   "cell_type": "code",
   "execution_count": null,
   "metadata": {},
   "outputs": [],
   "source": [
    "# dl = dailyList.dailyList(startD='20210101',endD='20210331')\n",
    "# l = dl.getFilingsList(formClass='6-K')[0]"
   ]
  },
  {
   "cell_type": "code",
   "execution_count": null,
   "metadata": {},
   "outputs": [],
   "source": [
    "# i = basicInfo.getSecFormInfo(l[623][3])"
   ]
  },
  {
   "cell_type": "code",
   "execution_count": null,
   "metadata": {},
   "outputs": [
    {
     "data": {
      "text/plain": [
       "[('eh210139217_ex9901.htm',\n",
       "  'EXHIBIT 99.1',\n",
       "  'EX-99.1',\n",
       "  '/Archives/edgar/data/886986/000095014221001036/eh210139217_ex9901.htm')]"
      ]
     },
     "execution_count": null,
     "metadata": {},
     "output_type": "execute_result"
    }
   ],
   "source": [
    "# [tup for tup in i['links'] if tup[2].startswith('EX-99')]"
   ]
  },
  {
   "cell_type": "code",
   "execution_count": null,
   "metadata": {},
   "outputs": [],
   "source": []
  },
  {
   "cell_type": "code",
   "execution_count": null,
   "metadata": {},
   "outputs": [],
   "source": [
    "#hide\n",
    "# uncomment and run to regenerate all library Python files\n",
    "# from nbdev.export import notebook2script; notebook2script()"
   ]
  },
  {
   "cell_type": "code",
   "execution_count": null,
   "metadata": {},
   "outputs": [],
   "source": []
  }
 ],
 "metadata": {
  "kernelspec": {
   "display_name": "Python 3",
   "language": "python",
   "name": "python3"
  }
 },
 "nbformat": 4,
 "nbformat_minor": 4
}
