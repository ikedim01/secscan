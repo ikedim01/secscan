{
 "cells": [
  {
   "cell_type": "code",
   "execution_count": null,
   "metadata": {},
   "outputs": [],
   "source": [
    "# default_exp scrape6K"
   ]
  },
  {
   "cell_type": "markdown",
   "metadata": {},
   "source": [
    "# scrape6K\n",
    "\n",
    "> Scrape item summaries from 6-K SEC filings."
   ]
  },
  {
   "cell_type": "code",
   "execution_count": null,
   "metadata": {},
   "outputs": [],
   "source": [
    "#hide\n",
    "%load_ext autoreload\n",
    "%autoreload 2\n",
    "from nbdev import show_doc"
   ]
  },
  {
   "cell_type": "code",
   "execution_count": null,
   "metadata": {},
   "outputs": [],
   "source": [
    "#export\n",
    "\n",
    "import collections\n",
    "import itertools\n",
    "import os\n",
    "import re\n",
    "\n",
    "from secscan import utils, dailyList, basicInfo, infoScraper\n",
    "\n",
    "default6KDir = os.path.join(utils.stockDataRoot,'scraped6K')"
   ]
  },
  {
   "cell_type": "markdown",
   "metadata": {},
   "source": [
    "6-K scraper class - scrape text from the first sublink and from any EX-99 links in the SEC filing:"
   ]
  },
  {
   "cell_type": "code",
   "execution_count": null,
   "metadata": {},
   "outputs": [],
   "source": [
    "#export\n",
    "\n",
    "extract6KPats = [\n",
    "    re.compile(r'12g.*?no(?:.{1,20}is marked.{1,100}82.)?(.*)(?:signature|pursuant)',re.IGNORECASE),\n",
    "    re.compile(r'101\\s*\\(b\\)\\s*\\(7\\)(?:.{1,20}note\\s*:.*?on edgar.)?(.*)(?:signature|pursuant)',re.IGNORECASE),\n",
    "    re.compile(r'20-Fb\\)\\s*\\(1\\)(?:.{1,20}note\\s*:.*?on edgar.)?(.*)(?:signature|pursuant)',re.IGNORECASE),\n",
    "    re.compile(r'20-F.{1,40}40-F(.*)(?:signature|pursuant)',re.IGNORECASE),\n",
    "    re.compile(r'announce[s|d]?(.*)',re.IGNORECASE),\n",
    "    re.compile(r'explanatory\\s+note(.*)',re.IGNORECASE),\n",
    "    re.compile(r'contents(.*)',re.IGNORECASE),\n",
    "    re.compile(r'exhibits?(?:\\s+index)?(.*)',re.IGNORECASE),\n",
    "]\n",
    "\n",
    "def parse6K(accNo, formType=None, textLimit=basicInfo.defaultTextLimit) :\n",
    "    info = basicInfo.getSecFormInfo(accNo, formType=formType, get99=True, textLimit=textLimit)\n",
    "    mainText = utils.downloadSecUrl(info['links'][0][3], toFormat='souptext')\n",
    "    print(mainText)\n",
    "    for extract6KPat in extract6KPats :\n",
    "        print('PAT',extract6KPat)\n",
    "        m = extract6KPat.search(mainText)\n",
    "        if m :\n",
    "            m = m.group(1).strip()\n",
    "            if len(m)>20 :\n",
    "                break\n",
    "    if m and len(m)>20 :\n",
    "        info['mainText'] = m[:textLimit]\n",
    "    else :\n",
    "        print('*** no main text')\n",
    "    return info\n",
    "\n",
    "class scraper6K(infoScraper.scraperBase) :\n",
    "    def __init__(self, infoDir=default6KDir, startD=None, endD=None, fSuff='m.pkl', **pickle_kwargs) :\n",
    "        super().__init__(infoDir, '6-K', startD=startD, endD=endD, fSuff=fSuff, **pickle_kwargs)\n",
    "    def scrapeInfo(self, accNo, formType=None) :\n",
    "        return parse6K(accNo, formType), None"
   ]
  },
  {
   "cell_type": "markdown",
   "metadata": {},
   "source": [
    "Test 6-K scraper class:"
   ]
  },
  {
   "cell_type": "code",
   "execution_count": null,
   "metadata": {},
   "outputs": [
    {
     "name": "stdout",
     "output_type": "stream",
     "text": [
      "20210703 WEEKEND 20210702 ### list index 15 filings for 20210702: 6569 * 20210701 filings for 20210701: 5573 * "
     ]
    },
    {
     "data": {
      "text/plain": [
       "188"
      ]
     },
     "execution_count": null,
     "metadata": {},
     "output_type": "execute_result"
    }
   ],
   "source": [
    "dl = dailyList.dailyList(startD='empty')\n",
    "dl.updateForDays('20210701','20210704')\n",
    "len(dl.getFilingsList(None,'6-K')[0])#==188,\"testing 6-K scraper class (daily list count)\""
   ]
  },
  {
   "cell_type": "code",
   "execution_count": null,
   "metadata": {},
   "outputs": [],
   "source": [
    "# dl = dailyList.dailyList(startD='20200101')"
   ]
  },
  {
   "cell_type": "code",
   "execution_count": null,
   "metadata": {},
   "outputs": [],
   "source": [
    "# s = scraper6K(startD='empty')"
   ]
  },
  {
   "cell_type": "code",
   "execution_count": null,
   "metadata": {},
   "outputs": [
    {
     "name": "stdout",
     "output_type": "stream",
     "text": [
      "=====20210721===== =====20210720===== =====NEW 20210719===== [0000910680-21-000052] [0001292814-21-003001] [0001178913-21-002304] [0001193125-21-218580] [0001193125-21-218585] [0001193125-21-218103] [0001193125-21-218466] [0001279569-21-000986] [0001292814-21-002998] [0001292814-21-002999] [0001493152-21-017121] [0001062993-21-006597] [0001683168-21-003004] [0001140361-21-024697] [0001564590-21-036947] [0001171843-21-004958] [0001217160-21-000049] [0001193125-21-218153] [0001279569-21-000981] [0001193125-21-218375] [0001193125-21-218152] [0001178913-21-002300] [0001395064-21-000155] [0001292814-21-002995] [0001279569-21-000987] [0001193125-21-217659] [0001171843-21-004934] [0001171843-21-004944] [0001279569-21-000982] [0001292814-21-002993] [0001062993-21-006604] [0001437749-21-017152] [0001654954-21-008034] [0001279569-21-000980] [0001178913-21-002302] [0001628280-21-014005] [0001104659-21-093230] [0001104659-21-093479] [0001493152-21-017207] [0001605484-21-000070] [0001213900-21-037474] [0001213900-21-037399] [0001104659-21-093272] [0001171843-21-004943] [0001648416-21-000078] [0001193125-21-217981] [0001493152-21-017228] [0001493152-21-017224] [0001193125-21-218074] [0001213900-21-037385] [0001493152-21-017200] [0001104659-21-093251] [0000950103-21-010608] [0001213900-21-037495] [0001104659-21-093271] [0001213900-21-037476] [0001213900-21-037402] [0001171843-21-004942] [0001193125-21-218441] [0000814052-21-000093] [0001654954-21-008042] [0001062993-21-006608] [0000950142-21-002381] [0001654954-21-008028] [0000876779-21-000012] [0001178913-21-002311] [0001654954-21-008026] [0001279569-21-000985] [0001193125-21-217967] [0001104659-21-093385] [0000947871-21-000778] [0001279569-21-000989] \n",
      "20210719: 72\n",
      "20210720: 71\n",
      "20210721: 77\n",
      "Total: 220\n"
     ]
    }
   ],
   "source": [
    "# s.updateForDays(dl,startD='20210719',endD='20210722')\n",
    "# print(); s.getCounts()"
   ]
  },
  {
   "cell_type": "code",
   "execution_count": null,
   "metadata": {},
   "outputs": [],
   "source": [
    "# utils.secBrowse('0001193125-21-219747')"
   ]
  },
  {
   "cell_type": "code",
   "execution_count": null,
   "metadata": {},
   "outputs": [],
   "source": [
    "# parse6K('0001157523-21-000888')"
   ]
  },
  {
   "cell_type": "code",
   "execution_count": null,
   "metadata": {},
   "outputs": [],
   "source": [
    "# for k,v in s.infoMap['20210720'].items() :\n",
    "#     print(f\"'{k}'\")\n",
    "#     print(v['mainText'])"
   ]
  },
  {
   "cell_type": "code",
   "execution_count": null,
   "metadata": {},
   "outputs": [
    {
     "data": {
      "text/plain": [
       "5788"
      ]
     },
     "execution_count": null,
     "metadata": {},
     "output_type": "execute_result"
    }
   ],
   "source": [
    "# dailyList.dlCountFilings(startD='20210101',endD='20210331',formClass='6-K',noAmend=False)"
   ]
  },
  {
   "cell_type": "code",
   "execution_count": null,
   "metadata": {},
   "outputs": [],
   "source": []
  },
  {
   "cell_type": "code",
   "execution_count": null,
   "metadata": {},
   "outputs": [],
   "source": [
    "#hide\n",
    "# uncomment and run to regenerate all library Python files\n",
    "# from nbdev.export import notebook2script; notebook2script()"
   ]
  },
  {
   "cell_type": "code",
   "execution_count": null,
   "metadata": {},
   "outputs": [],
   "source": []
  }
 ],
 "metadata": {
  "kernelspec": {
   "display_name": "Python 3",
   "language": "python",
   "name": "python3"
  }
 },
 "nbformat": 4,
 "nbformat_minor": 4
}
