{
 "cells": [
  {
   "cell_type": "code",
   "execution_count": null,
   "metadata": {},
   "outputs": [],
   "source": [
    "# default_exp scrape6K"
   ]
  },
  {
   "cell_type": "markdown",
   "metadata": {},
   "source": [
    "# scrape6K\n",
    "\n",
    "> Scrape item summaries from 6-K SEC filings."
   ]
  },
  {
   "cell_type": "code",
   "execution_count": null,
   "metadata": {},
   "outputs": [],
   "source": [
    "#hide\n",
    "%load_ext autoreload\n",
    "%autoreload 2\n",
    "from nbdev import show_doc"
   ]
  },
  {
   "cell_type": "code",
   "execution_count": null,
   "metadata": {},
   "outputs": [],
   "source": [
    "#export\n",
    "\n",
    "import collections\n",
    "import itertools\n",
    "import os\n",
    "import re\n",
    "\n",
    "from secscan import utils, dailyList, basicInfo, infoScraper\n",
    "\n",
    "default6KDir = os.path.join(utils.stockDataRoot,'scraped6K')"
   ]
  },
  {
   "cell_type": "markdown",
   "metadata": {},
   "source": [
    "6-K scraper class - scrape text from the first sublink and from any EX-99 links in the SEC filing:"
   ]
  },
  {
   "cell_type": "code",
   "execution_count": null,
   "metadata": {},
   "outputs": [],
   "source": [
    "#export\n",
    "\n",
    "reg12gStr = r'12g3(?:\\s*.\\s*2\\s*\\(b\\))?'\n",
    "header6KPat = re.compile(r'.*(?:'\n",
    "               + r'pursuant.{1,20}'+reg12gStr+r'.{1,100}?\\b1934\\b(?:.{1,40}\\bno\\b..)?'\n",
    "               + r'|' + r'is marked.{1,100}'+reg12gStr+'..'\n",
    "               + r'|' + r'101\\s*\\(b\\)\\s*\\(7\\)(?:\\s*only\\s*permits.{1,700}on edgar.)?'\n",
    "               + r'|' + r'101\\s*\\(b\\)\\s*\\(1\\)(?:\\s*only\\s*permits.{1,150}holders.)?'\n",
    "               + r'|' + r'20-Fb\\)\\s*\\(1\\)'\n",
    "               + r'|' + r'20-F.{1,40}40-F'\n",
    "               + r')',re.IGNORECASE)\n",
    "signaturePat = re.compile(r'.{1,20}signatures?\\s*pursuant.{1,200}authorized.(?:.{1,300}(?:officer|president|ceo))?',\n",
    "                         re.IGNORECASE)\n",
    "skipJunkPat = re.compile(r'[^a-z]{1,40}',re.IGNORECASE)\n",
    "\n",
    "def parse6K(accNo, formType=None, textLimit=basicInfo.defaultTextLimit) :\n",
    "    info = basicInfo.getSecFormInfo(accNo, formType=formType, get99=True, textLimit=textLimit)\n",
    "    mainText = utils.downloadSecUrl(info['links'][0][3], toFormat='souptext')\n",
    "    m = header6KPat.match(mainText)\n",
    "    if m :\n",
    "        mainText = mainText[m.end():]\n",
    "        # print(endPos, mainText[endPos:endPos+400])\n",
    "        # print()\n",
    "    else :\n",
    "        print('no header')\n",
    "    for pat in [signaturePat, skipJunkPat] : \n",
    "        m = pat.match(mainText)\n",
    "        if m :\n",
    "            mainText = mainText[m.end():]\n",
    "    info['mainText'] = mainText[:textLimit].strip()\n",
    "    return info\n",
    "\n",
    "class scraper6K(infoScraper.scraperBase) :\n",
    "    @utils.delegates(infoScraper.scraperBase.__init__)\n",
    "    def __init__(self, infoDir=default6KDir, **kwargs) :\n",
    "        super().__init__(infoDir, '6-K', **kwargs)\n",
    "    def scrapeInfo(self, accNo, formType=None) :\n",
    "        return parse6K(accNo, formType), None"
   ]
  },
  {
   "cell_type": "markdown",
   "metadata": {},
   "source": [
    "Test 6-K scraper class:"
   ]
  },
  {
   "cell_type": "code",
   "execution_count": null,
   "metadata": {},
   "outputs": [],
   "source": [
    "dl = dailyList.dailyList(startD='empty')\n",
    "dl.updateForDays('20210701','20210704')\n",
    "assert len(dl.getFilingsList(None,'6-K')[0])==188,\"testing 6-K scraper class (daily list count)\"\n",
    "info = parse6K('0001178913-21-002357', formType='6-K', textLimit=1000)\n",
    "assert (info['text99'][1].startswith('TAT TECHNOLOGIES LTD. NOTICE OF ANNUAL')\n",
    "        and info['text99'][1].endswith('PricewaterhouseCoopers International Ltd., as our i')\n",
    "        and info['text99'][2].startswith('TAT Technologies Ltd. P.O. Box 80, Gedera')\n",
    "        and info['text99'][2].endswith('be entitled to vote, with all powers the un')\n",
    "        and info['mainText'].startswith('TAT Technologies Ltd. 6-K Exhibits: 1. Notice')\n",
    "        and info['mainText'].endswith('Ehud Ben-Yair Chief Financial Officer Date: July 26, 2021 3')\n",
    "       ),\"testing 6-K scraper class (parsing)\""
   ]
  },
  {
   "cell_type": "code",
   "execution_count": null,
   "metadata": {},
   "outputs": [],
   "source": []
  },
  {
   "cell_type": "code",
   "execution_count": null,
   "metadata": {},
   "outputs": [],
   "source": [
    "#hide\n",
    "# uncomment and run to regenerate all library Python files\n",
    "# from nbdev.export import notebook2script; notebook2script()"
   ]
  },
  {
   "cell_type": "code",
   "execution_count": null,
   "metadata": {},
   "outputs": [],
   "source": []
  }
 ],
 "metadata": {
  "kernelspec": {
   "display_name": "Python 3",
   "language": "python",
   "name": "python3"
  }
 },
 "nbformat": 4,
 "nbformat_minor": 4
}
