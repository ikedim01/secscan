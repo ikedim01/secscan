{
 "cells": [
  {
   "cell_type": "code",
   "execution_count": null,
   "metadata": {},
   "outputs": [],
   "source": [
    "# default_exp utils"
   ]
  },
  {
   "cell_type": "markdown",
   "metadata": {},
   "source": [
    "# utils\n",
    "\n",
    "> Assorted low-level utilities for SEC scanner."
   ]
  },
  {
   "cell_type": "code",
   "execution_count": null,
   "metadata": {},
   "outputs": [],
   "source": [
    "#hide\n",
    "from nbdev.showdoc import *"
   ]
  },
  {
   "cell_type": "code",
   "execution_count": null,
   "metadata": {},
   "outputs": [],
   "source": [
    "#export\n",
    "import os\n",
    "\n",
    "stockDataRoot = os.path.expanduser(os.path.join('~','secData2'))"
   ]
  },
  {
   "cell_type": "code",
   "execution_count": null,
   "metadata": {},
   "outputs": [
    {
     "data": {
      "text/plain": [
       "'C:\\\\Users\\\\ikedi\\\\secData2'"
      ]
     },
     "execution_count": null,
     "metadata": {},
     "output_type": "execute_result"
    }
   ],
   "source": [
    "stockDataRoot"
   ]
  },
  {
   "cell_type": "markdown",
   "metadata": {},
   "source": [
    "We download SEC data using requests.\n",
    "We retry a few times in case of a temporary internet glitch,\n",
    "and also recognize an SEC-specific temporary outage message and raise an Exception for it."
   ]
  },
  {
   "cell_type": "code",
   "execution_count": null,
   "metadata": {},
   "outputs": [],
   "source": [
    "#export\n",
    "import requests\n",
    "\n",
    "def requestUrl(url, timeout=5.0, nTries=3, returnText=False, **kwargs) :\n",
    "    \"Downloads a URL using the requests package.\"\n",
    "    for i in range(nTries) :\n",
    "        try :\n",
    "            r = requests.get(url,timeout=timeout,params=kwargs)\n",
    "            r.raise_for_status()\n",
    "            return r.text if returnText else r\n",
    "        except Exception as e :\n",
    "            print('Error','downloading',url,'-',e)\n",
    "            if i >= nTries-1 :\n",
    "                raise\n",
    "\n",
    "secUrlPref = 'https://www.sec.gov'\n",
    "def downloadSecUrl(secSubUrl) :\n",
    "    \"\"\"\n",
    "    Downloads a url from the SEC site, checking for a temporary outage message.\n",
    "    \"\"\"\n",
    "    urlContents = requestUrl(secUrlPref+secSubUrl).text\n",
    "    if urlContents.find('page is temporarily unavailable') >= 0 :\n",
    "        raise Exception('temporary SEC outage')\n",
    "    return urlContents"
   ]
  },
  {
   "cell_type": "code",
   "execution_count": null,
   "metadata": {},
   "outputs": [],
   "source": [
    "t = downloadSecUrl('')\n",
    "assert 'securities and exchange' in t.lower()"
   ]
  },
  {
   "cell_type": "code",
   "execution_count": null,
   "metadata": {},
   "outputs": [],
   "source": []
  }
 ],
 "metadata": {
  "kernelspec": {
   "display_name": "Python 3",
   "language": "python",
   "name": "python3"
  }
 },
 "nbformat": 4,
 "nbformat_minor": 2
}
