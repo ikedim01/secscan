{
 "cells": [
  {
   "cell_type": "code",
   "execution_count": null,
   "metadata": {},
   "outputs": [],
   "source": [
    "# default_exp utils"
   ]
  },
  {
   "cell_type": "markdown",
   "metadata": {},
   "source": [
    "# utils\n",
    "\n",
    "> Assorted low-level utilities for a flexible SEC filings scanner."
   ]
  },
  {
   "cell_type": "code",
   "execution_count": null,
   "metadata": {},
   "outputs": [],
   "source": [
    "#hide\n",
    "from nbdev.showdoc import *"
   ]
  },
  {
   "cell_type": "code",
   "execution_count": null,
   "metadata": {},
   "outputs": [],
   "source": [
    "#export\n",
    "import datetime\n",
    "import gzip\n",
    "import os\n",
    "import pickle\n",
    "import re\n",
    "from pytz import timezone\n",
    "import requests\n",
    "import time"
   ]
  },
  {
   "cell_type": "markdown",
   "metadata": {},
   "source": [
    "We store all scraped data under stockDataRoot."
   ]
  },
  {
   "cell_type": "code",
   "execution_count": null,
   "metadata": {},
   "outputs": [],
   "source": [
    "#export\n",
    "stockDataRoot = os.path.expanduser(os.path.join('~','secData2'))"
   ]
  },
  {
   "cell_type": "code",
   "execution_count": null,
   "metadata": {},
   "outputs": [
    {
     "data": {
      "text/plain": [
       "'/home/ubuntu/secData2'"
      ]
     },
     "execution_count": null,
     "metadata": {},
     "output_type": "execute_result"
    }
   ],
   "source": [
    "stockDataRoot"
   ]
  },
  {
   "cell_type": "markdown",
   "metadata": {},
   "source": [
    "We download SEC data using the requests library.\n",
    "We retry a few times in case of a temporary internet glitch,\n",
    "and also recognize an SEC-specific temporary outage message and raise an Exception for it\n",
    "so that we can flag the problem and retry later."
   ]
  },
  {
   "cell_type": "code",
   "execution_count": null,
   "metadata": {},
   "outputs": [],
   "source": [
    "#export\n",
    "\n",
    "def requestUrl(url, timeout=5.0, nTries=5, returnText=False, **kwargs) :\n",
    "    \"Downloads a URL using the requests package.\"\n",
    "    for i in range(nTries) :\n",
    "        try :\n",
    "            r = requests.get(url,timeout=timeout,params=kwargs)\n",
    "            r.raise_for_status()\n",
    "            return r.text if returnText else r\n",
    "        except Exception as e :\n",
    "            print('Error','downloading',url,'-',e)\n",
    "            if i >= nTries-1 :\n",
    "                raise\n",
    "\n",
    "secUrlPref = 'https://www.sec.gov'\n",
    "pageUnavailableRE = re.compile('page is temporarily unavailable',re.IGNORECASE)\n",
    "def downloadSecUrl(secSubUrl) :\n",
    "    \"\"\"\n",
    "    Downloads a url from the SEC site, also checking for an SEC-specific temporary outage message.\n",
    "    \"\"\"\n",
    "    urlContents = requestUrl(secUrlPref+secSubUrl).text\n",
    "    if pageUnavailableRE.search(urlContents) :\n",
    "        raise Exception('temporary SEC outage')\n",
    "    return urlContents"
   ]
  },
  {
   "cell_type": "markdown",
   "metadata": {},
   "source": [
    "Test downloading from the SEC website:"
   ]
  },
  {
   "cell_type": "code",
   "execution_count": null,
   "metadata": {},
   "outputs": [],
   "source": [
    "t = downloadSecUrl('')\n",
    "assert 'securities and exchange' in t.lower()"
   ]
  },
  {
   "cell_type": "markdown",
   "metadata": {},
   "source": [
    "We store scraped data in pickled format,\n",
    "either storing an object in a single pickled file\n",
    "or storing a dict by saving one file per key\n",
    "(for example, one file per date).\n",
    "We can optionally use gzip compression (smaller files, but slower to read)."
   ]
  },
  {
   "cell_type": "code",
   "execution_count": null,
   "metadata": {},
   "outputs": [],
   "source": [
    "#export\n",
    "\n",
    "def openFp(fpath, mode, use_gzip) :\n",
    "    \"Open a file for writing or reading, optionally using gzip compression.\"\n",
    "    openfunc = gzip.open if use_gzip else open\n",
    "    return openfunc(fpath,mode)\n",
    "\n",
    "def pickSave(fpath, ob, use_gzip=False, **kwargs) :\n",
    "    \"Save a pickled object to a file, optionally using gzip compression.\"\n",
    "    with openFp(fpath, 'wb', use_gzip) as f :\n",
    "        pickle.dump(ob, f, **kwargs)\n",
    "\n",
    "def pickLoad(fpath, use_gzip=False) :\n",
    "    \"Load a pickled object from a file, optionally using gzip compression.\"\n",
    "    with openFp(fpath, 'rb', use_gzip) as f :\n",
    "        return pickle.load(f)\n",
    "\n",
    "def pickLoadIfPath(path_or_ob) :\n",
    "    \"\"\"\n",
    "    If given a path, loads a pickled object from it; otherwise returns\n",
    "    its argument unchanged (assumes it's an already loaded object).\n",
    "    \"\"\"\n",
    "    if isinstance(path_or_ob,str) :\n",
    "        return pickLoad(path_or_ob)\n",
    "    else :\n",
    "        return path_or_ob"
   ]
  },
  {
   "cell_type": "markdown",
   "metadata": {},
   "source": [
    "Test pickled data storage in single files:"
   ]
  },
  {
   "cell_type": "code",
   "execution_count": null,
   "metadata": {},
   "outputs": [],
   "source": [
    "import random\n",
    "rng = random.Random(42)\n",
    "test_rand = dict((f'r{i}', rng.random()) for i in range(10))\n",
    "pickSave('test.pkl', test_rand)\n",
    "assert test_rand == pickLoad('test.pkl')\n",
    "pickSave('test.pkl', test_rand, use_gzip=True)\n",
    "assert test_rand == pickLoad('test.pkl', use_gzip=True)\n",
    "time.sleep(1)\n",
    "os.unlink('test.pkl')"
   ]
  },
  {
   "cell_type": "code",
   "execution_count": null,
   "metadata": {},
   "outputs": [],
   "source": [
    "#export\n",
    "\n",
    "def savePklToDir(toDir, fName, ob, use_gzip=False) :\n",
    "    \"\"\"\n",
    "    Saves a pickled object to a file under a directory, optionally using gzip compression.\n",
    "    Creates the directory if it doesn't exist.\n",
    "    \"\"\"\n",
    "    if not os.path.exists(toDir) :\n",
    "        os.makedirs(toDir)\n",
    "    fPath = os.path.join(toDir, fName)\n",
    "    pickSave(fPath,ob, use_gzip=use_gzip)\n",
    "\n",
    "def loadPklFromDir(fromDir, fName, defaultVal, use_gzip=False) :\n",
    "    \"\"\"\n",
    "    Load a pickled object from a file under a directory, optionally using gzip compression.\n",
    "    Returns a default value if the file doesn't exist.\n",
    "    \"\"\"\n",
    "    fPath = os.path.join(fromDir, fName)\n",
    "    if os.path.exists(fPath) :\n",
    "        return pickLoad(fPath, use_gzip=use_gzip)\n",
    "    else :\n",
    "        return defaultVal"
   ]
  },
  {
   "cell_type": "markdown",
   "metadata": {},
   "source": [
    "Test pickled data storage under directory:"
   ]
  },
  {
   "cell_type": "code",
   "execution_count": null,
   "metadata": {},
   "outputs": [],
   "source": [
    "savePklToDir('testdirpkl','test.pkl', test_rand)\n",
    "assert test_rand == loadPklFromDir('testdirpkl','test.pkl',None)\n",
    "time.sleep(1)\n",
    "os.unlink(os.path.join('testdirpkl','test.pkl'))\n",
    "os.rmdir('testdirpkl')"
   ]
  },
  {
   "cell_type": "code",
   "execution_count": null,
   "metadata": {},
   "outputs": [],
   "source": [
    "#export\n",
    "\n",
    "def saveSplitPklToDir(m, toDir, fSuff='m.pkl', dirtyMap=None) :\n",
    "    \"\"\"\n",
    "    Saves a dict with str keys to a separate file for each key.\n",
    "    If dirtyMap is True, saves all keys.\n",
    "    If dirtyMap is None (default), saves only keys that don't yet have a file saved.\n",
    "    Otherwise, also saves keys k for which dirtyMap.get(k) is true.\n",
    "    \"\"\"\n",
    "    if not os.path.exists(toDir) :\n",
    "        os.makedirs(toDir)\n",
    "    for k in sorted(m.keys()) :\n",
    "        fPath = os.path.join(toDir, k+fSuff)\n",
    "        if dirtyMap is True :\n",
    "            needToSave = True\n",
    "        else :\n",
    "            needToSave = not os.path.exists(fPath)\n",
    "            if dirtyMap is not None :\n",
    "                needToSave = needTooSave or dirtyMap.get(k)\n",
    "        if needToSave :\n",
    "            pickSave(fPath,m[k])\n",
    "\n",
    "def loadSplitPklFromDir(fromDir, startK=None, endK=None, fSuff='m.pkl') :\n",
    "    \"\"\"\n",
    "    Loads a pickled dict with str keys stored with a separate file for each key,\n",
    "    optionally restricting to keys in [startK .. endK)\n",
    "    \"\"\"\n",
    "    m = {}\n",
    "    if not os.path.exists(fromDir) :\n",
    "        return m\n",
    "    fNames = sorted(fName for fName in os.listdir(fromDir)\n",
    "                    if fName.endswith(fSuff))\n",
    "    for fName in fNames :\n",
    "        fPref = fName[:-len(fSuff)]\n",
    "        if ((startK is not None and fPref<startK)\n",
    "                or (endK is not None and endK<=fPref)) :\n",
    "            continue\n",
    "        m[fPref] = pickLoad(os.path.join(fromDir,fName))\n",
    "    return m"
   ]
  },
  {
   "cell_type": "markdown",
   "metadata": {},
   "source": [
    "Test pickled dict storage split by key:"
   ]
  },
  {
   "cell_type": "code",
   "execution_count": null,
   "metadata": {},
   "outputs": [],
   "source": [
    "saveSplitPklToDir(test_rand, 'testsplitpkl')\n",
    "assert test_rand == loadSplitPklFromDir('testsplitpkl')\n",
    "test_sub = dict((k,v) for k,v in test_rand.items() if 'r3'<=k<'r7')\n",
    "assert test_sub == loadSplitPklFromDir('testsplitpkl',startK='r3',endK='r7')\n",
    "time.sleep(1)\n",
    "for k in test_rand.keys() :\n",
    "    os.unlink(os.path.join('testsplitpkl',k+'m.pkl'))\n",
    "os.rmdir('testsplitpkl')"
   ]
  },
  {
   "cell_type": "markdown",
   "metadata": {},
   "source": [
    "We use the current Eastern US time to control when to check for SEC filings."
   ]
  },
  {
   "cell_type": "code",
   "execution_count": null,
   "metadata": {},
   "outputs": [],
   "source": [
    "easternUSTimeZone = timezone('US/Eastern')\n",
    "def curEasternUSTime() :\n",
    "    return datetime.datetime.now(easternUSTimeZone)"
   ]
  },
  {
   "cell_type": "code",
   "execution_count": null,
   "metadata": {},
   "outputs": [
    {
     "data": {
      "text/plain": [
       "'2021-06-03T12:21:12.877201-04:00'"
      ]
     },
     "execution_count": null,
     "metadata": {},
     "output_type": "execute_result"
    }
   ],
   "source": [
    "curEasternUSTime().isoformat()"
   ]
  },
  {
   "cell_type": "code",
   "execution_count": null,
   "metadata": {},
   "outputs": [],
   "source": [
    "def printSamp(m,n=10) :\n",
    "    \"\"\"\n",
    "    Prints a sample of n items from object m , where m is a list or dict;\n",
    "    for other objects just prints the whole thing.\n",
    "    \"\"\"\n",
    "    if isinstance(m,list) :\n",
    "        for i,item in enumerate(m[:n]) :\n",
    "            print(i,end=' ')\n",
    "            printSamp(item,n)\n",
    "    elif isinstance(m,dict) :\n",
    "        for k in m.keys()[:n] :\n",
    "            print(k,end=' ')\n",
    "            printSamp(m[k],n)\n",
    "    else :\n",
    "        print(m)"
   ]
  },
  {
   "cell_type": "code",
   "execution_count": null,
   "metadata": {},
   "outputs": [],
   "source": []
  }
 ],
 "metadata": {
  "kernelspec": {
   "display_name": "Python 3",
   "language": "python",
   "name": "python3"
  }
 },
 "nbformat": 4,
 "nbformat_minor": 2
}
