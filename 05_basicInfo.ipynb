{
 "cells": [
  {
   "cell_type": "code",
   "execution_count": null,
   "metadata": {},
   "outputs": [],
   "source": [
    "# default_exp basicInfo"
   ]
  },
  {
   "cell_type": "markdown",
   "metadata": {},
   "source": [
    "# basicInfo\n",
    "\n",
    "> Parse basic info from an SEC filing's index page."
   ]
  },
  {
   "cell_type": "code",
   "execution_count": null,
   "metadata": {},
   "outputs": [],
   "source": [
    "#hide\n",
    "%load_ext autoreload\n",
    "%autoreload 2\n",
    "from nbdev import show_doc"
   ]
  },
  {
   "cell_type": "code",
   "execution_count": null,
   "metadata": {},
   "outputs": [],
   "source": [
    "#export\n",
    "\n",
    "import re\n",
    "\n",
    "from secscan import utils,dailyList"
   ]
  },
  {
   "cell_type": "markdown",
   "metadata": {},
   "source": [
    "Parse basic info from a filing's index page HTML using BeautifulSoup:"
   ]
  },
  {
   "cell_type": "code",
   "execution_count": null,
   "metadata": {},
   "outputs": [],
   "source": [
    "#export\n",
    "\n",
    "def getSecFormLinkList(indexSoup,accessNo) :\n",
    "    \"\"\"\n",
    "    Returns\n",
    "        sublinkList,completeTextLink\n",
    "    where sublinkList is:\n",
    "        [(name, description, type, sublink), ... ]\n",
    "    Prints a warning message if the complete text link is missing.\n",
    "    \"\"\"\n",
    "    linkList = []\n",
    "    completeLink = None\n",
    "    for row in indexSoup.find_all('tr') :\n",
    "        entries = row.find_all('td')\n",
    "        if len(entries)>1 and row.a is not None :\n",
    "            #print utils.getCombSoupText(entries[3])\n",
    "            if utils.getCombSoupText(entries[0]).isdigit() and len(entries)>=4 :\n",
    "                linkList.append((utils.getCombSoupText(row.a),\n",
    "                                 utils.getCombSoupText(entries[1]),\n",
    "                                 utils.getCombSoupText(entries[3]),\n",
    "                                 row.a.get('href','')))\n",
    "            elif utils.getCombSoupText(entries[1]).lower().startswith('complete') :\n",
    "                completeLink = row.a.get('href','')\n",
    "    if not completeLink :\n",
    "        print('missing complete text link in',utils.secIndexUrl(accessNo,True))\n",
    "    return linkList, completeLink\n",
    "\n",
    "companyNameAndCikPat = re.compile(r'(.*)\\s*\\(.*cik[\\s:]*(\\d+)',re.IGNORECASE)\n",
    "def getSecFormCikList(indexSoup,accessNo) :\n",
    "    \"\"\"\n",
    "    Returns list of CIKs for the form: [cik, ... ]\n",
    "    \"\"\"\n",
    "    cikList = []\n",
    "    for companyNameTag in indexSoup.find_all('span','companyName') :\n",
    "        companyNameStr = utils.getCombSoupText(companyNameTag)\n",
    "        m = companyNameAndCikPat.match(companyNameStr)\n",
    "        if m is None :\n",
    "            print('missing company name or CIK in',companyNameStr)\n",
    "            print(utils.secIndexUrl(accessNo,True))\n",
    "        elif m.group(2) not in cikList :\n",
    "            cikList.append(m.group(2))\n",
    "    if len(cikList) == 0 :\n",
    "        print('no company names in',utils.secIndexUrl(accessNo,True))\n",
    "    return cikList\n",
    "\n",
    "def getTextAfterTag(resDict, resKey, top, firstTagPat,\n",
    "                    firstTagName='div', firstTagClass='infoHead',\n",
    "                    nextTagName='div', nextTagClass='info',\n",
    "                    missingMessage=None) :\n",
    "    \"\"\"\n",
    "    Looks for a sequence of two HTML elements specified by name and class,\n",
    "    with the text of the first element matching a given regular expression.\n",
    "    If found, stores the text of the second element in resDict[resKey].\n",
    "    If not found and missingMessage is not None, prints it.\n",
    "    \"\"\"\n",
    "    for firstTag in top.find_all(firstTagName,firstTagClass) :\n",
    "        if firstTagPat.match(utils.getCombSoupText(firstTag)) :\n",
    "            nextTag = firstTag.find_next_sibling(nextTagName,nextTagClass)\n",
    "            if nextTag is not None :\n",
    "                resDict[resKey] = utils.getCombSoupText(nextTag)\n",
    "                return\n",
    "    if missingMessage is not None :\n",
    "        print(missingMessage)\n",
    "\n",
    "periodPat = re.compile('period',re.IGNORECASE)\n",
    "periodDatePatStr = r'\\d\\d\\d\\d-\\d\\d-\\d\\d'\n",
    "periodDatePat = re.compile(periodDatePatStr)\n",
    "acceptedPat = re.compile('accepted',re.IGNORECASE)\n",
    "acceptedDateTimePat = re.compile('('+periodDatePatStr+r')[ t](\\d\\d:\\d\\d:\\d\\d)',\n",
    "                                 re.IGNORECASE)\n",
    "\n",
    "def getSecFormInfo(accessNo) :\n",
    "    indexSoup = utils.downloadSecUrl(accessNo, toFormat='soup')\n",
    "    indexFullUrl = utils.secIndexUrl(accessNo,True)\n",
    "    links, completeLink = getSecFormLinkList(indexSoup,accessNo)\n",
    "    res = {\n",
    "        'links': links,\n",
    "        'complete': completeLink,\n",
    "        'ciks' : getSecFormCikList(indexSoup,accessNo)\n",
    "    }\n",
    "    if (links and dailyList.noPeriodFormTypes.match(links[0][2])) :\n",
    "        missingPeriodMessage = None\n",
    "    else :\n",
    "        missingPeriodMessage = 'missing period in ' + indexFullUrl\n",
    "    getTextAfterTag(res, 'period', indexSoup, periodPat,\n",
    "                    missingMessage=missingPeriodMessage)\n",
    "    if 'period' in res and not periodDatePat.match(res['period']) :\n",
    "        print('malformed period',res['period'],'in',indexFullUrl)\n",
    "        del res['period']\n",
    "    getTextAfterTag(res, 'acceptDateTime', indexSoup, acceptedPat,\n",
    "                    missingMessage='missing accepted in ' + indexFullUrl)\n",
    "    if 'acceptDateTime' in res :\n",
    "        m = acceptedDateTimePat.match(res['acceptDateTime'])\n",
    "        if not m :\n",
    "            print('malformed accept date/time',res['acceptDateTime'])\n",
    "            print('in',indexFullUrl)\n",
    "        else :\n",
    "            res['acceptDate'] = m.group(1)\n",
    "            res['acceptTime'] = m.group(2)\n",
    "        del res['acceptDateTime']\n",
    "    return res"
   ]
  },
  {
   "cell_type": "markdown",
   "metadata": {},
   "source": [
    "Test parsing basic info:"
   ]
  },
  {
   "cell_type": "code",
   "execution_count": null,
   "metadata": {},
   "outputs": [],
   "source": [
    "s = getSecFormInfo('0001140361-18-003143')\n",
    "assert s == {\n",
    "    'links': [('doc1.html','FORM 4','4',\n",
    "               '/Archives/edgar/data/83350/000114036118003143/xslF345X03/doc1.xml'),\n",
    "              ('doc1.xml','FORM 4','4',\n",
    "               '/Archives/edgar/data/83350/000114036118003143/doc1.xml')],\n",
    "    'complete': '/Archives/edgar/data/83350/000114036118003143/0001140361-18-003143.txt',\n",
    "    'ciks': ['0000083350', '0001436951'],\n",
    "    'period': '2010-03-04',\n",
    "    'acceptDate': '2018-01-25',\n",
    "    'acceptTime': '11:20:33'}, \"parsing form 4 basic info\"\n",
    "\n",
    "s = getSecFormInfo('0001086763-21-000007')\n",
    "assert s == {\n",
    "    'links': [('ffa13g03312021vidler.htm','FIRST FOUNDATION ADVISORS_VIDLER','SC 13G',\n",
    "               '/Archives/edgar/data/830122/000108676321000007/ffa13g03312021vidler.htm')],\n",
    "    'complete': '/Archives/edgar/data/830122/000108676321000007/0001086763-21-000007.txt',\n",
    "    'ciks': ['0000830122', '0001086763'],\n",
    "    'acceptDate': '2021-05-17',\n",
    "    'acceptTime': '19:32:43'}, \"parsing form 13G basic info\""
   ]
  },
  {
   "cell_type": "code",
   "execution_count": null,
   "metadata": {},
   "outputs": [],
   "source": []
  },
  {
   "cell_type": "code",
   "execution_count": null,
   "metadata": {},
   "outputs": [],
   "source": [
    "#hide\n",
    "# uncomment and run to regenerate all library Python files\n",
    "# from nbdev.export import notebook2script; notebook2script()"
   ]
  },
  {
   "cell_type": "code",
   "execution_count": null,
   "metadata": {},
   "outputs": [],
   "source": []
  }
 ],
 "metadata": {
  "kernelspec": {
   "display_name": "Python 3",
   "language": "python",
   "name": "python3"
  }
 },
 "nbformat": 4,
 "nbformat_minor": 4
}
