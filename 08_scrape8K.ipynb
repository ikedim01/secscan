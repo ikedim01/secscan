{
 "cells": [
  {
   "cell_type": "code",
   "execution_count": null,
   "metadata": {},
   "outputs": [],
   "source": [
    "# default_exp scrape8K"
   ]
  },
  {
   "cell_type": "markdown",
   "metadata": {},
   "source": [
    "# scrape8K\n",
    "\n",
    "> Scrape item summaries from 8-K SEC filings."
   ]
  },
  {
   "cell_type": "code",
   "execution_count": null,
   "metadata": {},
   "outputs": [],
   "source": [
    "#hide\n",
    "%load_ext autoreload\n",
    "%autoreload 2\n",
    "from nbdev import show_doc"
   ]
  },
  {
   "cell_type": "code",
   "execution_count": null,
   "metadata": {},
   "outputs": [],
   "source": [
    "#export\n",
    "\n",
    "import collections\n",
    "import itertools\n",
    "import os\n",
    "import re\n",
    "\n",
    "from secscan import utils, dailyList, basicInfo, infoScraper\n",
    "\n",
    "default8KDir = os.path.join(utils.stockDataRoot,'scraped8K')"
   ]
  },
  {
   "cell_type": "markdown",
   "metadata": {},
   "source": [
    "8K scraper class - scrape items summary from the SEC filing:"
   ]
  },
  {
   "cell_type": "code",
   "execution_count": null,
   "metadata": {},
   "outputs": [],
   "source": [
    "#export\n",
    "\n",
    "secItemHeaderPatStrs = [\n",
    "    r'item[^a-z]*?(\\d+(?:\\.\\d*)?)\\.(?!\\d)',\n",
    "    r'item[^a-z]*?(\\d+(?:\\.\\d*)?)(?=[a-z\\s]*[.:])',\n",
    "]\n",
    "secItemPats = [re.compile(secItemHeaderPatStr\n",
    "                            + r'\\s*(.{80,}?)('+secItemHeaderPatStr+'|$)',\n",
    "                            re.IGNORECASE)\n",
    "                for secItemHeaderPatStr in secItemHeaderPatStrs]\n",
    "\n",
    "def getSecItemsFromTextUsingPat(txt, secItemPat, filterF=None ,maxHeadLen=80, maxBodyLen=500) :\n",
    "    pos = 0\n",
    "    res = []\n",
    "    while True :\n",
    "        m = secItemPat.search(txt,pos)\n",
    "        if m is None :\n",
    "            return res\n",
    "        g = m.groups()\n",
    "        if len(res)>0 and res[-1][0] == g[0] :\n",
    "            pos = m.start()+1\n",
    "        else :\n",
    "            head = g[1][:maxHeadLen]\n",
    "            #if head.find('.') >= 0 :\n",
    "            #    head = head[:head.find('.')+1]\n",
    "            newTup = (g[0],head,g[1][:maxBodyLen])\n",
    "            pos = m.start(3)\n",
    "            if (filterF is None) or filterF(newTup) :\n",
    "                res.append(newTup)\n",
    "\n",
    "def getSecItemsFromText(txt, filterF=None, maxHeadLen=80, maxBodyLen=500) :\n",
    "    \"\"\"\n",
    "    Returns a list of item summaries for items from 8-K and SC 13D forms:\n",
    "        format in form:\n",
    "            Item 1.01. WWW. YYY ZZZ\n",
    "            Item 3.01. AAA. BBB CCC\n",
    "        returned value:\n",
    "            [('1.01', 'WWW.', 'WWW. YYY ZZZ')\n",
    "             ('3.01', 'AAA.', 'AAA. BBB CCC') ... ]\n",
    "    \"\"\"\n",
    "    for secItemPat in secItemPats :\n",
    "        res = getSecItemsFromTextUsingPat(txt,secItemPat,filterF,maxHeadLen,maxBodyLen)\n",
    "        if res :\n",
    "            break\n",
    "    return res\n",
    "\n",
    "financialStatementsPat = re.compile(r'[^a-z]*financial\\s*statements',\n",
    "                                    re.IGNORECASE)\n",
    "def getSec8KItemsFromText(txt) :\n",
    "    \"\"\"\n",
    "    Returns list of item summaries for 8-K forms, ignoring the\n",
    "    'Financial Statements and Exhibits' item.\n",
    "    \"\"\"\n",
    "    return getSecItemsFromText(txt, lambda item : not financialStatementsPat.match(item[1]))\n",
    "\n",
    "def parse8K(accessNo, formType=None) :\n",
    "    info = basicInfo.getSecFormInfo(accessNo, formType)\n",
    "    links = info['links']\n",
    "    if len(links) == 0 :\n",
    "        utils.printErrInfoOrAccessNo('NO LINKS LIST in',accessNo)\n",
    "        return info\n",
    "    # print(links[0])\n",
    "\n",
    "    firstSLText = utils.getCombSoupText(utils.downloadSecUrl(links[0][3], toFormat='soup'))\n",
    "    return info,firstSLText\n",
    "#     print(firstSLText)\n",
    "#     print 'size',len(firstSLText)\n",
    "#     print utils.secUrlPref+links[0][3]\n",
    "#     info['itemsdetail'] = getSec8KItemsFromText(firstSLText)\n",
    "#     if info['itemsdetail'] == [] :\n",
    "#         print('NO ITEMS:',utils.secUrlPref+links[0][3])\n",
    "#     else :\n",
    "#         print('.', #info['itemsdetail'],\n",
    "#               end=' ')\n",
    "#     return info\n",
    "\n",
    "class scraper8K(infoScraper.scraperBase) :\n",
    "    def __init__(self, infoDir=default8KDir, startD=None, endD=None, fSuff='m.pkl', **pickle_kwargs) :\n",
    "        super().__init__(infoDir, '8-K', startD=startD, endD=endD, fSuff=fSuff, **pickle_kwargs)\n",
    "    def scrapeInfo(self, accNo, formType=None) :\n",
    "        return parse8K(accNo, formType), None"
   ]
  },
  {
   "cell_type": "markdown",
   "metadata": {},
   "source": [
    "Test 8-K scraper class:"
   ]
  },
  {
   "cell_type": "code",
   "execution_count": null,
   "metadata": {},
   "outputs": [
    {
     "data": {
      "text/plain": [
       "['Item 1.02: Termination of a Material Definitive Agreement',\n",
       " 'Item 3.02: Unregistered Sales of Equity Securities',\n",
       " 'Item 8.01: Other Events',\n",
       " 'Item 9.01: Financial Statements and Exhibits']"
      ]
     },
     "execution_count": null,
     "metadata": {},
     "output_type": "execute_result"
    }
   ],
   "source": [
    "# itemNoPat = re.compile(r'(item\\s*[\\d\\.]*)',re.IGNORECASE)"
   ]
  },
  {
   "cell_type": "code",
   "execution_count": null,
   "metadata": {},
   "outputs": [],
   "source": []
  },
  {
   "cell_type": "code",
   "execution_count": null,
   "metadata": {},
   "outputs": [],
   "source": [
    "#hide\n",
    "# uncomment and run to regenerate all library Python files\n",
    "# from nbdev.export import notebook2script; notebook2script()"
   ]
  },
  {
   "cell_type": "code",
   "execution_count": null,
   "metadata": {},
   "outputs": [],
   "source": []
  }
 ],
 "metadata": {
  "kernelspec": {
   "display_name": "Python 3",
   "language": "python",
   "name": "python3"
  }
 },
 "nbformat": 4,
 "nbformat_minor": 4
}
