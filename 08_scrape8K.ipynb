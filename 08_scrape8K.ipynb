{
 "cells": [
  {
   "cell_type": "code",
   "execution_count": null,
   "metadata": {},
   "outputs": [],
   "source": [
    "# default_exp scrape8K"
   ]
  },
  {
   "cell_type": "markdown",
   "metadata": {},
   "source": [
    "# scrape8K\n",
    "\n",
    "> Scrape item summaries from 8-K SEC filings."
   ]
  },
  {
   "cell_type": "code",
   "execution_count": null,
   "metadata": {},
   "outputs": [],
   "source": [
    "#hide\n",
    "%load_ext autoreload\n",
    "%autoreload 2\n",
    "from nbdev import show_doc"
   ]
  },
  {
   "cell_type": "code",
   "execution_count": null,
   "metadata": {},
   "outputs": [],
   "source": [
    "#export\n",
    "\n",
    "import collections\n",
    "import itertools\n",
    "import os\n",
    "import re\n",
    "\n",
    "from secscan import utils, dailyList, basicInfo, infoScraper\n",
    "\n",
    "default8KDir = os.path.join(utils.stockDataRoot,'scraped8K')"
   ]
  },
  {
   "cell_type": "markdown",
   "metadata": {},
   "source": [
    "8K scraper class - scrape items summary from the SEC filing:"
   ]
  },
  {
   "cell_type": "code",
   "execution_count": null,
   "metadata": {},
   "outputs": [],
   "source": [
    "#export\n",
    "\n",
    "itemPat = re.compile(r'item\\s*(\\d+(?:\\.\\d*)?)',re.IGNORECASE)\n",
    "def parse8K(accNo, formType=None, textLimit=basicInfo.defaultTextLimit) :\n",
    "    info = basicInfo.getSecFormInfo(accNo, formType=formType, get99=True, textLimit=textLimit)\n",
    "    links = info['links']\n",
    "    if len(links) == 0 :\n",
    "        utils.printErrInfoOrAccessNo('NO LINKS LIST in',accNo)\n",
    "        return info\n",
    "    items = info.get('items',[])\n",
    "    if len(items) == 0 :\n",
    "        return info\n",
    "    mainText = utils.downloadSecUrl(links[0][3], toFormat='souptext')\n",
    "    itemPosL = [0]\n",
    "    info['itemTexts'] = itemTexts = [None for item in items]\n",
    "    for i,item in enumerate(items) :\n",
    "        m = itemPat.match(item)\n",
    "        if m is None :\n",
    "            utils.printErrInfoOrAccessNo(f\"unexpected format for item header {item}\",accNo)\n",
    "            continue\n",
    "        m = re.search(r'item\\s*'+m.group(1), mainText[itemPosL[-1]:], re.IGNORECASE)\n",
    "        if m is None :\n",
    "            utils.printErrInfoOrAccessNo(f\"couldn't find {item}\",accNo)\n",
    "            continue\n",
    "        itemPosL.append(itemPosL[-1]+m.start())\n",
    "        itemTexts[i] = ''\n",
    "        # print('pos for',item,itemPosL[-1])\n",
    "    itemPosL.append(len(mainText))\n",
    "    j = 1\n",
    "    for i in range(len(itemTexts)) :\n",
    "        if itemTexts[i] is None :\n",
    "            itemTexts[i] = items[i] + ' ???'\n",
    "        else :\n",
    "            itemTexts[i] = mainText[itemPosL[j] : min(itemPosL[j]+textLimit, itemPosL[j+1])]\n",
    "            j += 1\n",
    "    return info\n",
    "#     print(firstSLText)\n",
    "#     print 'size',len(firstSLText)\n",
    "#     print utils.secUrlPref+links[0][3]\n",
    "#     info['itemsdetail'] = getSec8KItemsFromText(firstSLText)\n",
    "#     if info['itemsdetail'] == [] :\n",
    "#         print('NO ITEMS:',utils.secUrlPref+links[0][3])\n",
    "#     else :\n",
    "#         print('.', #info['itemsdetail'],\n",
    "#               end=' ')\n",
    "#     return info\n",
    "\n",
    "secItemHeaderPatStrs = [\n",
    "    r'item[^a-z]*?(\\d+(?:\\.\\d*)?)\\.(?!\\d)',\n",
    "    r'item[^a-z]*?(\\d+(?:\\.\\d*)?)(?=[a-z\\s]*[.:])',\n",
    "]\n",
    "secItemPats = [re.compile(secItemHeaderPatStr\n",
    "                            + r'\\s*(.{80,}?)('+secItemHeaderPatStr+'|$)',\n",
    "                            re.IGNORECASE)\n",
    "                for secItemHeaderPatStr in secItemHeaderPatStrs]\n",
    "\n",
    "def getSecItemsFromTextUsingPat(txt, secItemPat, filterF=None ,maxHeadLen=80, maxBodyLen=500) :\n",
    "    pos = 0\n",
    "    res = []\n",
    "    while True :\n",
    "        m = secItemPat.search(txt,pos)\n",
    "        if m is None :\n",
    "            return res\n",
    "        g = m.groups()\n",
    "        if len(res)>0 and res[-1][0] == g[0] :\n",
    "            pos = m.start()+1\n",
    "        else :\n",
    "            head = g[1][:maxHeadLen]\n",
    "            #if head.find('.') >= 0 :\n",
    "            #    head = head[:head.find('.')+1]\n",
    "            newTup = (g[0],head,g[1][:maxBodyLen])\n",
    "            pos = m.start(3)\n",
    "            if (filterF is None) or filterF(newTup) :\n",
    "                res.append(newTup)\n",
    "\n",
    "def getSecItemsFromText(txt, filterF=None, maxHeadLen=80, maxBodyLen=500) :\n",
    "    \"\"\"\n",
    "    Returns a list of item summaries for items from 8-K and SC 13D forms:\n",
    "        format in form:\n",
    "            Item 1.01. WWW. YYY ZZZ\n",
    "            Item 3.01. AAA. BBB CCC\n",
    "        returned value:\n",
    "            [('1.01', 'WWW.', 'WWW. YYY ZZZ')\n",
    "             ('3.01', 'AAA.', 'AAA. BBB CCC') ... ]\n",
    "    \"\"\"\n",
    "    for secItemPat in secItemPats :\n",
    "        res = getSecItemsFromTextUsingPat(txt,secItemPat,filterF,maxHeadLen,maxBodyLen)\n",
    "        if res :\n",
    "            break\n",
    "    return res\n",
    "\n",
    "financialStatementsPat = re.compile(r'[^a-z]*financial\\s*statements',\n",
    "                                    re.IGNORECASE)\n",
    "def getSec8KItemsFromText(txt) :\n",
    "    \"\"\"\n",
    "    Returns list of item summaries for 8-K forms, ignoring the\n",
    "    'Financial Statements and Exhibits' item.\n",
    "    \"\"\"\n",
    "    return getSecItemsFromText(txt, lambda item : not financialStatementsPat.match(item[1]))\n",
    "\n",
    "class scraper8K(infoScraper.scraperBase) :\n",
    "    def __init__(self, infoDir=default8KDir, startD=None, endD=None, fSuff='m.pkl', **pickle_kwargs) :\n",
    "        super().__init__(infoDir, '8-K', startD=startD, endD=endD, fSuff=fSuff, **pickle_kwargs)\n",
    "    def scrapeInfo(self, accNo, formType=None) :\n",
    "        return parse8K(accNo, formType), None"
   ]
  },
  {
   "cell_type": "markdown",
   "metadata": {},
   "source": [
    "Test 8-K scraper class:"
   ]
  },
  {
   "cell_type": "code",
   "execution_count": null,
   "metadata": {},
   "outputs": [
    {
     "data": {
      "text/plain": [
       "{'links': [('dhil-20210728.htm',\n",
       "   '8-K',\n",
       "   '8-K',\n",
       "   '/ix?doc=/Archives/edgar/data/909108/000090910821000058/dhil-20210728.htm'),\n",
       "  ('dhil-20210630xexx991.htm',\n",
       "   'EX-99.1',\n",
       "   'EX-99.1',\n",
       "   '/Archives/edgar/data/909108/000090910821000058/dhil-20210630xexx991.htm'),\n",
       "  ('dhillogoa14a.jpg',\n",
       "   '',\n",
       "   'GRAPHIC',\n",
       "   '/Archives/edgar/data/909108/000090910821000058/dhillogoa14a.jpg'),\n",
       "  ('dhil-20210728.xsd',\n",
       "   'XBRL TAXONOMY EXTENSION SCHEMA DOCUMENT',\n",
       "   'EX-101.SCH',\n",
       "   '/Archives/edgar/data/909108/000090910821000058/dhil-20210728.xsd'),\n",
       "  ('dhil-20210728_lab.xml',\n",
       "   'XBRL TAXONOMY EXTENSION LABEL LINKBASE DOCUMENT',\n",
       "   'EX-101.LAB',\n",
       "   '/Archives/edgar/data/909108/000090910821000058/dhil-20210728_lab.xml'),\n",
       "  ('dhil-20210728_pre.xml',\n",
       "   'XBRL TAXONOMY EXTENSION PRESENTATION LINKBASE DOCUMENT',\n",
       "   'EX-101.PRE',\n",
       "   '/Archives/edgar/data/909108/000090910821000058/dhil-20210728_pre.xml'),\n",
       "  ('dhil-20210728_htm.xml',\n",
       "   'EXTRACTED XBRL INSTANCE DOCUMENT',\n",
       "   'XML',\n",
       "   '/Archives/edgar/data/909108/000090910821000058/dhil-20210728_htm.xml')],\n",
       " 'complete': '/Archives/edgar/data/909108/000090910821000058/0000909108-21-000058.txt',\n",
       " 'ciks': ['0000909108'],\n",
       " 'text99': ['',\n",
       "  'EX-99.1 2 dhil-20210630xexx991.htm EX-99.1 Document FOR IMMEDIATE RELEASE: Investor Contact: Tom Line—Chief Financial Officer 614-255-5989 (tline@diamond-hill.com) Media Contact: Lara Hoffmans—Managing Director-Marketing 614-255-5550 (lhoffmans@diamond-hill.com) DIAMOND HILL INVESTMENT GROUP, INC. REPORTS RESULTS FOR SECOND QUARTER 2021 COLUMBUS, Ohio - July 28, 2021 -- Diamond Hill Investment Group, Inc. (NASDAQ:DHIL) today reported unaudited financial results for the second quarter of 2021. The following are selected highlights for the quarter ended June 30, 2021: • Assets under management (\"AUM\") were $32.4 billion compared to $30.6 billion as of March 31, 2021, and $20.6 billion as of June 30, 2020. • Average AUM was $32.1 billion compared to $19.7 billion during the second quarter of 2020. • Net client inflows were $550 million, compared to $231 million of net inflows for the same period in 2020. Net inflows into our fixed income strategies were $485 million and net inflows into o',\n",
       "  '',\n",
       "  '',\n",
       "  '',\n",
       "  '',\n",
       "  ''],\n",
       " 'period': '2021-07-28',\n",
       " 'acceptDate': '2021-07-28',\n",
       " 'acceptTime': '16:04:40',\n",
       " 'items': ['Item 2.02: Results of Operations and Financial Condition',\n",
       "  'Item 9.01: Financial Statements and Exhibits'],\n",
       " 'itemTexts': ['Item 2.02 Results of Operations and Financial Condition Diamond Hill Investment Group, Inc. (the \"Company\") has reported its results of operations for the fiscal quarter ended June 30, 2021, as described in Company\\'s press release dated July 28, 2021 , a copy of which is filed herewith as Exhibit 99.1 and incorporated herein by reference. ',\n",
       "  'Item 9.01 Financial Statements and Exhibits Exhibit No. Description 99.1 Press release issued by the Registrant dated July 28 , 2021. SIGNATURES Pursuant to the requirements of the Securities Exchange Act of 1934, as amended, the registrant has duly caused this report to be signed on its behalf by the undersigned hereunto duly authorized. DIAMOND HILL INVESTMENT GROUP, INC. Date: July 28, 2021 By: /s/ Thomas E. Line Thomas E. Line, Chief Financial Officer']}"
      ]
     },
     "execution_count": null,
     "metadata": {},
     "output_type": "execute_result"
    }
   ],
   "source": [
    "# parse8K('0000909108-21-000058','8-K')"
   ]
  },
  {
   "cell_type": "code",
   "execution_count": null,
   "metadata": {},
   "outputs": [],
   "source": []
  },
  {
   "cell_type": "code",
   "execution_count": null,
   "metadata": {},
   "outputs": [],
   "source": [
    "#hide\n",
    "# uncomment and run to regenerate all library Python files\n",
    "# from nbdev.export import notebook2script; notebook2script()"
   ]
  },
  {
   "cell_type": "code",
   "execution_count": null,
   "metadata": {},
   "outputs": [],
   "source": []
  }
 ],
 "metadata": {
  "kernelspec": {
   "display_name": "Python 3",
   "language": "python",
   "name": "python3"
  }
 },
 "nbformat": 4,
 "nbformat_minor": 4
}
