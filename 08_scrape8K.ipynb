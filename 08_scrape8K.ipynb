{
 "cells": [
  {
   "cell_type": "code",
   "execution_count": null,
   "metadata": {},
   "outputs": [],
   "source": [
    "# default_exp scrape8K"
   ]
  },
  {
   "cell_type": "markdown",
   "metadata": {},
   "source": [
    "# scrape8K\n",
    "\n",
    "> Scrape item summaries from 8-K SEC filings."
   ]
  },
  {
   "cell_type": "code",
   "execution_count": null,
   "metadata": {},
   "outputs": [],
   "source": [
    "#hide\n",
    "%load_ext autoreload\n",
    "%autoreload 2\n",
    "from nbdev import show_doc"
   ]
  },
  {
   "cell_type": "code",
   "execution_count": null,
   "metadata": {},
   "outputs": [],
   "source": [
    "#export\n",
    "\n",
    "import collections\n",
    "import itertools\n",
    "import os\n",
    "import re\n",
    "\n",
    "from secscan import utils, dailyList, basicInfo, infoScraper\n",
    "\n",
    "default8KDir = os.path.join(utils.stockDataRoot,'scraped8K')"
   ]
  },
  {
   "cell_type": "markdown",
   "metadata": {},
   "source": [
    "8K scraper class - scrape items summary from the SEC filing:"
   ]
  },
  {
   "cell_type": "code",
   "execution_count": null,
   "metadata": {},
   "outputs": [],
   "source": [
    "#export\n",
    "\n",
    "itemPat = re.compile(r'item\\s*(\\d+(?:\\.\\d*)?)',re.IGNORECASE)\n",
    "explanPat = re.compile(r'explanatory\\s*note',re.IGNORECASE)\n",
    "def parse8K(accNo, formType=None, textLimit=basicInfo.defaultTextLimit) :\n",
    "    info = basicInfo.getSecFormInfo(accNo, formType=formType, get99=True, textLimit=textLimit)\n",
    "    links = info['links']\n",
    "    if len(links) == 0 :\n",
    "        utils.printErrInfoOrAccessNo('NO LINKS LIST in',accNo)\n",
    "        return info\n",
    "    if formType is None :\n",
    "        formType = links[0][2]\n",
    "    items = info.get('items',[])\n",
    "    if len(items) == 0 :\n",
    "        return info\n",
    "    mainText = utils.downloadSecUrl(links[0][3], toFormat='souptext')\n",
    "    if formType.lower() == '8-k/a' :\n",
    "        m = explanPat.search(mainText)\n",
    "        if m is not None :\n",
    "            info['explanatoryNote'] = mainText[m.start():m.start()+textLimit]\n",
    "    itemPosL = [0]\n",
    "    info['itemTexts'] = itemTexts = [None for item in items]\n",
    "    for i,item in enumerate(items) :\n",
    "        m = itemPat.match(item)\n",
    "        if m is None :\n",
    "            utils.printErrInfoOrAccessNo(f\"unexpected format for item header {item}\",accNo)\n",
    "            continue\n",
    "        m = re.search(r'item[\\s\\-\\.]*' + r'\\s*'.join(m.group(1)).replace('.',r'\\.'),\n",
    "                      mainText[itemPosL[-1]:], re.IGNORECASE)\n",
    "        if m is None :\n",
    "            utils.printErrInfoOrAccessNo(f\"couldn't find {item}\",accNo)\n",
    "            continue\n",
    "        itemPosL.append(itemPosL[-1]+m.start())\n",
    "        itemTexts[i] = ''\n",
    "        # print('pos for',item,itemPosL[-1])\n",
    "    itemPosL.append(len(mainText))\n",
    "    j = 1\n",
    "    for i in range(len(itemTexts)) :\n",
    "        if itemTexts[i] is None :\n",
    "            itemTexts[i] = items[i] + ' ???'\n",
    "        else :\n",
    "            itemTexts[i] = mainText[itemPosL[j] : min(itemPosL[j]+textLimit, itemPosL[j+1])]\n",
    "            j += 1\n",
    "    return info\n",
    "\n",
    "class scraper8K(infoScraper.scraperBase) :\n",
    "    @utils.delegates(infoScraper.scraperBase.__init__)\n",
    "    def __init__(self, infoDir=default8KDir, **kwargs) :\n",
    "        super().__init__(infoDir, '8-K', **kwargs)\n",
    "    def scrapeInfo(self, accNo, formType=None) :\n",
    "        return parse8K(accNo, formType), None    \n",
    "    def getTextDigest(self, info) :\n",
    "        res = []\n",
    "        if 'explanatoryNote' in info :\n",
    "            res.extend(['START NOTE.',info['explanatoryNote'].strip(),'END NOTE.'])\n",
    "        for itemText in info.get('itemTexts',[]) :\n",
    "            if len(itemText.strip()) > 0 :\n",
    "                res.extend(['START ITEM.',itemText.strip(),'END ITEM.'])\n",
    "        for prText in info.get('text99',[]) :\n",
    "            if len(prText.strip()) > 0 :\n",
    "                res.extend(['START PRESS RELEASE.',prText.strip(),'END PRESS RELEASE.'])\n",
    "        return ' '.join(res)"
   ]
  },
  {
   "cell_type": "markdown",
   "metadata": {},
   "source": [
    "Test 8-K scraper class:"
   ]
  },
  {
   "cell_type": "code",
   "execution_count": null,
   "metadata": {},
   "outputs": [
    {
     "name": "stdout",
     "output_type": "stream",
     "text": [
      "WEEKEND20210703 UPDATE20210702 ### list index 64 count for 20210702: 6569 * UPDATE20210701 count for 20210701: 5573 * "
     ]
    }
   ],
   "source": [
    "dl = dailyList.dailyList(startD='empty')\n",
    "dl.updateForDays('20210701','20210704')\n",
    "assert len(dl.getFilingsList(None,'8-K')[0])==600,\"testing 8-K scraper class (daily list count)\"\n",
    "info = parse8K('0001165002-21-000068', formType='8-K', textLimit=1000)\n",
    "assert (info['itemTexts'][0].startswith('ITEM 2.02: RESULTS OF OPERATIONS AND FINANCIAL CONDITION '\n",
    "                                        +'On July 27, 2021, Westwood')\n",
    "        and info['itemTexts'][0].endswith('otherwise expressly stated in such filing. ')\n",
    "        and info['itemTexts'][1].startswith('ITEM 7.01: REGULATION FD DISCLOSURE Westwood')\n",
    "        and info['itemTexts'][1].endswith('of record on August 6, 2021. ')\n",
    "        and info['itemTexts'][2].startswith('ITEM 9.01: FINANCIAL STATEMENTS AND EXHIBITS (d) ')\n",
    "        and info['itemTexts'][2].endswith('Financial Officer and Treasurer')\n",
    "        and info['text99'][1].startswith('EX-99.1 2 a2q21earningsrelease.htm EX-99.1 '\n",
    "                                         +'Document Westwood Holdings Group, Inc. Reports')\n",
    "        and info['text99'][1].endswith('High Income achieved a top decile ranking, Income Opportunity and Total Retur')\n",
    "    ),\"testing 8-K scraper class (parsing)\"\n",
    "\n",
    "info = parse8K('0001606757-21-000040', formType='8-K/A', textLimit=1000)\n",
    "assert (info['explanatoryNote'].startswith('Explanatory Note This Amendment No. 1')\n",
    "        and info['explanatoryNote'].endswith('Ms. Croom accepted a written offer ')\n",
    "    ),\"testing 8-K scraper class (parsing explanatory note)\""
   ]
  },
  {
   "cell_type": "code",
   "execution_count": null,
   "metadata": {},
   "outputs": [],
   "source": []
  },
  {
   "cell_type": "code",
   "execution_count": null,
   "metadata": {},
   "outputs": [],
   "source": [
    "#hide\n",
    "# uncomment and run to regenerate all library Python files\n",
    "# from nbdev.export import notebook2script; notebook2script()"
   ]
  },
  {
   "cell_type": "code",
   "execution_count": null,
   "metadata": {},
   "outputs": [],
   "source": []
  }
 ],
 "metadata": {
  "kernelspec": {
   "display_name": "Python 3",
   "language": "python",
   "name": "python3"
  }
 },
 "nbformat": 4,
 "nbformat_minor": 4
}
