{
 "cells": [
  {
   "cell_type": "code",
   "execution_count": null,
   "metadata": {},
   "outputs": [],
   "source": [
    "# default_exp recentFeed"
   ]
  },
  {
   "cell_type": "markdown",
   "metadata": {},
   "source": [
    "# recentFeed\n",
    "\n",
    "> Parse the SEC's recent filings feed."
   ]
  },
  {
   "cell_type": "code",
   "execution_count": null,
   "metadata": {},
   "outputs": [],
   "source": [
    "#hide\n",
    "%load_ext autoreload\n",
    "%autoreload 2\n",
    "from nbdev import show_doc"
   ]
  },
  {
   "cell_type": "code",
   "execution_count": null,
   "metadata": {},
   "outputs": [],
   "source": [
    "#export\n",
    "\n",
    "import re\n",
    "import xml.etree.cElementTree as cElTree\n",
    "\n",
    "from secscan import utils"
   ]
  },
  {
   "cell_type": "code",
   "execution_count": null,
   "metadata": {},
   "outputs": [],
   "source": [
    "#export\n",
    "\n",
    "def secMostRecentListUrl(count=100) :\n",
    "    \"Returns the URL for the SEC's atom-format feed of most recent filings.\"\n",
    "    return ('/cgi-bin/browse-edgar?'\n",
    "            +('' if count is None else f'count={count}&')\n",
    "            +'action=getcurrent&output=atom')\n",
    "\n",
    "def printXmlParseWarning(msg,el) :\n",
    "    print('***',msg,'***')\n",
    "    print(cElTree.tostring(el))\n",
    "    print('************************')\n",
    "\n",
    "titlePat = re.compile(\n",
    "        r\"\\s*(.+?)\\s+-\" # formType, ignoring surrounding whitespace\n",
    "        + r\"\\s+(.+?)\\s*\" # cikName, ignoring surrounding whitespace\n",
    "        + r\"\\((\\d{10})\\)\") # cik\n",
    "filedPat = re.compile(\n",
    "        r\"filed\\D+?\\s(\\d\\d\\d\\d[-/]?\\d\\d[-/]?\\d\\d)\\s.*\"\n",
    "        + r\"accno\\D+?\\s(\"+utils.accessNoPatStr+r\")\\s\",\n",
    "        re.IGNORECASE)\n",
    "def getRecentChunk(count=100) :\n",
    "    \"\"\"\n",
    "    Parses the SEC's atom-format feed of most recent filings and returns a list of tuples:\n",
    "        [(fileDate, cik, cikName, formType, accNo),\n",
    "         ... ]\n",
    "    with the most recent filings first\n",
    "    \"\"\"\n",
    "    mrListXml = cElTree.fromstring(utils.downloadSecUrl(secMostRecentListUrl(count=count)))\n",
    "    res = []\n",
    "    for listEntry in mrListXml :\n",
    "        if not listEntry.tag.lower().endswith(\"entry\") :\n",
    "            continue\n",
    "        cik = formType = accNo = fDate = cikName = None\n",
    "        for entryItem in listEntry :\n",
    "            itemTag = entryItem.tag.lower()\n",
    "            if itemTag.endswith('title') :\n",
    "                # print('\"'+entryItem.text.strip()+'\"')\n",
    "                m = titlePat.match(entryItem.text)\n",
    "                if m is None :\n",
    "                    printXmlParseWarning('unable to parse title element',listEntry)\n",
    "                    continue\n",
    "                formType,cikName,cik = m.groups()\n",
    "                cik = cik.lstrip('0')\n",
    "                # print(repr(formType),repr(cikName),repr(cik))\n",
    "            elif itemTag.endswith('summary') :\n",
    "                # print('\"'+entryItem.text.strip()+'\"')\n",
    "                m = filedPat.search(entryItem.text)\n",
    "                if m is None :\n",
    "                    printXmlParseWarning('unable to parse summary element',listEntry)\n",
    "                    continue\n",
    "                fDate,accNo = m.groups()\n",
    "                # print(repr(fDate),repr(accNo))\n",
    "        fTup = (fDate, cik, formType, accNo, cikName)\n",
    "        if all(fTup) :\n",
    "            res.append(fTup)\n",
    "    return res"
   ]
  },
  {
   "cell_type": "markdown",
   "metadata": {},
   "source": [
    "Test downloading and parsing the recent filings feed:"
   ]
  },
  {
   "cell_type": "code",
   "execution_count": null,
   "metadata": {},
   "outputs": [
    {
     "name": "stdout",
     "output_type": "stream",
     "text": [
      "0 ('2021-06-04', '1787088', '4', '0000899243-21-022205', 'Wellington Hadley Harbor Master Investors (Cayman) III L.P.')\n",
      "1 ('2021-06-04', '1431695', '4', '0000899243-21-022205', 'Olo Inc.')\n",
      "2 ('2021-06-04', '1797168', '4', '0001437749-21-014199', 'Acuitas Group Holdings, LLC')\n",
      "3 ('2021-06-04', '1136174', '4', '0001437749-21-014199', 'Ontrak, Inc.')\n",
      "4 ('2021-06-04', '904534', '4', '0001437749-21-014199', 'PEIZER TERREN S')\n"
     ]
    }
   ],
   "source": [
    "l = getRecentChunk()\n",
    "utils.printSamp(l,5)\n",
    "assert len(l) == 100"
   ]
  },
  {
   "cell_type": "code",
   "execution_count": null,
   "metadata": {},
   "outputs": [],
   "source": [
    "#export\n",
    "\n",
    "boto3_available = True\n",
    "try :\n",
    "    import boto3\n",
    "except :\n",
    "    boto3_available = False\n",
    "\n",
    "def testBoto3() :\n",
    "    if not boto3_available :\n",
    "        print('boto3 not available, skipping test')\n",
    "        return\n",
    "    s3 = boto3.client('s3')\n",
    "    response = s3.list_buckets()\n",
    "    for bucket in response['Buckets']:\n",
    "        print(f'  {bucket[\"Name\"]}')"
   ]
  },
  {
   "cell_type": "code",
   "execution_count": null,
   "metadata": {},
   "outputs": [
    {
     "name": "stdout",
     "output_type": "stream",
     "text": [
      "boto3 not available, skipping test\n"
     ]
    }
   ],
   "source": [
    "testBoto3()"
   ]
  },
  {
   "cell_type": "code",
   "execution_count": null,
   "metadata": {},
   "outputs": [],
   "source": [
    "#hide\n",
    "# uncomment and run to regenerate all library Python files\n",
    "# from nbdev.export import notebook2script; notebook2script()"
   ]
  },
  {
   "cell_type": "code",
   "execution_count": null,
   "metadata": {},
   "outputs": [],
   "source": []
  }
 ],
 "metadata": {
  "kernelspec": {
   "display_name": "Python 3",
   "language": "python",
   "name": "python3"
  }
 },
 "nbformat": 4,
 "nbformat_minor": 4
}
