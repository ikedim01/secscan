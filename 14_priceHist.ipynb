{
 "cells": [
  {
   "cell_type": "code",
   "execution_count": null,
   "metadata": {},
   "outputs": [],
   "source": [
    "# default_exp priceHist"
   ]
  },
  {
   "cell_type": "markdown",
   "metadata": {},
   "source": [
    "# priceHist\n",
    "\n",
    "> Parse historical stock price data files."
   ]
  },
  {
   "cell_type": "code",
   "execution_count": null,
   "metadata": {},
   "outputs": [],
   "source": [
    "#hide\n",
    "%load_ext autoreload\n",
    "%autoreload 2\n",
    "from nbdev import show_doc"
   ]
  },
  {
   "cell_type": "code",
   "execution_count": null,
   "metadata": {},
   "outputs": [],
   "source": [
    "#export\n",
    "\n",
    "import collections\n",
    "import datetime\n",
    "import numpy as np\n",
    "import os\n",
    "import pandas as pd\n",
    "\n",
    "from secscan import utils,tickerMap,scrape8K,scrape6K\n",
    "\n",
    "USExchanges = ['AMEX','NASDAQ','NYSE','OTCBB']"
   ]
  },
  {
   "cell_type": "markdown",
   "metadata": {},
   "source": [
    "Uses the historical price data from eoddata.com -\n",
    "this comes as one CSV file per exchange per day, sample:\n",
    "\n",
    "```\n",
    "Symbol,Date,Open,High,Low,Close,Volume\n",
    "AACG,08-Jan-2020,1.41,1.58,1.3642,1.5112,90800\n",
    "AAL,08-Jan-2020,27.1,28.09,27.07,27.84,10497200\n",
    "...\n",
    "```\n"
   ]
  },
  {
   "cell_type": "code",
   "execution_count": null,
   "metadata": {},
   "outputs": [],
   "source": [
    "#export\n",
    "\n",
    "def getHistFStuff(exch,dateStr) :\n",
    "    \"\"\"\n",
    "    Returns (fName, fDir, fPath) containing the CSV file of historical prices\n",
    "    for the given exchange and date.\n",
    "    \"\"\"\n",
    "    fName = exch+'_'+dateStr+'.csv'\n",
    "    histFDir = os.path.join(utils.stockPriceRoot,fName[:len(exch)+5])\n",
    "    histFPath = os.path.join(histFDir,fName)\n",
    "    return fName,histFDir,histFPath"
   ]
  },
  {
   "cell_type": "code",
   "execution_count": null,
   "metadata": {},
   "outputs": [],
   "source": [
    "# test getHistFStuff:\n",
    "\n",
    "t = getHistFStuff('NASDAQ','20240510')\n",
    "assert (t[0]=='NASDAQ_20240510.csv'\n",
    "        and t[1]==os.path.join(utils.stockPriceRoot,'NASDAQ_2024')\n",
    "        and t[2]==os.path.join(utils.stockPriceRoot,'NASDAQ_2024',t[0]))"
   ]
  },
  {
   "cell_type": "code",
   "execution_count": null,
   "metadata": {},
   "outputs": [],
   "source": [
    "#export\n",
    "\n",
    "def getDayMap(dateStr, exch, symCol='Symbol', priceCol='Close') :\n",
    "    \"\"\"\n",
    "    Parse the CSV file for a single day and exchange.\n",
    "    Returns a dict:<stock symbol> -> <value>\n",
    "    \"\"\"\n",
    "    fPath = getHistFStuff(exch,dateStr)[2]\n",
    "    if not os.path.exists(fPath) :\n",
    "        return {}\n",
    "    df = pd.read_csv(fPath, na_filter=False)\n",
    "    dayMap = {}\n",
    "    for sym,val in zip(df[symCol],df[priceCol]) :\n",
    "        if isinstance(sym,str) :\n",
    "            dayMap[sym] = val\n",
    "        else :\n",
    "            print(dateStr,exch,'non-string symbol',repr(sym))\n",
    "    return dayMap"
   ]
  },
  {
   "cell_type": "code",
   "execution_count": null,
   "metadata": {},
   "outputs": [],
   "source": [
    "# test getDayMap:\n",
    "\n",
    "if not ('\\\\ikedi\\\\' in utils.stockPriceRoot) :\n",
    "    utils.setStockPriceRoot('testdata')\n",
    "\n",
    "m = getDayMap('20200108','AMEX')\n",
    "assert (len(m)==2024\n",
    "        and min(m.keys())=='AAAU' and m['AAAU']==15.56\n",
    "        and max(m.keys())=='ZSL' and m['ZSL']==26.04)\n",
    "\n",
    "m = getDayMap('20200108','NASDAQ')\n",
    "assert (len(m)==3233\n",
    "        and min(m.keys())=='AACG' and m['AACG']==1.5112\n",
    "        and max(m.keys())=='ZYXI' and m['ZYXI']==8.47)"
   ]
  },
  {
   "cell_type": "code",
   "execution_count": null,
   "metadata": {},
   "outputs": [],
   "source": [
    "#export\n",
    "\n",
    "@utils.delegates(getDayMap)\n",
    "def getCombDayMap(dateStr, exchs=USExchanges, checkDups=True, **kwargs) :\n",
    "    \"\"\"\n",
    "    Combines the day maps for a list of exchanges, optionally checking for symbols\n",
    "    duplicated between exchanges.\n",
    "    Returns a dict:<stock symbol> -> <value>\n",
    "    \"\"\"\n",
    "    combDayMap = {}\n",
    "    for exch in exchs :\n",
    "        m = getDayMap(dateStr,exch,**kwargs)\n",
    "        if checkDups :\n",
    "            dupKeys = (set(m.keys()) & combDayMap.keys())\n",
    "            if len(dupKeys) > 0 :\n",
    "                print('duplicated keys:',exch,dateStr,sorted(dupKeys)[:10])\n",
    "        combDayMap.update(m)\n",
    "    return combDayMap"
   ]
  },
  {
   "cell_type": "code",
   "execution_count": null,
   "metadata": {},
   "outputs": [],
   "source": [
    "# test getCombDayMap:\n",
    "\n",
    "m = getCombDayMap('20200108', exchs=['AMEX','NASDAQ'])\n",
    "assert len(m)==2024+3233"
   ]
  },
  {
   "cell_type": "code",
   "execution_count": null,
   "metadata": {},
   "outputs": [],
   "source": [
    "#export\n",
    "\n",
    "@utils.delegates(getCombDayMap)\n",
    "def getCombDayMapWithLookback(forD, dayMapCache=None, lookback=7, **kwargs) :\n",
    "    \"\"\"\n",
    "    Get the day map for a given day, looking back a given number of days -\n",
    "    i.e. if a stock doesn't trade on a particular day, looks back the specified\n",
    "    number of days to find the most recent trade.\n",
    "    \n",
    "    Returns a dict:<stock symbol> -> <value>\n",
    "    \"\"\"\n",
    "    d1 = utils.toDate(forD) + datetime.timedelta(-lookback)\n",
    "    d2 = utils.toDate(forD) + datetime.timedelta(1)\n",
    "    dayMap = {}\n",
    "    if dayMapCache is None :\n",
    "        dayMapCache = {}\n",
    "    for d in utils.dateStrsBetween(d1, d2) :\n",
    "        if d not in dayMapCache :\n",
    "            dayMapCache[d] = getCombDayMap(d, **kwargs)\n",
    "        dayMap.update(dayMapCache[d])\n",
    "    return dayMap\n",
    "\n",
    "@utils.delegates(getCombDayMapWithLookback)\n",
    "def getCombDayMapsForRangeWithLookback(d1, d2, **kwargs) :\n",
    "    \"\"\"\n",
    "    Get all the combined day maps from d1 (inclusive) to d2 (exclusive), with lookback.\n",
    "    \n",
    "    Returns a dict:dateStr -> {<stock symbol> -> <value>}\n",
    "    Skips weekend dates in the returned dict.\n",
    "    \"\"\"\n",
    "    dayMapCache = {}\n",
    "    res = {}\n",
    "    for d in utils.dateStrsBetween(d1, d2, excludeWeekends=True) :\n",
    "        res[d] = getCombDayMapWithLookback(d, dayMapCache=dayMapCache, **kwargs)\n",
    "    return res"
   ]
  },
  {
   "cell_type": "markdown",
   "metadata": {},
   "source": [
    "Direct indexing tests:"
   ]
  },
  {
   "cell_type": "code",
   "execution_count": null,
   "metadata": {},
   "outputs": [],
   "source": [
    "#export\n",
    "\n",
    "@utils.delegates(getCombDayMapsForRangeWithLookback)\n",
    "def getCleanedPriceData(d1, d2, minPrice=None, restrictToNames=False, **kwargs) :\n",
    "    \"\"\"\n",
    "    Constructs a price dataset for direct indexing tests.\n",
    "    \n",
    "    First gets all the combined day maps from d1 to d2, with specified lookback,\n",
    "    and skipping weekend days.\n",
    "    \n",
    "    Then, cuts down to stocks that have values for all the specified days.\n",
    "    \n",
    "    If minPrice is not None, also cuts down to stocks with value > minPrice on all days.\n",
    "    \n",
    "    If restrictToNames is True, also cuts down to stocks present in the SEC ticker list.\n",
    "    \n",
    "    Returns a tuple (syms, symNames, dateStrs, priceMat), where:\n",
    "    syms is a sorted list of ticker symbols\n",
    "    symNames is a list of corresponding names from the SEC ticker list ('' if not present)\n",
    "    dateStrs is a list of date strings in the format '20240624'\n",
    "    priceMat is a matrix of values with len(syms) rows and len(dateStrs) columns\n",
    "    \"\"\"\n",
    "    dayMaps = getCombDayMapsForRangeWithLookback(d1, d2, **kwargs)\n",
    "    dateStrs = sorted(dayMaps.keys())\n",
    "    symsPresentAllDays = sorted(set.intersection(*(set(dayMap.keys())\n",
    "                                                   for dayMap in dayMaps.values())))\n",
    "    symsToRemove = set()\n",
    "    if minPrice is not None :\n",
    "        for dayMap in dayMaps.values() :\n",
    "            for sym,val in dayMap.items() :\n",
    "                if val < minPrice :\n",
    "                    symsToRemove.add(sym)\n",
    "    tickerNames = tickerMap.getSecTickerDict(field2='name')\n",
    "    if restrictToNames :\n",
    "        for sym in symsPresentAllDays :\n",
    "            if sym not in tickerNames :\n",
    "                symsToRemove.add(sym)\n",
    "    if len(symsToRemove) > 0 :\n",
    "        symsPresentAllDays = [sym for sym in symsPresentAllDays\n",
    "                              if sym not in symsToRemove]\n",
    "    priceMat = np.zeros((len(symsPresentAllDays), len(dateStrs)))\n",
    "    for dateNo,d in enumerate(dateStrs) :\n",
    "        dayMap = dayMaps[d]\n",
    "        for symNo,sym in enumerate(symsPresentAllDays) :\n",
    "            priceMat[symNo,dateNo] = dayMap[sym]\n",
    "    symNames = [\n",
    "        f' ({tickerNames[sym]})' if sym in tickerNames else ''\n",
    "        for sym in symsPresentAllDays\n",
    "    ]\n",
    "    print(len(symsPresentAllDays),'symbols',len(dateStrs),'dates')\n",
    "    return (symsPresentAllDays, symNames, dateStrs, priceMat)\n",
    "\n",
    "@utils.delegates(getCleanedPriceData)\n",
    "def getForwardReturns(d1, d2, d3, weekdaysForward=20, **kwargs) :\n",
    "    \"\"\"\n",
    "    \"\"\"\n",
    "    syms, symNames, dateStrs, priceMat = getCleanedPriceData(d1,d3,**kwargs)\n",
    "    dateStrs = [d for d in dateStrs if d<d2]\n",
    "    returnMat = np.zeros((len(syms), len(dateStrs)))\n",
    "    for j in range(len(dateStrs)) :\n",
    "        returnMat[:,j] = priceMat[:,j+weekdaysForward]/priceMat[:,j]\n",
    "    return (syms, symNames, dateStrs, returnMat)\n",
    "\n",
    "def getClosestReturn(sym, syms, symNames, dateStrs, returnMat) :\n",
    "    \"\"\"\n",
    "    \"\"\"\n",
    "    rowNo = syms.index(sym)\n",
    "    diffs = ((returnMat - returnMat[rowNo])**2).sum(axis=1)\n",
    "    symsAndDiffs = list((sym+symName,diff) for sym,symName,diff in zip(syms,symNames,diffs))\n",
    "    symsAndDiffs.sort(key=lambda x : x[1])\n",
    "    return symsAndDiffs"
   ]
  },
  {
   "cell_type": "code",
   "execution_count": null,
   "metadata": {},
   "outputs": [
    {
     "name": "stdout",
     "output_type": "stream",
     "text": [
      "duplicated keys: NYSE 20230306 ['AMB.W']\n",
      "duplicated keys: NYSE 20230307 ['AMB.W']\n",
      "duplicated keys: NYSE 20230308 ['AMB.W']\n",
      "duplicated keys: NYSE 20230309 ['AMB.W']\n",
      "duplicated keys: NYSE 20230310 ['AMB.W']\n",
      "duplicated keys: NYSE 20230313 ['AMB.W']\n",
      "duplicated keys: NYSE 20230314 ['AMB.W']\n",
      "duplicated keys: NYSE 20230315 ['AMB.W']\n",
      "duplicated keys: NYSE 20230316 ['AMB.W']\n",
      "duplicated keys: NYSE 20230317 ['AMB.W']\n",
      "duplicated keys: NYSE 20230320 ['AMB.W']\n",
      "duplicated keys: NYSE 20230321 ['AMB.W']\n",
      "duplicated keys: NYSE 20230322 ['AMB.W']\n",
      "duplicated keys: OTCBB 20230323 ['CETY']\n",
      "duplicated keys: OTCBB 20230614 ['LTRY', 'LTRYW']\n",
      "SEC ticker list length 10283 with 10283 unique values\n",
      "dict: ticker->name [multiValue=last] has 10283 keys with 8025 unique values\n",
      "8541 symbols 283 dates\n"
     ]
    }
   ],
   "source": [
    "#notest\n",
    "\n",
    "m = getForwardReturns('20230101','20240101','20240201',minPrice=1.0,priceCol='Open',lookback=4)"
   ]
  },
  {
   "cell_type": "code",
   "execution_count": null,
   "metadata": {},
   "outputs": [
    {
     "data": {
      "text/plain": [
       "[('MNDO (MIND CTI LTD)', 0.0),\n",
       " ('FPE', 0.3939572159416754),\n",
       " ('FPEI', 0.4037418391021024),\n",
       " ('LOAN (MANHATTAN BRIDGE CAPITAL, INC)', 0.4058725785512839),\n",
       " ('CHI (CALAMOS CONVERTIBLE OPPORTUNITIES & INCOME FUND)', 0.4152784927005114),\n",
       " ('IHTA (Invesco High Income 2024 Target Term Fund)', 0.44170900864517204),\n",
       " ('JPC (Nuveen Preferred & Income Opportunities Fund)', 0.452376416767534),\n",
       " ('EFSCP (ENTERPRISE FINANCIAL SERVICES CORP)', 0.45330330487244486),\n",
       " ('JPI (Nuveen Preferred & Income Term Fund)', 0.4547505807153403),\n",
       " ('HIO (WESTERN ASSET HIGH INCOME OPPORTUNITY FUND INC.)',\n",
       "  0.46793309830180163),\n",
       " ('SPN-B', 0.4700152766777501),\n",
       " ('PRE-J', 0.47212628763457065),\n",
       " ('ACR-C', 0.47461934816855417),\n",
       " ('HIPS', 0.47686817879050203),\n",
       " ('JHPI', 0.47973534129229467),\n",
       " ('FINS (Angel Oak Financial Strategies Income Term Trust)',\n",
       "  0.4845376741716778),\n",
       " ('PGZ (Principal Real Estate Income Fund)', 0.4862788449951719),\n",
       " ('PQDI', 0.4975648213837466),\n",
       " ('OAK-A', 0.4991444262088841),\n",
       " ('GPM-A', 0.5011538793366852),\n",
       " ('AGNCL (AGNC Investment Corp.)', 0.5017410214072874),\n",
       " ('FPFD', 0.504103833266577),\n",
       " ('FPF (First Trust Intermediate Duration Preferred & Income Fund)',\n",
       "  0.5049961043290062),\n",
       " ('AGNCP (AGNC Investment Corp.)', 0.5053524521403767),\n",
       " ('CHY (CALAMOS CONVERTIBLE & HIGH INCOME FUND)', 0.5088684131210859),\n",
       " ('LBRDP (Liberty Broadband Corp)', 0.5108330133233034),\n",
       " ('HYI (Western Asset High Yield Defined Opportunity Fund Inc.)',\n",
       "  0.5125425757092482),\n",
       " ('CIF (MFS INTERMEDIATE HIGH INCOME FUND)', 0.5130657428941686),\n",
       " ('EPR-E', 0.5137085080977194),\n",
       " ('TRT-C', 0.5149181659898618),\n",
       " ('TSI (TCW STRATEGIC INCOME FUND INC)', 0.5168988865957156),\n",
       " ('COD-C', 0.5168995738334496),\n",
       " ('ECC-D', 0.5173808859079847),\n",
       " ('AGNCO (AGNC Investment Corp.)', 0.5177865329445955),\n",
       " ('LNC-D', 0.5184930786790813),\n",
       " ('JQC (Nuveen Credit Strategies Income Fund)', 0.5186660836113184),\n",
       " ('SPFF', 0.5187548259283024),\n",
       " ('RC-E', 0.5199608057749265),\n",
       " ('VVR (Invesco Senior Income Trust)', 0.5211631667818244),\n",
       " ('PREF', 0.5252624535064171)]"
      ]
     },
     "execution_count": null,
     "metadata": {},
     "output_type": "execute_result"
    }
   ],
   "source": [
    "#notest\n",
    "\n",
    "getClosestReturn('MNDO',*m)[:40]"
   ]
  },
  {
   "cell_type": "code",
   "execution_count": null,
   "metadata": {},
   "outputs": [
    {
     "data": {
      "text/plain": [
       "[('TAIT (TAITRON COMPONENTS INC)', 0.0),\n",
       " ('NNI (NELNET INC)', 0.7368105665953435),\n",
       " ('SPN-B', 0.771899859504044),\n",
       " ('ICVT', 0.81698375759366),\n",
       " ('COD-B', 0.8352495377240741),\n",
       " ('CLSM', 0.8366884639203913),\n",
       " ('CET (CENTRAL SECURITIES CORP)', 0.8384678465364781),\n",
       " ('CWB', 0.8487942439973535),\n",
       " ('ET-D', 0.8519271383152587),\n",
       " ('TLGPY (Telstra Group Ltd)', 0.8523217702721007),\n",
       " ('CSF', 0.8566815134696606),\n",
       " ('MGMT', 0.858181003231267),\n",
       " ('TDSC', 0.8644684103862601),\n",
       " ('WEDXF', 0.8715553578868909),\n",
       " ('WBIF', 0.8718234798733043),\n",
       " ('NCV-A', 0.8744353593018128),\n",
       " ('STT-D', 0.8744449134382206),\n",
       " ('QRMI', 0.8770904594690824),\n",
       " ('ET-C', 0.8804238997785947),\n",
       " ('XRMI', 0.8821812102633625)]"
      ]
     },
     "execution_count": null,
     "metadata": {},
     "output_type": "execute_result"
    }
   ],
   "source": [
    "#notest\n",
    "\n",
    "getClosestReturn('TAIT',*m)[:20]"
   ]
  },
  {
   "cell_type": "code",
   "execution_count": null,
   "metadata": {},
   "outputs": [
    {
     "data": {
      "text/plain": [
       "[('RELL (RICHARDSON ELECTRONICS, LTD.)', 0.0),\n",
       " ('CASS (CASS INFORMATION SYSTEMS INC)', 2.3632986384989505),\n",
       " ('POWI (POWER INTEGRATIONS INC)', 2.8332377785971987),\n",
       " ('GWRS (Global Water Resources, Inc.)', 2.8404981620316088),\n",
       " ('ANGO (ANGIODYNAMICS INC)', 2.8471128912348176),\n",
       " ('OARK', 2.9107047683916987),\n",
       " ('RRBI (RED RIVER BANCSHARES INC)', 2.9644257369823506),\n",
       " ('RICK (RCI HOSPITALITY HOLDINGS, INC.)', 2.9732589455373617),\n",
       " ('GTY (GETTY REALTY CORP /MD/)', 2.982627077477133),\n",
       " ('RGCO (RGC RESOURCES INC)', 2.9997206622373067),\n",
       " ('TMP (TOMPKINS FINANCIAL CORP)', 3.0179666671694),\n",
       " ('KLIC (KULICKE & SOFFA INDUSTRIES INC)', 3.0608739237335296),\n",
       " ('SEAS', 3.0614640639877395),\n",
       " ('AMBA (AMBARELLA INC)', 3.0634315959649765),\n",
       " ('CWE.A', 3.0799862214034004),\n",
       " ('CNRG', 3.136485251345724),\n",
       " ('CWEN (Clearway Energy, Inc.)', 3.1397049276381717),\n",
       " ('KEYS (Keysight Technologies, Inc.)', 3.1410272634367935),\n",
       " ('MYE (MYERS INDUSTRIES INC)', 3.1592785252589612),\n",
       " (\"DENN (DENNY'S Corp)\", 3.1643088355572795)]"
      ]
     },
     "execution_count": null,
     "metadata": {},
     "output_type": "execute_result"
    }
   ],
   "source": [
    "#notest\n",
    "\n",
    "getClosestReturn('RELL',*m)[:20]"
   ]
  },
  {
   "cell_type": "code",
   "execution_count": null,
   "metadata": {},
   "outputs": [
    {
     "data": {
      "text/plain": [
       "[('SILC (SILICOM LTD.)', 0.0),\n",
       " ('B (BARNES GROUP INC)', 2.661399007253552),\n",
       " ('AMN (AMN HEALTHCARE SERVICES INC)', 2.724160992667765),\n",
       " ('VMI (VALMONT INDUSTRIES INC)', 2.7338617655898383),\n",
       " ('CALX (CALIX, INC)', 3.023091318498608),\n",
       " ('NTCT (NETSCOUT SYSTEMS INC)', 3.093619695327906),\n",
       " ('WHR (WHIRLPOOL CORP /DE/)', 3.1580493246124544),\n",
       " ('NJDCY', 3.193515114816411),\n",
       " ('CNHI', 3.29110063382151),\n",
       " ('HTLD (HEARTLAND EXPRESS INC)', 3.3082190659668576),\n",
       " ('GGT (GABELLI MULTIMEDIA TRUST INC.)', 3.3232999413469373),\n",
       " ('PAYC (Paycom Software, Inc.)', 3.3241541343912147),\n",
       " ('IRDM (Iridium Communications Inc.)', 3.3623235906548),\n",
       " ('CCRN (CROSS COUNTRY HEALTHCARE INC)', 3.366726739268066),\n",
       " ('NNDNF', 3.3774229025067783),\n",
       " ('F (FORD MOTOR CO)', 3.4039068620830566),\n",
       " ('TAN', 3.4594237422058955),\n",
       " ('RAYS', 3.4860890952497),\n",
       " ('EL (ESTEE LAUDER COMPANIES INC)', 3.4909226509975593),\n",
       " ('NWG (NatWest Group plc)', 3.5315279137915208)]"
      ]
     },
     "execution_count": null,
     "metadata": {},
     "output_type": "execute_result"
    }
   ],
   "source": [
    "#notest\n",
    "\n",
    "getClosestReturn('SILC',*m)[:20]"
   ]
  },
  {
   "cell_type": "code",
   "execution_count": null,
   "metadata": {},
   "outputs": [
    {
     "data": {
      "text/plain": [
       "[('ELV (Elevance Health, Inc.)', 0.0),\n",
       " ('IHF', 0.1953185559368255),\n",
       " ('UNH (UNITEDHEALTH GROUP INC)', 0.25919901364555165),\n",
       " ('SIXL', 0.28807940930622417),\n",
       " ('AVIE', 0.2918642231635463),\n",
       " ('DIAX (Nuveen Dow 30sm Dynamic Overwrite Fund)', 0.2923529537316265),\n",
       " ('FBCV', 0.3074473957197455),\n",
       " ('VFMV', 0.31679367718052276),\n",
       " ('HYLG', 0.3243023540402277),\n",
       " ('NDJI', 0.3318950586036155),\n",
       " ('DIVZ', 0.3353862296524296),\n",
       " ('TPYP', 0.33630163046910805),\n",
       " ('SMMV', 0.33704934235129946),\n",
       " ('DIVO', 0.3371396383561065),\n",
       " ('PHDG', 0.34182974217536133),\n",
       " ('FTCS', 0.34346836052288554),\n",
       " ('WES (Western Midstream Partners, LP)', 0.34389658771690557),\n",
       " ('RSF (RiverNorth Capital & Income Fund, Inc.)', 0.3485322830580354),\n",
       " ('XLV', 0.3486680373936523),\n",
       " ('INFL', 0.3514287227508094)]"
      ]
     },
     "execution_count": null,
     "metadata": {},
     "output_type": "execute_result"
    }
   ],
   "source": [
    "#notest\n",
    "\n",
    "getClosestReturn('ELV',*m)[:20]"
   ]
  },
  {
   "cell_type": "markdown",
   "metadata": {},
   "source": [
    "Text-based prediction tests:"
   ]
  },
  {
   "cell_type": "code",
   "execution_count": null,
   "metadata": {},
   "outputs": [],
   "source": [
    "#export\n",
    "\n",
    "textScraperL = [\n",
    "    {'class': scrape8K.scraper8K, 'fClass': '8-K',\n",
    "        'infoTextKeys': ['explanatoryNote','itemTexts','text99']},\n",
    "    {'class': scrape6K.scraper6K, 'fClass': '6-K',\n",
    "        'infoTextKeys': ['mainText','text99']},\n",
    "]\n",
    "\n",
    "@utils.delegates(getCombDayMapWithLookback)\n",
    "def getTextPriceDataset(d1, d2, d3, d4, minPrice=None, **kwargs) :\n",
    "    \"\"\"\n",
    "    Constructs a text/price dataset for text-based prediction tests.\n",
    "    \n",
    "    First gets day maps from d2 and d3, with specified lookback.\n",
    "    \n",
    "    Then, cuts down to stocks that have values for both days.\n",
    "\n",
    "    If minPrice is not None, also cuts down to stocks with value > minPrice on both days.\n",
    "\n",
    "    Returns a tuple (syms, symNames, dateStrs, priceMat), where:\n",
    "    syms is a sorted list of ticker symbols\n",
    "    symNames is a list of corresponding names from the SEC ticker list ('' if not present)\n",
    "    dateStrs is a list of date strings in the format '20240624'\n",
    "    priceMat is a matrix of values with len(syms) rows and len(dateStrs) columns\n",
    "    \"\"\"\n",
    "    dm3 = getCombDayMapWithLookback(d3, **kwargs)\n",
    "    dm4 = getCombDayMapWithLookback(d4, **kwargs)\n",
    "    symsWithPrices = sorted(set(dm3.keys()).intersection(dm4.keys()))\n",
    "    print(len(symsWithPrices),'stock symbols found')\n",
    "    if minPrice is not None :\n",
    "        print('restricting to price >=',minPrice,end=' ... ')\n",
    "        symsWithPrices = [sym for sym in symsWithPrices\n",
    "                          if dm3[sym]>=minPrice and dm4[sym]>=minPrice]\n",
    "        print('now',len(symsWithPrices),'stocks')\n",
    "    cikToTicker = tickerMap.getCikToFirstTickerMap()\n",
    "    tickerToCik = dict((ticker,cik) for cik,ticker in cikToTicker.items())\n",
    "    print('restricting to CIKs',end=' ... ')\n",
    "    symsWithPrices = [sym for sym in symsWithPrices if sym in tickerToCik]\n",
    "    print('now',len(symsWithPrices),'stocks')\n",
    "    for s in textScraperL :\n",
    "        print('loading',s['fClass'],end=' ... ')\n",
    "        s['scraper'] = s['class'](startD=d1, endD=d2)\n",
    "        s['scraper'].printCounts(verbose=False)\n",
    "    print('getting CIK texts',end=' ... ')\n",
    "    symsWithPricesAsSet = set(symsWithPrices)\n",
    "    symTexts = collections.defaultdict(list)\n",
    "    for d in utils.dateStrsBetween(d1, d2, excludeWeekends=True) :\n",
    "        for s in textScraperL :\n",
    "            for accNo,info in s['scraper'].infoMap[d].items() :\n",
    "                if info == 'ERROR' :\n",
    "                    continue\n",
    "                ciks = [cik.lstrip('0') for cik in info.get('ciks',[])]\n",
    "                ciks = [cik for cik in ciks\n",
    "                        if cikToTicker.get(cik,'-') in symsWithPricesAsSet]\n",
    "                if len(ciks)==0 :\n",
    "                    continue\n",
    "                for cik in ciks :\n",
    "                    symTexts[cikToTicker[cik]].append('TEXT')\n",
    "#                 if any(findAllSS(andL, info, ['cikNames']+s['infoTextKeys'])\n",
    "#                         for andL in searchREs) :\n",
    "#                     res.append((dStrIso, s['fClass'], accNo, info))\n",
    "    print(len(symTexts),'stocks with CIK text found')"
   ]
  },
  {
   "cell_type": "code",
   "execution_count": null,
   "metadata": {},
   "outputs": [
    {
     "name": "stdout",
     "output_type": "stream",
     "text": [
      "15656 stock symbols found\n",
      "restricting to price >= 1.0 ... now 11738 stocks\n",
      "SEC ticker list length 10283 with 8026 unique values\n",
      "dict: cik->ticker [multiValue=first] has 8026 keys with 8026 unique values\n",
      "restricting to CIKs ... now 5542 stocks\n",
      "loading 8-K ... Total filings: 17114\n",
      "loading 6-K ... Total filings: 6629\n",
      "getting CIK texts ... 4916 stocks with CIK text found\n"
     ]
    }
   ],
   "source": [
    "#notest\n",
    "\n",
    "getTextPriceDataset('20231001','20240101','20240101','20240401',minPrice=1.0)\n",
    "s8 = scrape8K.scraper8K(startD='20231001',endD='20240101')\n",
    "s6 = scrape6K.scraper6K(startD='20231001',endD='20240101')"
   ]
  },
  {
   "cell_type": "code",
   "execution_count": null,
   "metadata": {},
   "outputs": [],
   "source": []
  },
  {
   "cell_type": "code",
   "execution_count": null,
   "metadata": {},
   "outputs": [
    {
     "data": {
      "text/plain": [
       "dict_keys(['0000919574-23-005442', '0001654954-23-012485', '0001654954-23-012499', '0001292814-23-004049', '0001654954-23-012483', '0001654954-23-012503', '0001171843-23-005961', '0001292814-23-004061', '0001292814-23-004063', '0001341004-23-000259', '0001654954-23-012477', '0000950170-23-050915', '0001159508-23-000066', '0001171843-23-005962', '0001654954-23-012452', '0001062993-23-018650', '0001292814-23-004057', '0000950157-23-001016', '0001279569-23-001252', '0001013762-23-000479', '0001193125-23-248004', '0001383395-23-000060', '0001193125-23-248965', '0001395064-23-000127', '0001292814-23-004059', '0001292814-23-004053', '0001292814-23-004055', '0001292814-23-004051', '0001493152-23-034964', '0001477932-23-007292', '0001171843-23-005966', '0000950103-23-014435', '0001104659-23-105920', '0001171843-23-005968', '0001013762-23-000143', '0000950170-23-051129', '0001493152-23-034958', '0001648416-23-000182', '0001013762-23-000318', '0001650107-23-000073', '0001668438-23-000002', '0001437749-23-027409', '0001437749-23-027415', '0001013762-23-000517', '0001104659-23-105986', '0001104659-23-105516', '0001193125-23-249091', '0001013762-23-000145', '0000950170-23-050865', '0001013762-23-000120', '0001104659-23-105518', '0001013762-23-000342', '0001013762-23-000502', '0001013762-23-000424', '0001013762-23-000423', '0001013762-23-000522', '0000950170-23-050914', '0001171843-23-005980', '0001292814-23-004047', '0001013762-23-000477', '0001013762-23-000425', '0001654954-23-012492', '0001104659-23-105793', '0001178913-23-003271', '0001013762-23-000454', '0001062993-23-018669', '0001869858-23-000052', '0001013762-23-000152', '0001013762-23-000156', '0001013762-23-000237', '0001193125-23-248493', '0001683168-23-006880', '0001683168-23-006846', '0001140361-23-046145', '0001178913-23-003265', '0001193125-23-249145', '0001104659-23-105877', '0001157523-23-001453', '0001493152-23-035058', '0001013762-23-000171', '0001013762-23-000368', '0001654954-23-012473', '0001654954-23-012468', '0001654954-23-012495', '0001171843-23-005969', '0001171843-23-005963', '0001193125-23-248523', '0001279569-23-001254', '0001654954-23-012464', '0001654954-23-012450', '0001104659-23-105707', '0001193125-23-247999', '0001193125-23-248184', '0001654954-23-012501', '0001654954-23-012487', '0001654954-23-012458', '0001628280-23-033492', '0001104659-23-105512', '0001654954-23-012469', '0001178913-23-003269', '0001654954-23-012454', '0000950170-23-050958', '0000929869-23-000517', '0000929869-23-000519', '0001654954-23-012456', '0001654954-23-012463', '0001654954-23-012460', '0001654954-23-012481', '0001178913-23-003264'])"
      ]
     },
     "execution_count": null,
     "metadata": {},
     "output_type": "execute_result"
    }
   ],
   "source": [
    "# s.infoMap['20231002'].keys()"
   ]
  },
  {
   "cell_type": "code",
   "execution_count": null,
   "metadata": {},
   "outputs": [
    {
     "data": {
      "text/plain": [
       "['0000950170-23-051160',\n",
       " '0001104659-23-105520',\n",
       " '0001335258-23-000089',\n",
       " '0001193125-23-249190',\n",
       " '0000714395-23-000046']"
      ]
     },
     "execution_count": null,
     "metadata": {},
     "output_type": "execute_result"
    }
   ],
   "source": [
    "# [k for k,v in s.infoMap['20231002'].items() if 'explanatoryNote' in v]"
   ]
  },
  {
   "cell_type": "code",
   "execution_count": null,
   "metadata": {},
   "outputs": [],
   "source": [
    "# s8.getTextDigest(s8.infoMap['20231002']['0000950170-23-051160'])"
   ]
  },
  {
   "cell_type": "code",
   "execution_count": null,
   "metadata": {},
   "outputs": [],
   "source": [
    "# s6.getTextDigest(s6.infoMap['20231002']['0000919574-23-005442'])"
   ]
  },
  {
   "cell_type": "code",
   "execution_count": null,
   "metadata": {},
   "outputs": [],
   "source": []
  },
  {
   "cell_type": "code",
   "execution_count": null,
   "metadata": {},
   "outputs": [],
   "source": [
    "#hide\n",
    "# uncomment and run to regenerate all library Python files\n",
    "# from nbdev.export import notebook2script; notebook2script()"
   ]
  },
  {
   "cell_type": "code",
   "execution_count": null,
   "metadata": {},
   "outputs": [],
   "source": []
  }
 ],
 "metadata": {
  "kernelspec": {
   "display_name": "Python 3",
   "language": "python",
   "name": "python3"
  }
 },
 "nbformat": 4,
 "nbformat_minor": 4
}
