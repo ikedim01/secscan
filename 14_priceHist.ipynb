{
 "cells": [
  {
   "cell_type": "code",
   "execution_count": null,
   "metadata": {},
   "outputs": [],
   "source": [
    "# default_exp priceHist"
   ]
  },
  {
   "cell_type": "markdown",
   "metadata": {},
   "source": [
    "# priceHist\n",
    "\n",
    "> Parse historical stock price data files."
   ]
  },
  {
   "cell_type": "code",
   "execution_count": null,
   "metadata": {},
   "outputs": [],
   "source": [
    "#hide\n",
    "%load_ext autoreload\n",
    "%autoreload 2\n",
    "from nbdev import show_doc"
   ]
  },
  {
   "cell_type": "code",
   "execution_count": null,
   "metadata": {},
   "outputs": [],
   "source": [
    "#export\n",
    "\n",
    "import os\n",
    "import pandas as pd\n",
    "\n",
    "from secscan import utils\n",
    "\n",
    "USExchanges = ['AMEX','NASDAQ','NYSE','OTCBB']"
   ]
  },
  {
   "cell_type": "markdown",
   "metadata": {},
   "source": [
    "Uses the historical price data from eoddata.com -\n",
    "this comes as one CSV file per exchange per day, sample:\n",
    "\n",
    "```\n",
    "Symbol,Date,Open,High,Low,Close,Volume\n",
    "AACG,08-Jan-2020,1.41,1.58,1.3642,1.5112,90800\n",
    "AAL,08-Jan-2020,27.1,28.09,27.07,27.84,10497200\n",
    "...\n",
    "```\n"
   ]
  },
  {
   "cell_type": "code",
   "execution_count": null,
   "metadata": {},
   "outputs": [],
   "source": [
    "#export\n",
    "\n",
    "def getHistFStuff(exch,dateStr) :\n",
    "    \"\"\"\n",
    "    Returns (fName, fDir, fPath) containing the CSV file of historical prices\n",
    "    for the given exchange and date.\n",
    "    \"\"\"\n",
    "    fName = exch+'_'+dateStr+'.csv'\n",
    "    histFDir = os.path.join(utils.stockPriceRoot,fName[:len(exch)+5])\n",
    "    histFPath = os.path.join(histFDir,fName)\n",
    "    return fName,histFDir,histFPath"
   ]
  },
  {
   "cell_type": "code",
   "execution_count": null,
   "metadata": {},
   "outputs": [],
   "source": [
    "# test getHistFStuff:\n",
    "\n",
    "t = getHistFStuff('NASDAQ','20240510')\n",
    "assert (t[0]=='NASDAQ_20240510.csv'\n",
    "        and t[1]==os.path.join(utils.stockPriceRoot,'NASDAQ_2024')\n",
    "        and t[2]==os.path.join(utils.stockPriceRoot,'NASDAQ_2024',t[0]))"
   ]
  },
  {
   "cell_type": "code",
   "execution_count": null,
   "metadata": {},
   "outputs": [],
   "source": [
    "#export\n",
    "\n",
    "def getDayMap(dateStr, exch, symCol='Symbol', priceCol='Close') :\n",
    "    \"\"\"\n",
    "    Parse the CSV file for a single day and exchange,\n",
    "    returning a dict:<stock symbol> -> <value>\n",
    "    \"\"\"\n",
    "    fPath = getHistFStuff(exch,dateStr)[2]\n",
    "    if not os.path.exists(fPath) :\n",
    "        return {}\n",
    "    df = pd.read_csv(fPath)\n",
    "    return dict(zip(df[symCol],df[priceCol]))"
   ]
  },
  {
   "cell_type": "code",
   "execution_count": null,
   "metadata": {},
   "outputs": [],
   "source": [
    "# test getDayMap:\n",
    "\n",
    "utils.setStockPriceRoot('testdata')\n",
    "\n",
    "m = getDayMap('20200108','AMEX')\n",
    "assert (len(m)==2024\n",
    "        and min(m.keys())=='AAAU' and m['AAAU']==15.56\n",
    "        and max(m.keys())=='ZSL' and m['ZSL']==26.04)\n",
    "\n",
    "m = getDayMap('20200108','NASDAQ')\n",
    "assert (len(m)==3233\n",
    "        and min(m.keys())=='AACG' and m['AACG']==1.5112\n",
    "        and max(m.keys())=='ZYXI' and m['ZYXI']==8.47)"
   ]
  },
  {
   "cell_type": "code",
   "execution_count": null,
   "metadata": {},
   "outputs": [],
   "source": [
    "#export\n",
    "\n",
    "@utils.delegates(getDayMap)\n",
    "def getCombDayMap(dateStr, exchs=USExchanges, checkDups=True, **kwargs) :\n",
    "    \"\"\"\n",
    "    Combines the day maps for a list of exchanges, optionally checking for symbols\n",
    "    duplicated between exchanges.\n",
    "    \"\"\"\n",
    "    res = {}\n",
    "    for exch in exchs :\n",
    "        m = getDayMap(dateStr,exch,**kwargs)\n",
    "        if checkDups :\n",
    "            dupKeys = (set(m.keys()) & res.keys())\n",
    "            if len(dupKeys) > 0 :\n",
    "                print('duplicated keys:',exch,dateStr,sorted(dupKeys)[:10])\n",
    "        res.update(m)\n",
    "    return res"
   ]
  },
  {
   "cell_type": "code",
   "execution_count": null,
   "metadata": {},
   "outputs": [],
   "source": [
    "# test getCombDayMap:\n",
    "\n",
    "m = getCombDayMap('20200108',['AMEX','NASDAQ'])\n",
    "assert len(m)==2024+3233"
   ]
  },
  {
   "cell_type": "code",
   "execution_count": null,
   "metadata": {},
   "outputs": [],
   "source": []
  },
  {
   "cell_type": "code",
   "execution_count": null,
   "metadata": {},
   "outputs": [],
   "source": [
    "#hide\n",
    "# uncomment and run to regenerate all library Python files\n",
    "# from nbdev.export import notebook2script; notebook2script()"
   ]
  },
  {
   "cell_type": "code",
   "execution_count": null,
   "metadata": {},
   "outputs": [],
   "source": []
  }
 ],
 "metadata": {
  "kernelspec": {
   "display_name": "Python 3",
   "language": "python",
   "name": "python3"
  }
 },
 "nbformat": 4,
 "nbformat_minor": 4
}
