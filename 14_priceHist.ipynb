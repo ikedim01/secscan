{
 "cells": [
  {
   "cell_type": "code",
   "execution_count": null,
   "metadata": {},
   "outputs": [],
   "source": [
    "# default_exp priceHist"
   ]
  },
  {
   "cell_type": "markdown",
   "metadata": {},
   "source": [
    "# priceHist\n",
    "\n",
    "> Parse historical stock price data files."
   ]
  },
  {
   "cell_type": "code",
   "execution_count": null,
   "metadata": {},
   "outputs": [],
   "source": [
    "#hide\n",
    "%load_ext autoreload\n",
    "%autoreload 2\n",
    "from nbdev import show_doc"
   ]
  },
  {
   "cell_type": "code",
   "execution_count": null,
   "metadata": {},
   "outputs": [],
   "source": [
    "#export\n",
    "\n",
    "import collections\n",
    "import datetime\n",
    "import numpy as np\n",
    "import os\n",
    "import pandas as pd\n",
    "from sklearn.linear_model import LogisticRegression\n",
    "from sklearn.ensemble import RandomForestClassifier\n",
    "\n",
    "from secscan import utils,tickerMap,scrape8K,scrape6K\n",
    "\n",
    "USExchanges = ['AMEX','NASDAQ','NYSE','OTCBB']"
   ]
  },
  {
   "cell_type": "markdown",
   "metadata": {},
   "source": [
    "Uses the historical price data from eoddata.com -\n",
    "this comes as one CSV file per exchange per day, sample:\n",
    "\n",
    "```\n",
    "Symbol,Date,Open,High,Low,Close,Volume\n",
    "AACG,08-Jan-2020,1.41,1.58,1.3642,1.5112,90800\n",
    "AAL,08-Jan-2020,27.1,28.09,27.07,27.84,10497200\n",
    "...\n",
    "```\n"
   ]
  },
  {
   "cell_type": "code",
   "execution_count": null,
   "metadata": {},
   "outputs": [],
   "source": [
    "#export\n",
    "\n",
    "def getHistFStuff(exch,dateStr) :\n",
    "    \"\"\"\n",
    "    Returns (fName, fDir, fPath) containing the CSV file of historical prices\n",
    "    for the given exchange and date.\n",
    "    \"\"\"\n",
    "    fName = exch+'_'+dateStr+'.csv'\n",
    "    histFDir = os.path.join(utils.stockPriceRoot,fName[:len(exch)+5])\n",
    "    histFPath = os.path.join(histFDir,fName)\n",
    "    return fName,histFDir,histFPath"
   ]
  },
  {
   "cell_type": "code",
   "execution_count": null,
   "metadata": {},
   "outputs": [],
   "source": [
    "# test getHistFStuff:\n",
    "\n",
    "t = getHistFStuff('NASDAQ','20240510')\n",
    "assert (t[0]=='NASDAQ_20240510.csv'\n",
    "        and t[1]==os.path.join(utils.stockPriceRoot,'NASDAQ_2024')\n",
    "        and t[2]==os.path.join(utils.stockPriceRoot,'NASDAQ_2024',t[0]))"
   ]
  },
  {
   "cell_type": "code",
   "execution_count": null,
   "metadata": {},
   "outputs": [],
   "source": [
    "#export\n",
    "\n",
    "def getDayMap(dateStr, exch, symCol='Symbol', priceCol='Open') :\n",
    "    \"\"\"\n",
    "    Parse the CSV file for a single day and exchange.\n",
    "    Returns a dict:<stock symbol> -> <value>\n",
    "    \"\"\"\n",
    "    fPath = getHistFStuff(exch,dateStr)[2]\n",
    "    if not os.path.exists(fPath) :\n",
    "        return {}\n",
    "    df = pd.read_csv(fPath, na_filter=False)\n",
    "    dayMap = {}\n",
    "    for sym,val in zip(df[symCol],df[priceCol]) :\n",
    "        if isinstance(sym,str) :\n",
    "            dayMap[sym] = val\n",
    "        else :\n",
    "            print(dateStr,exch,'non-string symbol',repr(sym))\n",
    "    return dayMap"
   ]
  },
  {
   "cell_type": "code",
   "execution_count": null,
   "metadata": {},
   "outputs": [],
   "source": [
    "# test getDayMap:\n",
    "\n",
    "if not ('\\\\ikedi\\\\' in utils.stockPriceRoot) :\n",
    "    utils.setStockPriceRoot('testdata')\n",
    "\n",
    "m = getDayMap('20200108','AMEX')\n",
    "assert (len(m)==2024\n",
    "        and min(m.keys())=='AAAU' and m['AAAU']==15.75\n",
    "        and max(m.keys())=='ZSL' and m['ZSL']==25.33)\n",
    "\n",
    "m = getDayMap('20200108','NASDAQ')\n",
    "assert (len(m)==3233\n",
    "        and min(m.keys())=='AACG' and m['AACG']==1.41\n",
    "        and max(m.keys())=='ZYXI' and m['ZYXI']==8.52)"
   ]
  },
  {
   "cell_type": "code",
   "execution_count": null,
   "metadata": {},
   "outputs": [],
   "source": [
    "#export\n",
    "\n",
    "@utils.delegates(getDayMap)\n",
    "def getCombDayMap(dateStr, exchs=USExchanges, checkDups=True, **kwargs) :\n",
    "    \"\"\"\n",
    "    Combines the day maps for a list of exchanges, optionally checking for symbols\n",
    "    duplicated between exchanges.\n",
    "    Returns a dict:<stock symbol> -> <value>\n",
    "    \"\"\"\n",
    "    combDayMap = {}\n",
    "    for exch in exchs :\n",
    "        m = getDayMap(dateStr,exch,**kwargs)\n",
    "        if checkDups :\n",
    "            dupKeys = (set(m.keys()) & combDayMap.keys())\n",
    "            if len(dupKeys) > 0 :\n",
    "                print('duplicated keys:',exch,dateStr,sorted(dupKeys)[:10])\n",
    "        combDayMap.update(m)\n",
    "    return combDayMap"
   ]
  },
  {
   "cell_type": "code",
   "execution_count": null,
   "metadata": {},
   "outputs": [],
   "source": [
    "# test getCombDayMap:\n",
    "\n",
    "m = getCombDayMap('20200108', exchs=['AMEX','NASDAQ'])\n",
    "assert len(m)==2024+3233"
   ]
  },
  {
   "cell_type": "code",
   "execution_count": null,
   "metadata": {},
   "outputs": [],
   "source": [
    "#export\n",
    "\n",
    "dayMapCache = {}\n",
    "\n",
    "@utils.delegates(getCombDayMap)\n",
    "def getCombDayMapWithLookback(forD, lookback=7, **kwargs) :\n",
    "    \"\"\"\n",
    "    Get the day map for a given day, looking back a given number of days -\n",
    "    i.e. if a stock doesn't trade on a particular day, looks back the specified\n",
    "    number of days to find the most recent trade.\n",
    "    \n",
    "    Returns a dict:<stock symbol> -> <value>\n",
    "    \"\"\"\n",
    "    d1 = utils.toDate(forD) + datetime.timedelta(-lookback)\n",
    "    d2 = utils.toDate(forD) + datetime.timedelta(1)\n",
    "    dayMap = {}\n",
    "    for d in utils.dateStrsBetween(d1, d2) :\n",
    "        if d not in dayMapCache :\n",
    "            dayMapCache[d] = getCombDayMap(d, **kwargs)\n",
    "        dayMap.update(dayMapCache[d])\n",
    "    return dayMap\n",
    "\n",
    "@utils.delegates(getCombDayMapWithLookback)\n",
    "def getCombDayMapsForRangeWithLookback(d1, d2, **kwargs) :\n",
    "    \"\"\"\n",
    "    Get all the combined day maps from d1 (inclusive) to d2 (exclusive), with lookback.\n",
    "    \n",
    "    Returns a dict:dateStr -> {<stock symbol> -> <value>}\n",
    "    Skips weekend dates in the returned dict.\n",
    "    \"\"\"\n",
    "    res = {}\n",
    "    for d in utils.dateStrsBetween(d1, d2, excludeWeekends=True) :\n",
    "        res[d] = getCombDayMapWithLookback(d, **kwargs)\n",
    "    return res"
   ]
  },
  {
   "cell_type": "markdown",
   "metadata": {},
   "source": [
    "Direct indexing tests:"
   ]
  },
  {
   "cell_type": "code",
   "execution_count": null,
   "metadata": {},
   "outputs": [
    {
     "name": "stdout",
     "output_type": "stream",
     "text": [
      "SEC ticker list length 10161 with 10161 unique values\n",
      "dict: ticker->name [multiValue=last] has 10161 keys with 7987 unique values\n",
      "SEC ticker list length 10161 with 7988 unique values\n",
      "dict: cik->ticker [multiValue=first] has 7988 keys with 7988 unique values\n"
     ]
    }
   ],
   "source": [
    "#export\n",
    "\n",
    "# Load current SEC ticker <-> cik/name mappings:\n",
    "tickerNames = tickerMap.getSecTickerDict(field2='name')\n",
    "cikToTicker = tickerMap.getCikToFirstTickerMap()\n",
    "tickerToCik = dict((ticker,cik) for cik,ticker in cikToTicker.items())"
   ]
  },
  {
   "cell_type": "code",
   "execution_count": null,
   "metadata": {},
   "outputs": [],
   "source": [
    "#export\n",
    "\n",
    "@utils.delegates(getCombDayMapsForRangeWithLookback)\n",
    "def getCleanedPriceData(d1, d2, minPrice=None, restrictToNames=False, **kwargs) :\n",
    "    \"\"\"\n",
    "    Constructs a price dataset for direct indexing tests.\n",
    "    \n",
    "    First gets all the combined day maps from d1 to d2, with specified lookback,\n",
    "    and skipping weekend days.\n",
    "    \n",
    "    Then, cuts down to stocks that have values for all the specified days.\n",
    "    \n",
    "    If minPrice is not None, also cuts down to stocks with value > minPrice on all days.\n",
    "    \n",
    "    If restrictToNames is True, also cuts down to stocks present in the SEC ticker list.\n",
    "    \n",
    "    Returns a tuple (syms, symNames, dateStrs, priceMat), where:\n",
    "    syms is a sorted list of ticker symbols\n",
    "    symNames is a list of corresponding names from the SEC ticker list ('' if not present)\n",
    "    dateStrs is a list of date strings in the format '20240624'\n",
    "    priceMat is a matrix of values with len(syms) rows and len(dateStrs) columns\n",
    "    \"\"\"\n",
    "    dayMaps = getCombDayMapsForRangeWithLookback(d1, d2, **kwargs)\n",
    "    dateStrs = sorted(dayMaps.keys())\n",
    "    symsPresentAllDays = sorted(set.intersection(*(set(dayMap.keys())\n",
    "                                                   for dayMap in dayMaps.values())))\n",
    "    symsToRemove = set()\n",
    "    if minPrice is not None :\n",
    "        for dayMap in dayMaps.values() :\n",
    "            for sym,val in dayMap.items() :\n",
    "                if val < minPrice :\n",
    "                    symsToRemove.add(sym)\n",
    "    if restrictToNames :\n",
    "        for sym in symsPresentAllDays :\n",
    "            if sym not in tickerNames :\n",
    "                symsToRemove.add(sym)\n",
    "    if len(symsToRemove) > 0 :\n",
    "        symsPresentAllDays = [sym for sym in symsPresentAllDays\n",
    "                              if sym not in symsToRemove]\n",
    "    priceMat = np.zeros((len(symsPresentAllDays), len(dateStrs)))\n",
    "    for dateNo,d in enumerate(dateStrs) :\n",
    "        dayMap = dayMaps[d]\n",
    "        for symNo,sym in enumerate(symsPresentAllDays) :\n",
    "            priceMat[symNo,dateNo] = dayMap[sym]\n",
    "    symNames = [tickerNames.get(sym,'') for sym in symsPresentAllDays]\n",
    "    print(len(symsPresentAllDays),'symbols',len(dateStrs),'dates')\n",
    "    return (symsPresentAllDays, symNames, dateStrs, priceMat)\n",
    "\n",
    "@utils.delegates(getCleanedPriceData)\n",
    "def getSortedReturns(d1, d2, highestFirst=True, **kwargs) :\n",
    "    \"\"\"\n",
    "    Gets a sorted list of stock price returns between two dates.\n",
    "\n",
    "    Returns a list of tuples, sorted by return:\n",
    "        [(sym, symName, <percent return between d1 and d2>)]\n",
    "    \"\"\"\n",
    "    syms, symNames, dateStrs, priceMat = getCleanedPriceData(d1,\n",
    "        utils.toDateStr(utils.toDate(d2) + datetime.timedelta(1)),\n",
    "        **kwargs)\n",
    "    returns = (priceMat[:,-1]/priceMat[:,0] - 1.0)\n",
    "    res = sorted(zip(syms,symNames,priceMat[:,0],priceMat[:,-1],returns),\n",
    "                 key = lambda x : x[-1],\n",
    "                 reverse = highestFirst)\n",
    "    print('restricting to named stocks',end=' - ')\n",
    "    res = [el for el in res if el[1]]\n",
    "    print('now',len(res),'stocks')\n",
    "    return res\n",
    "\n",
    "@utils.delegates(getCleanedPriceData)\n",
    "def getForwardReturns(d1, d2, weekdaysForward=20, **kwargs) :\n",
    "    \"\"\"\n",
    "    Calculates a matrix of forward percentage returns looking ahead weekdaysForward\n",
    "    weekdays for each date from d1 (inclusive) to d2 (exclusive). Only weekdays are\n",
    "    included in the matrix to avoid over-emphasizing forward returns from Fridays.\n",
    "\n",
    "    Returns a tuple (syms, symNames, dateStrs, returnMat), as for getCleanedPriceData,\n",
    "    except returnMat is a matrix of forward returns looking ahead from each day.\n",
    "    \"\"\"\n",
    "    d3 = utils.toDateStr(utils.toDate(d2)\n",
    "                         + datetime.timedelta(weekdaysForward + 2*((weekdaysForward+4)//5)))\n",
    "    syms, symNames, dateStrs, priceMat = getCleanedPriceData(d1,d3,**kwargs)\n",
    "    dateStrs = [d for d in dateStrs if d<d2]\n",
    "    returnMat = np.zeros((len(syms), len(dateStrs)))\n",
    "    for j in range(len(dateStrs)) :\n",
    "        returnMat[:,j] = (priceMat[:,j+weekdaysForward]/priceMat[:,j] - 1.0)\n",
    "    return (syms, symNames, dateStrs, returnMat)\n",
    "\n",
    "def getClosestReturn(sym, syms, symNames, dateStrs, returnMat, fName=None, n=20) :\n",
    "    \"\"\"\n",
    "    Finds the symbols with the closest average forward return to a given symbol.\n",
    "\n",
    "    Returns a list:\n",
    "        [(sym, symName, <total absolute value of forward return differences>)]\n",
    "    \"\"\"\n",
    "    rowNo = syms.index(sym)\n",
    "    diffs = ((returnMat - returnMat[rowNo])**2).sum(axis=1)\n",
    "    symsAndDiffs = list(zip(syms,symNames,diffs))\n",
    "    symsAndDiffs.sort(key=lambda x : x[2])\n",
    "    if n is not None :\n",
    "        symsAndDiffs = symsAndDiffs[:n]\n",
    "    if fName is not None :\n",
    "        genServList(fName,symsAndDiffs)\n",
    "    return symsAndDiffs\n",
    "\n",
    "\n",
    "def genServList(fName, syms) :\n",
    "    \"\"\"\n",
    "    Save a list of stock symbols and CIKs in display format for my secscrape server.\n",
    "    \"\"\"\n",
    "    print('saving serv list',fName)\n",
    "    with open(os.path.expanduser(os.path.join('~','Dropbox',\n",
    "                    'sw','secScripts',fName+'.txt')),'w') as f :\n",
    "        for sym in syms :\n",
    "            if isinstance(sym,tuple) :\n",
    "                sym = sym[0]\n",
    "            if sym not in tickerToCik :\n",
    "                print('skipping',sym,'(no CIK)')\n",
    "            else :\n",
    "                f.write(f\"    {tickerToCik[sym]} # {sym}\\n\")"
   ]
  },
  {
   "cell_type": "markdown",
   "metadata": {},
   "source": [
    "Max and min returns over an interval:"
   ]
  },
  {
   "cell_type": "code",
   "execution_count": null,
   "metadata": {},
   "outputs": [
    {
     "name": "stdout",
     "output_type": "stream",
     "text": [
      "duplicated keys: OTCBB 20240423 ['GBTC', 'RILY']\n",
      "duplicated keys: OTCBB 20240502 ['GBTC']\n",
      "10561 symbols 75 dates\n",
      "restricting to named stocks - now 5695 stocks\n"
     ]
    }
   ],
   "source": [
    "#notest\n",
    "\n",
    "m = getSortedReturns('20240401','20240714', minPrice=1.0)"
   ]
  },
  {
   "cell_type": "code",
   "execution_count": null,
   "metadata": {},
   "outputs": [
    {
     "data": {
      "text/plain": [
       "[('CATX', 'Perspective Therapeutics, Inc.', 1.25, 12.12, 8.696),\n",
       " ('GDXD', 'BANK OF MONTREAL /CAN/', 3.15, 16.66, 4.288888888888889),\n",
       " ('REBN', 'Reborn Coffee, Inc.', 1.26, 6.11, 3.8492063492063497),\n",
       " ('INSG', 'INSEEGO CORP.', 2.79, 11.56, 3.1433691756272406),\n",
       " ('CORZZ', 'Core Scientific, Inc./tx', 2.32, 9.47, 3.081896551724139),\n",
       " ('ASTS', 'AST SpaceMobile, Inc.', 2.93, 11.88, 3.054607508532423),\n",
       " ('EBS', 'Emergent BioSolutions Inc.', 2.55, 10.03, 2.9333333333333336),\n",
       " ('PSIX',\n",
       "  'POWER SOLUTIONS INTERNATIONAL, INC.',\n",
       "  2.35,\n",
       "  9.04,\n",
       "  2.846808510638297),\n",
       " ('FTEL', 'Fitell Corp', 7.9, 29.99, 2.7962025316455694),\n",
       " ('WGS', 'GeneDx Holdings Corp.', 9.1, 34.17, 2.7549450549450554),\n",
       " ('NYCB', 'NEW YORK COMMUNITY BANCORP, INC.', 3.24, 11.91, 2.6759259259259256),\n",
       " ('KOSS', 'KOSS CORP', 2.64, 9.33, 2.534090909090909),\n",
       " ('CADL', 'Candel Therapeutics, Inc.', 1.72, 6.0, 2.488372093023256),\n",
       " ('AEHL', 'Antelope Enterprise Holdings Ltd', 1.64, 5.56, 2.3902439024390243),\n",
       " ('UVXY', 'ProShares Trust II', 6.27, 21.08, 2.3620414673046253),\n",
       " ('CIM', 'CHIMERA INVESTMENT CORP', 4.61, 14.54, 2.1540130151843813),\n",
       " ('BRFH', 'BARFRESH FOOD GROUP INC.', 1.2, 3.67, 2.0583333333333336),\n",
       " ('DHAI', 'DIH HOLDING US, INC.', 1.15, 3.32, 1.8869565217391306),\n",
       " ('INSM', 'INSMED Inc', 26.9, 77.0, 1.8624535315985131),\n",
       " ('RGS', 'REGIS CORP', 7.56, 21.32, 1.8201058201058204)]"
      ]
     },
     "execution_count": null,
     "metadata": {},
     "output_type": "execute_result"
    }
   ],
   "source": [
    "#notest\n",
    "\n",
    "m[:20]"
   ]
  },
  {
   "cell_type": "code",
   "execution_count": null,
   "metadata": {},
   "outputs": [
    {
     "data": {
      "text/plain": [
       "[('ZNTL', 'Zentalis Pharmaceuticals, Inc.', 15.58, 4.03, -0.7413350449293967),\n",
       " ('VSTM', 'Verastem, Inc.', 11.86, 3.03, -0.7445193929173692),\n",
       " ('IVVD', 'Invivyd, Inc.', 4.7, 1.2, -0.7446808510638299),\n",
       " ('BIG', 'BIG LOTS INC', 4.4, 1.11, -0.7477272727272728),\n",
       " ('AONC', 'American Oncology Network, Inc.', 5.35, 1.31, -0.7551401869158878),\n",
       " ('IZM', 'ICZOOM Group Inc.', 8.5, 1.99, -0.7658823529411765),\n",
       " ('ENGNW', 'enGene Holdings Inc.', 5.31, 1.23, -0.768361581920904),\n",
       " ('ZKH', 'ZKH Group Ltd', 16.11, 3.73, -0.7684667908131595),\n",
       " ('CRTD', 'Creatd, Inc.', 4.4, 1.0, -0.7727272727272727),\n",
       " ('NWGL', 'Nature Wood Group Ltd', 15.04, 3.19, -0.7878989361702128),\n",
       " ('CRNC', 'Cerence Inc.', 15.8, 3.19, -0.7981012658227848),\n",
       " ('NOTV', 'Inotiv, Inc.', 11.0, 2.0, -0.8181818181818181),\n",
       " ('GCTS', 'GCT Semiconductor Holding, Inc.', 29.0, 5.1, -0.8241379310344827),\n",
       " ('FUJIY', 'FUJI PHOTO FILM CO LTD /FI', 70.25, 12.12, -0.8274733096085409),\n",
       " ('NWTN', 'NWTN, Inc.', 6.24, 1.04, -0.8333333333333334),\n",
       " ('MRNS', 'MARINUS PHARMACEUTICALS, INC.', 9.0, 1.33, -0.8522222222222222),\n",
       " ('NVDA', 'NVIDIA CORP', 902.99, 128.26, -0.8579607747594105),\n",
       " ('HLVX', 'HilleVax, Inc.', 16.55, 1.64, -0.9009063444108761),\n",
       " ('AVTE', 'Aerovate Therapeutics, Inc.', 30.43, 1.9, -0.9375616168255012),\n",
       " ('CMG', 'CHIPOTLE MEXICAN GRILL INC', 2919.17, 57.76, -0.9802135538526362)]"
      ]
     },
     "execution_count": null,
     "metadata": {},
     "output_type": "execute_result"
    }
   ],
   "source": [
    "#notest\n",
    "\n",
    "m[-20:]"
   ]
  },
  {
   "cell_type": "markdown",
   "metadata": {},
   "source": [
    "Closest forward returns over all the days in an interval:"
   ]
  },
  {
   "cell_type": "code",
   "execution_count": null,
   "metadata": {},
   "outputs": [
    {
     "name": "stdout",
     "output_type": "stream",
     "text": [
      "9981 symbols 140 dates\n"
     ]
    }
   ],
   "source": [
    "#notest\n",
    "\n",
    "m = getForwardReturns('20240101','20240615',minPrice=1.0)"
   ]
  },
  {
   "cell_type": "code",
   "execution_count": null,
   "metadata": {},
   "outputs": [
    {
     "data": {
      "text/plain": [
       "[('MNDO', 'MIND CTI LTD', 0.0),\n",
       " ('PRI-L', '', 0.150786798250306),\n",
       " ('REGCO', 'REGENCY CENTERS CORP', 0.15623323991179444),\n",
       " ('ANCTF', '', 0.15825376544828385),\n",
       " ('AIF', '', 0.15884752792716933),\n",
       " ('BME', 'BlackRock Health Sciences Trust', 0.16135522353362927),\n",
       " ('WRB-G', '', 0.162102727295135),\n",
       " ('ABT', 'ABBOTT LABORATORIES', 0.16869169232840456),\n",
       " ('FAIL', '', 0.17584905810304813),\n",
       " ('RSF', 'RiverNorth Capital & Income Fund, Inc.', 0.176096806139761),\n",
       " ('TRT-C', '', 0.1767701230331341),\n",
       " ('CHY', 'CALAMOS CONVERTIBLE & HIGH INCOME FUND', 0.17740224547552594),\n",
       " ('DLR-K', '', 0.17758247900251733),\n",
       " ('ENX', 'EATON VANCE NEW YORK MUNICIPAL BOND FUND', 0.1787138901154057),\n",
       " ('DLR-J', '', 0.18046714129889124),\n",
       " ('CULL', 'Cullman Bancorp, Inc. /MD/', 0.18257851993533203),\n",
       " ('TAK', 'TAKEDA PHARMACEUTICAL CO LTD', 0.18378324625111211),\n",
       " ('PMF', 'PIMCO MUNICIPAL INCOME FUND', 0.18503522954135557),\n",
       " ('PSA-J', '', 0.18720806266925138),\n",
       " ('BCV-A', '', 0.18777675160267926)]"
      ]
     },
     "execution_count": null,
     "metadata": {},
     "output_type": "execute_result"
    }
   ],
   "source": [
    "#notest\n",
    "\n",
    "getClosestReturn('MNDO',*m)"
   ]
  },
  {
   "cell_type": "code",
   "execution_count": null,
   "metadata": {},
   "outputs": [
    {
     "data": {
      "text/plain": [
       "[('TAIT', 'TAITRON COMPONENTS INC', 0.0),\n",
       " ('KFFB', 'Kentucky First Federal Bancorp', 0.14538973846305878),\n",
       " ('FLBR', '', 0.17198881940562005),\n",
       " ('KLIP', '', 0.1787211560796597),\n",
       " ('NOC', 'NORTHROP GRUMMAN CORP /DE/', 0.17949008898455426),\n",
       " ('EWZ', '', 0.18528258102466955),\n",
       " ('ESLT', 'ELBIT SYSTEMS LTD', 0.18604156120943144),\n",
       " ('FLLA', '', 0.18631143809515038),\n",
       " ('SRG-A', '', 0.1920282855710523),\n",
       " ('CPPTL', 'Copper Property CTL Pass Through Trust', 0.1935995140600607),\n",
       " ('BRAZ', '', 0.19735889334794265),\n",
       " ('KWR', 'QUAKER CHEMICAL CORP', 0.19855884616373368),\n",
       " ('FLSA', '', 0.20960313835676808),\n",
       " ('THD', '', 0.2096700252778919),\n",
       " ('MSM', 'MSC INDUSTRIAL DIRECT CO INC', 0.20977692680253807),\n",
       " ('ILF', '', 0.21382553394218418),\n",
       " ('TD', 'TORONTO DOMINION BANK', 0.21413124924008203),\n",
       " ('LFGP', '', 0.21501306778188117),\n",
       " ('FLN', '', 0.21608857272755927),\n",
       " ('CCOR', '', 0.21744128436155158)]"
      ]
     },
     "execution_count": null,
     "metadata": {},
     "output_type": "execute_result"
    }
   ],
   "source": [
    "#notest\n",
    "\n",
    "getClosestReturn('TAIT',*m)"
   ]
  },
  {
   "cell_type": "code",
   "execution_count": null,
   "metadata": {},
   "outputs": [
    {
     "data": {
      "text/plain": [
       "[('RELL', 'RICHARDSON ELECTRONICS, LTD.', 0.0),\n",
       " ('ARLP', 'ALLIANCE RESOURCE PARTNERS LP', 0.8426632731221821),\n",
       " ('HR', 'Healthcare Realty Trust Inc', 0.8685501138643191),\n",
       " ('NXRT', 'NexPoint Residential Trust, Inc.', 0.8877812501283826),\n",
       " ('BRT', 'BRT Apartments Corp.', 0.8944790543762936),\n",
       " ('RILYL', 'B. Riley Financial, Inc.', 0.9117271819743408),\n",
       " ('CHDN', 'Churchill Downs Inc', 0.9602184808245319),\n",
       " ('WHITF', '', 0.9867460113787685),\n",
       " ('NEM', 'NEWMONT Corp /DE/', 0.9937202679545482),\n",
       " ('DSWL', 'DESWELL INDUSTRIES INC', 0.9968389583402446),\n",
       " ('FSNUY', '', 0.9983663328171469),\n",
       " ('RWWI', '', 1.000894652211174),\n",
       " ('STRS', 'STRATUS PROPERTIES INC', 1.005896142416717),\n",
       " ('NHYKF', '', 1.013227836348273),\n",
       " ('EWV', '', 1.0164930525688431),\n",
       " ('KRBN', '', 1.0325450561350438),\n",
       " ('KDP', 'Keurig Dr Pepper Inc.', 1.0460477212218473),\n",
       " ('PSHG', 'Performance Shipping Inc.', 1.0605056929521017),\n",
       " ('AMDS', '', 1.0677273526710604),\n",
       " ('VTR', 'Ventas, Inc.', 1.0692890187562403)]"
      ]
     },
     "execution_count": null,
     "metadata": {},
     "output_type": "execute_result"
    }
   ],
   "source": [
    "#notest\n",
    "\n",
    "getClosestReturn('RELL',*m)"
   ]
  },
  {
   "cell_type": "code",
   "execution_count": null,
   "metadata": {},
   "outputs": [
    {
     "name": "stdout",
     "output_type": "stream",
     "text": [
      "saving serv list zzrellret\n",
      "skipping OARK (no CIK)\n",
      "skipping SEAS (no CIK)\n",
      "skipping CWE.A (no CIK)\n",
      "skipping CNRG (no CIK)\n"
     ]
    },
    {
     "data": {
      "text/plain": [
       "[('RELL', 'RICHARDSON ELECTRONICS, LTD.', 0.0),\n",
       " ('CASS', 'CASS INFORMATION SYSTEMS INC', 2.3632986384989505),\n",
       " ('POWI', 'POWER INTEGRATIONS INC', 2.8332377785971987),\n",
       " ('GWRS', 'Global Water Resources, Inc.', 2.8404981620316088),\n",
       " ('ANGO', 'ANGIODYNAMICS INC', 2.8471128912348176),\n",
       " ('OARK', '', 2.9107047683916987),\n",
       " ('RRBI', 'RED RIVER BANCSHARES INC', 2.9644257369823506),\n",
       " ('RICK', 'RCI HOSPITALITY HOLDINGS, INC.', 2.9732589455373617),\n",
       " ('GTY', 'GETTY REALTY CORP /MD/', 2.982627077477133),\n",
       " ('RGCO', 'RGC RESOURCES INC', 2.9997206622373067),\n",
       " ('TMP', 'TOMPKINS FINANCIAL CORP', 3.0179666671694),\n",
       " ('KLIC', 'KULICKE & SOFFA INDUSTRIES INC', 3.0608739237335296),\n",
       " ('SEAS', '', 3.0614640639877395),\n",
       " ('AMBA', 'AMBARELLA INC', 3.0634315959649765),\n",
       " ('CWE.A', '', 3.0799862214034004),\n",
       " ('CNRG', '', 3.136485251345724),\n",
       " ('CWEN', 'Clearway Energy, Inc.', 3.1397049276381717),\n",
       " ('KEYS', 'Keysight Technologies, Inc.', 3.1410272634367935),\n",
       " ('MYE', 'MYERS INDUSTRIES INC', 3.1592785252589612),\n",
       " ('DENN', \"DENNY'S Corp\", 3.1643088355572795)]"
      ]
     },
     "execution_count": null,
     "metadata": {},
     "output_type": "execute_result"
    }
   ],
   "source": [
    "#notest\n",
    "\n",
    "getClosestReturn('RELL',*m,'zzrellret')"
   ]
  },
  {
   "cell_type": "code",
   "execution_count": null,
   "metadata": {},
   "outputs": [
    {
     "name": "stdout",
     "output_type": "stream",
     "text": [
      "saving serv list zzsilcret\n",
      "skipping NJDCY (no CIK)\n",
      "skipping CNHI (no CIK)\n",
      "skipping NNDNF (no CIK)\n",
      "skipping TAN (no CIK)\n",
      "skipping RAYS (no CIK)\n"
     ]
    },
    {
     "data": {
      "text/plain": [
       "[('SILC', 'SILICOM LTD.', 0.0),\n",
       " ('B', 'BARNES GROUP INC', 2.661399007253552),\n",
       " ('AMN', 'AMN HEALTHCARE SERVICES INC', 2.724160992667765),\n",
       " ('VMI', 'VALMONT INDUSTRIES INC', 2.7338617655898383),\n",
       " ('CALX', 'CALIX, INC', 3.023091318498608),\n",
       " ('NTCT', 'NETSCOUT SYSTEMS INC', 3.093619695327906),\n",
       " ('WHR', 'WHIRLPOOL CORP /DE/', 3.1580493246124544),\n",
       " ('NJDCY', '', 3.193515114816411),\n",
       " ('CNHI', '', 3.29110063382151),\n",
       " ('HTLD', 'HEARTLAND EXPRESS INC', 3.3082190659668576),\n",
       " ('GGT', 'GABELLI MULTIMEDIA TRUST INC.', 3.3232999413469373),\n",
       " ('PAYC', 'Paycom Software, Inc.', 3.3241541343912147),\n",
       " ('IRDM', 'Iridium Communications Inc.', 3.3623235906548),\n",
       " ('CCRN', 'CROSS COUNTRY HEALTHCARE INC', 3.366726739268066),\n",
       " ('NNDNF', '', 3.3774229025067783),\n",
       " ('F', 'FORD MOTOR CO', 3.4039068620830566),\n",
       " ('TAN', '', 3.4594237422058955),\n",
       " ('RAYS', '', 3.4860890952497),\n",
       " ('EL', 'ESTEE LAUDER COMPANIES INC', 3.4909226509975593),\n",
       " ('NWG', 'NatWest Group plc', 3.5315279137915208)]"
      ]
     },
     "execution_count": null,
     "metadata": {},
     "output_type": "execute_result"
    }
   ],
   "source": [
    "#notest\n",
    "\n",
    "getClosestReturn('SILC',*m,'zzsilcret')"
   ]
  },
  {
   "cell_type": "code",
   "execution_count": null,
   "metadata": {},
   "outputs": [
    {
     "name": "stdout",
     "output_type": "stream",
     "text": [
      "saving serv list zzelvret\n",
      "skipping LBO (no CIK)\n",
      "skipping CHM-B (no CIK)\n",
      "skipping FAPR (no CIK)\n",
      "skipping MBNKP (no CIK)\n",
      "skipping INBKZ (no CIK)\n",
      "skipping EFC-A (no CIK)\n",
      "skipping CIM-B (no CIK)\n",
      "skipping HAWX (no CIK)\n",
      "skipping MAYT (no CIK)\n",
      "skipping DX-C (no CIK)\n",
      "skipping GAPR (no CIK)\n",
      "skipping AGNCM (no CIK)\n"
     ]
    },
    {
     "data": {
      "text/plain": [
       "[('ELV', 'Elevance Health, Inc.', 0.0),\n",
       " ('FRA',\n",
       "  'BLACKROCK FLOATING RATE INCOME STRATEGIES FUND, INC.',\n",
       "  0.07792145358025468),\n",
       " ('PG', 'PROCTER & GAMBLE Co', 0.08380181782246093),\n",
       " ('IHTA', 'Invesco High Income 2024 Target Term Fund', 0.08649365255295244),\n",
       " ('EFT', 'Eaton Vance Floating-Rate Income Trust', 0.09259227807810386),\n",
       " ('LBO', '', 0.09527177383962684),\n",
       " ('CHM-B', '', 0.09736963092743309),\n",
       " ('PHD', 'Pioneer Floating Rate Fund, Inc.', 0.09987258228675128),\n",
       " ('FAPR', '', 0.10052034936773645),\n",
       " ('MBNKP', 'MEDALLION FINANCIAL CORP', 0.10133025031148749),\n",
       " ('FCT',\n",
       "  'FIRST TRUST SENIOR FLOATING RATE INCOME FUND II',\n",
       "  0.10353472774718903),\n",
       " ('FMN',\n",
       "  'Federated Hermes Premier Municipal Income Fund',\n",
       "  0.10409115273864003),\n",
       " ('INBKZ', 'First Internet Bancorp', 0.1041426621148287),\n",
       " ('EFC-A', '', 0.10460069379087342),\n",
       " ('CIM-B', '', 0.10489488496021222),\n",
       " ('HAWX', '', 0.10557372797964441),\n",
       " ('MAYT', '', 0.1056304937108109),\n",
       " ('DX-C', '', 0.10599815419396316),\n",
       " ('GAPR', '', 0.10653079136109844),\n",
       " ('AGNCM', 'AGNC Investment Corp.', 0.10676831893794717)]"
      ]
     },
     "execution_count": null,
     "metadata": {},
     "output_type": "execute_result"
    }
   ],
   "source": [
    "#notest\n",
    "\n",
    "getClosestReturn('ELV',*m,'zzelvret')"
   ]
  },
  {
   "cell_type": "markdown",
   "metadata": {},
   "source": [
    "Text-based prediction tests:"
   ]
  },
  {
   "cell_type": "code",
   "execution_count": null,
   "metadata": {},
   "outputs": [],
   "source": [
    "#export\n",
    "\n",
    "textScraperClasses = [\n",
    "    scrape8K.scraper8K, scrape6K.scraper6K,\n",
    "]\n",
    "\n",
    "@utils.delegates(getCombDayMapWithLookback)\n",
    "def getTextPriceDataset(d1, d2, d3, d4, minPrice=None, **kwargs) :\n",
    "    \"\"\"\n",
    "    Constructs a text/price dataset for text-based prediction tests.\n",
    "    \n",
    "    First gets day maps from d3 and d4, with specified lookback.\n",
    "    \n",
    "    Then, cuts down to stocks that have values for both days.\n",
    "\n",
    "    If minPrice is not None, also cuts down to stocks with value > minPrice on both days.\n",
    "\n",
    "    Then, creates a dict symTexts mapping each stock symbol to a digest of the text for\n",
    "    that symbol between dates d1 and d2, scraped from SEC 8-K and 6-K filings.\n",
    "\n",
    "    Then, cuts down to stocks for which some text was found between dates d1 and d2.\n",
    "\n",
    "    Returns a tuple (symsWithPrices, dmStart, dmEnd, mReturns, symTexts), where:\n",
    "    symsWithPrices is a sorted list of ticker symbols that passed the filters above.\n",
    "    dmStart, dmEnd is d3, d4\n",
    "    mReturns is a dict: sym -> <return between d3 and d4>\n",
    "    symTexts is a dict: sym -> [text1, text2, ... ], earlier texts first\n",
    "    \"\"\"\n",
    "    dmStart = getCombDayMapWithLookback(d3, **kwargs)\n",
    "    dmEnd = getCombDayMapWithLookback(d4, **kwargs)\n",
    "    symsWithPrices = sorted(set(dmStart.keys()).intersection(dmEnd.keys()))\n",
    "    print(len(symsWithPrices),'stock symbols found')\n",
    "    if minPrice is not None :\n",
    "        print('restricting to price >=',minPrice,end=' ... ')\n",
    "        symsWithPrices = [sym for sym in symsWithPrices\n",
    "                          if dmStart[sym]>=minPrice and dmEnd[sym]>=minPrice]\n",
    "        print('now',len(symsWithPrices),'stocks')\n",
    "    print('restricting to CIKs',end=' ... ')\n",
    "    symsWithPrices = [sym for sym in symsWithPrices if sym in tickerToCik]\n",
    "    print('now',len(symsWithPrices),'stocks')\n",
    "    scraperL = []\n",
    "    for cl in textScraperClasses :\n",
    "        print('loading',cl,end=' ... ')\n",
    "        scraperL.append(cl(startD=d1, endD=d2))\n",
    "        scraperL[-1].printCounts(verbose=False)\n",
    "    print('getting CIK texts',end=' ... ')\n",
    "    symsWithPricesAsSet = set(symsWithPrices)\n",
    "    symTexts = collections.defaultdict(list)\n",
    "    dStrList = utils.dateStrsBetween(d1, d2)\n",
    "    nDays = len(dStrList)\n",
    "    for dNo,d in enumerate(dStrList) :\n",
    "        for s in scraperL :\n",
    "            for accNo,info in s.infoMap[d].items() :\n",
    "                if info == 'ERROR' :\n",
    "                    continue\n",
    "                ciks = [cik.lstrip('0') for cik in info.get('ciks',[])]\n",
    "                ciks = [cik for cik in ciks\n",
    "                        if cikToTicker.get(cik,'-') in symsWithPricesAsSet]\n",
    "                if len(ciks)==0 :\n",
    "                    continue\n",
    "                tDigest = s.getTextDigest(info).strip()\n",
    "                if tDigest == '' :\n",
    "                    continue\n",
    "                fDesc = f'FORM {s.formClass} -{nDays-dNo} DAYS.'\n",
    "                tDigest = 'START ' + fDesc + ' ' + tDigest + ' END ' + fDesc\n",
    "                for cik in ciks :\n",
    "                    symTexts[cikToTicker[cik]].append(tDigest)\n",
    "    print(len(symTexts),'stocks with CIK text found')\n",
    "    symsWithPrices = [sym for sym in symsWithPrices if sym in symTexts]\n",
    "    dmStart = dict((sym,val) for sym,val in dmStart.items() if sym in symTexts)\n",
    "    dmEnd = dict((sym,val) for sym,val in dmEnd.items() if sym in symTexts)\n",
    "    mReturns = dict((sym, dmEnd[sym]/dmStart[sym] - 1.0)\n",
    "                    for sym in symsWithPrices)\n",
    "    return symsWithPrices, dmStart, dmEnd, mReturns, symTexts\n",
    "\n",
    "def getCombTextDigest(sym, symTexts, maxLen=8191) :\n",
    "    \"\"\"\n",
    "    Returns a combined text digest for a symbol, where symTexts maps symbols\n",
    "    to lists of text digests, earliest first. Just concatenates all the most\n",
    "    recent text digests that will fit into the given character limit.\n",
    "    \"\"\"\n",
    "    textL = []\n",
    "    totLen = 0\n",
    "    for txt in reversed(symTexts[sym]) :\n",
    "        # stay below limit, while keeping newest texts\n",
    "        print('text length',len(txt),txt[:20],end='... ')\n",
    "        if totLen + len(txt) + 1 > maxLen :\n",
    "            print('limit exceeded, stopping',end=' ')\n",
    "            break\n",
    "        textL.append(txt)\n",
    "        totLen += (len(txt) + 1)\n",
    "    textL.reverse() # order old to new\n",
    "    textL.append('')\n",
    "    return '\\n'.join(textL)\n",
    "\n",
    "openAI_client = None\n",
    "\n",
    "@utils.delegates(getCombTextDigest)\n",
    "def getCombTextEmbedding(sym, symTexts, model='text-embedding-3-small', **kwargs) :\n",
    "    \"\"\"\n",
    "    Calls the OpenAI API to get the embedding for the combined text digest for a given symbol.\n",
    "    \"\"\"\n",
    "    combText = getCombTextDigest(sym, symTexts, **kwargs)\n",
    "    print('symbol',sym,'text length',len(combText))\n",
    "    response = openAI_client.embeddings.create(input=combText, model=model)\n",
    "    return np.array(response.data[0].embedding)\n",
    "\n",
    "@utils.delegates(getCombTextEmbedding)\n",
    "def cacheEmbeddings(fName, syms, symTexts, **kwargs) :\n",
    "    \"\"\"\n",
    "    Caches the embeddings for the combined text digests for the given symbols\n",
    "    in the named file under utils.stockDataRoot, subdir 'embeddings'.\n",
    "    \"\"\"\n",
    "    fDir = os.path.join(utils.stockDataRoot,'embeddings')\n",
    "    embCache = utils.loadPklFromDir(fDir,fName,{})\n",
    "    dirty = False\n",
    "    nMissing = 0\n",
    "    for sym in syms :\n",
    "        if sym in embCache :\n",
    "            print(sym,'loaded',end='; ')\n",
    "        elif openAI_client is None :\n",
    "            print('MISSING',sym,end='; ')\n",
    "            nMissing += 1\n",
    "        else :\n",
    "            print('getting',sym,'embedding',end=' ')\n",
    "            embCache[sym] = getCombTextEmbedding(sym, symTexts, **kwargs)\n",
    "            dirty = True\n",
    "    if nMissing > 0 :\n",
    "        print()\n",
    "        print('total of',nMissing,'missing embeddings')\n",
    "        raise MemoryError('openAI client not initialized '\n",
    "                          + '- initialize it and rerun to get embeddings')\n",
    "    if dirty :\n",
    "        print('saving cache to',fName)\n",
    "        utils.savePklToDir(fDir,fName,embCache)\n",
    "    print(len(embCache),'embeddings in cache')\n",
    "    return embCache\n",
    "\n",
    "def findClosestEmbs(toSym, syms, cemb, fName=None, n=20,\n",
    "                    distFunc=lambda x,y : x.dot(y), reverse=True) :\n",
    "    \"\"\"\n",
    "    Finds the symbols in the given list with the embeddings closest to the given symbol,\n",
    "    using the given distance function. The embeddings must have been previously cached\n",
    "    using cacheEmbeddings.\n",
    "    \"\"\"\n",
    "    distL = [(sym, distFunc(cemb[toSym],cemb[sym]))\n",
    "               for sym in syms]\n",
    "    distL.sort(key = lambda x : x[1], reverse=reverse)\n",
    "    if n is not None :\n",
    "        distL = distL[:n]\n",
    "    if fName is not None :\n",
    "        genServList(fName, distL)\n",
    "    return distL\n",
    "\n",
    "def makePortEmbDataSet(portSyms, syms, cemb, posWeight=1.0, negWeight=0.001) :\n",
    "    \"\"\"\n",
    "    Create a data set for training classification models based on a given list of portfolio symbols.\n",
    "    The embeddings for the portfolio symbols will have y=1 and weight=posWeight,\n",
    "    while those for the non-portfolio symbols will have y=0 and weight=negWeight.\n",
    "    \"\"\"\n",
    "    x = np.zeros((len(syms), len(cemb[syms[0]])))\n",
    "    y = np.zeros(len(syms), dtype=np.int32)\n",
    "    weights = np.zeros(len(syms))\n",
    "    for i,sym in enumerate(syms) :\n",
    "        x[i] = cemb[sym]\n",
    "        if sym in portSyms :\n",
    "            y[i] = 1\n",
    "            weights[i] = posWeight\n",
    "        else :\n",
    "            weights[i] = negWeight\n",
    "    return x,y,weights\n",
    "\n",
    "@utils.delegates(makePortEmbDataSet)\n",
    "def getRecsFromPort(portSyms, syms, cemb,\n",
    "                    n=30, model=None, **kwargs) :\n",
    "    \"\"\"\n",
    "    Fit a classification model based on the given portfolio of symbols\n",
    "    and a cache of other embeddings. Returns the best predicted symbols\n",
    "    from among the given symbol list.\n",
    "    \"\"\"\n",
    "    dd = makePortEmbDataSet(portSyms, syms, cemb, **kwargs)\n",
    "    if model is None :\n",
    "        model = LogisticRegression()\n",
    "    model.fit(*dd)\n",
    "    ypred = model.predict_log_proba(dd[0])\n",
    "    res = sorted(zip(syms,np.exp(ypred)[:,0]),key=lambda x : x[1])[:n]\n",
    "    return [(sym,('* ' if sym in portSyms else '') + tickerNames[sym],p)\n",
    "            for sym,p in res]"
   ]
  },
  {
   "cell_type": "markdown",
   "metadata": {},
   "source": [
    "Code to initialize OpenAI client:"
   ]
  },
  {
   "cell_type": "code",
   "execution_count": null,
   "metadata": {},
   "outputs": [],
   "source": [
    "#notest\n",
    "\n",
    "from openai import OpenAI\n",
    "#from openai.embeddings_utils import get_embedding, cosine_similarity\n",
    "with open(os.path.join('..','xyzzy.txt'),'r') as f :\n",
    "    openAI_api_key = f.read()\n",
    "openAI_client = OpenAI(api_key=openAI_api_key)"
   ]
  },
  {
   "cell_type": "markdown",
   "metadata": {},
   "source": [
    "Testing on text 20230701 - 20240101:"
   ]
  },
  {
   "cell_type": "code",
   "execution_count": null,
   "metadata": {},
   "outputs": [
    {
     "name": "stdout",
     "output_type": "stream",
     "text": [
      "16906 stock symbols found\n",
      "restricting to price >= 1.0 ... now 12415 stocks\n",
      "restricting to CIKs ... now 5487 stocks\n",
      "loading <class 'secscan.scrape8K.scraper8K'> ... Total filings: 33632\n",
      "loading <class 'secscan.scrape6K.scraper6K'> ... Total filings: 12995\n",
      "getting CIK texts ... 4971 stocks with CIK text found\n"
     ]
    }
   ],
   "source": [
    "#notest\n",
    "\n",
    "m = getTextPriceDataset('20230701', '20240101',\n",
    "                        '20240101', '20240401',\n",
    "                        minPrice=1.0, priceCol='Open', lookback=14)"
   ]
  },
  {
   "cell_type": "code",
   "execution_count": null,
   "metadata": {},
   "outputs": [
    {
     "name": "stdout",
     "output_type": "stream",
     "text": [
      "A loaded; AA loaded; AACG loaded; AACT loaded; AADI loaded; AAL loaded; AAMC loaded; AAME loaded; AAN loaded; AAOI loaded; AAON loaded; AAP loaded; AAPL loaded; AAT loaded; AAWH loaded; AB loaded; ABAT loaded; ABBV loaded; ABCB loaded; ABCL loaded; ABEO loaded; ABEV loaded; ABG loaded; ABL loaded; ABLV loaded; ABLZF loaded; ABM loaded; ABNB loaded; ABOS loaded; ABR loaded; ABSI loaded; ABT loaded; ABUS loaded; ABVC loaded; AC loaded; ACA loaded; ACAB loaded; ACAC loaded; ACAD loaded; ACCD loaded; ACCO loaded; ACDC loaded; ACEL loaded; ACET loaded; ACFN loaded; ACGL loaded; ACHC loaded; ACHR loaded; ACHV loaded; ACI loaded; ACIC loaded; ACIU loaded; ACIW loaded; ACLS loaded; ACLX loaded; ACM loaded; ACMR loaded; ACN loaded; ACNB loaded; ACNT loaded; ACR loaded; ACRE loaded; ACRG loaded; ACRS loaded; ACRV loaded; ACST loaded; ACT loaded; ACTG loaded; ACU loaded; ACVA loaded; ACXP loaded; ADAG loaded; ADBE loaded; ADC loaded; ADCT loaded; ADEA loaded; ADI loaded; ADIL loaded; ADM loaded; ADMA loaded; ADNT loaded; ADP loaded; ADPT loaded; ADRT loaded; ADSE loaded; ADSK loaded; ADT loaded; ADTN loaded; ADTX loaded; ADUS loaded; ADV loaded; ADXN loaded; AE loaded; AEAE loaded; AEE loaded; AEG loaded; AEHL loaded; AEHR loaded; AEIS loaded; AEM loaded; AEMD loaded; AEO loaded; AEON loaded; AEP loaded; AER loaded; AERG loaded; AERT loaded; AES loaded; AESI loaded; AEYE loaded; AFAR loaded; AFBI loaded; AFCG loaded; AFG loaded; AFL loaded; AFRI loaded; AFRM loaded; AFYA loaded; AG loaded; AGCO loaded; AGI loaded; AGIO loaded; AGL loaded; AGM loaded; AGMH loaded; AGNC loaded; AGO loaded; AGR loaded; AGRO loaded; AGS loaded; AGX loaded; AGYS loaded; AHCO loaded; AHH loaded; AHT loaded; AI loaded; AIG loaded; AILIH loaded; AIMD loaded; AIN loaded; AIP loaded; AIR loaded; AIRE loaded; AIRG loaded; AIRI loaded; AIRS loaded; AIRT loaded; AISP loaded; AIT loaded; AIV loaded; AIXI loaded; AIZ loaded; AJG loaded; AJX loaded; AKA loaded; AKAM loaded; AKBA loaded; AKR loaded; AKRO loaded; AKTX loaded; AKYA loaded; AL loaded; ALAR loaded; ALB loaded; ALC loaded; ALCO loaded; ALDX loaded; ALEC loaded; ALEX loaded; ALG loaded; ALGM loaded; ALGN loaded; ALGT loaded; ALHC loaded; ALIM loaded; ALIT loaded; ALK loaded; ALKS loaded; ALKT loaded; ALL loaded; ALLE loaded; ALLG loaded; ALLK loaded; ALLO loaded; ALLT loaded; ALLY loaded; ALMU loaded; ALNT loaded; ALNY loaded; ALOT loaded; ALRM loaded; ALRN loaded; ALRS loaded; ALSA loaded; ALSN loaded; ALT loaded; ALTG loaded; ALTI loaded; ALTO loaded; ALTR loaded; ALUR loaded; ALV loaded; ALVO loaded; ALXO loaded; AM loaded; AMAL loaded; AMAT loaded; AMBA loaded; AMBC loaded; AMBI loaded; AMBP loaded; AMC loaded; AMCR loaded; AMCX loaded; AMD loaded; AME loaded; AMED loaded; AMG loaded; AMGN loaded; AMH loaded; AMK loaded; AMKR loaded; AMLX loaded; AMN loaded; AMNA loaded; AMP loaded; AMPG loaded; AMPH loaded; AMPL loaded; AMPS loaded; AMPX loaded; AMPY loaded; AMR loaded; AMRC loaded; AMRK loaded; AMRX loaded; AMS loaded; AMSC loaded; AMSF loaded; AMST loaded; AMSWA loaded; AMT loaded; AMTB loaded; AMTD loaded; AMTX loaded; AMWD loaded; AMX loaded; AMZN loaded; AN loaded; ANAB loaded; ANDE loaded; ANEB loaded; ANET loaded; ANF loaded; ANGH loaded; ANGI loaded; ANGO loaded; ANIK loaded; ANIP loaded; ANIX loaded; ANNX loaded; ANSS loaded; ANTX loaded; ANVS loaded; ANY loaded; AOGO loaded; AOMR loaded; AON loaded; AONC loaded; AORT loaded; AOS loaded; AOSL loaded; AOUT loaded; AP loaded; APA loaded; APAM loaded; APD loaded; APEI loaded; APG loaded; APGE loaded; APH loaded; API loaded; APLD loaded; APLE loaded; APLS loaded; APLT loaded; APM loaded; APO loaded; APOG loaded; APP loaded; APPF loaded; APPN loaded; APPS loaded; APRE loaded; APT loaded; APTO loaded; APTV loaded; APWC loaded; APXI loaded; APYX loaded; AQB loaded; AQN loaded; AQST loaded; AQU loaded; AR loaded; ARAT loaded; ARAY loaded; ARBB loaded; ARBE loaded; ARBK loaded; ARC loaded; ARCB loaded; ARCC loaded; ARCH loaded; ARCO loaded; ARCT loaded; ARDX loaded; ARE loaded; AREC loaded; AREN loaded; ARES loaded; ARGD loaded; ARGX loaded; ARHS loaded; ARI loaded; ARIS loaded; ARKO loaded; ARKR loaded; ARL loaded; ARLO loaded; ARLP loaded; ARM loaded; ARMK loaded; ARMN loaded; ARMP loaded; AROC loaded; AROW loaded; ARQT loaded; ARR loaded; ARRY loaded; ARTH loaded; ARTL loaded; ARTW loaded; ARVN loaded; ARW loaded; ARWR loaded; ASA loaded; ASAI loaded; ASAN loaded; ASB loaded; ASC loaded; ASCB loaded; ASGN loaded; ASH loaded; ASIX loaded; ASLE loaded; ASML loaded; ASND loaded; ASNS loaded; ASO loaded; ASPI loaded; ASPN loaded; ASPS loaded; ASR loaded; ASRV loaded; ASTC loaded; ASTE loaded; ASTL loaded; ASTS loaded; ASUR loaded; ASX loaded; ASYS loaded; ATAI loaded; ATAT loaded; ATCOL loaded; ATDS loaded; ATEC loaded; ATEK loaded; ATEN loaded; ATEX loaded; ATGE loaded; ATGL loaded; ATHA loaded; ATHE loaded; ATHM loaded; ATI loaded; ATIP loaded; ATKR loaded; ATLC loaded; ATLO loaded; ATLX loaded; ATMC loaded; ATMP loaded; ATMU loaded; ATMV loaded; ATNI loaded; ATNM loaded; ATO loaded; ATOM loaded; ATOS loaded; ATR loaded; ATRC loaded; ATRO loaded; ATS loaded; ATSG loaded; ATUS loaded; ATXS loaded; AU loaded; AUB loaded; AUBN loaded; AUDC loaded; AUGX loaded; AUID loaded; AUPH loaded; AUR loaded; AURA loaded; AUTL loaded; AVA loaded; AVAH loaded; AVAL loaded; AVAV loaded; AVB loaded; AVD loaded; AVDL loaded; AVDX loaded; AVGO loaded; AVGR loaded; AVHI loaded; AVIR loaded; AVNS loaded; AVNT loaded; AVNW loaded; AVO loaded; AVPT loaded; AVT loaded; AVTE loaded; AVTR loaded; AVTX loaded; AVY loaded; AWH loaded; AWI loaded; AWK loaded; AWR loaded; AWRE loaded; AWX loaded; AX loaded; AXGN loaded; AXL loaded; AXNX loaded; AXON loaded; AXP loaded; AXR loaded; AXS loaded; AXSM loaded; AXTA loaded; AXTI loaded; AY loaded; AYI loaded; AYRO loaded; AYRWF loaded; AYTU loaded; AZEK loaded; AZN loaded; AZO loaded; AZPN loaded; AZREF loaded; AZTA loaded; AZUL loaded; AZZ loaded; B loaded; BA loaded; BABA loaded; BAC loaded; BACA loaded; BACK loaded; BAER loaded; BAFN loaded; BAH loaded; BAK loaded; BALL loaded; BALY loaded; BAM loaded; BANC loaded; BAND loaded; BANF loaded; BANL loaded; BANR loaded; BAOS loaded; BAP loaded; BASE loaded; BATL loaded; BATRA loaded; BAX loaded; BB loaded; BBAI loaded; BBAR loaded; BBCP loaded; BBD loaded; BBDC loaded; BBIO loaded; BBLG loaded; BBSI loaded; BBU loaded; BBUC loaded; BBVA loaded; BBW loaded; BBWI loaded; BBXIA loaded; BBY loaded; BC loaded; BCAB loaded; BCAL loaded; BCBP loaded; BCC loaded; BCE loaded; BCH loaded; BCHG loaded; BCML loaded; BCO loaded; BCOV loaded; BCOW loaded; BCPC loaded; BCRX loaded; BCS loaded; BCSA loaded; BCSF loaded; BCTF loaded; BCTX loaded; BCYC loaded; BDC loaded; BDCO loaded; BDN loaded; BDRX loaded; BDRY loaded; BDSX loaded; BDTX loaded; BDX loaded; BE loaded; BEAM loaded; BEAT loaded; BECN loaded; BEDU loaded; BEEM loaded; BEEP loaded; BEKE loaded; BELFA loaded; BEN loaded; BEP loaded; BEPC loaded; BERY loaded; BEST loaded; BFAC loaded; BFAM loaded; BFC loaded; BFH loaded; BFIN loaded; BFLY loaded; BFRG loaded; BFRI loaded; BFS loaded; BFST loaded; BG loaded; BGC loaded; BGFV loaded; BGI loaded; BGNE loaded; BGS loaded; BGSF loaded; BHAC loaded; BHB loaded; BHC loaded; BHE loaded; BHF loaded; BHLB loaded; BHM loaded; BHP loaded; BHR loaded; BHRB loaded; BHVN loaded; BIAF loaded; BIDU loaded; BIG loaded; BIGC loaded; BIIB loaded; BILI loaded; BILL loaded; BIMI loaded; BIO loaded; BIOX loaded; BIP loaded; BIPC loaded; BIRK loaded; BITF loaded; BJ loaded; BJRI loaded; BK loaded; BKD loaded; BKE loaded; BKH loaded; BKNG loaded; BKR loaded; BKSC loaded; BKSY loaded; BKTI loaded; BKU loaded; BKYI loaded; BL loaded; BLAC loaded; BLBD loaded; BLBX loaded; BLCO loaded; BLD loaded; BLDE loaded; BLDP loaded; BLDR loaded; BLEU loaded; BLFS loaded; BLFY loaded; BLK loaded; BLKB loaded; BLMN loaded; BLND loaded; BLNK loaded; BLTE loaded; BLUE loaded; BLX loaded; BLZE loaded; BMA loaded; BMBL loaded; BMEA loaded; BMI loaded; BMO loaded; BMR loaded; BMRC loaded; BMRN loaded; BMTX loaded; BMY loaded; BN loaded; BNGO loaded; BNIX loaded; BNL loaded; BNO loaded; BNRE loaded; BNRG loaded; BNS loaded; BNTC loaded; BNTX loaded; BOC loaded; BOCN loaded; BOF loaded; BOH loaded; BOKF loaded; BOLT loaded; BOOM loaded; BOOT loaded; BORR loaded; BOSC loaded; BOTJ loaded; BOWL loaded; BOWN loaded; BOX loaded; BP loaded; BPMC loaded; BPOP loaded; BPRN loaded; BPT loaded; BPYPP loaded; BR loaded; BRAC loaded; BRAG loaded; BRBR loaded; BRBS loaded; BRC loaded; BRCC loaded; BRDG loaded; BRFH loaded; BRFS loaded; BRID loaded; BRKH loaded; BRKL loaded; BRKR loaded; BRLT loaded; BRN loaded; BRNS loaded; BRO loaded; BROG loaded; BROS loaded; BRSP loaded; BRT loaded; BRTX loaded; BRX loaded; BRY loaded; BRZE loaded; BSAC loaded; BSBK loaded; BSBR loaded; BSET loaded; BSIG loaded; BSM loaded; BSRR loaded; BSVN loaded; BSX loaded; BSY loaded; BTAI loaded; BTBT loaded; BTCM loaded; BTCS loaded; BTCT loaded; BTCY loaded; BTDR loaded; BTE loaded; BTG loaded; BTI loaded; BTM loaded; BTMD loaded; BTOG loaded; BTU loaded; BUD loaded; BUJA loaded; BUR loaded; BURL loaded; BUSE loaded; BV loaded; BVFL loaded; BVN loaded; BVS loaded; BW loaded; BWA loaded; BWAY loaded; BWB loaded; BWEN loaded; BWFG loaded; BWMN loaded; BWMX loaded; BWXT loaded; BX loaded; BXC loaded; BXMT loaded; BXMX loaded; BXP loaded; BXSL loaded; BY loaded; BYD loaded; BYFC loaded; BYND loaded; BYNO loaded; BYON loaded; BYRN loaded; BYU loaded; BZ loaded; BZH loaded; BZUN loaded; C loaded; CAAP loaded; CAAS loaded; CABA loaded; CABO loaded; CAC loaded; CACC loaded; CACI loaded; CADL loaded; CAE loaded; CAG loaded; CAH loaded; CAJPY loaded; CAKE loaded; CAL loaded; CALC loaded; CALM loaded; CALT loaded; CALX loaded; CAMT loaded; CAN loaded; CANE loaded; CANF loaded; CANG loaded; CAPL loaded; CAPR loaded; CAPT loaded; CAR loaded; CARE loaded; CARG loaded; CARM loaded; CARR loaded; CARS loaded; CART loaded; CARV loaded; CASH loaded; CASI loaded; CASS loaded; CASY loaded; CAT loaded; CATO loaded; CATY loaded; CAVA loaded; CB loaded; CBAN loaded; CBAT loaded; CBFV loaded; CBKM loaded; CBL loaded; CBNK loaded; CBOE loaded; CBRE loaded; CBRG loaded; CBRL loaded; CBSH loaded; CBT loaded; CBU loaded; CBUS loaded; CBZ loaded; CC loaded; CCAP loaded; CCB loaded; CCBG loaded; CCCC loaded; CCCS loaded; CCEL loaded; CCEP loaded; CCFN loaded; CCG loaded; CCI loaded; CCIF loaded; CCJ loaded; CCK loaded; CCL loaded; CCLD loaded; CCNE loaded; CCO loaded; CCOI loaded; CCRD loaded; CCRN loaded; CCS loaded; CCSI loaded; CCTS loaded; CCU loaded; CDAQ loaded; CDE loaded; CDIO loaded; CDLR loaded; CDLX loaded; CDMO loaded; CDNA loaded; CDNS loaded; CDP loaded; CDRE loaded; CDRO loaded; CDT loaded; CDW loaded; CDXC loaded; CDXS loaded; CDZI loaded; CE loaded; CECO loaded; CEF loaded; CEG loaded; CEIX loaded; CELC loaded; CELH loaded; CELZ loaded; CENN loaded; CENT loaded; CENX loaded; CEPU loaded; CERS loaded; CERT loaded; CETX loaded; CETY loaded; CEV loaded; CEVA loaded; CF loaded; CFB loaded; CFBK loaded; CFFI loaded; CFFN loaded; CFFS loaded; CFG loaded; CFLT loaded; CFR loaded; CFSB loaded; CG loaded; CGA loaded; CGAU loaded; CGBD loaded; CGC loaded; CGEM loaded; CGEN loaded; CGNT loaded; CGNX loaded; CGTX loaded; CHCI loaded; CHCO loaded; CHCT loaded; CHD loaded; CHDN loaded; CHE loaded; CHEF loaded; CHEK loaded; CHGG loaded; CHH loaded; CHK loaded; CHKP loaded; CHMG loaded; CHMI loaded; CHNR loaded; CHPT loaded; CHR loaded; CHRD loaded; CHRS loaded; CHRW loaded; CHSCP loaded; CHSN loaded; CHT loaded; CHTH loaded; CHTR loaded; CHUY loaded; CHWY loaded; CHX loaded; CI loaded; CIA loaded; CIB loaded; CIEN loaded; CIFR loaded; CIG loaded; CIGI loaded; CIK loaded; CILJF loaded; CIM loaded; CINF loaded; CING loaded; CINT loaded; CIO loaded; CION loaded; CIPI loaded; CITE loaded; CIVB loaded; CIVI loaded; CIX loaded; CIZN loaded; CKPT loaded; CKX loaded; CL loaded; CLAR loaded; CLB loaded; CLBK loaded; CLBT loaded; CLCO loaded; CLDT loaded; CLDX loaded; CLF loaded; CLFD loaded; CLGN loaded; CLH loaded; CLLS loaded; CLMB loaded; CLNE loaded; CLOE loaded; CLPR loaded; CLPT loaded; CLRB loaded; CLRC loaded; CLRO loaded; CLS loaded; CLSD loaded; CLSK loaded; CLST loaded; CLVR loaded; CLVT loaded; CLW loaded; CLWT loaded; CLX loaded; CM loaded; CMA loaded; CMBM loaded; CMC loaded; CMCL loaded; CMCM loaded; CMCO loaded; CMCSA loaded; CMCT loaded; CME loaded; CMG loaded; CMI loaded; CMLS loaded; CMND loaded; CMP loaded; CMPO loaded; CMPR loaded; CMPS loaded; CMPX loaded; CMRE loaded; CMRF loaded; CMS loaded; CMT loaded; CMTG loaded; CMTL loaded; CMTV loaded; CNA loaded; CNC loaded; CNDA loaded; CNDT loaded; CNF loaded; CNFR loaded; CNGL loaded; CNI loaded; CNK loaded; CNM loaded; CNMD loaded; CNNE loaded; CNO loaded; CNOB loaded; CNP loaded; CNQ loaded; CNS loaded; CNSL loaded; CNTA loaded; CNTB loaded; CNTHP loaded; CNTX loaded; CNTY loaded; CNVS loaded; CNX loaded; CNXC loaded; CNXN loaded; COCH loaded; COCO loaded; COCP loaded; CODA loaded; CODI loaded; CODX loaded; COE loaded; COF loaded; COFS loaded; COGT loaded; COHN loaded; COHR loaded; COHU loaded; COIN loaded; COKE loaded; COLB loaded; COLD loaded; COLL loaded; COLM loaded; COMM loaded; COMP loaded; COO loaded; COOK loaded; COOP loaded; COP loaded; COR loaded; CORBF loaded; CORT loaded; COST loaded; COTY loaded; COUR loaded; COYA loaded; CP loaded; CPA loaded; CPAC loaded; CPB loaded; CPBI loaded; CPER loaded; CPF loaded; CPHC loaded; CPIX loaded; CPK loaded; CPNG loaded; CPOP loaded; CPPTL loaded; CPRI loaded; CPRT loaded; CPRX loaded; CPS loaded; CPSH loaded; CPSS loaded; CPT loaded; CPTN loaded; CQP loaded; CR loaded; CRAI loaded; CRAWA loaded; CRBG loaded; CRBP loaded; CRBU loaded; CRC loaded; CRCT loaded; CRDE loaded; CRDF loaded; CRDO loaded; CREG loaded; CRESY loaded; CREV loaded; CREX loaded; CRGO loaded; CRGX loaded; CRGY loaded; CRH loaded; CRI loaded; CRIS loaded; CRK loaded; CRL loaded; CRLBF loaded; CRLKP loaded; CRM loaded; CRMD loaded; CRMT loaded; CRMZ loaded; CRNC loaded; CRNT loaded; CRNX loaded; CRON loaded; CROX loaded; CRS loaded; CRSP loaded; CRSR loaded; CRT loaded; CRTO loaded; CRUS loaded; CRVL loaded; CRVO loaded; CRVS loaded; CRWD loaded; CRWS loaded; CSAN loaded; CSBB loaded; CSBR loaded; CSCO loaded; CSGP loaded; CSGS loaded; CSIQ loaded; CSL loaded; CSLM loaded; CSPI loaded; CSR loaded; CSTE loaded; CSTL loaded; CSTM loaded; CSV loaded; CSWC loaded; CSWI loaded; CSX loaded; CTAS loaded; CTBB loaded; CTBI loaded; CTCX loaded; CTGO loaded; CTKB loaded; CTLP loaded; CTLT loaded; CTMX loaded; CTNT loaded; CTO loaded; CTOS loaded; CTRA loaded; CTRE loaded; CTRN loaded; CTS loaded; CTSH loaded; CTV loaded; CTVA loaded; CUBE loaded; CUBI loaded; CUE loaded; CUK loaded; CULP loaded; CURLF loaded; CURV loaded; CUTR loaded; CUZ loaded; CVAC loaded; CVBF loaded; CVCO loaded; CVE loaded; CVEO loaded; CVGI loaded; CVGW loaded; CVI loaded; CVLG loaded; CVLT loaded; CVM loaded; CVNA loaded; CVR loaded; CVRX loaded; CVS loaded; CVU loaded; CVV loaded; CVX loaded; CW loaded; CWAN loaded; CWBC loaded; CWCO loaded; CWEN loaded; CWGL loaded; CWH loaded; CWK loaded; CWST loaded; CWT loaded; CX loaded; CXAI loaded; CXDO loaded; CXM loaded; CXT loaded; CXW loaded; CYBR loaded; CYCC loaded; CYCN loaded; CYD loaded; CYH loaded; CYRX loaded; CYTH loaded; CYTK loaded; CYTO loaded; CZFS loaded; CZNC loaded; CZR loaded; CZWI loaded; D loaded; DAC loaded; DADA loaded; DAIO loaded; DAKT loaded; DAL loaded; DALN loaded; DAN loaded; DAO loaded; DAR loaded; DASH loaded; DATS loaded; DAVA loaded; DAVE loaded; DAWN loaded; DB loaded; DBA loaded; DBB loaded; DBC loaded; DBD loaded; DBE loaded; DBGI loaded; DBI loaded; DBO loaded; DBP loaded; DBRG loaded; DBX loaded; DC loaded; DCBO loaded; DCGO loaded; DCI loaded; DCO loaded; DCOM loaded; DCTH loaded; DD loaded; DDC loaded; DDD loaded; DDI loaded; DDL loaded; DDOG loaded; DDS loaded; DE loaded; DEA loaded; DEC loaded; DECA loaded; DECK loaded; DEI loaded; DELL loaded; DENN loaded; DEO loaded; DERM loaded; DESP loaded; DFH loaded; DFIN loaded; DFS loaded; DG loaded; DGHI loaded; DGICA loaded; DGII loaded; DGLY loaded; DGX loaded; DH loaded; DHC loaded; DHI loaded; DHIL loaded; DHR loaded; DHT loaded; DHX loaded; DHY loaded; DIAX loaded; DIBS loaded; DIDIY loaded; DIN loaded; DINO loaded; DIOD loaded; DIS loaded; DIST loaded; DIT loaded; DJCO loaded; DK loaded; DKL loaded; DKNG loaded; DKS loaded; DLB loaded; DLHC loaded; DLNG loaded; DLO loaded; DLPN loaded; DLR loaded; DLTH loaded; DLTR loaded; DLX loaded; DMA loaded; DMAC loaded; DMLP loaded; DMRC loaded; DMYY loaded; DNA loaded; DNB loaded; DNLI loaded; DNMR loaded; DNN loaded; DNOW loaded; DNTH loaded; DNUT loaded; DO loaded; DOC loaded; DOCN loaded; DOCS loaded; DOCU loaded; DOGZ loaded; DOLE loaded; DOMA loaded; DOMH loaded; DOMO loaded; DOOO loaded; DORM loaded; DOUG loaded; DOV loaded; DOW loaded; DOX loaded; DPCS loaded; DPZ loaded; DQ loaded; DRCT loaded; DRD loaded; DRH loaded; DRI loaded; DRIO loaded; DRQ loaded; DRS loaded; DRTS loaded; DRUG loaded; DRVN loaded; DSAQ loaded; DSGN loaded; DSGR loaded; DSGX loaded; DSP loaded; DSWL loaded; DSX loaded; DT loaded; DTC loaded; DTCK loaded; DTE loaded; DTI loaded; DTM loaded; DTST loaded; DUET loaded; DUK loaded; DUOL loaded; DUOT loaded; DV loaded; DVA loaded; DVAX loaded; DVN loaded; DWSN loaded; DX loaded; DXC loaded; DXCM loaded; DXLG loaded; DXPE loaded; DXR loaded; DY loaded; DYAI loaded; DYN loaded; DYNR loaded; DZSI loaded; E loaded; EA loaded; EACO loaded; EAD loaded; EAF loaded; EAI loaded; EARN loaded; EAST loaded; EAT loaded; EB loaded; EBAY loaded; EBC loaded; EBF loaded; EBMT loaded; EBON loaded; EBR loaded; EBS loaded; EBTC loaded; EC loaded; ECBK loaded; ECC loaded; ECL loaded; ECO loaded; ECOR loaded; ECPG loaded; ECVT loaded; ECX loaded; ED loaded; EDAP loaded; EDIT loaded; EDN loaded; EDR loaded; EDRY loaded; EDSA loaded; EDU loaded; EDUC loaded; EE loaded; EEFT loaded; EEX loaded; EFC loaded; EFOI loaded; EFR loaded; EFSC loaded; EFSI loaded; EFT loaded; EFX loaded; EFXT loaded; EG loaded; EGAN loaded; EGBN loaded; EGHT loaded; EGO loaded; EGP loaded; EGRX loaded; EGY loaded; EH loaded; EHAB loaded; EHC loaded; EHTH loaded; EIC loaded; EIG loaded; EIM loaded; EIX loaded; EJH loaded; EKSO loaded; EL loaded; ELAN loaded; ELC loaded; ELDN loaded; ELF loaded; ELLO loaded; ELMD loaded; ELME loaded; ELOX loaded; ELP loaded; ELS loaded; ELTK loaded; ELTX loaded; ELUT loaded; ELV loaded; ELVA loaded; ELVN loaded; ELYM loaded; EMBC loaded; EMCG loaded; EME loaded; EML loaded; EMN loaded; EMP loaded; EMR loaded; EMRAF loaded; EMX loaded; ENB loaded; ENBP loaded; ENDI loaded; ENFN loaded; ENG loaded; ENGN loaded; ENIC loaded; ENJ loaded; ENLC loaded; ENLT loaded; ENLV loaded; ENOV loaded; ENPH loaded; ENR loaded; ENS loaded; ENSG loaded; ENTA loaded; ENTG loaded; ENV loaded; ENVA loaded; ENVX loaded; ENX loaded; ENZ loaded; EOD loaded; EOG loaded; EOLS loaded; EOSE loaded; EOT loaded; EP loaded; EPAC loaded; EPAM loaded; EPC loaded; EPD loaded; EPIX loaded; EPM loaded; EPR loaded; EPRT loaded; EPSN loaded; EQBK loaded; EQC loaded; EQH loaded; EQIX loaded; EQNR loaded; EQR loaded; EQS loaded; EQT loaded; EQX loaded; ERAS loaded; ERC loaded; ERH loaded; ERIC loaded; ERIE loaded; ERII loaded; ERJ loaded; ERNA loaded; ERO loaded; ES loaded; ESAB loaded; ESBA loaded; ESCA loaded; ESE loaded; ESEA loaded; ESGR loaded; ESHA loaded; ESI loaded; ESLA loaded; ESLT loaded; ESNT loaded; ESOA loaded; ESP loaded; ESPR loaded; ESQ loaded; ESRT loaded; ESS loaded; ESSA loaded; ESTA loaded; ESTC loaded; ET loaded; ETCG loaded; ETD loaded; ETHE loaded; ETN loaded; ETNB loaded; ETON loaded; ETR loaded; ETSY loaded; ETWO loaded; ETX loaded; EU loaded; EUDA loaded; EVBN loaded; EVC loaded; EVCM loaded; EVE loaded; EVER loaded; EVEX loaded; EVF loaded; EVG loaded; EVGO loaded; EVGR loaded; EVH loaded; EVI loaded; EVLV loaded; EVM loaded; EVN loaded; EVO loaded; EVR loaded; EVRG loaded; EVRI loaded; EVTC loaded; EVTK loaded; EVTV loaded; EVV loaded; EW loaded; EWBC loaded; EWCZ loaded; EWTX loaded; EXAI loaded; EXAS loaded; EXC loaded; EXEL loaded; EXFY loaded; EXK loaded; EXLS loaded; EXP loaded; EXPD loaded; EXPE loaded; EXPI loaded; EXPO loaded; EXR loaded; EXTO loaded; EXTR loaded; EYE loaded; EYPT loaded; EZFL loaded; EZPW loaded; F loaded; FA loaded; FAF loaded; FALC loaded; FAM loaded; FANG loaded; FANH loaded; FARM loaded; FARO loaded; FAST loaded; FAT loaded; FATE loaded; FBIN loaded; FBIO loaded; FBIZ loaded; FBK loaded; FBMS loaded; FBNC loaded; FBP loaded; FBRT loaded; FBYD loaded; FC loaded; FCAP loaded; FCBC loaded; FCCO loaded; FCEL loaded; FCF loaded; FCFS loaded; FCN loaded; FCNCA loaded; FCPT loaded; FCT loaded; FCX loaded; FDBC loaded; FDMT loaded; FDP loaded; FDS loaded; FDUS loaded; FDX loaded; FE loaded; FEAM loaded; FEBO loaded; FEDU loaded; FEIM loaded; FELE loaded; FENC loaded; FENG loaded; FET loaded; FF loaded; FFA loaded; FFBC loaded; FFIC loaded; FFIN loaded; FFIV loaded; FFNW loaded; FFWM loaded; FG loaded; "
     ]
    },
    {
     "name": "stdout",
     "output_type": "stream",
     "text": [
      "FGB loaded; FGBI loaded; FGF loaded; FGI loaded; FGPR loaded; FHB loaded; FHI loaded; FHN loaded; FHTX loaded; FI loaded; FIAC loaded; FIBK loaded; FICO loaded; FIGS loaded; FIHL loaded; FINV loaded; FINW loaded; FIP loaded; FIS loaded; FISI loaded; FITB loaded; FIVE loaded; FIVN loaded; FIX loaded; FIZZ loaded; FKWL loaded; FKYS loaded; FL loaded; FLCX loaded; FLEX loaded; FLGC loaded; FLGT loaded; FLIC loaded; FLL loaded; FLNC loaded; FLNG loaded; FLO loaded; FLR loaded; FLS loaded; FLUX loaded; FLWS loaded; FLXS loaded; FLYW loaded; FLYX loaded; FMAO loaded; FMBH loaded; FMBM loaded; FMC loaded; FMCB loaded; FMFG loaded; FMNB loaded; FMS loaded; FMST loaded; FMX loaded; FMY loaded; FN loaded; FNA loaded; FNB loaded; FNCH loaded; FND loaded; FNF loaded; FNGR loaded; FNKO loaded; FNLC loaded; FNRN loaded; FNV loaded; FNVT loaded; FNWB loaded; FNWD loaded; FOLD loaded; FONR loaded; FOR loaded; FORA loaded; FORL loaded; FORM loaded; FORR loaded; FORTY loaded; FOSL loaded; FOUR loaded; FOXA loaded; FOXF loaded; FPAY loaded; FPF loaded; FPH loaded; FPI loaded; FR loaded; FRAF loaded; FRD loaded; FREVS loaded; FRFHF loaded; FRGE loaded; FRHC loaded; FRLA loaded; FRME loaded; FRO loaded; FROG loaded; FRPH loaded; FRPT loaded; FRSH loaded; FRST loaded; FRSX loaded; FRT loaded; FSBC loaded; FSBW loaded; FSCO loaded; FSEA loaded; FSFG loaded; FSI loaded; FSK loaded; FSLR loaded; FSLY loaded; FSM loaded; FSP loaded; FSS loaded; FSTR loaded; FSUN loaded; FSV loaded; FTAI loaded; FTCO loaded; FTDR loaded; FTEK loaded; FTEL loaded; FTFT loaded; FTHM loaded; FTHY loaded; FTI loaded; FTII loaded; FTK loaded; FTLF loaded; FTNT loaded; FTRE loaded; FTS loaded; FTV loaded; FUBO loaded; FUL loaded; FULC loaded; FULT loaded; FUNC loaded; FUSB loaded; FUTU loaded; FVCB loaded; FVRR loaded; FWRD loaded; FWRG loaded; FXA loaded; FXB loaded; FXC loaded; FXE loaded; FXF loaded; FXNC loaded; FXY loaded; FYBR loaded; G loaded; GABC loaded; GAIA loaded; GAIN loaded; GALT loaded; GAMB loaded; GAME loaded; GAN loaded; GANX loaded; GAQ loaded; GASS loaded; GATE loaded; GATO loaded; GATX loaded; GB loaded; GBBK loaded; GBCI loaded; GBCS loaded; GBDC loaded; GBIO loaded; GBLI loaded; GBNY loaded; GBR loaded; GBTC loaded; GBTG loaded; GBX loaded; GCBC loaded; GCI loaded; GCMG loaded; GCO loaded; GCT loaded; GD loaded; GDC loaded; GDDY loaded; GDEN loaded; GDEV loaded; GDLC loaded; GDOT loaded; GDRX loaded; GDRZF loaded; GDS loaded; GDST loaded; GDTC loaded; GDYN loaded; GE loaded; GECC loaded; GEF loaded; GEG loaded; GEHC loaded; GEL loaded; GEN loaded; GENC loaded; GENE loaded; GENI loaded; GENK loaded; GEO loaded; GEOS loaded; GERN loaded; GES loaded; GETY loaded; GFAI loaded; GFF loaded; GFI loaded; GFL loaded; GFR loaded; GFS loaded; GGAAF loaded; GGAL loaded; GGB loaded; GGG loaded; GGR loaded; GH loaded; GHC loaded; GHG loaded; GHI loaded; GHLD loaded; GHM loaded; GHRS loaded; GHSI loaded; GIB loaded; GIC loaded; GIFI loaded; GIGM loaded; GIII loaded; GIL loaded; GILD loaded; GILT loaded; GIPR loaded; GIS loaded; GJH loaded; GJO loaded; GJP loaded; GKOS loaded; GL loaded; GLAC loaded; GLAD loaded; GLAE loaded; GLASF loaded; GLBE loaded; GLBS loaded; GLBZ loaded; GLD loaded; GLDD loaded; GLDI loaded; GLDM loaded; GLLI loaded; GLNG loaded; GLOB loaded; GLP loaded; GLPG loaded; GLPI loaded; GLRE loaded; GLSI loaded; GLST loaded; GLT loaded; GLUE loaded; GLW loaded; GLXZ loaded; GLYC loaded; GM loaded; GMAB loaded; GME loaded; GMED loaded; GMGI loaded; GMRE loaded; GMS loaded; GNE loaded; GNFT loaded; GNK loaded; GNL loaded; GNLX loaded; GNRC loaded; GNSS loaded; GNTA loaded; GNTX loaded; GNTY loaded; GNW loaded; GO loaded; GOCO loaded; GODN loaded; GOGL loaded; GOGO loaded; GOLD loaded; GOLF loaded; GOOD loaded; GOOGL loaded; GOOS loaded; GOTU loaded; GOVB loaded; GP loaded; GPC loaded; GPCR loaded; GPI loaded; GPJA loaded; GPK loaded; GPMT loaded; GPN loaded; GPOR loaded; GPRE loaded; GPRK loaded; GPRO loaded; GRAB loaded; GRBK loaded; GRC loaded; GREE loaded; GRFS loaded; GRMN loaded; GRND loaded; GRNQ loaded; GRNT loaded; GROV loaded; GROW loaded; GROY loaded; GRPN loaded; GRTS loaded; GRVY loaded; GRWG loaded; GS loaded; GSAT loaded; GSBC loaded; GSBD loaded; GSHD loaded; GSIT loaded; GSIW loaded; GSK loaded; GSL loaded; GSM loaded; GT loaded; GTBIF loaded; GTE loaded; GTES loaded; GTHX loaded; GTIM loaded; GTLB loaded; GTLS loaded; GTN loaded; GTX loaded; GTY loaded; GUER loaded; GURE loaded; GVA loaded; GVH loaded; GVP loaded; GWRE loaded; GWRS loaded; GWW loaded; GXLM loaded; GXO loaded; GYRE loaded; GYRO loaded; H loaded; HA loaded; HAE loaded; HAFC loaded; HAIA loaded; HAIN loaded; HAL loaded; HALO loaded; HAS loaded; HASI loaded; HAYN loaded; HAYW loaded; HBAN loaded; HBB loaded; HBCP loaded; HBI loaded; HBIA loaded; HBIO loaded; HBM loaded; HBNC loaded; HBT loaded; HCA loaded; HCAT loaded; HCC loaded; HCI loaded; HCKT loaded; HCM loaded; HCP loaded; HCSG loaded; HCTI loaded; HCVI loaded; HCWB loaded; HD loaded; HDB loaded; HDSN loaded; HE loaded; HEAR loaded; HEES loaded; HEI loaded; HELE loaded; HEPA loaded; HEPS loaded; HES loaded; HESM loaded; HFBL loaded; HFFG loaded; HFWA loaded; HG loaded; HGAS loaded; HGBL loaded; HGTY loaded; HGV loaded; HHGC loaded; HHH loaded; HHS loaded; HI loaded; HIG loaded; HIHO loaded; HII loaded; HIMS loaded; HIMX loaded; HIPO loaded; HITI loaded; HIVE loaded; HIW loaded; HKD loaded; HKIT loaded; HL loaded; HLF loaded; HLGN loaded; HLI loaded; HLIO loaded; HLIT loaded; HLLY loaded; HLMN loaded; HLN loaded; HLNE loaded; HLP loaded; HLT loaded; HLVX loaded; HLX loaded; HMC loaded; HMN loaded; HMNF loaded; HMST loaded; HMY loaded; HNI loaded; HNNA loaded; HNRA loaded; HNRG loaded; HNST loaded; HNVR loaded; HOFT loaded; HOFV loaded; HOG loaded; HOLX loaded; HOMB loaded; HON loaded; HONE loaded; HOOD loaded; HOPE loaded; HOTH loaded; HOUR loaded; HOUS loaded; HOV loaded; HOWL loaded; HP loaded; HPE loaded; HPK loaded; HPP loaded; HPQ loaded; HQH loaded; HQI loaded; HQL loaded; HQY loaded; HR loaded; HRB loaded; HRBR loaded; HRGN loaded; HRI loaded; HRL loaded; HRMY loaded; HRNNF loaded; HROW loaded; HRTG loaded; HRTX loaded; HRZN loaded; HSAI loaded; HSBC loaded; HSDT loaded; HSHP loaded; HSIC loaded; HSII loaded; HSON loaded; HSPO loaded; HST loaded; HSTM loaded; HSY loaded; HTBI loaded; HTBK loaded; HTGC loaded; HTH loaded; HTHT loaded; HTIA loaded; HTLD loaded; HTLF loaded; HTOO loaded; HTZ loaded; HUBB loaded; HUBG loaded; HUBS loaded; HUDA loaded; HUDI loaded; HUM loaded; HUMA loaded; HUN loaded; HURC loaded; HURN loaded; HUT loaded; HUYA loaded; HVT loaded; HWBK loaded; HWC loaded; HWKN loaded; HWM loaded; HXL loaded; HY loaded; HYAC loaded; HYMC loaded; HYPR loaded; HZEN loaded; HZO loaded; IAC loaded; IAG loaded; IART loaded; IAS loaded; IAUX loaded; IBCP loaded; IBEX loaded; IBIO loaded; IBKR loaded; IBM loaded; IBN loaded; IBOC loaded; IBP loaded; IBRX loaded; IBTX loaded; ICAD loaded; ICCC loaded; ICCH loaded; ICCM loaded; ICCT loaded; ICE loaded; ICFI loaded; ICG loaded; ICHR loaded; ICL loaded; ICLK loaded; ICLR loaded; ICMB loaded; ICTSF loaded; ICUI loaded; IDA loaded; IDCC loaded; IDN loaded; IDR loaded; IDT loaded; IDXG loaded; IDXX loaded; IDYA loaded; IE loaded; IEHC loaded; IEP loaded; IESC loaded; IEX loaded; IFBD loaded; IFF loaded; IFRX loaded; IFS loaded; IGIC loaded; IGMS loaded; IGT loaded; IGTA loaded; IH loaded; IHG loaded; IHRT loaded; IHS loaded; III loaded; IIIN loaded; IIIV loaded; IINN loaded; IIPR loaded; IKNA loaded; IKT loaded; ILLMF loaded; ILMN loaded; ILPT loaded; IMAB loaded; IMAQ loaded; IMAX loaded; IMCR loaded; IMKTA loaded; IMMP loaded; IMMR loaded; IMMX loaded; IMNM loaded; IMO loaded; IMOS loaded; IMPP loaded; IMRN loaded; IMRX loaded; IMTE loaded; IMTX loaded; IMUX loaded; IMVT loaded; IMXI loaded; INAB loaded; INAQ loaded; INBK loaded; INCR loaded; INCY loaded; INDB loaded; INDI loaded; INDO loaded; INDP loaded; INDV loaded; INFA loaded; INFN loaded; INFU loaded; INFY loaded; ING loaded; INGN loaded; INGR loaded; INLX loaded; INMB loaded; INMD loaded; INN loaded; INNV loaded; INOD loaded; INRE loaded; INSE loaded; INSM loaded; INSP loaded; INST loaded; INSW loaded; INTA loaded; INTC loaded; INTE loaded; INTG loaded; INTR loaded; INTS loaded; INTT loaded; INTU loaded; INVA loaded; INVE loaded; INVH loaded; INVO loaded; INVZ loaded; INZY loaded; IOBT loaded; IONQ loaded; IONR loaded; IONS loaded; IOR loaded; IOSP loaded; IOT loaded; IOVA loaded; IP loaded; IPA loaded; IPAR loaded; IPB loaded; IPDN loaded; IPG loaded; IPGP loaded; IPHA loaded; IPI loaded; IPSC loaded; IPWR loaded; IPX loaded; IPXX loaded; IQ loaded; IQV loaded; IR loaded; IRAA loaded; IRBT loaded; IRDM loaded; IREN loaded; IRIX loaded; IRM loaded; IRMD loaded; IRME loaded; IRON loaded; IROQ loaded; IRRX loaded; IRS loaded; IRT loaded; IRTC loaded; IRWD loaded; ISBA loaded; ISDR loaded; ISPO loaded; ISPR loaded; ISRG loaded; ISRL loaded; ISSC loaded; ISTR loaded; IT loaded; ITCI loaded; ITGR loaded; ITI loaded; ITIC loaded; ITOS loaded; ITRI loaded; ITRM loaded; ITRN loaded; ITT loaded; ITUB loaded; ITW loaded; IVA loaded; IVAC loaded; IVCA loaded; IVCB loaded; IVCP loaded; IVR loaded; IVT loaded; IVVD loaded; IVZ loaded; IX loaded; IXAQ loaded; IXHL loaded; IZEA loaded; IZM loaded; J loaded; JACK loaded; JAKK loaded; JAMF loaded; JANL loaded; JANX loaded; JAZZ loaded; JBGS loaded; JBHT loaded; JBI loaded; JBK loaded; JBL loaded; JBLU loaded; JBSAY loaded; JBSS loaded; JBT loaded; JCE loaded; JCI loaded; JCTCF loaded; JD loaded; JEF loaded; JELD loaded; JFIN loaded; JFR loaded; JFU loaded; JG loaded; JGH loaded; JHG loaded; JHX loaded; JILL loaded; JJSF loaded; JKHY loaded; JKS loaded; JLL loaded; JLS loaded; JMIA loaded; JMM loaded; JMSB loaded; JNJ loaded; JNPR loaded; JNVR loaded; JOBY loaded; JOE loaded; JOUT loaded; JPC loaded; JPI loaded; JPM loaded; JQC loaded; JRI loaded; JRS loaded; JRSH loaded; JRVR loaded; JUVF loaded; JWEL loaded; JWN loaded; JWSM loaded; JXJT loaded; JXN loaded; JYNT loaded; K loaded; KACL loaded; KAI loaded; KALA loaded; KALU loaded; KALV loaded; KAR loaded; KARO loaded; KB loaded; KBH loaded; KBR loaded; KBSR loaded; KC loaded; KD loaded; KDP loaded; KE loaded; KELYA loaded; KEN loaded; KEP loaded; KEQU loaded; KEX loaded; KEY loaded; KEYS loaded; KFFB loaded; KFRC loaded; KFS loaded; KFY loaded; KGC loaded; KGEI loaded; KGS loaded; KHC loaded; KIDS loaded; KIM loaded; KIND loaded; KINS loaded; KIRK loaded; KKR loaded; KLAC loaded; KLG loaded; KLIC loaded; KLTR loaded; KLXE loaded; KMB loaded; KMDA loaded; KMI loaded; KMPR loaded; KMT loaded; KMX loaded; KN loaded; KNF loaded; KNIT loaded; KNOP loaded; KNSA loaded; KNSL loaded; KNTK loaded; KNX loaded; KO loaded; KOD loaded; KODK loaded; KOF loaded; KOP loaded; KOPN loaded; KOS loaded; KOSS loaded; KPLT loaded; KR loaded; KRC loaded; KREF loaded; KRG loaded; KRMD loaded; KRNT loaded; KRNY loaded; KRO loaded; KRON loaded; KROS loaded; KRP loaded; KRRO loaded; KRT loaded; KRUS loaded; KRYS loaded; KSS loaded; KT loaded; KTB loaded; KTCC loaded; KTH loaded; KTN loaded; KTOS loaded; KUKE loaded; KURA loaded; KVAC loaded; KVHI loaded; KVUE loaded; KVYO loaded; KW loaded; KWR loaded; KYMR loaded; KYN loaded; L loaded; LAAC loaded; LAB loaded; LAC loaded; LAD loaded; LADR loaded; LADX loaded; LAES loaded; LAKE loaded; LAMR loaded; LANC loaded; LAND loaded; LANV loaded; LARK loaded; LASE loaded; LASR loaded; LATG loaded; LAUR loaded; LAW loaded; LAZ loaded; LAZR loaded; LBPH loaded; LBRDA loaded; LBRT loaded; LBTYA loaded; LC loaded; LCFY loaded; LCID loaded; LCII loaded; LCNB loaded; LCTC loaded; LCTX loaded; LCUT loaded; LCW loaded; LDDD loaded; LDI loaded; LDOS loaded; LDWY loaded; LE loaded; LEA loaded; LEAT loaded; LECO loaded; LEDS loaded; LEE loaded; LEG loaded; LEGH loaded; LEGN loaded; LEN loaded; LESL loaded; LEU loaded; LEV loaded; LEVI loaded; LEXX loaded; LFCR loaded; LFLY loaded; LFMD loaded; LFST loaded; LFT loaded; LFUS loaded; LFVN loaded; LGCB loaded; LGIH loaded; LGL loaded; LGND loaded; LGO loaded; LGVN loaded; LH loaded; LHX loaded; LI loaded; LICN loaded; LIDR loaded; LIFD loaded; LII loaded; LILA loaded; LIN loaded; LINC loaded; LIND loaded; LINK loaded; LIQT loaded; LITE loaded; LITM loaded; LIVE loaded; LIVN loaded; LIXT loaded; LKFN loaded; LKNCY loaded; LKQ loaded; LLAP loaded; LLY loaded; LMAT loaded; LMB loaded; LMND loaded; LMNR loaded; LMT loaded; LNC loaded; LND loaded; LNG loaded; LNKB loaded; LNN loaded; LNSR loaded; LNT loaded; LNTH loaded; LNW loaded; LNZA loaded; LOAN loaded; LOB loaded; LOCL loaded; LOCO loaded; LOGI loaded; LOMA loaded; LOOP loaded; LOPE loaded; LOVE loaded; LOW loaded; LPCN loaded; LPG loaded; LPL loaded; LPLA loaded; LPRO loaded; LPSN loaded; LPTH loaded; LPTX loaded; LPX loaded; LQDA loaded; LQDT loaded; LQR loaded; LRCX loaded; LRE loaded; LRFC loaded; LRHC loaded; LRMR loaded; LRN loaded; LSAK loaded; LSBK loaded; LSCC loaded; LSEA loaded; LSPD loaded; LSTA loaded; LSTR loaded; LSXMA loaded; LTBR loaded; LTC loaded; LTCN loaded; LTH loaded; LTRN loaded; LTRX loaded; LTRY loaded; LU loaded; LULU loaded; LUMN loaded; LUMO loaded; LUNA loaded; LUNG loaded; LUNR loaded; LUV loaded; LUXH loaded; LVLU loaded; LVO loaded; LVRO loaded; LVS loaded; LVTX loaded; LVWR loaded; LW loaded; LWAY loaded; LWLG loaded; LX loaded; LXEO loaded; LXFR loaded; LXP loaded; LXRX loaded; LXU loaded; LYB loaded; LYEL loaded; LYFT loaded; LYG loaded; LYRA loaded; LYTS loaded; LYV loaded; LZ loaded; LZB loaded; LZM loaded; M loaded; MA loaded; MAA loaded; MAC loaded; MACT loaded; MAG loaded; MAIA loaded; MAIN loaded; MAMA loaded; MAN loaded; MANH loaded; MANU loaded; MAQC loaded; MAR loaded; MARA loaded; MARPS loaded; MARX loaded; MAS loaded; MASI loaded; MASS loaded; MAT loaded; MATH loaded; MATV loaded; MATW loaded; MATX loaded; MAX loaded; MAXN loaded; MAYS loaded; MBBC loaded; MBC loaded; MBCN loaded; MBI loaded; MBIN loaded; MBIO loaded; MBLY loaded; MBOT loaded; MBUU loaded; MBWM loaded; MC loaded; MCAA loaded; MCB loaded; MCBS loaded; MCD loaded; MCFT loaded; MCHP loaded; MCHX loaded; MCK loaded; MCO loaded; MCRI loaded; MCS loaded; MCVT loaded; MCW loaded; MCY loaded; MD loaded; MDAI loaded; MDB loaded; MDBH loaded; MDGL loaded; MDJH loaded; MDLZ loaded; MDRR loaded; MDRX loaded; MDT loaded; MDU loaded; MDV loaded; MDWD loaded; MDXG loaded; MDXH loaded; MEC loaded; MED loaded; MEDP loaded; MEDS loaded; MEG loaded; MEI loaded; MEIP loaded; MELI loaded; MEOH loaded; MERC loaded; MESO loaded; MET loaded; META loaded; METC loaded; MFA loaded; MFC loaded; MFD loaded; MFG loaded; MFH loaded; MFIC loaded; MFIN loaded; MG loaded; MGA loaded; MGEE loaded; MGIC loaded; MGLD loaded; MGM loaded; MGNI loaded; MGNX loaded; MGPI loaded; MGRC loaded; MGRM loaded; MGTX loaded; MGY loaded; MGYR loaded; MHH loaded; MHK loaded; MHLD loaded; MHO loaded; MIDD loaded; MIGI loaded; MIND loaded; MINM loaded; MIR loaded; MIRA loaded; MIRM loaded; MIST loaded; MITA loaded; MITK loaded; MITT loaded; MKC loaded; MKL loaded; MKSI loaded; MKTW loaded; MKTX loaded; ML loaded; MLAB loaded; MLCO loaded; MLEC loaded; MLI loaded; MLKN loaded; MLM loaded; MLNK loaded; MLP loaded; MLR loaded; MLTX loaded; MLYS loaded; MMC loaded; MMI loaded; MMLP loaded; MMM loaded; MMS loaded; MMSI loaded; MMTRS loaded; MMYT loaded; MNDO loaded; MNDY loaded; MNKD loaded; MNMD loaded; MNOV loaded; MNR loaded; MNRO loaded; MNSB loaded; MNSO loaded; MNST loaded; MNTK loaded; MNTN loaded; MNTX loaded; MNY loaded; MO loaded; MOB loaded; MOBX loaded; MOD loaded; MODD loaded; MODG loaded; MODV loaded; MOFG loaded; MOGO loaded; MOGU loaded; MOH loaded; MOLN loaded; MOMO loaded; MOND loaded; MORN loaded; MOS loaded; MOV loaded; MP loaded; MPAA loaded; MPAD loaded; MPB loaded; MPC loaded; MPLX loaded; MPTI loaded; MPU loaded; MPW loaded; MPWR loaded; MPX loaded; MQ loaded; MRAI loaded; MRAM loaded; MRBK loaded; MRC loaded; MRCC loaded; MRCY loaded; MREO loaded; MRK loaded; MRKR loaded; MRM loaded; MRNA loaded; MRNS loaded; MRO loaded; MRSN loaded; MRTN loaded; MRUS loaded; MRVI loaded; MRVL loaded; MS loaded; MSA loaded; MSAI loaded; MSB loaded; MSBB loaded; MSBI loaded; MSC loaded; MSCI loaded; MSEX loaded; MSFT loaded; MSGE loaded; MSGM loaded; MSGS loaded; MSI loaded; MSM loaded; MSS loaded; MSSA loaded; MSTR loaded; MSVB loaded; MT loaded; MTA loaded; MTAL loaded; MTB loaded; MTCH loaded; MTD loaded; MTDR loaded; MTEK loaded; MTEM loaded; MTEX loaded; MTG loaded; MTH loaded; MTLS loaded; MTN loaded; MTR loaded; MTRN loaded; MTRX loaded; MTSI loaded; MTTR loaded; MTW loaded; MTWO loaded; MTX loaded; MTZ loaded; MU loaded; MUFG loaded; MULN loaded; MUR loaded; MURA loaded; MUSA loaded; MUX loaded; MVBF loaded; MVIS loaded; MVO loaded; MWA loaded; MX loaded; MXC loaded; MXCT loaded; MXF loaded; MXL loaded; MYE loaded; MYFW loaded; MYGN loaded; MYNA loaded; MYND loaded; MYNZ loaded; MYO loaded; MYPS loaded; MYRG loaded; MYTE loaded; NA loaded; NAAS loaded; NABL loaded; NAC loaded; NAD loaded; NAII loaded; NAMS loaded; NAN loaded; NAPA loaded; NARI loaded; NAT loaded; NATH loaded; NATL loaded; NATR loaded; NAUT loaded; NAVI loaded; NAZ loaded; NB loaded; NBB loaded; NBBK loaded; NBHC loaded; NBIX loaded; NBR loaded; NBST loaded; NBTB loaded; NBTX loaded; NC loaded; NCA loaded; NCLH loaded; NCMI loaded; NCNO loaded; NCRA loaded; NCSM loaded; NCTY loaded; NDAQ loaded; NDLS loaded; NDMO loaded; NDP loaded; NDSN loaded; NE loaded; NEA loaded; NECB loaded; NEE loaded; NEM loaded; NEO loaded; NEOG loaded; NEON loaded; NEOV loaded; NEP loaded; NEPH loaded; NERV loaded; NESR loaded; NET loaded; NETD loaded; NEU loaded; NEWP loaded; NEWT loaded; NEXA loaded; NEXI loaded; NEXT loaded; NFBK loaded; NFE loaded; NFG loaded; NFGC loaded; NFLX loaded; NG loaded; NGD loaded; NGG loaded; NGLD loaded; NGNE loaded; NGS loaded; NGVC loaded; NGVT loaded; NHC loaded; NHI loaded; NHTC loaded; NI loaded; NIC loaded; NICE loaded; NICK loaded; NIM loaded; NINE loaded; NIO loaded; NISN loaded; NIU loaded; NJR loaded; NKE loaded; NKGN loaded; NKSH loaded; NKTX loaded; NKX loaded; NL loaded; NLCP loaded; NLOP loaded; NLST loaded; NLY loaded; NMAI loaded; NMCO loaded; NMFC loaded; NMG loaded; NMI loaded; NMIH loaded; NMM loaded; NMR loaded; NMRA loaded; NMRK loaded; NMS loaded; NMT loaded; NMTC loaded; NMZ loaded; NN loaded; NNAG loaded; NNBR loaded; NNDM loaded; NNI loaded; NNN loaded; NNOX loaded; NNUP loaded; NNVC loaded; NNY loaded; NOA loaded; NOAH loaded; NOBH loaded; NOC loaded; NODK loaded; NOG loaded; NOK loaded; NOM loaded; NOMD loaded; NOTE loaded; NOTV loaded; NOV loaded; NOVA loaded; NOVT loaded; NOVV loaded; NOW loaded; NPCE loaded; NPCT loaded; NPFD loaded; NPK loaded; NPO loaded; NPV loaded; NPWR loaded; NQP loaded; NR loaded; NRBO loaded; NRC loaded; NRDS loaded; NRDY loaded; NREF loaded; NRG loaded; NRGV loaded; NRIM loaded; NRIX loaded; NRK loaded; NRP loaded; NRT loaded; NRUC "
     ]
    },
    {
     "name": "stdout",
     "output_type": "stream",
     "text": [
      "loaded; NRXS loaded; NSA loaded; NSC loaded; NSIT loaded; NSP loaded; NSPR loaded; NSSC loaded; NSTC loaded; NSTD loaded; NSTS loaded; NSYS loaded; NTAP loaded; NTB loaded; NTBL loaded; NTCT loaded; NTES loaded; NTG loaded; NTGR loaded; NTIC loaded; NTIP loaded; NTLA loaded; NTNX loaded; NTPIF loaded; NTR loaded; NTRA loaded; NTRB loaded; NTRS loaded; NTST loaded; NTWK loaded; NTZ loaded; NU loaded; NUE loaded; NURO loaded; NUS loaded; NUV loaded; NUVB loaded; NUVL loaded; NUVR loaded; NUW loaded; NUZE loaded; NVAX loaded; NVCR loaded; NVCT loaded; NVDA loaded; NVEC loaded; NVEE loaded; NVEI loaded; NVFY loaded; NVG loaded; NVGS loaded; NVMI loaded; NVNI loaded; NVNO loaded; NVO loaded; NVR loaded; NVRI loaded; NVRO loaded; NVS loaded; NVST loaded; NVT loaded; NVTS loaded; NVX loaded; NWBI loaded; NWE loaded; NWFL loaded; NWG loaded; NWGL loaded; NWL loaded; NWN loaded; NWPX loaded; NWSA loaded; NWTN loaded; NX loaded; NXC loaded; NXDT loaded; NXE loaded; NXGL loaded; NXJ loaded; NXN loaded; NXP loaded; NXPI loaded; NXPL loaded; NXRT loaded; NXST loaded; NXT loaded; NXTC loaded; NYAX loaded; NYC loaded; NYCB loaded; NYMT loaded; NYT loaded; NYXH loaded; NZF loaded; O loaded; OABI loaded; OAKU loaded; OB loaded; OBDC loaded; OBE loaded; OBIO loaded; OBK loaded; OBT loaded; OC loaded; OCAX loaded; OCC loaded; OCFC loaded; OCFT loaded; OCG loaded; OCS loaded; OCSL loaded; OCUL loaded; OCUP loaded; OCX loaded; ODC loaded; ODD loaded; ODFL loaded; ODP loaded; ODV loaded; OEC loaded; OFED loaded; OFG loaded; OFIX loaded; OFLX loaded; OFS loaded; OGE loaded; OGEN loaded; OGI loaded; OGN loaded; OGS loaded; OHI loaded; OI loaded; OII loaded; OILCF loaded; OIS loaded; OKE loaded; OKTA loaded; OKYO loaded; OLED loaded; OLLI loaded; OLMA loaded; OLN loaded; OLO loaded; OLP loaded; OLPX loaded; OM loaded; OMAB loaded; OMC loaded; OMCL loaded; OMER loaded; OMEX loaded; OMF loaded; OMGA loaded; OMI loaded; ON loaded; ONB loaded; ONCY loaded; ONEW loaded; ONL loaded; ONON loaded; ONTF loaded; ONTO loaded; ONVO loaded; ONYX loaded; OOMA loaded; OP loaded; OPAD loaded; OPAL loaded; OPBK loaded; OPCH loaded; OPEN loaded; OPFI loaded; OPHC loaded; OPI loaded; OPK loaded; OPOF loaded; OPRA loaded; OPRT loaded; OPRX loaded; OPT loaded; OPTN loaded; OPTX loaded; OPY loaded; OR loaded; ORA loaded; ORAN loaded; ORC loaded; ORCL loaded; ORGO loaded; ORI loaded; ORIC loaded; ORLA loaded; ORLY loaded; ORMP loaded; ORN loaded; ORRF loaded; OSBC loaded; OSCR loaded; OSIS loaded; OSK loaded; OSPN loaded; OSS loaded; OSUR loaded; OSW loaded; OTEX loaded; OTIS loaded; OTLY loaded; OTTR loaded; OUNZ loaded; OUST loaded; OUT loaded; OVBC loaded; OVID loaded; OVLY loaded; OVV loaded; OWL loaded; OWLT loaded; OXBR loaded; OXM loaded; OXSQ loaded; OXY loaded; OZ loaded; PAA loaded; PAAS loaded; PAC loaded; PACB loaded; PACK loaded; PAG loaded; PAGP loaded; PAGS loaded; PAHC loaded; PALT loaded; PAM loaded; PANL loaded; PANW loaded; PAPL loaded; PAR loaded; PARA loaded; PARR loaded; PASG loaded; PATH loaded; PATK loaded; PAVM loaded; PAVS loaded; PAX loaded; PAY loaded; PAYC loaded; PAYO loaded; PAYS loaded; PAYX loaded; PB loaded; PBA loaded; PBBK loaded; PBF loaded; PBFS loaded; PBH loaded; PBHC loaded; PBI loaded; PBPB loaded; PBR loaded; PBT loaded; PBYI loaded; PCAR loaded; PCB loaded; PCG loaded; PCH loaded; PCK loaded; PCM loaded; PCN loaded; PCOR loaded; PCQ loaded; PCRX loaded; PCT loaded; PCTY loaded; PCVX loaded; PCYO loaded; PD loaded; PDCO loaded; PDD loaded; PDEX loaded; PDFS loaded; PDLB loaded; PDM loaded; PDS loaded; PDSB loaded; PDX loaded; PEB loaded; PEBK loaded; PEBO loaded; PECO loaded; PEG loaded; PEGA loaded; PEN loaded; PENN loaded; PEP loaded; PEPG loaded; PERF loaded; PERI loaded; PESI loaded; PET loaded; PETQ loaded; PETS loaded; PETV loaded; PETZ loaded; PFBX loaded; PFC loaded; PFE loaded; PFG loaded; PFGC loaded; PFIE loaded; PFIS loaded; PFL loaded; PFLT loaded; PFMT loaded; PFN loaded; PFS loaded; PFSB loaded; PFSI loaded; PFTA loaded; PFX loaded; PG loaded; PGC loaded; PGEN loaded; PGNY loaded; PGR loaded; PGRE loaded; PGRU loaded; PGY loaded; PGZ loaded; PH loaded; PHAR loaded; PHAT loaded; PHG loaded; PHI loaded; PHIN loaded; PHK loaded; PHM loaded; PHR loaded; PHVS loaded; PHX loaded; PHYS loaded; PHYT loaded; PI loaded; PII loaded; PIII loaded; PIM loaded; PINC loaded; PINE loaded; PINS loaded; PIPR loaded; PIXY loaded; PJT loaded; PK loaded; PKBK loaded; PKE loaded; PKG loaded; PKOH loaded; PKST loaded; PKX loaded; PL loaded; PLAB loaded; PLAY loaded; PLBC loaded; PLBY loaded; PLCE loaded; PLD loaded; PLG loaded; PLL loaded; PLMI loaded; PLMR loaded; PLNT loaded; PLOW loaded; PLPC loaded; PLRX loaded; PLSE loaded; PLTK loaded; PLTR loaded; PLUG loaded; PLUS loaded; PLX loaded; PLXS loaded; PLYA loaded; PLYM loaded; PM loaded; PMCB loaded; PMD loaded; PMEC loaded; PMF loaded; PMHG loaded; PML loaded; PMN loaded; PMT loaded; PMTS loaded; PMVP loaded; PMX loaded; PNBK loaded; PNC loaded; PNF loaded; PNFP loaded; PNI loaded; PNNT loaded; PNR loaded; PNTG loaded; PNW loaded; POAI loaded; POCI loaded; PODC loaded; PODD loaded; POOL loaded; POR loaded; PORT loaded; POST loaded; POWI loaded; POWL loaded; POWW loaded; PPBI loaded; PPC loaded; PPG loaded; PPIH loaded; PPL loaded; PPSI loaded; PPT loaded; PPTA loaded; PPWLM loaded; PPYA loaded; PR loaded; PRA loaded; PRAA loaded; PRAX loaded; PRCH loaded; PRCT loaded; PRDO loaded; PRE loaded; PRFT loaded; PRFX loaded; PRG loaded; PRGO loaded; PRGS loaded; PRI loaded; PRIM loaded; PRK loaded; PRLB loaded; PRLD loaded; PRLH loaded; PRM loaded; PRME loaded; PRMW loaded; PRO loaded; PROC loaded; PROF loaded; PROK loaded; PROP loaded; PROV loaded; PRPH loaded; PRPL loaded; PRPO loaded; PRQR loaded; PRT loaded; PRTA loaded; PRTC loaded; PRTH loaded; PRTS loaded; PRU loaded; PRVA loaded; PSA loaded; PSEC loaded; PSFE loaded; PSHG loaded; PSIX loaded; PSLV loaded; PSMT loaded; PSN loaded; PSNL loaded; PSNY loaded; PSO loaded; PSQH loaded; PSTG loaded; PSTL loaded; PSTV loaded; PSTX loaded; PSX loaded; PT loaded; PTC loaded; PTCT loaded; PTEN loaded; PTGX loaded; PTLO loaded; PTMN loaded; PTN loaded; PTON loaded; PTPI loaded; PTSI loaded; PTVE loaded; PTWO loaded; PTY loaded; PUBM loaded; PUCK loaded; PUK loaded; PULM loaded; PUMP loaded; PVBC loaded; PVH loaded; PVL loaded; PWM loaded; PWOD loaded; PWP loaded; PWR loaded; PWSC loaded; PWUP loaded; PX loaded; PXDT loaded; PXLW loaded; PXS loaded; PYCR loaded; PYN loaded; PYPD loaded; PYPL loaded; PYT loaded; PYXS loaded; PYYX loaded; PZC loaded; PZZA loaded; QCOM loaded; QCRH loaded; QD loaded; QDEL loaded; QETA loaded; QFIN loaded; QGEN loaded; QIPT loaded; QLYS loaded; QNBC loaded; QNCX loaded; QNST loaded; QNTO loaded; QQQX loaded; QRHC loaded; QRVO loaded; QS loaded; QSG loaded; QSI loaded; QSR loaded; QTRX loaded; QTWO loaded; QUAD loaded; QUIK loaded; QURE loaded; QVCD loaded; R loaded; RACE loaded; RAIL loaded; RAMP loaded; RAND loaded; RANI loaded; RAPT loaded; RARE loaded; RAVE loaded; RBA loaded; RBB loaded; RBBN loaded; RBC loaded; RBCAA loaded; RBKB loaded; RBLX loaded; RC loaded; RCEL loaded; RCFA loaded; RCI loaded; RCKT loaded; RCKY loaded; RCL loaded; RCM loaded; RCMT loaded; RCRT loaded; RCUS loaded; RDCM loaded; RDFN loaded; RDI loaded; RDN loaded; RDNT loaded; RDUS loaded; RDVT loaded; RDW loaded; RDWR loaded; RDY loaded; RDZN loaded; REAL loaded; REAX loaded; REE loaded; REED loaded; REFI loaded; REG loaded; REGN loaded; REI loaded; REKR loaded; RELL loaded; RELX loaded; RELY loaded; RENB loaded; RENE loaded; REPL loaded; REPX loaded; RERE loaded; RES loaded; REVG loaded; REX loaded; REXR loaded; REYN loaded; REZI loaded; RF loaded; RFAC loaded; RFIL loaded; RFL loaded; RGA loaded; RGC loaded; RGCO loaded; RGEN loaded; RGLD loaded; RGLS loaded; RGNX loaded; RGP loaded; RGR loaded; RGS loaded; RGTI loaded; RH loaded; RHE loaded; RHI loaded; RHP loaded; RICK loaded; RIG loaded; RIGL loaded; RILY loaded; RIO loaded; RIOT loaded; RITM loaded; RIVN loaded; RJF loaded; RKDA loaded; RKLB loaded; RKT loaded; RL loaded; RLAY loaded; RLFTY loaded; RLGT loaded; RLI loaded; RLJ loaded; RLMD loaded; RLX loaded; RLYB loaded; RM loaded; RMAX loaded; RMBI loaded; RMBL loaded; RMBS loaded; RMCF loaded; RMCO loaded; RMD loaded; RMNI loaded; RMR loaded; RMTI loaded; RNA loaded; RNG loaded; RNGR loaded; RNR loaded; RNST loaded; RNW loaded; RNXT loaded; ROAD loaded; ROCK loaded; ROCL loaded; ROG loaded; ROIC loaded; ROIV loaded; ROK loaded; ROKU loaded; ROL loaded; ROOT loaded; ROP loaded; ROST loaded; RPAY loaded; RPD loaded; RPHM loaded; RPM loaded; RPRX loaded; RPTX loaded; RR loaded; RRAC loaded; RRBI loaded; RRC loaded; RRGB loaded; RRR loaded; RRX loaded; RS loaded; RSG loaded; RSI loaded; RSKD loaded; RSKIA loaded; RSRV loaded; RSSS loaded; RSTN loaded; RSTRF loaded; RSVR loaded; RTC loaded; RTNTF loaded; RTO loaded; RTX loaded; RUM loaded; RUN loaded; RUSHA loaded; RVLV loaded; RVMD loaded; RVNC loaded; RVP loaded; RVPH loaded; RVSB loaded; RVSN loaded; RVTY loaded; RVYL loaded; RWAY loaded; RWT loaded; RXMD loaded; RXO loaded; RXRX loaded; RXST loaded; RXT loaded; RY loaded; RYAAY loaded; RYAM loaded; RYAN loaded; RYI loaded; RYN loaded; RYTM loaded; S loaded; SA loaded; SABR loaded; SACH loaded; SAFE loaded; SAFT loaded; SAGE loaded; SAH loaded; SAI loaded; SAIA loaded; SAIC loaded; SAM loaded; SAMG loaded; SAN loaded; SANA loaded; SAND loaded; SANG loaded; SANM loaded; SAP loaded; SAR loaded; SASR loaded; SATL loaded; SATS loaded; SAVA loaded; SAVE loaded; SB loaded; SBAC loaded; SBCF loaded; SBFG loaded; SBGI loaded; SBH loaded; SBLK loaded; SBR loaded; SBRA loaded; SBS loaded; SBSI loaded; SBSW loaded; SBT loaded; SBUX loaded; SBXC loaded; SCCO loaded; SCHL loaded; SCHW loaded; SCI loaded; SCKT loaded; SCL loaded; SCLX loaded; SCM loaded; SCND loaded; SCOR loaded; SCPH loaded; SCS loaded; SCSC loaded; SCVL loaded; SCWO loaded; SCWX loaded; SCYX loaded; SD loaded; SDA loaded; SDGR loaded; SDIG loaded; SDRL loaded; SE loaded; SEAC loaded; SEAT loaded; SEB loaded; SEDA loaded; SEDG loaded; SEE loaded; SEED loaded; SEER loaded; SEIC loaded; SELF loaded; SEM loaded; SEMR loaded; SENEA loaded; SERA loaded; SES loaded; SEVN loaded; SEZL loaded; SF loaded; SFBC loaded; SFBS loaded; SFDL loaded; SFIX loaded; SFL loaded; SFM loaded; SFNC loaded; SFST loaded; SFWL loaded; SG loaded; SGA loaded; SGC loaded; SGE loaded; SGH loaded; SGHC loaded; SGHT loaded; SGMA loaded; SGML loaded; SGMT loaded; SGRP loaded; SGRY loaded; SGU loaded; SHAK loaded; SHBI loaded; SHC loaded; SHCO loaded; SHEL loaded; SHEN loaded; SHFS loaded; SHG loaded; SHIM loaded; SHIP loaded; SHLS loaded; SHLT loaded; SHO loaded; SHOO loaded; SHOP loaded; SHOT loaded; SHW loaded; SHYF loaded; SIBN loaded; SID loaded; SIDU loaded; SIEB loaded; SIF loaded; SIFY loaded; SIG loaded; SIGA loaded; SIGI loaded; SII loaded; SILC loaded; SILK loaded; SILO loaded; SILV loaded; SIM loaded; SIMO loaded; SIRI loaded; SITC loaded; SITE loaded; SITM loaded; SJ loaded; SJM loaded; SJT loaded; SJW loaded; SKAS loaded; SKE loaded; SKGR loaded; SKIL loaded; SKIN loaded; SKLZ loaded; SKM loaded; SKT loaded; SKWD loaded; SKX loaded; SKY loaded; SKYE loaded; SKYH loaded; SKYT loaded; SKYW loaded; SKYX loaded; SLAB loaded; SLB loaded; SLBK loaded; SLDB loaded; SLDP loaded; SLE loaded; SLF loaded; SLG loaded; SLGL loaded; SLGN loaded; SLI loaded; SLM loaded; SLN loaded; SLND loaded; SLNG loaded; SLNH loaded; SLNO loaded; SLP loaded; SLQT loaded; SLRC loaded; SLRN loaded; SLS loaded; SLVM loaded; SM loaded; SMAR loaded; SMBC loaded; SMBK loaded; SMCI loaded; SMFG loaded; SMG loaded; SMHI loaded; SMID loaded; SMLR loaded; SMMT loaded; SMP loaded; SMPL loaded; SMR loaded; SMRT loaded; SMTC loaded; SMTI loaded; SMTK loaded; SMWB loaded; SN loaded; SNA loaded; SNAP loaded; SNAX loaded; SNBR loaded; SNCR loaded; SNCY loaded; SND loaded; SNDA loaded; SNDL loaded; SNDR loaded; SNDX loaded; SNEX loaded; SNN loaded; SNOW loaded; SNPS loaded; SNTG loaded; SNV loaded; SNX loaded; SNY loaded; SO loaded; SOAR loaded; SOCGP loaded; SODI loaded; SOFI loaded; SOHO loaded; SOHU loaded; SOI loaded; SOL loaded; SON loaded; SOND loaded; SONN loaded; SONO loaded; SONY loaded; SOPH loaded; SOS loaded; SOTK loaded; SOUN loaded; SOWG loaded; SPB loaded; SPCE loaded; SPFI loaded; SPG loaded; SPGI loaded; SPH loaded; SPHR loaded; SPIR loaded; SPKL loaded; SPLP loaded; SPNS loaded; SPNT loaded; SPOK loaded; SPOT loaded; SPPP loaded; SPR loaded; SPRC loaded; SPRO loaded; SPRS loaded; SPRU loaded; SPRY loaded; SPSC loaded; SPT loaded; SPTN loaded; SPWH loaded; SPXC loaded; SPXX loaded; SQ loaded; SQFT loaded; SQM loaded; SQSP loaded; SR loaded; SRAD loaded; SRBK loaded; SRCE loaded; SRCL loaded; SRDX loaded; SRE loaded; SRG loaded; SRI loaded; SRL loaded; SRM loaded; SRRK loaded; SRTS loaded; SRV loaded; SRZN loaded; SSB loaded; SSBK loaded; SSD loaded; SSIC loaded; SSII loaded; SSL loaded; SSNC loaded; SSP loaded; SSRM loaded; SSSS loaded; SST loaded; SSTI loaded; SSTK loaded; SSYS loaded; ST loaded; STAA loaded; STAG loaded; STBA loaded; STC loaded; STCN loaded; STE loaded; STEL loaded; STEM loaded; STEP loaded; STER loaded; STG loaded; STGW loaded; STHO loaded; STIM loaded; STK loaded; STKL loaded; STKS loaded; STLA loaded; STLD loaded; STLY loaded; STM loaded; STN loaded; STNE loaded; STNG loaded; STOK loaded; STR loaded; STRA loaded; STRL loaded; STRO loaded; STRS loaded; STRT loaded; STRW loaded; STSFF loaded; STT loaded; STTK loaded; STVN loaded; STWD loaded; STX loaded; STXS loaded; STZ loaded; SU loaded; SUI loaded; SUIC loaded; SUM loaded; SUN loaded; SUP loaded; SUPN loaded; SUPV loaded; SURG loaded; SUZ loaded; SVC loaded; SVII loaded; SVIX loaded; SVM loaded; SVRA loaded; SVT loaded; SVV loaded; SWAG loaded; SWBI loaded; SWI loaded; SWIM loaded; SWIN loaded; SWK loaded; SWKH loaded; SWKS loaded; SWN loaded; SWTX loaded; SWVL loaded; SWX loaded; SWZ loaded; SXC loaded; SXI loaded; SXT loaded; SY loaded; SYBT loaded; SYBX loaded; SYF loaded; SYK loaded; SYM loaded; SYNA loaded; SYPR loaded; SYRA loaded; SYRE loaded; SYRS loaded; SYT loaded; SYTA loaded; SYY loaded; T loaded; TAC loaded; TACT loaded; TAIT loaded; TAK loaded; TAL loaded; TALK loaded; TALO loaded; TAOP loaded; TAP loaded; TARA loaded; TARS loaded; TASK loaded; TATT loaded; TAYD loaded; TBBK loaded; TBI loaded; TBLA loaded; TBNK loaded; TBPH loaded; TBTC loaded; TCBC loaded; TCBI loaded; TCBK loaded; TCBP loaded; TCBS loaded; TCBX loaded; TCI loaded; TCJH loaded; TCMD loaded; TCNNF loaded; TCOA loaded; TCOM loaded; TCPC loaded; TCRX loaded; TCS loaded; TCX loaded; TD loaded; TDC loaded; TDG loaded; TDOC loaded; TDS loaded; TDUP loaded; TDW loaded; TDY loaded; TEAF loaded; TEAM loaded; TECH loaded; TECK loaded; TECTP loaded; TEF loaded; TEL loaded; TELA loaded; TENB loaded; TEO loaded; TER loaded; TERN loaded; TETE loaded; TEVA loaded; TEX loaded; TFC loaded; TFFP loaded; TFII loaded; TFIN loaded; TFPM loaded; TFSA loaded; TFSL loaded; TFX loaded; TG loaded; TGAA loaded; TGB loaded; TGI loaded; TGLS loaded; TGNA loaded; TGS loaded; TGT loaded; TGTX loaded; TH loaded; THC loaded; THCH loaded; THCP loaded; THFF loaded; THG loaded; THO loaded; THQ loaded; THR loaded; THRD loaded; THRM loaded; THRY loaded; THS loaded; THTX loaded; THW loaded; TIGO loaded; TIGR loaded; TIKK loaded; TIL loaded; TILE loaded; TIMB loaded; TIPT loaded; TISI loaded; TITN loaded; TIVC loaded; TIXT loaded; TJX loaded; TK loaded; TKC loaded; TKNO loaded; TKO loaded; TKR loaded; TLF loaded; TLGY loaded; TLIS loaded; TLK loaded; TLRY loaded; TLS loaded; TLSI loaded; TLYS loaded; TM loaded; TMC loaded; TMCI loaded; TMDX loaded; TME loaded; TMHC loaded; TMO loaded; TMP loaded; TMTC loaded; TMUS loaded; TNC loaded; TNDM loaded; TNET loaded; TNGX loaded; TNK loaded; TNL loaded; TNYA loaded; TOI loaded; TOL loaded; TOON loaded; TOP loaded; TOPS loaded; TORO loaded; TOST loaded; TPB loaded; TPC loaded; TPCS loaded; TPG loaded; TPH loaded; TPIC loaded; TPL loaded; TPR loaded; TPST loaded; TPTA loaded; TPVG loaded; TPX loaded; TPZ loaded; TR loaded; TRAK loaded; TRC loaded; TRDA loaded; TREE loaded; TREX loaded; TRGP loaded; TRI loaded; TRIN loaded; TRIP loaded; TRLM loaded; TRMB loaded; TRMD loaded; TRMK loaded; TRML loaded; TRN loaded; TRNO loaded; TRNS loaded; TROO loaded; TROW loaded; TROX loaded; TRP loaded; TRS loaded; TRST loaded; TRT loaded; TRTX loaded; TRU loaded; TRUE loaded; TRUP loaded; TRV loaded; TRVG loaded; TRVI loaded; TS loaded; TSAT loaded; TSBK loaded; TSBX loaded; TSCO loaded; TSE loaded; TSEM loaded; TSHA loaded; TSI loaded; TSLA loaded; TSLX loaded; TSM loaded; TSN loaded; TSNDF loaded; TSQ loaded; TSVT loaded; TT loaded; TTC loaded; TTD loaded; TTE loaded; TTEC loaded; TTEK loaded; TTGT loaded; TTI loaded; TTMI loaded; TTOO loaded; TTP loaded; TTSH loaded; TTWO loaded; TU loaded; TUP loaded; TURB loaded; TUSK loaded; TUYA loaded; TV loaded; TVE loaded; TVTX loaded; TW loaded; TWI loaded; TWIN loaded; TWKS loaded; TWLO loaded; TWO loaded; TWST loaded; TX loaded; TXG loaded; TXMD loaded; TXN loaded; TXO loaded; TXRH loaded; TXT loaded; TY loaded; TYG loaded; TYGO loaded; TYL loaded; TYRA loaded; TZOO loaded; TZUP loaded; U loaded; UAA loaded; UAL loaded; UAN loaded; UBCP loaded; UBER loaded; UBFO loaded; UBS loaded; UBSI loaded; UBX loaded; UCL loaded; UCTT loaded; UDMY loaded; UDN loaded; UDR loaded; UE loaded; UEC loaded; UEIC loaded; UFCS loaded; UFI loaded; UFPI loaded; UFPT loaded; UG loaded; UGA loaded; UGI loaded; UGP loaded; UGRO loaded; UHAL loaded; UHG loaded; UHS loaded; UHT loaded; UI loaded; UIS loaded; UK loaded; UL loaded; ULBI loaded; ULCC loaded; ULH loaded; ULTA loaded; ULY loaded; UMBF loaded; UMC loaded; UMH loaded; UNB loaded; UNF loaded; UNFI loaded; UNG loaded; UNH loaded; UNIT loaded; UNL loaded; UNM loaded; UNP loaded; UNTC loaded; UNTY loaded; UONE loaded; UP loaded; UPBD loaded; UPC loaded; UPLD loaded; UPS loaded; UPST loaded; UPWK loaded; URBN loaded; URG loaded; URGN loaded; URI loaded; UROY loaded; USAC loaded; USAP loaded; USAU loaded; USB loaded; USCB loaded; USEA loaded; USEG loaded; USFD loaded; USGO loaded; USIO loaded; USL loaded; USLM loaded; USM loaded; USNA loaded; USO loaded; USPH loaded; UTGN loaded; UTHR loaded; UTI loaded; UTL loaded; UTMD loaded; UTSI loaded; UTZ loaded; UUP loaded; UUU loaded; UUUU loaded; UVE loaded; UVSP loaded; UVV loaded; UWMC loaded; V loaded; VABK loaded; VAC loaded; VAL loaded; VALE loaded; VALN loaded; VALU loaded; VANI loaded; VAPO loaded; VBFC loaded; VBNK loaded; VBTX loaded; VC loaded; VCEL loaded; VCIG loaded; VCSA loaded; VCTR loaded; VCYT loaded; VECO loaded; VEEV loaded; VEL loaded; VEON loaded; VERA loaded; VERI loaded; VERV loaded; VERX loaded; VET loaded; VFC loaded; VFL loaded; VFS loaded; VGAS loaded; VGR loaded; VHC loaded; VHI loaded; VIASP loaded; VIAV loaded; VICI loaded; VICP loaded; VICR loaded; VIGL loaded; VINC loaded; VINP loaded; VIPS loaded; VIR loaded; VIRC loaded; VIRT loaded; VISL loaded; VITL loaded; VIV loaded; VKTX loaded; VLGEA loaded; VLN loaded; VLO loaded; VLRS loaded; VLTO loaded; VLY loaded; VMC loaded; VMCA loaded; VMD loaded; VMEO loaded; VMI loaded; VNCE loaded; VNDA loaded; VNET loaded; VNO loaded; VNOM loaded; VNT loaded; VOC loaded; VOD loaded; VOR loaded; VOXR loaded; VOXX loaded; VOYA loaded; VPG loaded; VRA loaded; VRAR loaded; VRCA loaded; VRDN loaded; VRE loaded; VREX loaded; VRME loaded; VRNA loaded; VRNOF loaded; VRNS loaded; VRNT loaded; VRRM loaded; VRSK loaded; VRSN loaded; VRT loaded; VRTS loaded; VRTX loaded; VS loaded; VSAC loaded; VSAT loaded; VSCO loaded; VSEC loaded; VSH loaded; VST loaded; VSTA loaded; VSTE loaded; VSTM loaded; VSTO loaded; VSTS loaded; getting VTDRF embedding text length 1072 START FORM 8-K -133 ... text length 2000 START FORM 8-K -144 ... text length 1072 START FORM 8-K -150 ... text length 1595 START FORM 8-K -165 ... symbol VTDRF text length 5743\n"
     ]
    },
    {
     "name": "stdout",
     "output_type": "stream",
     "text": [
      "VTEX loaded; VTGN loaded; VTLE loaded; VTMX loaded; VTNR loaded; VTOL loaded; VTR loaded; VTRS loaded; VTS loaded; VTSI loaded; VTVT loaded; VTYX loaded; VUZI loaded; VVI loaded; VVOS loaded; VVPR loaded; VVV loaded; VVX loaded; VWFB loaded; VYGR loaded; VYNE loaded; VYX loaded; VZ loaded; VZIO loaded; VZLA loaded; W loaded; WAB loaded; WABC loaded; WAFD loaded; WAL loaded; WALD loaded; WASH loaded; WAT loaded; WATT loaded; WAVE loaded; WAVS loaded; WB loaded; WBA loaded; WBD loaded; WBQNL loaded; WBS loaded; WBX loaded; WCC loaded; WCN loaded; WD loaded; WDAY loaded; WDC loaded; WDFC loaded; WDH loaded; WDS loaded; WEAV loaded; WEBNF loaded; WEC loaded; WEL loaded; WELL loaded; WEN loaded; WERN loaded; WES loaded; WEST loaded; WETH loaded; WEX loaded; WEYS loaded; WF loaded; WFC loaded; WFCF loaded; WFG loaded; WFRD loaded; WGO loaded; WGS loaded; WH loaded; WHD loaded; WHF loaded; WHG loaded; WHLM loaded; WHR loaded; WILC loaded; WINA loaded; WING loaded; WIT loaded; WIX loaded; WK loaded; WKC loaded; WKEY loaded; WKME loaded; WLDN loaded; WLFC loaded; WLK loaded; WLKP loaded; WLY loaded; WM loaded; WMB loaded; WMG loaded; WMK loaded; WMPN loaded; WMS loaded; WMT loaded; WNC loaded; WNEB loaded; WNLV loaded; WNS loaded; WNW loaded; WOLF loaded; WOOF loaded; WOR loaded; WORX loaded; WOW loaded; WPC loaded; WPM loaded; WPP loaded; WPRT loaded; WRAP loaded; WRB loaded; WRBY loaded; WRLD loaded; WRN loaded; WS loaded; WSBC loaded; WSBF loaded; WSC loaded; WSFS loaded; WSM loaded; WSO loaded; WSR loaded; WST loaded; WSTRF loaded; WT loaded; WTBA loaded; WTFC loaded; WTI loaded; WTM loaded; WTMA loaded; WTRG loaded; WTRV loaded; WTS loaded; WTTR loaded; WTW loaded; WU loaded; WULF loaded; WVE loaded; WVVI loaded; WW loaded; WWD loaded; WWW loaded; WY loaded; WYNN loaded; WYY loaded; X loaded; XAIR loaded; XBIO loaded; XBP loaded; XEL loaded; XELA loaded; XENE loaded; XERS loaded; XFIN loaded; XFLT loaded; XGN loaded; XHR loaded; XIN loaded; XMTR loaded; XNCR loaded; XNET loaded; XOM loaded; XOMA loaded; XOS loaded; XP loaded; XPEL loaded; XPER loaded; XPEV loaded; XPO loaded; XPOF loaded; XPON loaded; XPRO loaded; XRAY loaded; XRTX loaded; XRX loaded; XTNT loaded; XWEL loaded; XYF loaded; XYL loaded; YALA loaded; YELLQ loaded; YELP loaded; YETI loaded; YEXT loaded; YHGJ loaded; YI loaded; YMAB loaded; YMM loaded; YORW loaded; YOSH loaded; YOTA loaded; YOU loaded; YPF loaded; YQ loaded; YRD loaded; YTRA loaded; YUM loaded; YUMC loaded; YY loaded; ZBH loaded; ZBRA loaded; ZCSH loaded; ZD loaded; ZDGE loaded; ZENV loaded; ZEPP loaded; ZETA loaded; ZEUS loaded; ZG loaded; ZGN loaded; ZHYBF loaded; ZI loaded; ZIM loaded; ZIMV loaded; ZION loaded; ZIP loaded; ZIVO loaded; ZJYL loaded; ZLAB loaded; ZM loaded; ZNTL loaded; ZS loaded; ZTEK loaded; ZTO loaded; ZTS loaded; ZUMZ loaded; ZUO loaded; ZURA loaded; ZUUS loaded; ZVIA loaded; ZVRA loaded; ZWS loaded; ZYME loaded; ZYXI loaded; saving cache to 2023H2-te3-small.pkl\n",
      "5077 embeddings in cache\n"
     ]
    }
   ],
   "source": [
    "#notest\n",
    "\n",
    "cemb = cacheEmbeddings('2023H2-te3-small.pkl',m[0],m[-1])"
   ]
  },
  {
   "cell_type": "code",
   "execution_count": null,
   "metadata": {},
   "outputs": [
    {
     "data": {
      "text/plain": [
       "[('ESP', '* ESPEY MFG & ELECTRONICS CORP', 0.5103443778693106),\n",
       " ('TLF', '* TANDY LEATHER FACTORY INC', 0.5228942125882281),\n",
       " ('RELL', '* RICHARDSON ELECTRONICS, LTD.', 0.5283264842587194),\n",
       " ('POCI', 'PRECISION OPTICS CORPORATION, INC.', 0.5318226823118917),\n",
       " ('TAYD', 'TAYLOR DEVICES INC', 0.5336584962639619),\n",
       " ('TRT', '* TRIO-TECH INTERNATIONAL', 0.5337946397012571),\n",
       " ('SPRS', 'SURGE COMPONENTS INC', 0.5355219875040557),\n",
       " ('VALU', 'VALUE LINE INC', 0.5370922394598208),\n",
       " ('AMPG', 'AmpliTech Group, Inc.', 0.5377604920127741),\n",
       " ('GLSI', 'Greenwich LifeSciences, Inc.', 0.5389770590601708),\n",
       " ('ATNM', 'Actinium Pharmaceuticals, Inc.', 0.540936250396843),\n",
       " ('EPSN', 'Epsilon Energy Ltd.', 0.5412352003486124),\n",
       " ('CCEL', 'CRYO CELL INTERNATIONAL INC', 0.5435622612699902),\n",
       " ('TEL', 'TE Connectivity Ltd.', 0.5442406664409611),\n",
       " ('NEOV', 'NeoVolta Inc.', 0.5445194553388609),\n",
       " ('KTCC', 'KEY TRONIC CORP', 0.5447756174645937),\n",
       " ('LYTS', 'LSI INDUSTRIES INC', 0.544811406320904),\n",
       " ('TWIN', 'TWIN DISC INC', 0.5451515653655146),\n",
       " ('THO', 'THOR INDUSTRIES INC', 0.5454567489560316),\n",
       " ('TAIT', 'TAITRON COMPONENTS INC', 0.5456830585763315),\n",
       " ('CRMZ', 'CREDITRISKMONITOR COM INC', 0.546818044587347),\n",
       " ('FALC', 'FALCONSTOR SOFTWARE INC', 0.5468302283598907),\n",
       " ('FRD', 'FRIEDMAN INDUSTRIES INC', 0.5468738005424824),\n",
       " ('HBIA', 'HILLS BANCORPORATION', 0.5469790282830883),\n",
       " ('EVTV', 'Envirotech Vehicles, Inc.', 0.5471602679754183),\n",
       " ('TXN', 'TEXAS INSTRUMENTS INC', 0.547384551659714),\n",
       " ('FLXS', 'FLEXSTEEL INDUSTRIES INC', 0.5477121922659992),\n",
       " ('TIKK', 'TEL INSTRUMENT ELECTRONICS CORP', 0.5478480354177344),\n",
       " ('CELZ', 'CREATIVE MEDICAL TECHNOLOGY HOLDINGS, INC.', 0.5481800829644012),\n",
       " ('TSM', 'TAIWAN SEMICONDUCTOR MANUFACTURING CO LTD', 0.5481934867980403),\n",
       " ('WVVI', 'WILLAMETTE VALLEY VINEYARDS INC', 0.5485104317723883),\n",
       " ('NERV', 'Minerva Neurosciences, Inc.', 0.5489727835382887),\n",
       " ('FN', 'Fabrinet', 0.5490795786081619),\n",
       " ('FEIM', 'FREQUENCY ELECTRONICS INC', 0.5493702915589569),\n",
       " ('LTRX', 'LANTRONIX INC', 0.5495599242275158),\n",
       " ('AEHR', 'AEHR TEST SYSTEMS', 0.550079109667828),\n",
       " ('FKWL', 'FRANKLIN WIRELESS CORP', 0.5501838572566734),\n",
       " ('KE', 'Kimball Electronics, Inc.', 0.5502212836197278),\n",
       " ('TKR', 'TIMKEN CO', 0.550609267172748),\n",
       " ('RPM', 'RPM INTERNATIONAL INC/DE/', 0.5506695293657282),\n",
       " ('TR', 'TOOTSIE ROLL INDUSTRIES INC', 0.5508270713309253),\n",
       " ('RSRV', 'RESERVE PETROLEUM CO', 0.5512678730520666),\n",
       " ('CPRT', 'COPART INC', 0.5513088175690002),\n",
       " ('RFIL', 'R F INDUSTRIES LTD', 0.5514103256277489),\n",
       " ('WWD', 'Woodward, Inc.', 0.5515407609883045),\n",
       " ('CLWT', 'EURO TECH HOLDINGS CO LTD', 0.551599465500519),\n",
       " ('ROK', 'ROCKWELL AUTOMATION, INC', 0.5516327817393312),\n",
       " ('CREG', 'Smart Powerr Corp.', 0.5516516754369126),\n",
       " ('DMYY', 'dMY Squared Technology Group, Inc.', 0.5516569469571639),\n",
       " ('ETD', 'ETHAN ALLEN INTERIORS INC', 0.5517382801299837)]"
      ]
     },
     "execution_count": null,
     "metadata": {},
     "output_type": "execute_result"
    }
   ],
   "source": [
    "#notest\n",
    "\n",
    "getRecsFromPort(['RELL','ESP','TRT','TLF'],m[0],cemb,\n",
    "                negWeight=0.001, n=50)"
   ]
  },
  {
   "cell_type": "code",
   "execution_count": null,
   "metadata": {},
   "outputs": [
    {
     "data": {
      "text/plain": [
       "[('ESP', '* ESPEY MFG & ELECTRONICS CORP', 0.5149025714566895),\n",
       " ('TLF', '* TANDY LEATHER FACTORY INC', 0.5274361633259722),\n",
       " ('RELL', '* RICHARDSON ELECTRONICS, LTD.', 0.5326767101260544),\n",
       " ('POCI', 'PRECISION OPTICS CORPORATION, INC.', 0.5365172356060033),\n",
       " ('TAYD', 'TAYLOR DEVICES INC', 0.538388076615355),\n",
       " ('TRT', '* TRIO-TECH INTERNATIONAL', 0.5384500817639699),\n",
       " ('SPRS', 'SURGE COMPONENTS INC', 0.5402048803993464),\n",
       " ('VALU', 'VALUE LINE INC', 0.5418022449295139),\n",
       " ('AMPG', 'AmpliTech Group, Inc.', 0.5424905428362589),\n",
       " ('INRD', 'Inrad Optics, Inc.', 0.5431471911896562),\n",
       " ('GLSI', 'Greenwich LifeSciences, Inc.', 0.5437110570740555),\n",
       " ('ATNM', 'Actinium Pharmaceuticals, Inc.', 0.5456385213305739),\n",
       " ('EPSN', 'Epsilon Energy Ltd.', 0.5459450848375516),\n",
       " ('TSRI', 'TSR INC', 0.5466850595687373),\n",
       " ('CCEL', 'CRYO CELL INTERNATIONAL INC', 0.5483699233509016),\n",
       " ('TEL', 'TE Connectivity Ltd.', 0.5488421410865695),\n",
       " ('NEOV', 'NeoVolta Inc.', 0.5492950899801988),\n",
       " ('LYTS', 'LSI INDUSTRIES INC', 0.5494014676705306),\n",
       " ('KTCC', 'KEY TRONIC CORP', 0.5494439525683816),\n",
       " ('TWIN', 'TWIN DISC INC', 0.5497504327354626),\n",
       " ('THO', 'THOR INDUSTRIES INC', 0.5501510111524754),\n",
       " ('TAIT', 'TAITRON COMPONENTS INC', 0.5503303041949033),\n",
       " ('FRD', 'FRIEDMAN INDUSTRIES INC', 0.551545892915762),\n",
       " ('CRMZ', 'CREDITRISKMONITOR COM INC', 0.5516183006931152),\n",
       " ('FALC', 'FALCONSTOR SOFTWARE INC', 0.5516683032544117),\n",
       " ('HBIA', 'HILLS BANCORPORATION', 0.5517600433542477),\n",
       " ('TXN', 'TEXAS INSTRUMENTS INC', 0.5518069076812595),\n",
       " ('EVTV', 'Envirotech Vehicles, Inc.', 0.5520202934538684),\n",
       " ('FLXS', 'FLEXSTEEL INDUSTRIES INC', 0.55236571660809),\n",
       " ('TIKK', 'TEL INSTRUMENT ELECTRONICS CORP', 0.5525050496706296),\n",
       " ('TSM', 'TAIWAN SEMICONDUCTOR MANUFACTURING CO LTD', 0.552775359786011),\n",
       " ('CELZ', 'CREATIVE MEDICAL TECHNOLOGY HOLDINGS, INC.', 0.5530537279559278),\n",
       " ('WVVI', 'WILLAMETTE VALLEY VINEYARDS INC', 0.5532794327611692),\n",
       " ('FN', 'Fabrinet', 0.5537061231460566),\n",
       " ('NERV', 'Minerva Neurosciences, Inc.', 0.553772250329467),\n",
       " ('FEIM', 'FREQUENCY ELECTRONICS INC', 0.5539563617505071),\n",
       " ('LTRX', 'LANTRONIX INC', 0.5541767772179185),\n",
       " ('AEHR', 'AEHR TEST SYSTEMS', 0.5547596104078217),\n",
       " ('KE', 'Kimball Electronics, Inc.', 0.5548791400338493),\n",
       " ('FKWL', 'FRANKLIN WIRELESS CORP', 0.5549447280587985),\n",
       " ('TKR', 'TIMKEN CO', 0.5551865275378329),\n",
       " ('RPM', 'RPM INTERNATIONAL INC/DE/', 0.5552223589511784),\n",
       " ('TR', 'TOOTSIE ROLL INDUSTRIES INC', 0.5553806258053668),\n",
       " ('CPRT', 'COPART INC', 0.5560285159331696),\n",
       " ('RSRV', 'RESERVE PETROLEUM CO', 0.5561423224490241),\n",
       " ('RFIL', 'R F INDUSTRIES LTD', 0.5561429365375119),\n",
       " ('WWD', 'Woodward, Inc.', 0.5561731555924695),\n",
       " ('ROK', 'ROCKWELL AUTOMATION, INC', 0.5562813017150525),\n",
       " ('CLWT', 'EURO TECH HOLDINGS CO LTD', 0.5562862285297103),\n",
       " ('ETD', 'ETHAN ALLEN INTERIORS INC', 0.5563594521178401)]"
      ]
     },
     "execution_count": null,
     "metadata": {},
     "output_type": "execute_result"
    }
   ],
   "source": [
    "#notest\n",
    "\n",
    "getRecsFromPort(['RELL','ESP','TRT','TLF'],m[0],cemb,\n",
    "                negWeight=0.001, n=50)"
   ]
  },
  {
   "cell_type": "code",
   "execution_count": null,
   "metadata": {},
   "outputs": [
    {
     "name": "stderr",
     "output_type": "stream",
     "text": [
      "C:\\Users\\ikedi\\Anaconda3\\envs\\fastai\\lib\\site-packages\\sklearn\\ensemble\\_forest.py:721: RuntimeWarning: divide by zero encountered in log\n",
      "  return np.log(proba)\n"
     ]
    },
    {
     "data": {
      "text/plain": [
       "[('ESP', '* ESPEY MFG & ELECTRONICS CORP', 0.3509999999999999),\n",
       " ('TLF', '* TANDY LEATHER FACTORY INC', 0.355),\n",
       " ('TRT', '* TRIO-TECH INTERNATIONAL', 0.357),\n",
       " ('RELL', '* RICHARDSON ELECTRONICS, LTD.', 0.377),\n",
       " ('GLSI', 'Greenwich LifeSciences, Inc.', 0.985),\n",
       " ('POCI', 'PRECISION OPTICS CORPORATION, INC.', 0.985),\n",
       " ('AMPG', 'AmpliTech Group, Inc.', 0.987),\n",
       " ('VALU', 'VALUE LINE INC', 0.989),\n",
       " ('EPSN', 'Epsilon Energy Ltd.', 0.992),\n",
       " ('TAYD', 'TAYLOR DEVICES INC', 0.992),\n",
       " ('TXN', 'TEXAS INSTRUMENTS INC', 0.992),\n",
       " ('ATNM', 'Actinium Pharmaceuticals, Inc.', 0.993),\n",
       " ('CMPR', 'CIMPRESS plc', 0.993),\n",
       " ('INRD', 'Inrad Optics, Inc.', 0.993),\n",
       " ('NEOV', 'NeoVolta Inc.', 0.993),\n",
       " ('SPRS', 'SURGE COMPONENTS INC', 0.993),\n",
       " ('FN', 'Fabrinet', 0.994),\n",
       " ('JBSAY', 'JBS S.A.', 0.994),\n",
       " ('CELZ', 'CREATIVE MEDICAL TECHNOLOGY HOLDINGS, INC.', 0.995),\n",
       " ('FALC', 'FALCONSTOR SOFTWARE INC', 0.995),\n",
       " ('HBIA', 'HILLS BANCORPORATION', 0.995),\n",
       " ('KTCC', 'KEY TRONIC CORP', 0.995),\n",
       " ('LDDD', 'Longduoduo Co Ltd', 0.995),\n",
       " ('LTRX', 'LANTRONIX INC', 0.995),\n",
       " ('SIM', 'GRUPO SIMEC, S.A.B. de C.V.', 0.995),\n",
       " ('THCH', 'TH International Ltd', 0.995),\n",
       " ('TSRI', 'TSR INC', 0.995),\n",
       " ('BRC', 'BRADY CORP', 0.996),\n",
       " ('CCEL', 'CRYO CELL INTERNATIONAL INC', 0.996),\n",
       " ('ETD', 'ETHAN ALLEN INTERIORS INC', 0.996),\n",
       " ('FEIM', 'FREQUENCY ELECTRONICS INC', 0.996),\n",
       " ('ICTSF', 'ICTS INTERNATIONAL N V', 0.996),\n",
       " ('MPX', 'MARINE PRODUCTS CORP', 0.996),\n",
       " ('NERV', 'Minerva Neurosciences, Inc.', 0.996),\n",
       " ('RDI', 'READING INTERNATIONAL INC', 0.996),\n",
       " ('RGC', 'Regencell Bioscience Holdings Ltd', 0.996),\n",
       " ('TARO', 'TARO PHARMACEUTICAL INDUSTRIES LTD', 0.996),\n",
       " ('TCI', 'TRANSCONTINENTAL REALTY INVESTORS INC', 0.996),\n",
       " ('TEL', 'TE Connectivity Ltd.', 0.996),\n",
       " ('TMHC', 'Taylor Morrison Home Corp', 0.996),\n",
       " ('TR', 'TOOTSIE ROLL INDUSTRIES INC', 0.996),\n",
       " ('UTGN', 'UTG INC', 0.996),\n",
       " ('WGO', 'WINNEBAGO INDUSTRIES INC', 0.996),\n",
       " ('WIRE', 'ENCORE WIRE CORP', 0.996),\n",
       " ('ALLT', 'Allot Ltd.', 0.997),\n",
       " ('AOSL', 'ALPHA & OMEGA SEMICONDUCTOR Ltd', 0.997),\n",
       " ('ATI', 'ATI INC', 0.997),\n",
       " ('CRS', 'CARPENTER TECHNOLOGY CORP', 0.997),\n",
       " ('CRUS', 'CIRRUS LOGIC, INC.', 0.997),\n",
       " ('CTGO', 'Contango ORE, Inc.', 0.997)]"
      ]
     },
     "execution_count": null,
     "metadata": {},
     "output_type": "execute_result"
    }
   ],
   "source": [
    "#notest\n",
    "\n",
    "getRecsFromPort(['RELL','ESP','TRT','TLF'],m[0],cemb,\n",
    "                negWeight=0.001, n=50,\n",
    "                model=RandomForestClassifier(n_estimators=1000, random_state=42))"
   ]
  },
  {
   "cell_type": "code",
   "execution_count": null,
   "metadata": {},
   "outputs": [
    {
     "data": {
      "text/plain": [
       "[('TT', '* Trane Technologies plc', 0.7956323696200615),\n",
       " ('TSE', 'Trinseo PLC', 0.8256587275706493),\n",
       " ('TNC', 'TENNANT CO', 0.826817724818906),\n",
       " ('TROX', 'Tronox Holdings plc', 0.827081538653363),\n",
       " ('HON', 'HONEYWELL INTERNATIONAL INC', 0.8272827700481711),\n",
       " ('TRN', 'TRINITY INDUSTRIES INC', 0.8280596145304949),\n",
       " ('TSCO', 'TRACTOR SUPPLY CO /DE/', 0.8280821516863961),\n",
       " ('NVT', 'nVent Electric plc', 0.8286850256671003),\n",
       " ('ITT', 'ITT INC.', 0.828754304276702),\n",
       " ('ITRI', 'ITRON, INC.', 0.8288244104511093),\n",
       " ('TRS', 'TRIMAS CORP', 0.8291020863908336),\n",
       " ('TRU', 'TransUnion', 0.8298047962971123),\n",
       " ('TTI', 'TETRA TECHNOLOGIES INC', 0.8300957554397238),\n",
       " ('TNET', 'TRINET GROUP, INC.', 0.8303290243491801),\n",
       " ('CXT', 'Crane NXT, Co.', 0.830420969882765),\n",
       " ('TYL', 'TYLER TECHNOLOGIES INC', 0.8304801044982141),\n",
       " ('WTW', 'WILLIS TOWERS WATSON PLC', 0.8306393809810833),\n",
       " ('AGCO', 'AGCO CORP /DE', 0.8307468347811318),\n",
       " ('MPTI', 'M-tron Industries, Inc.', 0.8310697528985487),\n",
       " ('JCI', 'Johnson Controls International plc', 0.8311343344246946)]"
      ]
     },
     "execution_count": null,
     "metadata": {},
     "output_type": "execute_result"
    }
   ],
   "source": [
    "#notest\n",
    "\n",
    "getRecsFromPort(['TT'],m[0],cemb,\n",
    "                negWeight=0.001, n=20)"
   ]
  },
  {
   "cell_type": "code",
   "execution_count": null,
   "metadata": {},
   "outputs": [
    {
     "data": {
      "text/plain": [
       "[('TT', 1.0000000016680874),\n",
       " ('ITRI', 0.7669934195683893),\n",
       " ('TRN', 0.757928899837897),\n",
       " ('TRNS', 0.756768570159696),\n",
       " ('HON', 0.7548761482965816),\n",
       " ('TSE', 0.7512960897800307),\n",
       " ('MPTI', 0.7497710113532638),\n",
       " ('TROX', 0.7488504607593199),\n",
       " ('TRS', 0.7452240652159831),\n",
       " ('TACT', 0.7428685543299199),\n",
       " ('NVT', 0.7413787849785848),\n",
       " ('ITT', 0.7413341193540852),\n",
       " ('TNC', 0.7390700427766047),\n",
       " ('TTMI', 0.7381065794704046),\n",
       " ('RXT', 0.7341613749671928),\n",
       " ('TRT', 0.7339877752530977),\n",
       " ('FTI', 0.7332245872229285),\n",
       " ('TRU', 0.7326898761216825),\n",
       " ('TXT', 0.7290777573386786),\n",
       " ('TTI', 0.7268809876810808)]"
      ]
     },
     "execution_count": null,
     "metadata": {},
     "output_type": "execute_result"
    }
   ],
   "source": [
    "#notest\n",
    "\n",
    "findClosestEmbs('TT', m[0], cemb)"
   ]
  },
  {
   "cell_type": "code",
   "execution_count": null,
   "metadata": {},
   "outputs": [
    {
     "data": {
      "text/plain": [
       "[('PRI', '* Primerica, Inc.', 0.5157342121322201),\n",
       " ('DFS', '* Discover Financial Services', 0.5200267005277418),\n",
       " ('FNF', '* Fidelity National Financial, Inc.', 0.5254892332307803),\n",
       " ('ELV', '* Elevance Health, Inc.', 0.5445726972920442),\n",
       " ('FNB', 'FNB CORP/PA/', 0.544944657359473),\n",
       " ('FG', 'F&G Annuities & Life, Inc.', 0.5459453171044197),\n",
       " ('COF', 'CAPITAL ONE FINANCIAL CORP', 0.5461629720972857),\n",
       " ('ALLY', 'Ally Financial Inc.', 0.5479493556743291),\n",
       " ('ALL', 'ALLSTATE CORP', 0.5483801290986048),\n",
       " ('SYF', 'Synchrony Financial', 0.549529425450311),\n",
       " ('GNW', 'GENWORTH FINANCIAL INC', 0.5508265648249211),\n",
       " ('FRAF', 'FRANKLIN FINANCIAL SERVICES CORP /PA/', 0.5512589972405304),\n",
       " ('FISI', 'FINANCIAL INSTITUTIONS INC', 0.5521895165822301),\n",
       " ('TFC', 'TRUIST FINANCIAL CORP', 0.5523641827036722),\n",
       " ('FDBC', 'FIDELITY D & D BANCORP INC', 0.5526955601156165),\n",
       " ('MKL', 'MARKEL GROUP INC.', 0.5529749568004889),\n",
       " ('GBNY', 'Generations Bancorp NY, Inc.', 0.5537906603059422),\n",
       " ('FHN', 'FIRST HORIZON CORP', 0.5541181129819289),\n",
       " ('PROV', 'PROVIDENT FINANCIAL HOLDINGS INC', 0.554522126993919),\n",
       " ('PRU', 'PRUDENTIAL FINANCIAL INC', 0.5545854256529118),\n",
       " ('AXP', 'AMERICAN EXPRESS CO', 0.5547273726702018),\n",
       " ('WFC', 'WELLS FARGO & COMPANY/MN', 0.5549578537392214),\n",
       " ('EFX', 'EQUIFAX INC', 0.5550254105700388),\n",
       " ('FNCB', 'FNCB Bancorp, Inc.', 0.5554691448345344),\n",
       " ('FAF', 'First American Financial Corp', 0.5555601589157151),\n",
       " ('AMP', 'AMERIPRISE FINANCIAL INC', 0.5555721615317963),\n",
       " ('EFR', 'EATON VANCE SENIOR FLOATING RATE TRUST', 0.5560441243810893),\n",
       " ('FCCO', 'FIRST COMMUNITY CORP /SC/', 0.5560799351592114),\n",
       " ('PFC', 'PREMIER FINANCIAL CORP', 0.5564470564249304),\n",
       " ('SF', 'STIFEL FINANCIAL CORP', 0.5565820495443319)]"
      ]
     },
     "execution_count": null,
     "metadata": {},
     "output_type": "execute_result"
    }
   ],
   "source": [
    "#notest\n",
    "\n",
    "getRecsFromPort(['ELV','PRI','FNF','DFS'],m[0],cemb,\n",
    "                negWeight=0.001)"
   ]
  },
  {
   "cell_type": "code",
   "execution_count": null,
   "metadata": {},
   "outputs": [
    {
     "data": {
      "text/plain": [
       "[('FNF', '* Fidelity National Financial, Inc.', 0.24445361799505047),\n",
       " ('OMF', '* OneMain Holdings, Inc.', 0.24571814992726226),\n",
       " ('LEN', '* LENNAR CORP /NEW/', 0.2469936074260246),\n",
       " ('DFS', '* Discover Financial Services', 0.24721682521933352),\n",
       " ('LGIH', 'LGI Homes, Inc.', 0.2492440504453396),\n",
       " ('FG', '* F&G Annuities & Life, Inc.', 0.24970189191538672),\n",
       " ('LDI', 'loanDepot, Inc.', 0.2501259805255017),\n",
       " ('APO', '* Apollo Global Management, Inc.', 0.25249283840485615),\n",
       " ('PFSI', 'PennyMac Financial Services, Inc.', 0.2533775898232725),\n",
       " ('DHI', '* HORTON D R INC /DE/', 0.2535329137518526),\n",
       " ('LNC', 'LINCOLN NATIONAL CORP', 0.2538253731871031),\n",
       " ('ALLY', 'Ally Financial Inc.', 0.25388235411474736),\n",
       " ('DFH', 'Dream Finders Homes, Inc.', 0.2539150232840064),\n",
       " ('LPLA', 'LPL Financial Holdings Inc.', 0.2541089100547662),\n",
       " ('JPM', '* JPMORGAN CHASE & CO', 0.25493225268759667),\n",
       " ('CGBD', 'Carlyle Secured Lending, Inc.', 0.2558418544695642),\n",
       " ('AN', '* AUTONATION, INC.', 0.2558548717872401),\n",
       " ('HD', 'HOME DEPOT, INC.', 0.256928354160712),\n",
       " ('FNB', 'FNB CORP/PA/', 0.2572240280918936),\n",
       " ('PRI', '* Primerica, Inc.', 0.25728604456589566),\n",
       " ('ALL', 'ALLSTATE CORP', 0.25768620362442707),\n",
       " ('FSFG', 'First Savings Financial Group, Inc.', 0.25868924007711014),\n",
       " ('MFIC', 'MidCap Financial Investment Corp', 0.25870584276756836),\n",
       " ('AAL', 'American Airlines Group Inc.', 0.2589120209011392),\n",
       " ('ARES', 'Ares Management Corp', 0.2589657689128917),\n",
       " ('AEE', 'AMEREN CORP', 0.25906962533002476),\n",
       " ('HUM', 'HUMANA INC', 0.259147170268733),\n",
       " ('FSK', 'FS KKR Capital Corp', 0.25917755817254906),\n",
       " ('SYF', 'Synchrony Financial', 0.25949953659386593),\n",
       " ('STT', 'STATE STREET CORP', 0.2596046300721032),\n",
       " ('LAD', '* LITHIA MOTORS INC', 0.2597401564875188),\n",
       " ('AXP', 'AMERICAN EXPRESS CO', 0.260009053456396),\n",
       " ('GEL', 'GENESIS ENERGY LP', 0.2600405464825807),\n",
       " ('MTB', 'M&T BANK CORP', 0.2603735696009867),\n",
       " ('AFL', 'AFLAC INC', 0.2603764669356634),\n",
       " ('COF', 'CAPITAL ONE FINANCIAL CORP', 0.26058222099755024),\n",
       " ('CNA', 'CNA FINANCIAL CORP', 0.26070223966433537),\n",
       " ('PCG', 'PG&E Corp', 0.26111816857574077),\n",
       " ('TFC', 'TRUIST FINANCIAL CORP', 0.26120139900843475),\n",
       " ('AMP', 'AMERIPRISE FINANCIAL INC', 0.26123161480875945),\n",
       " ('TREE', 'LendingTree, Inc.', 0.26151213068991164),\n",
       " ('WFC', 'WELLS FARGO & COMPANY/MN', 0.2615482658394942),\n",
       " ('HGTY', 'Hagerty, Inc.', 0.2615778882664854),\n",
       " ('NRUC',\n",
       "  'NATIONAL RURAL UTILITIES COOPERATIVE FINANCE CORP /DC/',\n",
       "  0.2619041594492121),\n",
       " ('FHN', 'FIRST HORIZON CORP', 0.2619169737124767),\n",
       " ('LXP', 'LXP Industrial Trust', 0.2621015386465151),\n",
       " ('HIW', 'HIGHWOODS PROPERTIES, INC.', 0.2622011545140194),\n",
       " ('LNT', 'ALLIANT ENERGY CORP', 0.2622484574097468),\n",
       " ('CACC', 'CREDIT ACCEPTANCE CORP', 0.2623180858506441),\n",
       " ('BK', 'Bank of New York Mellon Corp', 0.2625169619610277),\n",
       " ('GNW', 'GENWORTH FINANCIAL INC', 0.26252986844208104),\n",
       " ('NBR', 'NABORS INDUSTRIES LTD', 0.2626528098208576),\n",
       " ('JLL', 'JONES LANG LASALLE INC', 0.26271624456008313),\n",
       " ('ENX', 'EATON VANCE NEW YORK MUNICIPAL BOND FUND', 0.26275271613229834),\n",
       " ('EOT',\n",
       "  'Eaton Vance National Municipal Opportunities Trust',\n",
       "  0.26277473335883017),\n",
       " ('FITB', 'FIFTH THIRD BANCORP', 0.2627787692459167),\n",
       " ('F', 'FORD MOTOR CO', 0.26287336980966636),\n",
       " ('MPLX', '* MPLX LP', 0.26296867486078634),\n",
       " ('OUT', 'OUTFRONT Media Inc.', 0.2630014886094467),\n",
       " ('EIM', 'EATON VANCE MUNICIPAL BOND FUND', 0.26300669898245765),\n",
       " ('MS', 'MORGAN STANLEY', 0.2632026202032911),\n",
       " ('EFR', 'EATON VANCE SENIOR FLOATING RATE TRUST', 0.2633385618857448),\n",
       " ('ETX', 'Eaton Vance Municipal Income 2028 Term Trust', 0.2633915430929825),\n",
       " ('NSC', 'NORFOLK SOUTHERN CORP', 0.2634366585126271),\n",
       " ('HPQ', 'HP INC', 0.2638914281013579),\n",
       " ('AAP', 'ADVANCE AUTO PARTS INC', 0.26389980011750147),\n",
       " ('EVM', 'EATON VANCE CALIFORNIA MUNICIPAL BOND FUND', 0.2641748960143918),\n",
       " ('UFCS', 'UNITED FIRE GROUP INC', 0.2642025426959824),\n",
       " ('EVN', 'EATON VANCE MUNICIPAL INCOME TRUST', 0.26428357353725385),\n",
       " ('AIG', 'AMERICAN INTERNATIONAL GROUP, INC.', 0.26429841798703513),\n",
       " ('MTG', 'MGIC INVESTMENT CORP', 0.26431045725466695),\n",
       " ('PNFP', 'PINNACLE FINANCIAL PARTNERS INC', 0.26441358808044957),\n",
       " ('AFG', 'AMERICAN FINANCIAL GROUP INC', 0.26442870530600093),\n",
       " ('EFT', 'Eaton Vance Floating-Rate Income Trust', 0.2644491731540005),\n",
       " ('HLT', 'Hilton Worldwide Holdings Inc.', 0.2645000172787262),\n",
       " ('MFIN', 'MEDALLION FINANCIAL CORP', 0.2647533456762171),\n",
       " ('AGO', 'ASSURED GUARANTY LTD', 0.2647630616255901),\n",
       " ('BXSL', 'Blackstone Secured Lending Fund', 0.2647995995145005),\n",
       " ('ADT', 'ADT Inc.', 0.26481845853320873),\n",
       " ('TNL', 'Travel & Leisure Co.', 0.26486808802221484)]"
      ]
     },
     "execution_count": null,
     "metadata": {},
     "output_type": "execute_result"
    }
   ],
   "source": [
    "#notest\n",
    "\n",
    "getRecsFromPort(['ELV','PRI','FNF','DFS','APO','SNX',\n",
    "                 'OMF', 'JPM', 'FG', 'LAD', 'LEN', 'AN', 'DHI', 'MPLX',\n",
    "                ],m[0],cemb,\n",
    "                negWeight=0.001, n=80)"
   ]
  },
  {
   "cell_type": "code",
   "execution_count": null,
   "metadata": {},
   "outputs": [
    {
     "name": "stdout",
     "output_type": "stream",
     "text": [
      "saving serv list zzrellemb\n"
     ]
    },
    {
     "data": {
      "text/plain": [
       "[('RELL', 0.99999998520508),\n",
       " ('FEIM', 0.8033973201328413),\n",
       " ('LINK', 0.7948925790936721),\n",
       " ('FELE', 0.7919128218594447),\n",
       " ('MOD', 0.7805745192643543),\n",
       " ('POWI', 0.7776443612440531),\n",
       " ('FSLR', 0.7766557944190637),\n",
       " ('DAKT', 0.7761381632463071),\n",
       " ('GNRC', 0.7759018965718922),\n",
       " ('PFIE', 0.7736163270397118),\n",
       " ('RHI', 0.7723403163604735),\n",
       " ('AE', 0.7705252411208116),\n",
       " ('ASYS', 0.7703331818099399),\n",
       " ('VICR', 0.7701325901641378),\n",
       " ('HAYN', 0.7688475719398149),\n",
       " ('BHE', 0.7688410442780154),\n",
       " ('PLOW', 0.7682959551916562),\n",
       " ('JELD', 0.7678314585217809),\n",
       " ('ITRI', 0.767473160958188),\n",
       " ('RFIL', 0.7670078278427928)]"
      ]
     },
     "execution_count": null,
     "metadata": {},
     "output_type": "execute_result"
    }
   ],
   "source": [
    "#notest\n",
    "\n",
    "findClosestEmbs('RELL', m[0], cemb, 'zzrellemb')"
   ]
  },
  {
   "cell_type": "code",
   "execution_count": null,
   "metadata": {},
   "outputs": [
    {
     "name": "stdout",
     "output_type": "stream",
     "text": [
      "saving serv list zznvecemb\n"
     ]
    },
    {
     "data": {
      "text/plain": [
       "[('NVEC', 0.9999999595896119),\n",
       " ('NVR', 0.8148641465240714),\n",
       " ('NDSN', 0.8072408553665515),\n",
       " ('NVT', 0.7999009376151255),\n",
       " ('NHC', 0.7961864340735034),\n",
       " ('NC', 0.7961223346932811),\n",
       " ('VREX', 0.7944423962739553),\n",
       " ('VVOS', 0.7905214345714126),\n",
       " ('NINE', 0.7890582799778165),\n",
       " ('VTS', 0.7864372093691397),\n",
       " ('AE', 0.785869554745357),\n",
       " ('NVEE', 0.7858566252445665),\n",
       " ('VECO', 0.7852216365083438),\n",
       " ('NGVC', 0.7849770364752587),\n",
       " ('NR', 0.7849442946149126),\n",
       " ('EXTR', 0.7848996546840913),\n",
       " ('CNMD', 0.7829721286194089),\n",
       " ('XGN', 0.7826288895267541),\n",
       " ('GVP', 0.7826076538752202),\n",
       " ('PEN', 0.7815270140258042)]"
      ]
     },
     "execution_count": null,
     "metadata": {},
     "output_type": "execute_result"
    }
   ],
   "source": [
    "#notest\n",
    "\n",
    "findClosestEmbs('NVEC', m[0], cemb, 'zznvecemb')"
   ]
  },
  {
   "cell_type": "code",
   "execution_count": null,
   "metadata": {},
   "outputs": [
    {
     "name": "stdout",
     "output_type": "stream",
     "text": [
      "saving serv list zznvecemb2\n"
     ]
    },
    {
     "data": {
      "text/plain": [
       "[('NVEC', 0.0),\n",
       " ('NVR', 0.3702717346752302),\n",
       " ('NDSN', 0.3855183483110959),\n",
       " ('NVT', 0.4001980889048715),\n",
       " ('NHC', 0.40762702514415294),\n",
       " ('NC', 0.40775524711728833),\n",
       " ('VREX', 0.4111151887723203),\n",
       " ('VVOS', 0.41895708554228944),\n",
       " ('NINE', 0.42188345079417494),\n",
       " ('VTS', 0.4271255425210745),\n",
       " ('AE', 0.4282609293643752),\n",
       " ('NVEE', 0.42828676168988744),\n",
       " ('VECO', 0.4295566309390183),\n",
       " ('NGVC', 0.43004594327517387),\n",
       " ('NR', 0.43011141929178504),\n",
       " ('EXTR', 0.43020058880706674),\n",
       " ('CNMD', 0.434055804031503),\n",
       " ('XGN', 0.43474218133036496),\n",
       " ('GVP', 0.43478468595671144),\n",
       " ('PEN', 0.43694592564665846)]"
      ]
     },
     "execution_count": null,
     "metadata": {},
     "output_type": "execute_result"
    }
   ],
   "source": [
    "#notest\n",
    "\n",
    "findClosestEmbs('NVEC', m[0], cemb, 'zznvecemb2',\n",
    "                distFunc=lambda x,y : ((x-y)**2).sum(), reverse=False)"
   ]
  },
  {
   "cell_type": "code",
   "execution_count": null,
   "metadata": {},
   "outputs": [
    {
     "name": "stdout",
     "output_type": "stream",
     "text": [
      "saving serv list zzespemb\n"
     ]
    },
    {
     "data": {
      "text/plain": [
       "[('ESP', 1.0000000651174648),\n",
       " ('POCI', 0.8425144684377223),\n",
       " ('CCEL', 0.8121768408997727),\n",
       " ('SPRS', 0.8119299463498335),\n",
       " ('GLSI', 0.803299929455882),\n",
       " ('CRMZ', 0.7814491082747064),\n",
       " ('EPSN', 0.7805094840289106),\n",
       " ('ATNM', 0.7723179956242227),\n",
       " ('NERV', 0.7685074065481914),\n",
       " ('AMPG', 0.7665394827122134),\n",
       " ('VALU', 0.7582190872170226),\n",
       " ('INRD', 0.7578145233414169),\n",
       " ('APLD', 0.7576054640611938),\n",
       " ('CELZ', 0.7529517204185117),\n",
       " ('FALC', 0.7480291547069043),\n",
       " ('CMTL', 0.742820786576228),\n",
       " ('EVTV', 0.7390334579039042),\n",
       " ('PSQH', 0.7340597552979069),\n",
       " ('GYRO', 0.7297576767136275),\n",
       " ('NEOV', 0.7284170765077527)]"
      ]
     },
     "execution_count": null,
     "metadata": {},
     "output_type": "execute_result"
    }
   ],
   "source": [
    "#notest\n",
    "\n",
    "findClosestEmbs('ESP', m[0], cemb, 'zzespemb')"
   ]
  },
  {
   "cell_type": "code",
   "execution_count": null,
   "metadata": {},
   "outputs": [
    {
     "name": "stdout",
     "output_type": "stream",
     "text": [
      "saving serv list zzlglemb\n"
     ]
    },
    {
     "data": {
      "text/plain": [
       "[('LGL', 1.0000000316916184),\n",
       " ('VRAR', 0.8329806846910496),\n",
       " ('GLPI', 0.8118543976831943),\n",
       " ('LQDT', 0.8060634884018472),\n",
       " ('GL', 0.8053673580930423),\n",
       " ('LPG', 0.7988023707652656),\n",
       " ('GNLX', 0.7953724846090395),\n",
       " ('LITE', 0.7933398646865277),\n",
       " ('LRCX', 0.7925885691546906),\n",
       " ('GEG', 0.7919369454783258),\n",
       " ('LPLA', 0.788723375644633),\n",
       " ('SLRC', 0.788719133872568),\n",
       " ('SWIM', 0.7884134817995698),\n",
       " ('DBGI', 0.7867347078095468),\n",
       " ('FGF', 0.7837447137585667),\n",
       " ('GVP', 0.7829309881951108),\n",
       " ('LAZ', 0.7827788901460306),\n",
       " ('GOOD', 0.7826216661924021),\n",
       " ('LAND', 0.7812661803642427),\n",
       " ('UPLD', 0.7812262562887007)]"
      ]
     },
     "execution_count": null,
     "metadata": {},
     "output_type": "execute_result"
    }
   ],
   "source": [
    "#notest\n",
    "\n",
    "findClosestEmbs('LGL', m[0], cemb, 'zzlglemb')"
   ]
  },
  {
   "cell_type": "code",
   "execution_count": null,
   "metadata": {},
   "outputs": [],
   "source": []
  },
  {
   "cell_type": "code",
   "execution_count": null,
   "metadata": {},
   "outputs": [],
   "source": [
    "# Testing on text 20230601 - 20240601:"
   ]
  },
  {
   "cell_type": "code",
   "execution_count": null,
   "metadata": {},
   "outputs": [
    {
     "name": "stdout",
     "output_type": "stream",
     "text": [
      "18575 stock symbols found\n",
      "restricting to price >= 0.5 ... now 14308 stocks\n",
      "restricting to CIKs ... now 6124 stocks\n",
      "loading <class 'secscan.scrape8K.scraper8K'> ... Total filings: 71150\n",
      "loading <class 'secscan.scrape6K.scraper6K'> ... Total filings: 26975\n",
      "getting CIK texts ... 5662 stocks with CIK text found\n"
     ]
    }
   ],
   "source": [
    "#notest\n",
    "\n",
    "m = getTextPriceDataset('20230601', '20240601',\n",
    "                        '20240601', '20240620',\n",
    "                        minPrice=0.5, priceCol='Open', lookback=30)"
   ]
  },
  {
   "cell_type": "code",
   "execution_count": null,
   "metadata": {},
   "outputs": [
    {
     "name": "stdout",
     "output_type": "stream",
     "text": [
      "A loaded; AA loaded; AAAU loaded; AACG loaded; AACT loaded; AADI loaded; AAL loaded; AAMC loaded; AAME loaded; AAN loaded; AAOI loaded; AAON loaded; AAP loaded; AAPL loaded; AAT loaded; AAWH loaded; AB loaded; ABAT loaded; ABBV loaded; ABCB loaded; ABCL loaded; ABEO loaded; ABEV loaded; ABG loaded; ABL loaded; ABLV loaded; getting ABLZF embedding text length 1077 START FORM 6-K -9 DA... text length 1080 START FORM 6-K -44 D... text length 1080 START FORM 6-K -65 D... text length 1080 START FORM 6-K -71 D... text length 1080 START FORM 6-K -99 D... text length 1082 START FORM 6-K -121 ... text length 1082 START FORM 6-K -183 ... text length 1082 START FORM 6-K -215 ... limit exceeded, stopping symbol ABLZF text length 7568\n"
     ]
    },
    {
     "name": "stdout",
     "output_type": "stream",
     "text": [
      "ABM loaded; ABNB loaded; ABOS loaded; ABR loaded; ABSI loaded; ABT loaded; ABTS loaded; ABUS loaded; ABVC loaded; ABVX loaded; AC loaded; ACA loaded; ACAB loaded; ACAC loaded; ACAD loaded; ACB loaded; ACCD loaded; ACCO loaded; ACDC loaded; ACEL loaded; ACET loaded; ACFN loaded; ACGL loaded; ACHC loaded; ACHL loaded; ACHR loaded; ACHV loaded; ACI loaded; ACIC loaded; ACIU loaded; ACIW loaded; ACLS loaded; ACLX loaded; ACM loaded; ACMR loaded; ACN loaded; ACNB loaded; ACNT loaded; ACR loaded; ACRE loaded; ACRG loaded; ACRS loaded; ACRV loaded; ACST loaded; ACT loaded; ACTG loaded; ACU loaded; ACVA loaded; ACXP loaded; ADAG loaded; ADAP loaded; ADBE loaded; ADC loaded; ADCT loaded; ADEA loaded; ADI loaded; ADIL loaded; ADM loaded; ADMA loaded; ADN loaded; ADNT loaded; ADP loaded; ADPT loaded; ADRT loaded; ADSE loaded; ADSK loaded; ADT loaded; ADTN loaded; ADTX loaded; ADUS loaded; ADV loaded; ADVM loaded; ADXN loaded; AE loaded; AEAE loaded; AEE loaded; AEG loaded; AEHL loaded; AEHR loaded; AEI loaded; AEIS loaded; AEM loaded; AENT loaded; AEO loaded; AEON loaded; AEP loaded; AER loaded; AERG loaded; AERT loaded; AES loaded; AESI loaded; AEVA loaded; AEYE loaded; AFAR loaded; AFBI loaded; AFCG loaded; AFG loaded; AFJK loaded; AFL loaded; AFMD loaded; AFRI loaded; AFRM loaded; AFYA loaded; AG loaded; AGAE loaded; AGBA loaded; AGCO loaded; AGEN loaded; AGI loaded; AGIO loaded; AGL loaded; AGM loaded; AGMH loaded; AGNC loaded; AGO loaded; AGQ loaded; AGR loaded; AGRO loaded; AGS loaded; AGX loaded; AGYS loaded; AHCO loaded; AHG loaded; AHH loaded; AHR loaded; AHT loaded; AI loaded; AIG loaded; AIHS loaded; AILE loaded; AILIH loaded; AIMD loaded; AIN loaded; AIP loaded; AIR loaded; AIRE loaded; AIRG loaded; AIRI loaded; AIRJ loaded; AIRS loaded; AIRT loaded; AISP loaded; AIT loaded; AITR loaded; AIV loaded; AIXI loaded; AIZ loaded; AJG loaded; AJX loaded; AKA loaded; AKAM loaded; AKAN loaded; AKBA loaded; AKR loaded; AKRO loaded; AKTX loaded; AKYA loaded; AL loaded; ALAB loaded; ALAR loaded; ALB loaded; ALC loaded; ALCO loaded; ALCY loaded; ALDX loaded; ALE loaded; ALEC loaded; ALEX loaded; ALG loaded; ALGM loaded; ALGN loaded; ALGT loaded; ALHC loaded; ALIM loaded; ALIT loaded; ALK loaded; ALKS loaded; ALKT loaded; ALL loaded; ALLE loaded; ALLG loaded; ALLK loaded; ALLO loaded; ALLT loaded; ALLY loaded; ALMMF loaded; ALMU loaded; ALNT loaded; ALNY loaded; ALOT loaded; ALRM loaded; ALRN loaded; ALRS loaded; ALSA loaded; ALSN loaded; ALT loaded; ALTG loaded; ALTI loaded; ALTM loaded; ALTO loaded; ALTR loaded; ALUR loaded; ALV loaded; ALVO loaded; ALVR loaded; ALX loaded; ALXO loaded; ALYAF loaded; AM loaded; AMAL loaded; AMAT loaded; AMBA loaded; AMBC loaded; AMBI loaded; AMBO loaded; AMBP loaded; AMC loaded; AMCR loaded; AMCX loaded; AMD loaded; AME loaded; AMED loaded; AMG loaded; AMGN loaded; AMH loaded; AMIX loaded; AMK loaded; AMKR loaded; AMLI loaded; AMLX loaded; AMN loaded; AMNA loaded; AMP loaded; AMPG loaded; AMPH loaded; AMPL loaded; AMPS loaded; AMPX loaded; AMPY loaded; AMR loaded; AMRC loaded; AMRK loaded; AMRN loaded; AMRX loaded; AMS loaded; AMSC loaded; AMSF loaded; AMST loaded; AMSWA loaded; AMT loaded; AMTB loaded; AMTD loaded; AMTX loaded; AMWD loaded; AMX loaded; AMZN loaded; AN loaded; ANAB loaded; ANDE loaded; ANEB loaded; ANET loaded; ANF loaded; ANGH loaded; ANGI loaded; ANGO loaded; ANIK loaded; ANIP loaded; ANIX loaded; ANL loaded; ANNX loaded; ANRO loaded; ANSC loaded; ANSS loaded; ANTE loaded; ANTX loaded; ANVS loaded; ANY loaded; AOGO loaded; AOMR loaded; AON loaded; AONC loaded; AORT loaded; AOS loaded; AOSL loaded; AOUT loaded; AP loaded; APA loaded; APAM loaded; APCX loaded; APD loaded; APEI loaded; APG loaded; APGE loaded; APH loaded; API loaded; APLD loaded; APLE loaded; APLS loaded; APLT loaded; APM loaded; APO loaded; APOG loaded; APP loaded; APPF loaded; APPN loaded; APPS loaded; APRE loaded; APT loaded; APTO loaded; APTV loaded; APVO loaded; APWC loaded; APXI loaded; APYX loaded; AQB loaded; AQN loaded; AQST loaded; AQU loaded; AR loaded; ARAT loaded; ARAY loaded; ARBB loaded; ARBE loaded; ARBK loaded; ARC loaded; ARCB loaded; ARCC loaded; ARCH loaded; ARCO loaded; ARCT loaded; ARDX loaded; ARE loaded; AREC loaded; AREN loaded; ARES loaded; ARGD loaded; ARGX loaded; ARHS loaded; ARI loaded; ARIS loaded; ARKO loaded; ARKR loaded; ARL loaded; ARLO loaded; ARLP loaded; ARM loaded; ARMK loaded; ARMN loaded; ARMP loaded; AROC loaded; AROW loaded; ARQ loaded; ARQT loaded; ARR loaded; ARRY loaded; ARTH loaded; ARTL loaded; ARTNA loaded; ARTW loaded; ARVN loaded; ARW loaded; ARWR loaded; AS loaded; ASA loaded; ASAI loaded; ASAN loaded; ASB loaded; ASC loaded; ASCB loaded; ASGN loaded; ASH loaded; ASIX loaded; ASLE loaded; ASM loaded; ASMB loaded; ASML loaded; ASND loaded; ASO loaded; ASPI loaded; ASPN loaded; ASPS loaded; ASR loaded; ASRT loaded; ASRV loaded; ASTC loaded; ASTE loaded; ASTH loaded; ASTL loaded; ASTS loaded; ASUR loaded; ASX loaded; ASYS loaded; ATAI loaded; ATAT loaded; ATCH loaded; ATCOL loaded; ATDS loaded; ATEC loaded; ATEK loaded; ATEN loaded; ATER loaded; ATEX loaded; ATGE loaded; ATGL loaded; ATHA loaded; ATHE loaded; ATHM loaded; ATI loaded; ATIF loaded; ATIP loaded; ATKR loaded; ATLC loaded; ATLO loaded; ATLX loaded; ATMC loaded; ATMP loaded; ATMU loaded; ATMV loaded; ATNF loaded; ATNI loaded; ATNM loaded; ATO loaded; ATOM loaded; ATOS loaded; ATR loaded; ATRA loaded; ATRC loaded; ATRO loaded; ATS loaded; ATSG loaded; ATUS loaded; ATXG loaded; ATXI loaded; ATXS loaded; AU loaded; AUB loaded; AUBN loaded; AUDC loaded; AUGG loaded; AUGX loaded; AUID loaded; AUNA loaded; AUPH loaded; AUR loaded; AURA loaded; AURX loaded; AUST loaded; AUTL loaded; AUUD loaded; AVA loaded; AVAH loaded; AVAI loaded; AVAL loaded; AVAV loaded; AVB loaded; AVBP loaded; AVD loaded; AVDL loaded; AVDX loaded; AVGO loaded; AVGR loaded; AVHI loaded; AVIR loaded; AVNS loaded; AVNT loaded; AVNW loaded; AVO loaded; AVPT loaded; AVT loaded; AVTE loaded; AVTR loaded; AVTX loaded; AVXL loaded; AVY loaded; AWCA loaded; AWH loaded; AWI loaded; AWIN loaded; AWK loaded; AWR loaded; AWRE loaded; AWX loaded; AX loaded; AXDX loaded; AXGN loaded; AXIL loaded; AXL loaded; AXNX loaded; AXON loaded; AXP loaded; AXR loaded; AXS loaded; AXSM loaded; AXTA loaded; AXTI loaded; AY loaded; AYI loaded; AYRO loaded; AYRWF loaded; AYTU loaded; AZEK loaded; AZN loaded; AZO loaded; AZPN loaded; AZREF loaded; AZRS loaded; AZTA loaded; AZUL loaded; AZZ loaded; B loaded; BA loaded; BABA loaded; BAC loaded; BACA loaded; BACK loaded; BAER loaded; BAFN loaded; BAH loaded; BAK loaded; BALL loaded; BALY loaded; BAM loaded; BANC loaded; BAND loaded; BANF loaded; BANL loaded; BANR loaded; BAOS loaded; BAP loaded; BARK loaded; BASE loaded; BATL loaded; BATRA loaded; BAX loaded; BAYA loaded; BB loaded; BBAI loaded; BBAR loaded; BBCP loaded; BBD loaded; BBDC loaded; BBGI loaded; BBIO loaded; BBLG loaded; BBSI loaded; BBU loaded; BBUC loaded; BBVA loaded; BBW loaded; BBWI loaded; BBXIA loaded; BBY loaded; BC loaded; BCAB loaded; BCAL loaded; BCAN loaded; BCBP loaded; BCC loaded; BCDA loaded; BCE loaded; BCG loaded; BCH loaded; BCHG loaded; BCML loaded; BCO loaded; BCOV loaded; BCOW loaded; BCPC loaded; BCRX loaded; BCS loaded; BCSA loaded; BCSF loaded; BCTF loaded; BCTX loaded; BCYC loaded; BDC loaded; BDCO loaded; BDL loaded; BDN loaded; BDRX loaded; BDRY loaded; BDSX loaded; BDTX loaded; BDX loaded; BE loaded; BEAM loaded; BEAT loaded; BECN loaded; BEDU loaded; BEEM loaded; BEEP loaded; BEKE loaded; BELFA loaded; BEN loaded; BENF loaded; BEP loaded; BEPC loaded; BERY loaded; BEST loaded; BETSF loaded; BFAC loaded; BFAM loaded; BFC loaded; BFH loaded; BFIN loaded; BFLY loaded; BFNH loaded; BFRG loaded; BFRI loaded; BFS loaded; BFST loaded; BG loaded; BGC loaded; BGFV loaded; BGI loaded; BGNE loaded; BGS loaded; BGSF loaded; BHAC loaded; BHAT loaded; BHB loaded; BHC loaded; BHE loaded; BHF loaded; BHLB loaded; BHM loaded; BHP loaded; BHR loaded; BHRB loaded; BHVN loaded; BIAF loaded; BICX loaded; BIDU loaded; BIG loaded; BIGC loaded; BIIB loaded; BILI loaded; BILL loaded; BIMI loaded; BIMT loaded; BIO loaded; BIOR loaded; BIOX loaded; BIP loaded; BIPC loaded; BIRD loaded; BIRK loaded; BITF loaded; BITW loaded; BJ loaded; BJDX loaded; BJRI loaded; BK loaded; BKD loaded; BKE loaded; BKH loaded; BKHA loaded; BKKT loaded; BKNG loaded; BKR loaded; BKSC loaded; BKSY loaded; BKTI loaded; BKU loaded; BKYI loaded; BL loaded; BLAC loaded; BLBD loaded; BLBX loaded; BLCO loaded; BLD loaded; BLDE loaded; BLDP loaded; BLDR loaded; BLEU loaded; BLFS loaded; BLFY loaded; BLIN loaded; BLK loaded; BLKB loaded; BLMN loaded; BLND loaded; BLNK loaded; BLRX loaded; BLTE loaded; BLUE loaded; BLX loaded; BLZE loaded; BMA loaded; BMBL loaded; BMEA loaded; BMI loaded; BMNM loaded; BMNR loaded; BMO loaded; BMR loaded; BMRA loaded; BMRC loaded; BMRN loaded; BMTX loaded; BMY loaded; BN loaded; BNAI loaded; BNED loaded; BNGO loaded; BNIX loaded; BNL loaded; BNO loaded; BNOX loaded; BNR loaded; BNRE loaded; BNRG loaded; BNS loaded; BNTC loaded; BNTX loaded; BOC loaded; BOCN loaded; BODI loaded; BOF loaded; BOH loaded; BOKF loaded; BOLD loaded; BOLT loaded; BON loaded; BOOM loaded; BOOT loaded; BORR loaded; BOSC loaded; BOTJ loaded; BOWL loaded; BOWN loaded; BOX loaded; BOXL loaded; BP loaded; BPMC loaded; BPOP loaded; BPRN loaded; BPT loaded; BPTH loaded; BPTSY loaded; BPYPP loaded; BR loaded; BRAC loaded; BRAG loaded; BRBR loaded; BRBS loaded; BRC loaded; BRCC loaded; BRDG loaded; BREA loaded; BRFH loaded; BRFS loaded; BRID loaded; BRKH loaded; BRKL loaded; BRKR loaded; BRLS loaded; BRLT loaded; BRN loaded; BRNS loaded; BRO loaded; BROG loaded; BROS loaded; BRRR loaded; BRSP loaded; BRT loaded; BRTX loaded; BRWC loaded; BRX loaded; BRY loaded; BRZE loaded; BSAC loaded; BSBK loaded; BSBR loaded; BSET loaded; BSFC loaded; BSIG loaded; BSM loaded; BSRR loaded; BSVN loaded; BSX loaded; BSY loaded; BTAI loaded; BTBT loaded; BTCM loaded; BTCO loaded; BTCS loaded; BTCT loaded; BTCY loaded; BTDR loaded; BTE loaded; BTG loaded; BTI loaded; BTM loaded; BTMD loaded; BTOC loaded; BTOG loaded; BTSG loaded; BTTR loaded; BTU loaded; BUD loaded; BUJA loaded; BUKS loaded; BUR loaded; BURL loaded; BUSE loaded; BV loaded; BVFL loaded; BVN loaded; BVS loaded; BW loaded; BWA loaded; BWAY loaded; BWB loaded; BWEN loaded; BWFG loaded; BWIN loaded; BWLP loaded; BWMN loaded; BWMX loaded; BWXT loaded; BX loaded; BXC loaded; BXMT loaded; BXMX loaded; BXP loaded; BXSL loaded; BY loaded; BYD loaded; BYFC loaded; BYND loaded; BYNO loaded; BYON loaded; BYRN loaded; BYSI loaded; BYU loaded; BZ loaded; BZFD loaded; BZH loaded; BZUN loaded; C loaded; CAAP loaded; CAAS loaded; CABA loaded; CABO loaded; CAC loaded; CACC loaded; CACI loaded; CACO loaded; CADL loaded; CAE loaded; CAG loaded; CAH loaded; CAJPY loaded; CAKE loaded; CAL loaded; CALC loaded; CALM loaded; CALT loaded; CALX loaded; CAMT loaded; CAN loaded; CANE loaded; CANF loaded; CANG loaded; CAPL loaded; CAPR loaded; CAPT loaded; CAR loaded; CARE loaded; CARG loaded; CARM loaded; CARR loaded; CARS loaded; CART loaded; CARV loaded; CASH loaded; CASI loaded; CASS loaded; CASY loaded; CAT loaded; CATO loaded; CATX loaded; CATY loaded; CAVA loaded; CB loaded; CBAN loaded; CBAT loaded; CBFV loaded; CBKM loaded; CBL loaded; CBNK loaded; CBOE loaded; CBRE loaded; CBRG loaded; CBRL loaded; CBSH loaded; CBT loaded; CBU loaded; CBUS loaded; CBZ loaded; CC loaded; CCAP loaded; CCB loaded; CCBG loaded; CCCC loaded; CCCS loaded; CCD loaded; CCEL loaded; CCEP loaded; CCFN loaded; CCG loaded; CCI loaded; CCIF loaded; CCJ loaded; CCK loaded; CCL loaded; CCLD loaded; CCM loaded; CCNE loaded; CCO loaded; CCOI loaded; CCRD loaded; CCRN loaded; CCS loaded; CCSI loaded; CCTG loaded; CCTS loaded; CCU loaded; CDAQ loaded; CDE loaded; CDIO loaded; CDIX loaded; CDLR loaded; CDLX loaded; CDMO loaded; CDNA loaded; CDNS loaded; CDP loaded; CDRE loaded; CDRO loaded; CDT loaded; CDTG loaded; CDTX loaded; CDW loaded; CDXC loaded; CDXS loaded; CDZI loaded; CE loaded; CEAD loaded; CECO loaded; CEF loaded; CEG loaded; CEIX loaded; CELC loaded; CELH loaded; CELU loaded; CELZ loaded; CEM loaded; CENN loaded; CENT loaded; CENX loaded; CEPU loaded; CERS loaded; CERT loaded; CETY loaded; CEV loaded; CEVA loaded; CF loaded; CFB loaded; CFBK loaded; CFFI loaded; CFFN loaded; CFFS loaded; CFG loaded; CFLT loaded; CFR loaded; CFSB loaded; CG loaded; CGA loaded; CGAU loaded; CGBD loaded; CGC loaded; CGEM loaded; CGEN loaded; CGNT loaded; CGNX loaded; CGO loaded; CGON loaded; CGTX loaded; CHCI loaded; CHCO loaded; CHCT loaded; CHD loaded; CHDN loaded; CHE loaded; CHEF loaded; CHEK loaded; CHGG loaded; CHH loaded; CHHE loaded; CHI loaded; CHK loaded; CHKP loaded; CHMG loaded; CHMI loaded; CHMX loaded; CHNR loaded; CHPT loaded; CHR loaded; CHRD loaded; CHRO loaded; CHRS loaded; CHRW loaded; CHSCP loaded; CHSN loaded; CHT loaded; CHTH loaded; CHTR loaded; CHUY loaded; CHW loaded; CHWY loaded; CHX loaded; CHY loaded; CI loaded; CIA loaded; CIB loaded; CIEN loaded; CIFR loaded; CIG loaded; CIGI loaded; CIIT loaded; CIK loaded; CILJF loaded; CIM loaded; CINF loaded; CING loaded; CINT loaded; CIO loaded; CION loaded; CIPI loaded; CISO loaded; CISS loaded; CITE loaded; CIVB loaded; CIVI loaded; CIX loaded; CIZN loaded; CJJD loaded; CKPT loaded; CKX loaded; CL loaded; CLAR loaded; CLB loaded; CLBK loaded; CLBR loaded; CLBT loaded; CLCO loaded; CLDT loaded; CLDX loaded; CLEU loaded; CLF loaded; CLFD loaded; CLGN loaded; CLH loaded; CLIR loaded; CLLS loaded; CLMB loaded; CLNE loaded; CLOE loaded; CLOV loaded; CLPR loaded; CLPS loaded; CLPT loaded; CLRB loaded; CLRC loaded; CLRO loaded; CLS loaded; CLSD loaded; CLSK loaded; CLST loaded; CLVR loaded; CLVT loaded; CLW loaded; CLWT loaded; CLX loaded; CM loaded; CMA loaded; CMAX loaded; CMBM loaded; CMC loaded; CMCL loaded; CMCM loaded; CMCO loaded; CMCSA loaded; CMCT loaded; CME loaded; CMG loaded; CMI loaded; CMLS loaded; CMMB loaded; CMND loaded; CMP loaded; CMPO loaded; CMPR loaded; CMPS loaded; CMPX loaded; CMRE loaded; CMRF loaded; CMRX loaded; CMS loaded; CMT loaded; CMTG loaded; CMTL loaded; CMTV loaded; CNA loaded; CNC loaded; CNDA loaded; CNDT loaded; CNET loaded; CNF loaded; CNFR loaded; CNGL loaded; CNH loaded; CNI loaded; CNK loaded; CNM loaded; CNMD loaded; CNNE loaded; CNO loaded; CNOB loaded; CNP loaded; CNQ loaded; CNS loaded; CNSL loaded; CNTA loaded; CNTB loaded; CNTHP loaded; CNTX loaded; CNTY loaded; CNVS loaded; CNX loaded; CNXC loaded; CNXN loaded; CNXX loaded; COBA loaded; COCH loaded; COCO loaded; COCP loaded; CODA loaded; CODI loaded; CODQL loaded; CODX loaded; COE loaded; COF loaded; COFS loaded; COGT loaded; COHN loaded; COHR loaded; COHU loaded; COIN loaded; COKE loaded; COLB loaded; COLD loaded; COLL loaded; COLM loaded; COMM loaded; COMP loaded; COO loaded; COOK loaded; COOP loaded; COOT loaded; COP loaded; COR loaded; CORBF loaded; CORT loaded; CORZ loaded; COSM loaded; COST loaded; COTY loaded; COUR loaded; COYA loaded; CP loaded; CPA loaded; CPAC loaded; CPAY loaded; CPB loaded; CPBI loaded; CPER loaded; CPF loaded; CPHC loaded; CPIX loaded; CPK loaded; CPNG loaded; CPOP loaded; CPPTL loaded; CPRI loaded; CPRT loaded; CPRX loaded; CPS loaded; CPSH loaded; CPSS loaded; CPT loaded; CPTN loaded; CPTP loaded; CPZ loaded; CQP loaded; CR loaded; CRAI loaded; CRAWA loaded; CRBG loaded; CRBP loaded; CRBU loaded; CRC loaded; CRCT loaded; CRDE loaded; CRDF loaded; CRDL loaded; CRDO loaded; CREG loaded; CRESY loaded; CREV loaded; CREX loaded; CRGO loaded; CRGX loaded; CRGY loaded; CRH loaded; CRI loaded; CRIS loaded; CRK loaded; CRL loaded; CRLBF loaded; CRLKP loaded; CRM loaded; CRMD loaded; CRML loaded; CRMT loaded; CRMZ loaded; CRNC loaded; CRNT loaded; CRNX loaded; CRON loaded; CROX loaded; CRS loaded; CRSP loaded; CRSR loaded; CRT loaded; CRTD loaded; CRTO loaded; CRUS loaded; CRVL loaded; CRVO loaded; CRVS loaded; CRWD loaded; CRWS loaded; CSAN loaded; CSBB loaded; CSBR loaded; CSCO loaded; CSGP loaded; CSGS loaded; CSIQ loaded; CSL loaded; CSLM loaded; CSLR loaded; CSPI loaded; CSQ loaded; CSR loaded; CSTAF loaded; CSTE loaded; CSTL loaded; CSTM loaded; CSV loaded; CSWC loaded; CSWI loaded; CSX loaded; CTAS loaded; CTBB loaded; CTBI loaded; CTCX loaded; CTGO loaded; CTHR loaded; CTKB loaded; CTLP loaded; CTLT loaded; CTMX loaded; CTNM loaded; CTO loaded; CTOS loaded; CTR loaded; CTRA loaded; CTRE loaded; CTRI loaded; CTRM loaded; CTRN loaded; CTS loaded; CTSH loaded; CTSO loaded; CTV loaded; CTVA loaded; CTXR loaded; CUBE loaded; CUBI loaded; CUE loaded; CUK loaded; CULL loaded; CULP loaded; CURI loaded; CURLF loaded; CURV loaded; CUTR loaded; CUZ loaded; CVAC loaded; CVBF loaded; CVCO loaded; CVE loaded; CVEO loaded; CVGI loaded; CVGW loaded; CVI loaded; CVLG loaded; CVLT loaded; CVM loaded; CVNA loaded; CVR loaded; CVRX loaded; CVS loaded; CVU loaded; CVV loaded; CVX loaded; CW loaded; CWAN loaded; CWBC loaded; CWBR loaded; CWCO loaded; CWD loaded; CWEN loaded; CWGL loaded; CWH loaded; CWK loaded; CWST loaded; CWT loaded; CX loaded; CXAI loaded; CXDO loaded; CXM loaded; CXT loaded; CXW loaded; CYBR loaded; CYCC loaded; CYCN loaded; CYD loaded; CYH loaded; CYRX loaded; CYTH loaded; CYTK loaded; CYTO loaded; CZFS loaded; CZNC loaded; CZR loaded; CZWI loaded; D loaded; DAC loaded; DADA loaded; DAIO loaded; DAKT loaded; DAL loaded; DALN loaded; DAN loaded; DAO loaded; DAR loaded; DASH loaded; DATS loaded; DAVA loaded; DAVE loaded; DAWN loaded; DAY loaded; DB loaded; DBA loaded; DBB loaded; DBC loaded; DBD loaded; DBE loaded; DBGI loaded; DBI loaded; DBO loaded; DBP loaded; DBRG loaded; DBVT loaded; DBX loaded; DC loaded; DCBO loaded; DCFCQ loaded; DCGO loaded; DCI loaded; DCO loaded; DCOM loaded; DCTH loaded; DD loaded; DDC loaded; DDD loaded; DDI loaded; DDL loaded; DDOG loaded; DDS loaded; DE loaded; DEA loaded; DEC loaded; DECA loaded; DECK loaded; DEFI loaded; DEI loaded; DELL loaded; DENN loaded; DEO loaded; DERM loaded; DESP loaded; DFH loaded; DFIN loaded; DFLI loaded; DFS loaded; DG loaded; DGHI loaded; DGICA loaded; DGII loaded; DGLY loaded; DGX loaded; DH loaded; DHAI loaded; DHC loaded; DHI loaded; DHIL loaded; DHR loaded; DHT loaded; DHX loaded; DHY loaded; DIAX loaded; DIBS loaded; DIDIY loaded; DIN loaded; DINO loaded; DIOD loaded; DIS loaded; DIST loaded; DIT loaded; DJCO loaded; DJT loaded; DK loaded; DKL loaded; DKNG loaded; DKS loaded; DLB loaded; DLHC loaded; DLNG loaded; DLO loaded; DLPN loaded; DLR loaded; DLTH loaded; DLTR loaded; DLX loaded; DM loaded; DMA loaded; DMAC loaded; DMLP loaded; DMRC loaded; DMSL loaded; DMYY loaded; DNB loaded; DNLI loaded; DNMR loaded; DNN loaded; DNOW loaded; DNTH loaded; DNUT loaded; DO loaded; DOC loaded; DOCN loaded; DOCS loaded; DOCU loaded; DOGZ loaded; DOLE loaded; DOMA loaded; DOMH loaded; DOMO loaded; DOOO loaded; DORM loaded; DOUG loaded; DOV loaded; DOW loaded; DOX loaded; DOYU loaded; DPCS loaded; DPZ loaded; DQ loaded; DRCT loaded; DRD loaded; DRH loaded; DRI loaded; DRIO loaded; DRMA loaded; DRQ loaded; DRRX loaded; DRS loaded; DRTS loaded; DRUG loaded; DRVN loaded; DSAQ loaded; DSGN loaded; DSGR loaded; DSGX loaded; DSNY loaded; DSP loaded; DSS loaded; DSWL loaded; DSX loaded; DT loaded; DTC loaded; DTCK loaded; DTE loaded; DTI loaded; DTIL loaded; DTM loaded; DTSS loaded; DTST loaded; DUET loaded; DUK loaded; DUO loaded; DUOL loaded; DUOT loaded; DV loaded; DVA loaded; DVAX loaded; DVN loaded; DWSN loaded; DX loaded; DXC loaded; DXCM loaded; DXLG loaded; DXPE loaded; DXR loaded; DXYN loaded; DY loaded; DYAI loaded; DYCQ loaded; DYN loaded; DYNR loaded; DZSI loaded; E loaded; EA loaded; EACO loaded; EAD loaded; EAF loaded; EAI loaded; EARN loaded; EAST loaded; EAT loaded; EB loaded; EBAY loaded; EBC loaded; EBF loaded; EBMT loaded; EBON loaded; EBR loaded; EBS loaded; EBTC loaded; EC loaded; ECBK loaded; ECC loaded; ECDA loaded; ECL loaded; ECO loaded; ECOR loaded; ECPG loaded; ECTM loaded; ECVT loaded; ECX loaded; ED loaded; EDAP loaded; EDBL loaded; EDIT loaded; EDN loaded; EDR loaded; EDRY loaded; EDSA loaded; EDTK loaded; EDU loaded; EDUC loaded; EE loaded; EEFT loaded; EEIQ loaded; EEX loaded; EFC loaded; EFOI loaded; EFR loaded; EFSC loaded; EFSI loaded; EFT loaded; EFTR loaded; EFX loaded; EFXT loaded; EG loaded; EGAN loaded; EGBN loaded; EGHT loaded; EGIO loaded; EGO loaded; EGP loaded; EGRX loaded; EGY loaded; EH loaded; EHAB loaded; EHC loaded; EHTH loaded; EIC loaded; EIG loaded; EIGRQ loaded; EIM loaded; EIX loaded; EJH loaded; EKSO loaded; EL loaded; ELA loaded; ELAB loaded; ELAN loaded; ELC loaded; ELDN loaded; ELEV loaded; ELF loaded; ELLO loaded; ELMD loaded; ELME loaded; ELOX loaded; ELP loaded; ELS loaded; ELSE loaded; ELTK loaded; ELTX loaded; ELUT loaded; ELV loaded; ELVA loaded; ELVN loaded; ELWS loaded; ELYM loaded; EM loaded; EMBC loaded; EMCG loaded; EME loaded; EMKR loaded; EML loaded; EMN loaded; EMO loaded; EMP loaded; EMR loaded; EMRAF loaded; EMX loaded; EMYB loaded; ENB loaded; ENBP loaded; ENDI loaded; ENFN loaded; ENG loaded; ENGN loaded; ENIC loaded; ENJ loaded; ENLC loaded; ENLT loaded; ENLV loaded; ENOV loaded; ENPH loaded; ENR loaded; ENS loaded; ENSC loaded; ENSG loaded; ENTA loaded; ENTG loaded; ENTO loaded; ENTX loaded; ENV loaded; ENVA loaded; ENVB loaded; ENVX loaded; ENX loaded; ENZ loaded; EOD loaded; EOG loaded; EOLS loaded; EOSE loaded; EOT loaded; EP loaded; EPAC loaded; EPAM loaded; EPC loaded; EPD loaded; EPIX loaded; EPM loaded; EPOW loaded; EPR loaded; EPRT loaded; EPRX loaded; EPSN loaded; EQ loaded; EQBK loaded; EQC loaded; EQH loaded; EQIX loaded; EQNR loaded; EQR loaded; EQS loaded; EQT loaded; EQX loaded; ERAS loaded; ERC loaded; ERH loaded; ERIC loaded; ERIE loaded; ERII loaded; ERJ loaded; ERLFF loaded; ERNA loaded; ERO loaded; ES loaded; ESAB loaded; ESBA loaded; ESCA loaded; ESE loaded; ESEA loaded; ESGH loaded; ESGL loaded; ESGR loaded; ESHA loaded; ESI loaded; ESLA loaded; ESLT loaded; ESNT loaded; ESOA loaded; ESP loaded; ESPR loaded; ESQ loaded; ESRT loaded; ESS loaded; ESSA loaded; ESTA loaded; ESTC loaded; ET loaded; ETCG loaded; ETD loaded; ETHE loaded; ETN loaded; ETNB loaded; ETON loaded; ETR loaded; ETSY loaded; ETWO loaded; ETX loaded; EU loaded; EUDA loaded; EVA loaded; EVAX loaded; EVBN loaded; EVC loaded; EVCM loaded; EVE loaded; EVER loaded; EVEX loaded; EVF loaded; EVG loaded; EVGN loaded; EVGO loaded; EVGR loaded; EVH loaded; EVI loaded; EVLV loaded; EVM loaded; EVN loaded; EVO loaded; EVR loaded; EVRG loaded; EVRI loaded; EVTC loaded; EVTL loaded; EVTV loaded; EVV loaded; EW loaded; EWBC loaded; EWCZ loaded; EWTX loaded; EXAI loaded; EXAS loaded; EXC loaded; EXEL loaded; EXFY loaded; EXK loaded; EXLS loaded; EXOD loaded; EXP loaded; EXPD loaded; EXPE loaded; EXPI loaded; EXPO loaded; EXR loaded; EXTO loaded; EXTR loaded; EYE loaded; EYEN loaded; EYPT loaded; EZBC loaded; EZFL loaded; EZGO loaded; EZOO loaded; EZPW loaded; F loaded; FA loaded; FAAS loaded; FAF loaded; FALC loaded; FAM loaded; FAMI loaded; FANG loaded; FANH loaded; FARM loaded; FARO loaded; FAST loaded; FAT loaded; FATE loaded; FBIN loaded; FBIO loaded; FBIZ loaded; FBK loaded; FBLG loaded; FBMS loaded; FBNC loaded; FBP loaded; FBRT loaded; FBRX loaded; FBYD loaded; FC loaded; FCAP loaded; FCBC loaded; FCCO loaded; FCEL loaded; FCF loaded; FCFS loaded; FCN loaded; FCNCA loaded; FCPT loaded; FCT loaded; FCX loaded; FDBC loaded; FDMT loaded; FDP loaded; FDS loaded; FDUS loaded; FDX loaded; FE loaded; FEAM loaded; FEBO loaded; FEDU loaded; FEIM loaded; FELE loaded; FEMY loaded; FENC loaded; FENG loaded; FER loaded; FET loaded; FF loaded; FFA loaded; FFBC loaded; FFIC loaded; FFIN loaded; FFIV loaded; FFNW loaded; FFWM loaded; FG loaded; FGB loaded; FGBI loaded; FGEN loaded; FGF loaded; FGI loaded; FGPR loaded; FHB loaded; FHI loaded; FHN loaded; FHTX loaded; FI loaded; FIAC loaded; FIBK loaded; FICO loaded; FIGS loaded; FIHL loaded; FINR loaded; FINV loaded; FINW loaded; FIP loaded; FIS loaded; FISI loaded; FITB loaded; FIVE loaded; FIVN loaded; FIX loaded; FIZZ loaded; FKWL loaded; FKYS loaded; FL loaded; FLCX loaded; FLEX loaded; FLGC loaded; FLGT loaded; FLIC loaded; FLL loaded; FLNC loaded; FLNG loaded; FLNT loaded; FLO loaded; FLR loaded; FLS loaded; FLUT loaded; FLUX loaded; FLWS loaded; FLXS loaded; FLYW loaded; FLYX loaded; FMAO loaded; FMBH loaded; FMBM loaded; FMC loaded; FMCB loaded; FMCC loaded; FMFG loaded; FMNB loaded; FMS loaded; FMST loaded; FMX loaded; FMY loaded; FN loaded; FNA loaded; FNB loaded; FNCH loaded; FND loaded; FNF loaded; FNGR loaded; FNKO loaded; FNLC loaded; FNMA loaded; FNRN loaded; FNV loaded; FNVT loaded; FNWB loaded; FNWD loaded; FOA loaded; FOLD loaded; FONR loaded; FOR loaded; FORA loaded; FORD loaded; FORL loaded; FORM loaded; FORR loaded; FORTY loaded; FOSL loaded; FOUR loaded; FOXA loaded; FOXF loaded; FPAY loaded; FPF loaded; FPH loaded; FPI loaded; FR loaded; FRAF loaded; FRBP loaded; FRD loaded; FREVS loaded; FREY loaded; FRFHF loaded; FRGE loaded; FRHC loaded; FRLA loaded; FRME loaded; FRO loaded; FROG loaded; FRPH loaded; FRPT loaded; FRSH loaded; FRST loaded; FRSX loaded; FRT loaded; FRTX loaded; FSBC loaded; FSBW loaded; FSCO loaded; FSEA loaded; FSEN loaded; FSFG loaded; FSI loaded; FSK loaded; FSLR loaded; FSLY loaded; FSM loaded; FSP loaded; FSS loaded; FSTR loaded; FSUN loaded; FSV loaded; FTAI loaded; FTCO loaded; FTDR loaded; FTEK loaded; FTEL loaded; FTFT loaded; FTHM loaded; FTHY loaded; FTI loaded; FTII loaded; FTK loaded; FTLF loaded; FTNT loaded; FTRE loaded; FTS loaded; FTV loaded; FUBO loaded; FUFU loaded; FUL loaded; FULC loaded; FULT loaded; FUNC loaded; FUSB loaded; FUTU loaded; FVCB loaded; FVRR loaded; FWRD loaded; FWRG loaded; FXA loaded; FXB loaded; FXC loaded; FXE loaded; FXF loaded; FXNC loaded; FXY loaded; FYBR loaded; G loaded; GABC loaded; GAIA loaded; GAIN loaded; GALT loaded; GAMB loaded; GAME loaded; GAN loaded; GANX loaded; GAQ loaded; GASS loaded; GATE loaded; GATO loaded; GATX loaded; GAU loaded; GB loaded; GBBK loaded; GBCI loaded; GBCS loaded; GBDC loaded; GBIO loaded; GBLI loaded; GBNY loaded; GBR loaded; GBTC loaded; GBTG loaded; GBX loaded; GCBC loaded; GCEH loaded; GCI loaded; GCMG loaded; GCO loaded; GCT loaded; GCTK loaded; GCTS loaded; GD loaded; GDC loaded; GDDY loaded; GDEN loaded; GDEV loaded; GDLC loaded; GDOT loaded; GDRX loaded; GDRZF loaded; GDS loaded; GDST loaded; GDTC loaded; GDYN loaded; GE loaded; GEBRF loaded; GECC loaded; GEF loaded; GEG loaded; GEHC loaded; GEL loaded; GEN loaded; GENC loaded; GENE loaded; GENI loaded; GENK loaded; GEO loaded; GEOS loaded; GERN loaded; GES loaded; GETY loaded; GEV loaded; GEVI loaded; GEVO loaded; GFAI loaded; GFF loaded; GFI loaded; GFL loaded; GFR loaded; GFS loaded; GGAL loaded; GGB loaded; GGG loaded; GGR loaded; GGROU loaded; GH loaded; GHC loaded; GHG loaded; GHI loaded; GHIX loaded; GHLD loaded; GHM loaded; GHRS loaded; GHSI loaded; GIB loaded; GIC loaded; GIFI loaded; GIGM loaded; GIII loaded; GIL loaded; GILD loaded; GILT loaded; GIPR loaded; GIS loaded; GJH loaded; GJO loaded; GJP loaded; GKOS loaded; GL loaded; GLAC loaded; GLAD loaded; GLASF loaded; GLBE loaded; GLBS loaded; GLBZ loaded; GLD loaded; GLDD loaded; GLDG loaded; GLDI loaded; GLDM loaded; GLGI loaded; GLLI loaded; GLNG loaded; GLO loaded; GLOB loaded; GLP loaded; GLPG loaded; GLPI loaded; GLQ loaded; GLRE loaded; GLSI loaded; GLST loaded; GLT loaded; GLTK loaded; GLTR loaded; GLUE loaded; GLV loaded; GLW loaded; GLXZ loaded; GM loaded; GMAB loaded; GMBL loaded; GME loaded; GMED loaded; GMGI loaded; GMM loaded; GMRE loaded; GMS loaded; GNE loaded; GNFT loaded; GNK loaded; GNL loaded; GNLX loaded; GNPX loaded; GNRC loaded; GNSS loaded; GNTA loaded; GNTX loaded; GNTY loaded; GNW loaded; GO loaded; GOAI loaded; GOCO loaded; GODN loaded; GOEV loaded; GOF loaded; GOGL loaded; GOGO loaded; GOLD loaded; GOLF loaded; GOOD loaded; GOOGL loaded; GOOS loaded; GORV loaded; GOSS loaded; GOTU loaded; GOVB loaded; GOVX loaded; GP loaded; GPC loaded; GPCR loaded; GPI loaded; GPJA loaded; GPK loaded; GPMT loaded; GPN loaded; GPOR loaded; GPRE loaded; GPRK loaded; GPRO loaded; GRAB loaded; GRBK loaded; GRC loaded; GRDI loaded; GREE loaded; GRFS loaded; GRMN loaded; GRND loaded; GRNQ loaded; GRNT loaded; GROV loaded; GROW loaded; GROY loaded; GRPN loaded; GRRR loaded; GRTS loaded; GRUSF loaded; GRVY loaded; GRWG loaded; GRYP loaded; GS loaded; GSAT loaded; GSBC loaded; GSBD loaded; GSG loaded; GSHD loaded; GSIT loaded; GSIW loaded; GSK loaded; GSL loaded; GSM loaded; GSUN loaded; GT loaded; GTAC loaded; GTBIF loaded; GTBP loaded; GTE loaded; GTEC loaded; GTES loaded; GTHX loaded; GTI loaded; GTIM loaded; GTLB loaded; GTLS loaded; GTN loaded; GTX loaded; GTY loaded; GUER loaded; GURE loaded; GUTS loaded; GV loaded; GVA loaded; GVH loaded; GVP loaded; GWH loaded; GWRE loaded; GWRS loaded; GWW loaded; GXAI loaded; GXLM loaded; GXO loaded; GYRE loaded; GYRO loaded; H loaded; HA loaded; HAE loaded; HAFC loaded; HAFN loaded; HAIA loaded; HAIN loaded; HAL loaded; HALO loaded; HAO loaded; HAS loaded; HASI loaded; HAWEL loaded; HAYN loaded; HAYW loaded; HBAN loaded; HBB loaded; HBCP loaded; HBI loaded; HBIA loaded; HBIO loaded; HBM loaded; HBNC loaded; HBT loaded; HCA loaded; HCAT loaded; HCC loaded; HCI loaded; HCKT loaded; HCM loaded; HCP loaded; HCSG loaded; HCTI loaded; HCVI loaded; HCWB loaded; HD loaded; HDB loaded; HDSN loaded; HE loaded; HEAR loaded; HEES loaded; HEI loaded; HELE loaded; HEPA loaded; HEPS loaded; HES loaded; HESM loaded; HFBL loaded; HFFG loaded; HFWA loaded; HG loaded; HGAS loaded; HGBL loaded; HGTY loaded; HGV loaded; HHGC loaded; HHH loaded; HHS loaded; HI loaded; HIG loaded; HIHO loaded; HII loaded; HIMS loaded; HIMX loaded; HIPO loaded; HITI loaded; HIVE loaded; HIW loaded; HKD loaded; HKIT loaded; HL loaded; HLF loaded; HLGN loaded; HLI loaded; HLIO loaded; HLIT loaded; HLLY loaded; HLMN loaded; HLN loaded; HLNE loaded; HLP loaded; HLT loaded; HLVX loaded; HLX loaded; HLXB loaded; HMC loaded; HMN loaded; HMNF loaded; HMST loaded; HMY loaded; HNI loaded; HNNA loaded; HNOI loaded; HNRA loaded; HNRG loaded; HNST loaded; HNVR loaded; HODL loaded; HOFT loaded; HOFV loaded; HOG loaded; HOLO loaded; HOLX loaded; HOMB loaded; HON loaded; HONE loaded; HOOD loaded; HOOK loaded; HOPE loaded; HOTH loaded; HOUR loaded; HOUS loaded; HOV loaded; HOVR loaded; HOWL loaded; HP loaded; HPCO loaded; HPE loaded; HPH loaded; HPK loaded; HPP loaded; HPQ loaded; HQH loaded; HQI loaded; HQL loaded; HQY loaded; HR loaded; HRB loaded; HRBR loaded; HRGN loaded; HRI loaded; HRL loaded; HRMY loaded; HRNNF loaded; HROW loaded; HRTG loaded; HRTX loaded; HRZN loaded; HSAI loaded; HSBC loaded; HSCS loaded; HSDT loaded; HSHP loaded; HSIC loaded; HSII loaded; HSON loaded; HSPO loaded; HST loaded; HSTC loaded; HSTM loaded; HSY loaded; HTBI loaded; HTBK loaded; HTCR loaded; HTGC loaded; HTH loaded; HTHT loaded; HTIA loaded; HTLD loaded; HTLF loaded; HTOO loaded; HTZ loaded; HUBB loaded; HUBC loaded; HUBG loaded; HUBS loaded; HUDA loaded; HUDI loaded; HUIZ loaded; HUM loaded; HUMA loaded; HUN loaded; HURC loaded; HURN loaded; HUSA loaded; HUT loaded; HUYA loaded; HVT loaded; HWBK loaded; HWC loaded; HWH loaded; HWKN loaded; HWM loaded; HXL loaded; HY loaded; HYAC loaded; HYEX loaded; HYFM loaded; HYLN loaded; HYMC loaded; HYPR loaded; HZEN loaded; HZO loaded; IAC loaded; IAG loaded; IART loaded; IAS loaded; IAU loaded; IAUM loaded; IAUX loaded; IBAC loaded; IBCP loaded; IBEX loaded; IBIO loaded; IBIT loaded; IBKR loaded; IBM loaded; IBN loaded; IBOC loaded; IBP loaded; IBRX loaded; IBTA loaded; IBTX loaded; ICAD loaded; ICCC loaded; ICCH loaded; ICCM loaded; ICCT loaded; ICE loaded; ICFI loaded; ICG loaded; ICHR loaded; ICL loaded; ICLK loaded; ICLR loaded; ICMB loaded; ICTSF loaded; ICUI loaded; IDA loaded; IDAI loaded; IDCC loaded; IDEX loaded; IDN loaded; IDR loaded; IDT loaded; IDXG loaded; IDXX loaded; IDYA loaded; IE loaded; IEHC loaded; IEP loaded; IESC loaded; IEX loaded; IFBD loaded; IFF loaded; IFN loaded; IFRX loaded; IFS loaded; IGIC loaded; IGMS loaded; IGT loaded; IGTA loaded; IH loaded; IHG loaded; IHRT loaded; IHS loaded; IHT loaded; III loaded; IIIN loaded; IIIV loaded; IINN loaded; IIPR loaded; IKNA loaded; IKT loaded; ILLMF loaded; ILMN loaded; ILPT loaded; IMAB loaded; IMAQ loaded; IMAX loaded; IMCR loaded; IMKTA loaded; IMMP loaded; IMMR loaded; IMMX loaded; IMNM loaded; IMNN loaded; IMO loaded; IMOS loaded; IMPP loaded; IMRN loaded; IMRX loaded; IMTE loaded; IMTH loaded; IMTX loaded; IMUX loaded; IMVT loaded; IMXI loaded; INAB loaded; INAQ loaded; INBK loaded; INBS loaded; INBX loaded; INCR loaded; INCY loaded; INDB loaded; INDI loaded; INDO loaded; INDP loaded; INDV loaded; INFA loaded; INFN loaded; INFU loaded; INFY loaded; ING loaded; INGN loaded; INGR loaded; INHD loaded; INKT loaded; INLX loaded; INMB loaded; INMD loaded; INN loaded; INNV loaded; INO loaded; INOD loaded; INSE loaded; INSG loaded; INSI loaded; INSM loaded; INSP loaded; INST loaded; INSW loaded; INTA loaded; INTC loaded; INTE loaded; INTG loaded; INTJ loaded; INTR loaded; INTS loaded; INTT loaded; INTU loaded; INTZ loaded; INVA loaded; INVE loaded; INVH loaded; INVO loaded; INVZ loaded; INZY loaded; IOBT loaded; IONI loaded; IONQ loaded; IONR loaded; IONS loaded; IOR loaded; IOSP loaded; IOT loaded; IOVA loaded; IP loaded; IPA loaded; IPAR loaded; IPB loaded; IPDN loaded; IPG loaded; IPGP loaded; IPHA loaded; IPI loaded; IPSC loaded; IPW loaded; IPWR loaded; IPX loaded; IPXX loaded; IQ loaded; IQV loaded; IR loaded; IRAA loaded; IRBT loaded; IRDM loaded; IREN loaded; IRIX loaded; IRM loaded; IRMD loaded; IRME loaded; IROH loaded; IRON loaded; IROQ loaded; IRRX loaded; IRS loaded; IRT loaded; IRTC loaded; IRWD loaded; ISBA loaded; ISDR loaded; ISPO loaded; ISPR loaded; ISRG loaded; ISRL loaded; ISSC loaded; ISTR loaded; IT loaded; ITCI loaded; ITGR loaded; ITI loaded; ITIC loaded; ITOS loaded; ITRG loaded; ITRI loaded; ITRM loaded; ITRN loaded; ITT loaded; ITUB loaded; ITW loaded; IVA loaded; IVAC loaded; IVCA loaded; IVCB loaded; IVCP loaded; IVDA loaded; IVFH loaded; IVP loaded; IVR loaded; IVT loaded; IVVD loaded; IVZ loaded; IX loaded; IXAQ loaded; IXHL loaded; IZEA loaded; IZM loaded; J loaded; JACK loaded; JAGX loaded; JAKK loaded; JAMF loaded; JANL loaded; JANX loaded; JAZZ loaded; JBGS loaded; JBHT loaded; JBI loaded; JBK loaded; JBL loaded; JBLU loaded; JBSAY loaded; JBSS loaded; JBT loaded; JCE loaded; JCI loaded; JCSE loaded; JCTCF loaded; JD loaded; JDZG loaded; JEF loaded; JELD loaded; JFIN loaded; JFR loaded; JFU loaded; JG loaded; JGH loaded; JHG loaded; JHX loaded; JILL loaded; JJSF loaded; JKHY loaded; JKS loaded; JLL loaded; JLS loaded; JMIA loaded; JMM loaded; JMSB loaded; JMTM loaded; JNJ loaded; JNPR loaded; JNVR loaded; JOBY loaded; JOE loaded; JOUT loaded; JPC loaded; JPI loaded; JPM loaded; JQC loaded; JRI loaded; JRS loaded; JRSH loaded; JRVR loaded; JSPR loaded; JUNE loaded; JUPGF loaded; JUSHF loaded; JUVF loaded; JVA loaded; JVSA loaded; JWEL loaded; JWN loaded; JWSM loaded; JXJT loaded; JXN loaded; JYD loaded; JYNT loaded; JZ loaded; K loaded; KACL loaded; KAI loaded; KALA loaded; KALU loaded; KALV loaded; KANP loaded; KAR loaded; KARO loaded; KAVL loaded; KB loaded; KBDC loaded; KBH loaded; KBR loaded; KBSR loaded; KC loaded; KD loaded; KDP loaded; KE loaded; KELYA loaded; KEN loaded; KEP loaded; KEQU loaded; KEX loaded; KEY loaded; KEYR loaded; KEYS loaded; KFFB loaded; KFRC loaded; KFS loaded; KFY loaded; KGC loaded; KGEI loaded; KGS loaded; KHC loaded; KIDS loaded; KIM loaded; KIND loaded; KINS loaded; KIO loaded; KIRK loaded; KKR loaded; KLAC loaded; KLG loaded; KLIC loaded; KLNG loaded; KLTR loaded; KLXE loaded; KMB loaded; KMDA loaded; KMI loaded; KMPR loaded; KMT loaded; KMX loaded; KN loaded; KNDI loaded; KNF loaded; KNOP loaded; KNSA loaded; KNSL loaded; KNTK loaded; KNW loaded; KNX loaded; KO loaded; KOD loaded; KODK loaded; KOF loaded; KOP loaded; KOPN loaded; KORE loaded; KOS loaded; KOSS loaded; KPLT loaded; KPTI loaded; KR loaded; KRBP loaded; KRC loaded; KREF loaded; KRG loaded; KRMD loaded; KRNT loaded; KRNY loaded; KRO loaded; KRON loaded; KROS loaded; KRP loaded; KRRO loaded; KRT loaded; KRUS loaded; KRYS loaded; KSM loaded; KSPI loaded; KSS loaded; KT loaded; KTB loaded; KTCC loaded; KTEL loaded; KTF loaded; KTH loaded; KTN loaded; KTOS loaded; KTTA loaded; KUBR loaded; KUKE loaded; KURA loaded; KVAC loaded; KVHI loaded; KVUE loaded; KVYO loaded; KW loaded; KWR loaded; KYMR loaded; KYN loaded; KYTX loaded; KZR loaded; L loaded; LAAC loaded; LAB loaded; LAC loaded; LAD loaded; LADR loaded; LADX loaded; LAES loaded; LAKE loaded; LAMR loaded; LANC loaded; LAND loaded; LANV loaded; LARK loaded; LASE loaded; LASR loaded; LATG loaded; LAUR loaded; LAW loaded; LAZ loaded; LAZR loaded; LBPH loaded; LBRDA loaded; LBRT loaded; LBTYA loaded; LC loaded; LCFY loaded; LCID loaded; LCII loaded; LCNB loaded; LCTC loaded; LCTX loaded; LCUT loaded; LCW loaded; LDDD loaded; LDI loaded; LDOS loaded; LDTC loaded; LDWY loaded; LE loaded; LEA loaded; LEAT loaded; LECO loaded; LEDS loaded; LEE loaded; LEG loaded; LEGH loaded; LEGN loaded; LEGT loaded; LEN loaded; LENZ loaded; LESL loaded; LEU loaded; LEV loaded; LEVI loaded; LEXX loaded; LFCR loaded; LFLY loaded; LFMD loaded; LFST loaded; LFT loaded; LFUS loaded; LFVN loaded; LFWD loaded; LGCB loaded; LGCL loaded; LGI loaded; LGIH loaded; LGL loaded; LGMK loaded; LGND loaded; LGO loaded; LGVN loaded; LH loaded; LHX loaded; LI loaded; LICN loaded; LICY loaded; LIDR loaded; LIFD loaded; LIFW loaded; LII loaded; LILA loaded; LILM loaded; LIN loaded; LINC loaded; LIND loaded; LINK loaded; LION loaded; LIPO loaded; LIQT loaded; LITB loaded; LITE loaded; LITM loaded; LIVE loaded; LIVN loaded; LIXT loaded; LKCO loaded; LKFN loaded; LKNCY loaded; LKQ loaded; LLAP loaded; LLY loaded; LMAT loaded; LMB loaded; LMFA loaded; LMND loaded; LMNR loaded; LMT loaded; LNBY loaded; LNC loaded; LND loaded; LNG loaded; LNKB loaded; LNN loaded; LNSR loaded; LNT loaded; LNTH loaded; LNW loaded; LNZA loaded; LOAN loaded; LOAR loaded; LOB loaded; LOBO loaded; LOCL loaded; LOCO loaded; LOGC loaded; LOGI loaded; LOMA loaded; LOOP loaded; LOPE loaded; LOT loaded; LOVE loaded; LOW loaded; LPA loaded; LPCN loaded; LPG loaded; LPL loaded; LPLA loaded; LPRO loaded; LPSN loaded; LPTH loaded; LPTX loaded; LPX loaded; LQDA loaded; LQDT loaded; LQR loaded; LRCX loaded; LRE loaded; LRFC loaded; LRHC loaded; LRMR loaded; LRN loaded; LSAK loaded; LSB loaded; LSBK loaded; LSCC loaded; LSEA loaded; LSF loaded; LSPD loaded; LSTA loaded; LSTR loaded; LSXMA"
     ]
    },
    {
     "name": "stdout",
     "output_type": "stream",
     "text": [
      " loaded; LTBR loaded; LTC loaded; LTCN loaded; LTH loaded; LTRN loaded; LTRX loaded; LTRY loaded; LU loaded; LUCD loaded; LULU loaded; LUMN loaded; LUMO loaded; LUNA loaded; LUNG loaded; LUNR loaded; LUV loaded; LVLU loaded; LVO loaded; LVRO loaded; LVS loaded; LVTX loaded; LVWR loaded; LW loaded; LWAY loaded; LWLG loaded; LX loaded; LXEO loaded; LXFR loaded; LXP loaded; LXRX loaded; LXU loaded; LYB loaded; LYEL loaded; LYFT loaded; LYG loaded; LYT loaded; LYTS loaded; LYV loaded; LZ loaded; LZB loaded; LZM loaded; M loaded; MA loaded; MAA loaded; MAC loaded; MACT loaded; MAG loaded; MAIA loaded; MAIN loaded; MAMA loaded; MAMO loaded; MAN loaded; MANH loaded; MANU loaded; MAPS loaded; MAQC loaded; MAR loaded; MARA loaded; MARPS loaded; MARX loaded; MAS loaded; MASI loaded; MASS loaded; MAT loaded; MATH loaded; MATV loaded; MATW loaded; MATX loaded; MAX loaded; MAXN loaded; MBBC loaded; MBC loaded; MBCN loaded; MBI loaded; MBIN loaded; MBLY loaded; MBOT loaded; MBRX loaded; MBUU loaded; MBWM loaded; MC loaded; MCAA loaded; MCAG loaded; MCB loaded; MCBS loaded; MCD loaded; MCFT loaded; MCHP loaded; MCHX loaded; MCK loaded; MCO loaded; MCRB loaded; MCRI loaded; MCS loaded; MCUJF loaded; MCVT loaded; MCW loaded; MCY loaded; MD loaded; MDAI loaded; MDB loaded; MDBH loaded; MDGL loaded; MDIA loaded; MDJH loaded; MDLZ loaded; MDNAF loaded; MDRR loaded; MDRX loaded; MDT loaded; MDU loaded; MDV loaded; MDWD loaded; MDXG loaded; MDXH loaded; MEC loaded; MED loaded; MEDP loaded; MEDS loaded; MEEC loaded; MEG loaded; MEGI loaded; MEGL loaded; MEI loaded; MEIP loaded; MELI loaded; MEOH loaded; MERC loaded; MESA loaded; MESO loaded; MET loaded; META loaded; METC loaded; MFA loaded; MFC loaded; MFD loaded; MFG loaded; MFH loaded; MFI loaded; MFIC loaded; MFIN loaded; MG loaded; MGA loaded; MGEE loaded; getting MGHL embedding text length 916 START FORM 8-K -187 ... symbol MGHL text length 917\n",
      "MGIC loaded; MGIH loaded; MGLD loaded; MGM loaded; MGNI loaded; MGNX loaded; MGOL loaded; MGPI loaded; MGRC loaded; MGRM loaded; MGTX loaded; MGX loaded; MGY loaded; MGYR loaded; MHH loaded; MHK loaded; MHLD loaded; MHO loaded; MHUA loaded; MI loaded; MICS loaded; MIDD loaded; MIGI loaded; MIND loaded; MINM loaded; MIR loaded; MIRA loaded; MIRM loaded; MIST loaded; MITA loaded; MITK loaded; MITT loaded; MKC loaded; MKL loaded; MKSI loaded; MKTW loaded; MKTX loaded; ML loaded; MLAB loaded; MLCO loaded; MLEC loaded; MLGO loaded; MLI loaded; MLKN loaded; MLM loaded; MLNK loaded; MLP loaded; MLR loaded; MLSS loaded; MLTX loaded; MLYS loaded; MMA loaded; MMC loaded; MMI loaded; MMLP loaded; MMM loaded; MMS loaded; MMSI loaded; MMTRS loaded; MMV loaded; MMYT loaded; MNDO loaded; MNDR loaded; MNDY loaded; MNKD loaded; MNMD loaded; MNOV loaded; MNPR loaded; MNR loaded; MNRO loaded; MNSB loaded; MNSO loaded; MNST loaded; MNTK loaded; MNTN loaded; MNTX loaded; MNY loaded; MO loaded; MOB loaded; MOBQ loaded; MOBX loaded; MOD loaded; MODD loaded; MODG loaded; MODV loaded; MOFG loaded; MOGO loaded; MOGU loaded; MOH loaded; MOLN loaded; MOMO loaded; MOND loaded; MORN loaded; MOS loaded; MOV loaded; MP loaded; MPAA loaded; MPAD loaded; MPB loaded; MPC loaded; MPLX loaded; MPTI loaded; MPU loaded; MPW loaded; MPWR loaded; MPX loaded; MQ loaded; MRAM loaded; MRBK loaded; MRC loaded; MRCC loaded; MRCY loaded; MRDB loaded; MREO loaded; MRIN loaded; MRK loaded; MRKR loaded; MRM loaded; MRNA loaded; MRNO loaded; MRNS loaded; MRO loaded; MRSN loaded; MRT loaded; MRTN loaded; MRUS loaded; MRVI loaded; MRVL loaded; MRX loaded; MS loaded; MSA loaded; MSAI loaded; MSB loaded; MSBB loaded; MSBI loaded; MSC loaded; MSCF loaded; MSCI loaded; MSDL loaded; MSEX loaded; MSFT loaded; MSGE loaded; MSGM loaded; MSGS loaded; MSI loaded; MSM loaded; MSS loaded; MSSA loaded; MSTR loaded; MSVB loaded; MT loaded; MTA loaded; MTAL loaded; MTB loaded; MTBLY loaded; MTCH loaded; MTD loaded; MTDR loaded; MTEK loaded; MTEM loaded; MTEN loaded; MTEX loaded; MTG loaded; MTH loaded; MTLS loaded; MTN loaded; MTR loaded; MTRN loaded; MTRX loaded; MTSI loaded; MTTR loaded; MTUS loaded; MTW loaded; MTX loaded; MTZ loaded; MU loaded; MUFG loaded; MUGH loaded; MULN loaded; MUR loaded; MURA loaded; MUSA loaded; MUX loaded; MVBF loaded; MVIS loaded; MVO loaded; MWA loaded; MX loaded; MXC loaded; MXCT loaded; MXF loaded; MXL loaded; MYE loaded; MYFW loaded; MYGN loaded; MYNA loaded; MYND loaded; MYNZ loaded; MYO loaded; MYPS loaded; MYRG loaded; MYSZ loaded; MYTE loaded; NABL loaded; NAC loaded; NAD loaded; NAII loaded; NAMS loaded; NAN loaded; NANX loaded; NAOV loaded; NAPA loaded; NARI loaded; NAT loaded; NATH loaded; NATL loaded; NATR loaded; NAUT loaded; NAVI loaded; NAZ loaded; NB loaded; NBB loaded; NBBK loaded; NBHC loaded; NBIX loaded; NBR loaded; NBST loaded; NBTB loaded; NBTX loaded; NBY loaded; NC loaded; NCA loaded; NCDL loaded; NCI loaded; NCLH loaded; NCMI loaded; NCNA loaded; NCNO loaded; NCRA loaded; NCSM loaded; NCTY loaded; NDAQ loaded; NDLS loaded; NDMO loaded; NDP loaded; NDSN loaded; NE loaded; NEA loaded; NECB loaded; NEE loaded; NEGG loaded; NEM loaded; NEO loaded; NEOG loaded; NEON loaded; NEOV loaded; NEP loaded; NEPH loaded; NERV loaded; NESR loaded; NET loaded; NETD loaded; NEU loaded; NEUE loaded; NEWP loaded; NEWT loaded; NEXA loaded; NEXI loaded; NEXN loaded; NEXT loaded; NFBK loaded; NFE loaded; NFG loaded; NFGC loaded; NFLX loaded; NG loaded; NGD loaded; NGG loaded; NGL loaded; NGLD loaded; NGNE loaded; NGS loaded; NGVC loaded; NGVT loaded; NHC loaded; NHHS loaded; NHI loaded; NHIQ loaded; NHTC loaded; NI loaded; NIC loaded; NICE loaded; NICK loaded; NIKA loaded; NIM loaded; NINE loaded; NIO loaded; NISN loaded; NITO loaded; NIU loaded; NIVF loaded; NJR loaded; NKE loaded; NKGN loaded; NKSH loaded; NKTR loaded; NKTX loaded; NKX loaded; NL loaded; NLCP loaded; NLOP loaded; NLST loaded; NLY loaded; NMAI loaded; NMCO loaded; NMFC loaded; NMG loaded; NMGX loaded; NMHI loaded; NMI loaded; NMIH loaded; NMM loaded; NMPGY loaded; NMR loaded; NMRA loaded; NMRK loaded; NMS loaded; NMT loaded; NMTC loaded; NMZ loaded; NN loaded; NNAG loaded; NNBR loaded; NNDM loaded; NNE loaded; NNI loaded; NNN loaded; NNOX loaded; NNUP loaded; NNVC loaded; NNY loaded; NOA loaded; NOAH loaded; NOBH loaded; NOC loaded; NODK loaded; NOG loaded; NOK loaded; NOM loaded; NOMD loaded; NORD loaded; NOTE loaded; NOTV loaded; NOV loaded; NOVA loaded; NOVT loaded; NOVV loaded; NOW loaded; NPAB loaded; NPCE loaded; NPCT loaded; NPFD loaded; NPK loaded; NPO loaded; NPV loaded; NPWR loaded; NQP loaded; NR loaded; NRBO loaded; NRC loaded; NRDE loaded; NRDS loaded; NRDY loaded; NREF loaded; NRG loaded; NRGV loaded; NRIM loaded; NRIX loaded; NRK loaded; NRP loaded; NRSN loaded; NRT loaded; NRUC loaded; NRXP loaded; NRXS loaded; NSA loaded; NSARO loaded; NSC loaded; NSIT loaded; NSP loaded; NSPR loaded; NSRCF loaded; NSSC loaded; NSTS loaded; NSYS loaded; NTAP loaded; NTB loaded; NTBL loaded; NTCT loaded; NTES loaded; NTG loaded; NTGR loaded; NTIC loaded; NTIP loaded; NTLA loaded; NTNX loaded; NTPIF loaded; NTR loaded; NTRA loaded; NTRB loaded; NTRP loaded; NTRS loaded; NTST loaded; NTWK loaded; NTZ loaded; NU loaded; NUE loaded; NUKK loaded; NURO loaded; NUS loaded; NUTX loaded; NUV loaded; NUVB loaded; NUVL loaded; NUVR loaded; NUW loaded; NUZE loaded; NVAC loaded; NVAX loaded; NVCR loaded; NVCT loaded; NVDA loaded; NVEC loaded; NVEE loaded; NVEI loaded; NVFY loaded; NVG loaded; NVGS loaded; NVMI loaded; NVNI loaded; NVNO loaded; NVO loaded; NVOS loaded; NVR loaded; NVRI loaded; NVRO loaded; NVS loaded; NVST loaded; NVT loaded; NVTS loaded; NVVE loaded; NVX loaded; NWBI loaded; NWE loaded; NWFL loaded; NWG loaded; NWGL loaded; NWL loaded; NWN loaded; NWPP loaded; NWPX loaded; NWSA loaded; NWTN loaded; NX loaded; NXC loaded; NXDT loaded; NXE loaded; NXGL loaded; NXJ loaded; NXL loaded; NXN loaded; NXP loaded; NXPI loaded; NXPL loaded; NXRT loaded; NXST loaded; NXT loaded; NXTC loaded; NXTT loaded; NYAX loaded; NYC loaded; NYCB loaded; NYMT loaded; NYT loaded; NYXH loaded; NZF loaded; O loaded; OABI loaded; OAKU loaded; OB loaded; OBDC loaded; OBDE loaded; OBE loaded; OBIO loaded; OBK loaded; OBT loaded; OBTC loaded; OC loaded; OCAX loaded; OCC loaded; OCEA loaded; OCFC loaded; OCFT loaded; OCG loaded; OCGN loaded; OCS loaded; OCSL loaded; OCUL loaded; OCUP loaded; OCX loaded; ODC loaded; ODD loaded; ODFL loaded; ODP loaded; ODV loaded; ODYS loaded; OEC loaded; OESX loaded; OFED loaded; OFG loaded; OFIX loaded; OFLX loaded; OFS loaded; OGE loaded; OGEN loaded; OGI loaded; OGN loaded; OGS loaded; OHI loaded; OI loaded; OII loaded; OIS loaded; OKE loaded; OKLO loaded; OKTA loaded; OKYO loaded; OLB loaded; OLED loaded; OLLI loaded; OLMA loaded; OLN loaded; OLO loaded; OLP loaded; OLPX loaded; OM loaded; OMAB loaded; OMC loaded; OMCL loaded; OMER loaded; OMEX loaded; OMF loaded; OMGA loaded; OMH loaded; OMI loaded; ON loaded; ONB loaded; ONCT loaded; ONCY loaded; ONDS loaded; ONEI loaded; ONEW loaded; ONFO loaded; ONL loaded; ONMD loaded; ONON loaded; ONTF loaded; ONTO loaded; ONVO loaded; ONYX loaded; OOMA loaded; OP loaded; OPAD loaded; OPAL loaded; OPBK loaded; OPCH loaded; OPEN loaded; OPFI loaded; OPGN loaded; OPHC loaded; OPI loaded; OPK loaded; OPOF loaded; OPRA loaded; OPRT loaded; OPRX loaded; OPT loaded; OPTN loaded; OPTX loaded; OPXS loaded; OPY loaded; OR loaded; ORA loaded; ORAN loaded; ORC loaded; ORCL loaded; ORGN loaded; ORGO loaded; ORI loaded; ORIC loaded; ORLA loaded; ORLY loaded; ORMP loaded; ORN loaded; ORRF loaded; OSBC loaded; OSCR loaded; OSIS loaded; OSK loaded; OSPN loaded; OSS loaded; OSUR loaded; OSW loaded; OTEX loaded; OTIS loaded; OTLK loaded; OTLY loaded; OTTR loaded; OUNZ loaded; OUST loaded; OUT loaded; OVBC loaded; OVID loaded; OVLY loaded; OVV loaded; OWL loaded; OWLT loaded; OXBR loaded; OXM loaded; OXSQ loaded; OXY loaded; OZ loaded; PAA loaded; PAAS loaded; PAC loaded; PACB loaded; PACK loaded; PACS loaded; PAG loaded; PAGP loaded; PAGS loaded; PAHC loaded; PAL loaded; PALI loaded; PALL loaded; PALT loaded; PAM loaded; PANL loaded; PANW loaded; PAPL loaded; PAR loaded; PARA loaded; PARR loaded; PASG loaded; PATH loaded; PATK loaded; PAVM loaded; PAVS loaded; PAX loaded; PAY loaded; PAYC loaded; PAYO loaded; PAYS loaded; PAYX loaded; PB loaded; PBA loaded; PBBK loaded; PBF loaded; PBFS loaded; PBH loaded; PBHC loaded; PBI loaded; PBM loaded; PBPB loaded; PBR loaded; PBSV loaded; PBT loaded; PBYI loaded; PCAR loaded; PCB loaded; PCCYF loaded; PCF loaded; PCG loaded; PCH loaded; PCK loaded; PCM loaded; PCN loaded; PCOK loaded; PCOR loaded; PCQ loaded; PCRX loaded; PCSA loaded; PCT loaded; PCTY loaded; PCVX loaded; PCYO loaded; PD loaded; PDCO loaded; PDD loaded; PDEX loaded; PDFS loaded; PDLB loaded; PDM loaded; PDS loaded; PDSB loaded; PDX loaded; PDYN loaded; PEB loaded; PEBK loaded; PEBO loaded; PECO loaded; PED loaded; PEG loaded; PEGA loaded; PEN loaded; PENN loaded; PEP loaded; PEPG loaded; PERF loaded; PERI loaded; PESI loaded; PET loaded; PETQ loaded; PETS loaded; PETV loaded; PETZ loaded; PEV loaded; PFBX loaded; PFC loaded; PFE loaded; PFG loaded; PFGC loaded; PFHO loaded; PFIE loaded; PFIS loaded; PFL loaded; PFLT loaded; PFMT loaded; PFN loaded; PFS loaded; PFSB loaded; PFSI loaded; PFTA loaded; PFX loaded; PG loaded; PGC loaded; PGEN loaded; PGNY loaded; PGR loaded; PGRE loaded; PGRU loaded; PGY loaded; PGZ loaded; PH loaded; PHAR loaded; PHAT loaded; PHCI loaded; PHG loaded; PHI loaded; PHIN loaded; PHIO loaded; PHK loaded; PHM loaded; PHR loaded; PHUN loaded; PHVS loaded; PHX loaded; PHYS loaded; PHYT loaded; PI loaded; PII loaded; PIII loaded; PIK loaded; PIM loaded; PINC loaded; PINE loaded; PINS loaded; PIPR loaded; PIRS loaded; PIXY loaded; PJT loaded; PK loaded; PKBK loaded; PKE loaded; PKG loaded; PKOH loaded; PKST loaded; PKX loaded; PL loaded; PLAB loaded; PLAO loaded; PLAY loaded; PLBC loaded; PLBY loaded; PLCE loaded; PLD loaded; PLG loaded; PLL loaded; PLMI loaded; PLMJ loaded; PLMR loaded; PLNH loaded; PLNT loaded; PLOW loaded; PLPC loaded; PLRX loaded; PLSE loaded; PLTK loaded; PLTR loaded; PLUG loaded; PLUR loaded; PLUS loaded; PLX loaded; PLXS loaded; PLYA loaded; PLYM loaded; PM loaded; PMCB loaded; PMD loaded; PMEC loaded; PMF loaded; PMHG loaded; PML loaded; PMN loaded; PMNT loaded; PMO loaded; PMT loaded; PMTS loaded; PMVP loaded; PMX loaded; PNBK loaded; PNC loaded; PNF loaded; PNFP loaded; PNI loaded; PNMXO loaded; PNNT loaded; PNR loaded; PNRG loaded; PNRLF loaded; PNST loaded; PNTG loaded; PNW loaded; POAI loaded; POCI loaded; PODC loaded; PODD loaded; POET loaded; POOL loaded; POR loaded; PORT loaded; POST loaded; POWI loaded; POWL loaded; POWW loaded; PPBI loaded; PPBT loaded; PPC loaded; PPG loaded; PPIH loaded; PPL loaded; PPLT loaded; PPSI loaded; PPT loaded; PPTA loaded; PPWLM loaded; PPYA loaded; PR loaded; PRA loaded; PRAA loaded; PRAX loaded; PRCH loaded; PRCT loaded; PRDO loaded; PRE loaded; PRFT loaded; PRG loaded; PRGO loaded; PRGS loaded; PRI loaded; PRIM loaded; PRK loaded; PRKS loaded; PRLB loaded; PRLD loaded; PRLH loaded; PRM loaded; PRME loaded; PRMW loaded; PRO loaded; PROC loaded; PROF loaded; PROK loaded; PROP loaded; PROV loaded; PRPH loaded; PRPL loaded; PRPO loaded; PRQR loaded; PRSO loaded; PRT loaded; PRTA loaded; PRTC loaded; PRTH loaded; PRTS loaded; PRU loaded; PRVA loaded; PRZO loaded; PSA loaded; PSBD loaded; PSEC loaded; PSFE loaded; PSHG loaded; PSIX loaded; PSLV loaded; PSMT loaded; PSN loaded; PSNL loaded; PSNY loaded; PSO loaded; PSQH loaded; PSTG loaded; PSTL loaded; PSTV loaded; PSTX loaded; PSX loaded; PT loaded; PTC loaded; PTCT loaded; PTEN loaded; PTGX loaded; PTIX loaded; PTLO loaded; PTMN loaded; PTN loaded; PTON loaded; PTSI loaded; PTVE loaded; PTWO loaded; PTY loaded; PUBM loaded; PUCK loaded; PUK loaded; PULM loaded; PUMP loaded; PVBC loaded; PVH loaded; PVL loaded; PW loaded; PWM loaded; PWOD loaded; PWP loaded; PWR loaded; PWSC loaded; PWUP loaded; PX loaded; PXDT loaded; PXLW loaded; PXS loaded; PYCR loaded; PYN loaded; PYPD loaded; PYPL loaded; PYT loaded; PYXS loaded; PYYX loaded; PZC loaded; PZZA loaded; QBTS loaded; QCOM loaded; QCRH loaded; QD loaded; QDEL loaded; QDMI loaded; QETA loaded; QFIN loaded; QGEN loaded; QIPT loaded; QLYS loaded; QNBC loaded; QNCX loaded; QNRX loaded; QNST loaded; QNTO loaded; QOMO loaded; QQQX loaded; QRHC loaded; QRTEA loaded; QRVO loaded; QS loaded; QSG loaded; QSI loaded; QSJC loaded; QSR loaded; QTI loaded; QTRX loaded; QTTB loaded; QTWO loaded; QUAD loaded; QUBT loaded; QUIK loaded; QURE loaded; QURT loaded; QVCD loaded; R loaded; RACE loaded; RAIL loaded; RAMP loaded; RAND loaded; RANI loaded; RAPH loaded; RAPT loaded; RARE loaded; RAVE loaded; RAY loaded; RAYA loaded; RBA loaded; RBB loaded; RBBN loaded; RBC loaded; RBCAA loaded; RBKB loaded; RBLX loaded; RBRK loaded; RC loaded; RCAT loaded; RCEL loaded; RCFA loaded; RCI loaded; RCKT loaded; RCKY loaded; RCL loaded; RCM loaded; RCMT loaded; RCON loaded; RCRT loaded; RCUS loaded; RDCM loaded; RDDT loaded; RDFN loaded; RDI loaded; RDN loaded; RDNT loaded; RDUS loaded; RDVT loaded; RDW loaded; RDWR loaded; RDY loaded; RDZN loaded; REAL loaded; REAX loaded; REBN loaded; REE loaded; REED loaded; REFI loaded; REFR loaded; REG loaded; REGN loaded; REI loaded; REKR loaded; RELL loaded; RELX loaded; RELY loaded; RENB loaded; RENE loaded; RENT loaded; REPL loaded; REPX loaded; RERE loaded; RES loaded; RETO loaded; REVB loaded; REVG loaded; REX loaded; REXR loaded; REYN loaded; REZI loaded; RF loaded; RFAC loaded; RFIL loaded; RFL loaded; RGA loaded; RGBP loaded; RGC loaded; RGCO loaded; RGEN loaded; RGF loaded; RGLD loaded; RGLS loaded; RGNX loaded; RGP loaded; RGR loaded; RGS loaded; RGT loaded; RGTI loaded; RH loaded; RHE loaded; RHI loaded; RHP loaded; RICK loaded; RIG loaded; RIGL loaded; RILY loaded; RIO loaded; RIOT loaded; RITM loaded; RIV loaded; RIVN loaded; RJF loaded; RKDA loaded; RKLB loaded; RKT loaded; RL loaded; RLAY loaded; RLFTY loaded; RLGT loaded; RLI loaded; RLJ loaded; RLMD loaded; RLX loaded; RLYB loaded; RM loaded; RMAX loaded; RMBI loaded; RMBL loaded; RMBS loaded; RMCF loaded; RMCO loaded; RMD loaded; RMGCF loaded; RMNI loaded; RMR loaded; RMT loaded; RMTI loaded; RNA loaded; RNAC loaded; RNAZ loaded; RNG loaded; RNGR loaded; RNR loaded; RNST loaded; RNW loaded; RNXT loaded; ROAD loaded; ROCK loaded; ROCL loaded; ROG loaded; ROIC loaded; ROIV loaded; ROK loaded; ROKU loaded; ROL loaded; ROMA loaded; ROOT loaded; ROP loaded; ROST loaded; RPAY loaded; RPD loaded; RPHM loaded; RPID loaded; RPM loaded; RPMT loaded; RPRX loaded; RPTX loaded; RR loaded; RRAC loaded; RRBI loaded; RRC loaded; RRGB loaded; RRR loaded; RRX loaded; RS loaded; RSG loaded; RSI loaded; RSKD loaded; RSKIA loaded; RSRV loaded; RSSS loaded; RSTN loaded; RSTRF loaded; RSVR loaded; RTC loaded; RTNTF loaded; RTO loaded; RTX loaded; RUM loaded; RUN loaded; RUSHA loaded; RVLV loaded; RVMD loaded; RVNC loaded; RVP loaded; RVPH loaded; RVSB loaded; RVSN loaded; RVT loaded; RVTY loaded; RVYL loaded; RWAY loaded; RWT loaded; RXMD loaded; RXO loaded; RXRX loaded; RXST loaded; RXT loaded; RY loaded; RYAAY loaded; RYAM loaded; RYAN loaded; RYDE loaded; RYI loaded; RYN loaded; RYTM loaded; RZLT loaded; S loaded; SA loaded; SABA loaded; SABR loaded; SABS loaded; SACH loaded; SAFE loaded; SAFT loaded; SAGE loaded; SAH loaded; SAI loaded; SAIA loaded; SAIC loaded; SAM loaded; SAMG loaded; SAN loaded; SANA loaded; SAND loaded; SANG loaded; SANM loaded; SAP loaded; SAR loaded; SASR loaded; SATL loaded; SATS loaded; SATX loaded; SAVA loaded; SAVE loaded; SB loaded; SBAC loaded; SBCF loaded; SBET loaded; SBFG loaded; SBGI loaded; SBH loaded; SBLK loaded; SBR loaded; SBRA loaded; SBS loaded; SBSI loaded; SBSW loaded; SBT loaded; SBUX loaded; SBXC loaded; SCCO loaded; SCHL loaded; SCHW loaded; SCI loaded; SCIA loaded; SCKT loaded; SCL loaded; SCLX loaded; SCM loaded; SCND loaded; SCNI loaded; SCOR loaded; SCPH loaded; SCS loaded; SCSC loaded; SCVL loaded; SCWO loaded; SCWX loaded; SCYX loaded; SD loaded; SDA loaded; SDGR loaded; SDHC loaded; SDIG loaded; SDRL loaded; SE loaded; SEAC loaded; SEAT loaded; SEB loaded; SEDA loaded; SEDG loaded; SEE loaded; SEED loaded; SEEL loaded; SEER loaded; SEIC loaded; SELF loaded; SELX loaded; SEM loaded; SEMR loaded; SENEA loaded; SER loaded; SERA loaded; SERV loaded; SES loaded; SEVN loaded; SEZL loaded; SF loaded; SFBC loaded; SFBS loaded; SFDL loaded; SFES loaded; SFIX loaded; SFL loaded; SFM loaded; SFNC loaded; SFST loaded; SFWL loaded; SG loaded; SGA loaded; SGBX loaded; SGC loaded; SGE loaded; SGH loaded; SGHC loaded; SGHT loaded; SGLY loaded; SGMA loaded; SGML loaded; SGMT loaded; SGOL loaded; SGRP loaded; SGRY loaded; SGTM loaded; SGU loaded; SHAK loaded; SHBI loaded; SHC loaded; SHCO loaded; SHCR loaded; SHEL loaded; SHEN loaded; SHFS loaded; SHG loaded; SHIM loaded; SHIP loaded; SHLS loaded; SHLT loaded; SHMD loaded; SHO loaded; SHOO loaded; SHOP loaded; SHOT loaded; SHW loaded; SHYF loaded; SIBN loaded; SID loaded; SIDU loaded; SIEB loaded; SIF loaded; SIG loaded; SIGA loaded; SIGI loaded; SII loaded; SILC loaded; SILK loaded; SILO loaded; SILV loaded; SIM loaded; SIMO loaded; SINT loaded; SIRI loaded; SISI loaded; SITC loaded; SITE loaded; SITM loaded; SIVR loaded; SJ loaded; SJM loaded; SJT loaded; SJW loaded; SKAS loaded; SKE loaded; SKGR loaded; SKIL loaded; SKIN loaded; SKLZ loaded; SKM loaded; SKT loaded; SKWD loaded; SKX loaded; SKY loaded; SKYE loaded; SKYH loaded; SKYT loaded; SKYW loaded; SKYX loaded; SLAB loaded; SLB loaded; SLBK loaded; SLDB loaded; SLDP loaded; SLE loaded; SLF loaded; SLG loaded; SLGL loaded; SLGN loaded; SLI loaded; SLM loaded; SLN loaded; SLND loaded; SLNG loaded; SLNH loaded; SLNO loaded; SLP loaded; SLQT loaded; SLRC loaded; SLRN loaded; SLS loaded; SLSR loaded; SLV loaded; SLVM loaded; SM loaded; SMAR loaded; SMBC loaded; SMBK loaded; SMCI loaded; SMFG loaded; SMFL loaded; SMG loaded; SMHI loaded; SMID loaded; SMLR loaded; SMMT loaded; SMP loaded; SMPL loaded; SMR loaded; SMRT loaded; SMSI loaded; SMTC loaded; SMTI loaded; SMTK loaded; SMWB loaded; SMXT loaded; SN loaded; SNA loaded; SNAL loaded; SNAP loaded; SNAX loaded; SNBR loaded; SNCR loaded; SNCY loaded; SND loaded; SNDA loaded; SNDL loaded; SNDR loaded; SNDX loaded; SNES loaded; SNEX loaded; SNFCA loaded; SNN loaded; SNOW loaded; SNPMF loaded; SNPS loaded; SNPW loaded; SNPX loaded; SNSE loaded; SNT loaded; SNTG loaded; SNV loaded; SNX loaded; SNY loaded; SO loaded; SOAR loaded; SOC loaded; SOCGP loaded; SODI loaded; SOFI loaded; SOGP loaded; SOHO loaded; SOHU loaded; SOI loaded; SOL loaded; SOLV loaded; SON loaded; SOND loaded; SONM loaded; SONN loaded; SONO loaded; SONY loaded; SOPA loaded; SOPH loaded; SOR loaded; SOS loaded; SOTK loaded; SOUN loaded; SOWG loaded; SPB loaded; SPCE loaded; SPE loaded; SPFI loaded; SPFX loaded; SPG loaded; SPGC loaded; SPGI loaded; SPH loaded; SPHR loaded; SPIR loaded; SPKL loaded; SPLP loaded; SPNS loaded; SPNT loaded; SPOK loaded; SPOT loaded; SPPL loaded; SPPP loaded; SPR loaded; SPRB loaded; SPRC loaded; SPRO loaded; SPRS loaded; SPRU loaded; SPRY loaded; SPSC loaded; SPT loaded; SPTN loaded; SPWH loaded; SPXC loaded; SPXX loaded; SQ loaded; SQFT loaded; SQM loaded; SQSP loaded; SR loaded; SRAD loaded; SRBK loaded; SRCE loaded; SRCL loaded; SRDX loaded; SRE loaded; SRG loaded; SRI loaded; SRL loaded; SRM loaded; SRPT loaded; SRRK loaded; SRTS loaded; SRV loaded; SRZN loaded; SSB loaded; SSBK loaded; SSD loaded; SSIC loaded; SSII loaded; SSL loaded; SSNC loaded; SSP loaded; SSRM loaded; SSSS loaded; SST loaded; SSTI loaded; SSTK loaded; SSY loaded; SSYS loaded; ST loaded; STAA loaded; STAG loaded; STBA loaded; STC loaded; STCN loaded; STE loaded; STEL loaded; STEM loaded; STEP loaded; STER loaded; STG loaded; STGW loaded; STHO loaded; STI loaded; STIM loaded; STK loaded; STKH loaded; STKL loaded; STKS loaded; STLA loaded; STLD loaded; STLY loaded; STM loaded; STN loaded; STNE loaded; STNG loaded; STOK loaded; STR loaded; STRA loaded; STRG loaded; STRL loaded; STRO loaded; STRR loaded; STRS loaded; STRT loaded; STRW loaded; STSFF loaded; STT loaded; STTK loaded; STVN loaded; STWD loaded; STX loaded; STXS loaded; STZ loaded; SU loaded; SUGP loaded; SUI loaded; SUIC loaded; SUM loaded; SUN loaded; SUP loaded; SUPN loaded; SUPV loaded; SURG loaded; SUUN loaded; SUZ loaded; SVC loaded; SVCO loaded; SVII loaded; SVIX loaded; SVM loaded; SVMB loaded; SVRA loaded; SVT loaded; SVV loaded; SWAG loaded; SWBI loaded; SWI loaded; SWIM loaded; SWIN loaded; SWK loaded; SWKH loaded; SWKS loaded; SWN loaded; SWTX loaded; SWVL loaded; SWX loaded; SWZ loaded; SXC loaded; SXI loaded; SXT loaded; SXTC loaded; SY loaded; SYBT loaded; SYBX loaded; SYF loaded; SYK loaded; SYM loaded; SYNA loaded; SYNX loaded; SYPR loaded; SYRA loaded; SYRE loaded; SYRS loaded; SYT loaded; SYTA loaded; SYY loaded; T loaded; TAC loaded; TACT loaded; TAIT loaded; TAK loaded; TAL loaded; TALK loaded; TALO loaded; TANH loaded; TAOP loaded; TAP loaded; TARA loaded; TARS loaded; TASK loaded; TATT loaded; TAYD loaded; TBBB loaded; TBBK loaded; TBI loaded; TBIO loaded; TBLA loaded; TBLT loaded; TBNK loaded; TBPH loaded; TBRG loaded; TBTC loaded; TC loaded; TCBC loaded; TCBI loaded; TCBK loaded; TCBP loaded; TCBS loaded; TCBX loaded; TCI loaded; TCMD loaded; TCNNF loaded; TCOA loaded; TCOM loaded; TCON loaded; TCPC loaded; TCRT loaded; TCRX loaded; TCS loaded; TCTM loaded; TCX loaded; TD loaded; TDC loaded; TDG loaded; TDOC loaded; TDS loaded; TDUP loaded; TDW loaded; TDY loaded; TEAF loaded; TEAM loaded; TECH loaded; TECK loaded; TECTP loaded; TEF loaded; TEL loaded; TELA loaded; TELL loaded; TELO loaded; TENB loaded; TENX loaded; TEO loaded; TER loaded; TERN loaded; TETE loaded; TEVA loaded; TEX loaded; TFC loaded; TFFP loaded; TFII loaded; TFIN loaded; TFPM loaded; TFSA loaded; TFSL loaded; TFX loaded; TG loaded; TGAA loaded; TGB loaded; TGEN loaded; TGI loaded; TGL loaded; TGLS loaded; TGNA loaded; TGS loaded; TGT loaded; TGTX loaded; TH loaded; THAR loaded; THC loaded; THCH loaded; THCP loaded; THFF loaded; THG loaded; THM loaded; THO loaded; THQ loaded; THR loaded; THRD loaded; THRM loaded; THRY loaded; THS loaded; THTX loaded; THW loaded; TIGO loaded; TIGR loaded; TIKK loaded; TIL loaded; TILE loaded; TIMB loaded; TIPT loaded; TIRX loaded; TISI loaded; TITN loaded; TIXT loaded; TJX loaded; TK loaded; TKC loaded; TKNO loaded; TKO loaded; TKR loaded; TLF loaded; TLGY loaded; TLIS loaded; TLK loaded; TLPH loaded; TLRY loaded; TLS loaded; TLSA loaded; TLSI loaded; TLYS loaded; TM loaded; TMC loaded; TMCI loaded; TMDX loaded; TME loaded; TMHC loaded; TMO loaded; TMP loaded; TMTC loaded; TMUS loaded; TNC loaded; TNDM loaded; TNET loaded; TNGX loaded; TNK loaded; TNL loaded; TNON loaded; TNYA loaded; TOFB loaded; TOL loaded; TOMZ loaded; TOON loaded; TOP loaded; TOPS loaded; TORO loaded; TOST loaded; TOUR loaded; TPB loaded; TPC loaded; TPCS loaded; TPG loaded; TPH loaded; TPIC loaded; TPL loaded; TPR loaded; TPST loaded; TPTA loaded; TPVG loaded; TPX loaded; TPZ loaded; TR loaded; TRAK loaded; TRC loaded; TRDA loaded; TREE loaded; TREX loaded; TRGP loaded; TRI loaded; TRIB loaded; TRIN loaded; TRIP loaded; TRLM loaded; TRMB loaded; TRMD loaded; TRMK loaded; TRML loaded; TRN loaded; TRNO loaded; TRNS loaded; TROO loaded; TROW loaded; TROX loaded; TRP loaded; TRS loaded; TRSG loaded; TRSO loaded; TRST loaded; TRT loaded; TRTX loaded; TRU loaded; TRUE loaded; TRUG loaded; TRUP loaded; TRV loaded; TRVG loaded; TRVI loaded; TS loaded; TSAT loaded; TSBK loaded; TSBX loaded; TSCO loaded; TSE loaded; TSEM loaded; TSHA loaded; TSI loaded; TSLA loaded; TSLX loaded; TSM loaded; TSN loaded; TSNDF loaded; TSQ loaded; TSSI loaded; TSVT loaded; TT loaded; TTC loaded; TTD loaded; TTE loaded; TTEC loaded; TTEK loaded; TTGT loaded; TTI loaded; TTMI loaded; TTNP loaded; TTOO loaded; TTP loaded; TTSH loaded; TTWO loaded; TU loaded; TUP loaded; TURB loaded; TUSK loaded; TUYA loaded; TV loaded; getting TVE embedding text length 2093 START FORM 8-K -23 D... text length 1072 START FORM 8-K -108 ... text length 903 START FORM 8-K -145 ... text length 2079 START FORM 8-K -176 ... symbol TVE text length 6151\n"
     ]
    },
    {
     "name": "stdout",
     "output_type": "stream",
     "text": [
      "TVGN loaded; TVTX loaded; TW loaded; TWG loaded; TWI loaded; TWIN loaded; TWKS loaded; TWLO loaded; TWO loaded; TWST loaded; TX loaded; TXG loaded; TXMD loaded; TXN loaded; TXO loaded; TXRH loaded; TXT loaded; TY loaded; TYG loaded; TYGO loaded; TYL loaded; TYRA loaded; TZOO loaded; TZUP loaded; U loaded; UAA loaded; UAL loaded; UAN loaded; UAVS loaded; UBCP loaded; UBER loaded; UBFO loaded; UBS loaded; UBSI loaded; UBX loaded; UBXG loaded; UCAR loaded; UCL loaded; UCTT loaded; UDMY loaded; UDN loaded; UDR loaded; UE loaded; UEC loaded; UEIC loaded; UELMO loaded; UFCS loaded; UFI loaded; UFPI loaded; UFPT loaded; UG loaded; UGA loaded; UGI loaded; UGP loaded; UGRO loaded; UHAL loaded; UHG loaded; UHS loaded; UHT loaded; UI loaded; UIS loaded; UK loaded; UL loaded; ULBI loaded; ULCC loaded; ULH loaded; ULS loaded; ULTA loaded; ULY loaded; UMAC loaded; UMBF loaded; UMC loaded; UMH loaded; UNB loaded; UNCY loaded; UNF loaded; UNFI loaded; UNG loaded; UNH loaded; UNIT loaded; UNL loaded; UNM loaded; UNP loaded; UNTC loaded; UNTY loaded; UNXP loaded; UONE loaded; UP loaded; UPBD loaded; UPC loaded; UPHL loaded; UPLD loaded; UPS loaded; UPST loaded; UPWK loaded; URBN loaded; URG loaded; URGN loaded; URI loaded; UROY loaded; USAC loaded; USAP loaded; USAU loaded; USB loaded; USCB loaded; USEA loaded; USEG loaded; USFD loaded; USGO loaded; USIO loaded; USL loaded; USLM loaded; USM loaded; USNA loaded; USNU loaded; USO loaded; USPH loaded; UTG loaded; UTGN loaded; UTHR loaded; UTI loaded; UTL loaded; UTMD loaded; UTSI loaded; UTZ loaded; UUP loaded; UUU loaded; UUUU loaded; UVE loaded; UVSP loaded; UVV loaded; UWHR loaded; UWMC loaded; UXIN loaded; V loaded; VABK loaded; VAC loaded; VAL loaded; VALE loaded; VALN loaded; VALU loaded; VANI loaded; VAPO loaded; VATE loaded; VBFC loaded; VBNK loaded; VBTX loaded; VC loaded; VCEL loaded; VCIG loaded; VCNX loaded; VCSA loaded; VCTR loaded; VCYT loaded; VECO loaded; VEEE loaded; VEEV loaded; VEL loaded; VEON loaded; VERA loaded; VERI loaded; VERO loaded; VERU loaded; VERV loaded; VERX loaded; VET loaded; VEV loaded; VFC loaded; VFF loaded; VFL loaded; VFS loaded; VGAS loaded; VGR loaded; VHC loaded; VHI loaded; getting VIASP embedding text length 3170 START FORM 8-K -8 DA... text length 2659 START FORM 8-K -30 D... text length 2697 START FORM 8-K -93 D... limit exceeded, stopping symbol VIASP text length 5831\n",
      "VIAV loaded; VICI loaded; VICR loaded; VIGL loaded; VIK loaded; VINC loaded; VINO loaded; VINP loaded; VIOT loaded; VIPS loaded; VIR loaded; VIRC loaded; VIRT loaded; VIRX loaded; VISL loaded; VITL loaded; VIV loaded; VIVK loaded; VKTX loaded; VLGEA loaded; VLN loaded; VLO loaded; VLRS loaded; VLTO loaded; VLY loaded; VMAR loaded; VMC loaded; VMCA loaded; VMD loaded; VMEO loaded; VMI loaded; VNCE loaded; VNDA loaded; VNET loaded; VNO loaded; VNOM loaded; VNRX loaded; VNT loaded; VOC loaded; VOD loaded; VOR loaded; VOXR loaded; VOXX loaded; VOYA loaded; VPG loaded; VRA loaded; VRAR loaded; VRAX loaded; VRCA loaded; VRDN loaded; VRE loaded; VREX loaded; VRM loaded; VRME loaded; VRN loaded; VRNA loaded; VRNOF loaded; VRNS loaded; VRNT loaded; VRPX loaded; VRRM loaded; VRSK loaded; VRSN loaded; VRT loaded; VRTS loaded; VRTX loaded; VS loaded; VSAC loaded; VSAT loaded; VSCO loaded; VSEC loaded; VSH loaded; VST loaded; VSTA loaded; VSTE loaded; VSTM loaded; VSTO loaded; VSTS loaded; VTAK loaded; VTEX loaded; VTGN loaded; VTLE loaded; VTMX loaded; VTNR loaded; VTOL loaded; VTR loaded; VTRS loaded; VTS loaded; VTSI loaded; VTVT loaded; VTYX loaded; VUZI loaded; VVI loaded; VVOS loaded; VVPR loaded; VVV loaded; VVX loaded; VWFB loaded; VXRT loaded; VYGR loaded; VYND loaded; VYNE loaded; VYX loaded; VZ loaded; VZIO loaded; VZLA loaded; W loaded; WAB loaded; WABC loaded; WAFD loaded; WAFU loaded; WAL loaded; WALD loaded; WASH loaded; WAT loaded; WATT loaded; WAVE loaded; WAVS loaded; WB loaded; WBA loaded; WBD loaded; WBQNL loaded; WBS loaded; WBX loaded; WCC loaded; WCN loaded; WD loaded; WDAY loaded; WDC loaded; WDFC loaded; WDH loaded; WDS loaded; WEAV loaded; WEBNF loaded; WEC loaded; WEL loaded; WELL loaded; WELPP loaded; WEN loaded; WERN loaded; WES loaded; WEST loaded; WETH loaded; WEX loaded; WEYS loaded; WF loaded; WFC loaded; WFCF loaded; WFG loaded; WFRD loaded; WGO loaded; WGS loaded; WH loaded; WHD loaded; WHF loaded; WHG loaded; WHLM loaded; WHLR loaded; WHR loaded; WILC loaded; WIMI loaded; WINA loaded; WING loaded; WINT loaded; WINV loaded; WISA loaded; WIT loaded; WIX loaded; WK loaded; WKC loaded; WKEY loaded; WKME loaded; WKSP loaded; WLDN loaded; WLFC loaded; WLGS loaded; WLK loaded; WLKP loaded; WLSS loaded; WLY loaded; WM loaded; WMB loaded; WMG loaded; WMK loaded; WMPN loaded; WMS loaded; WMT loaded; WNC loaded; WNEB loaded; WNLV loaded; WNS loaded; WNW loaded; WOLF loaded; WOOF loaded; WOR loaded; WORX loaded; WOW loaded; WPC loaded; WPM loaded; WPP loaded; WPRT loaded; WRAP loaded; WRB loaded; WRBY loaded; WRLD loaded; WRN loaded; WS loaded; WSBC loaded; WSBF loaded; WSC loaded; WSFS loaded; WSM loaded; WSO loaded; WSR loaded; WST loaded; WSTRF loaded; WT loaded; WTBA loaded; WTFC loaded; WTI loaded; WTM loaded; WTMA loaded; WTRG loaded; WTRV loaded; WTS loaded; WTTR loaded; WTW loaded; WU loaded; WULF loaded; WVE loaded; WVVI loaded; WW loaded; WWD loaded; WWW loaded; WY loaded; WYNN loaded; WYY loaded; X loaded; XAIR loaded; XBIO loaded; XBIT loaded; XBP loaded; XEL loaded; XELA loaded; XELB loaded; XENE loaded; XERS loaded; XFIN loaded; XFLT loaded; XFOR loaded; XGN loaded; XHG loaded; XHR loaded; XIN loaded; XLO loaded; XMTR loaded; XNCR loaded; XNET loaded; XOM loaded; XOMA loaded; XOS loaded; XP loaded; XPEL loaded; XPER loaded; XPEV loaded; XPL loaded; XPO loaded; XPOF loaded; XPON loaded; XPRO loaded; XRAY loaded; XRTX loaded; XRX loaded; XTGRF loaded; XTKG loaded; XTLB loaded; XTNT loaded; XWEL loaded; XXII loaded; XYF loaded; XYL loaded; XYLO loaded; YALA loaded; YCBD loaded; YELLQ loaded; YELP loaded; YETI loaded; YEXT loaded; YHGJ loaded; YI loaded; YIBO loaded; YJ loaded; YMAB loaded; YMM loaded; YORW loaded; YOSH loaded; YOTA loaded; YOU loaded; YPF loaded; YQ loaded; YRD loaded; YSG loaded; YTEN loaded; YTRA loaded; YUM loaded; YUMC loaded; YY loaded; YYGH loaded; ZAPP loaded; ZBAO loaded; ZBH loaded; ZBRA loaded; ZCMD loaded; ZCSH loaded; ZD loaded; ZDGE loaded; ZDPY loaded; ZENV loaded; ZEO loaded; ZEOX loaded; ZEPP loaded; ZETA loaded; ZEUS loaded; ZG loaded; ZGN loaded; ZH loaded; ZI loaded; ZIM loaded; ZIMV loaded; ZION loaded; ZIP loaded; ZIVO loaded; ZJYL loaded; ZKH loaded; ZKIN loaded; ZLAB loaded; ZM loaded; ZNTL loaded; ZONE loaded; ZOOZ loaded; ZPTA loaded; ZS loaded; ZTEK loaded; ZTO loaded; ZTS loaded; ZUMZ loaded; ZUO loaded; ZURA loaded; ZVIA loaded; ZVRA loaded; ZVSA loaded; ZWS loaded; ZYME loaded; ZYXI loaded; saving cache to 2023June1Y-te3-small.pkl\n",
      "5785 embeddings in cache\n"
     ]
    }
   ],
   "source": [
    "#notest\n",
    "\n",
    "cemb = cacheEmbeddings('2023June1Y-te3-small.pkl',m[0],m[-1])"
   ]
  },
  {
   "cell_type": "code",
   "execution_count": null,
   "metadata": {},
   "outputs": [
    {
     "data": {
      "text/plain": [
       "[('TLF', '* TANDY LEATHER FACTORY INC', 0.5439353793970153),\n",
       " ('RELL', '* RICHARDSON ELECTRONICS, LTD.', 0.5509400449276975),\n",
       " ('ESP', '* ESPEY MFG & ELECTRONICS CORP', 0.5555067970645569),\n",
       " ('TRT', '* TRIO-TECH INTERNATIONAL', 0.5589580165747611),\n",
       " ('TIKK', 'TEL INSTRUMENT ELECTRONICS CORP', 0.5691793867249226),\n",
       " ('TAYD', 'TAYLOR DEVICES INC', 0.5716039528827362),\n",
       " ('TR', 'TOOTSIE ROLL INDUSTRIES INC', 0.5729662931189359),\n",
       " ('FRD', 'FRIEDMAN INDUSTRIES INC', 0.5735350725090798),\n",
       " ('TXN', 'TEXAS INSTRUMENTS INC', 0.5735660709742564),\n",
       " ('TSM', 'TAIWAN SEMICONDUCTOR MANUFACTURING CO LTD', 0.5757774277794379),\n",
       " ('JELD', 'JELD-WEN Holding, Inc.', 0.5760525556427224),\n",
       " ('TFII', 'TFI International Inc.', 0.5766927642059759),\n",
       " ('TAIT', 'TAITRON COMPONENTS INC', 0.5771052135728352),\n",
       " ('TSCO', 'TRACTOR SUPPLY CO /DE/', 0.5781890542260639),\n",
       " ('ELSE', 'ELECTRO SENSORS INC', 0.5783149075358451),\n",
       " ('TXT', 'TEXTRON INC', 0.5791805679500381),\n",
       " ('FEIM', 'FREQUENCY ELECTRONICS INC', 0.5796291802355151),\n",
       " ('LZB', 'LA-Z-BOY INC', 0.5803116279875415),\n",
       " ('MTD', 'METTLER TOLEDO INTERNATIONAL INC/', 0.5803433615026806),\n",
       " ('TTC', 'TORO CO', 0.5806183950328596),\n",
       " ('WWD', 'Woodward, Inc.', 0.5809505947963479),\n",
       " ('TRS', 'TRIMAS CORP', 0.5810230458264731),\n",
       " ('TTMI', 'TTM TECHNOLOGIES INC', 0.5815043011401758),\n",
       " ('FORD', 'Forward Industries, Inc.', 0.5818045189683396),\n",
       " ('SPRS', 'SURGE COMPONENTS INC', 0.5818758837023019),\n",
       " ('DAKT', 'DAKTRONICS INC /SD/', 0.5822379148497788),\n",
       " ('LEDS', 'SemiLEDs Corp', 0.5824043550546342),\n",
       " ('CLWT', 'EURO TECH HOLDINGS CO LTD', 0.5828669932654148),\n",
       " ('ITT', 'ITT INC.', 0.5829875094906934),\n",
       " ('TSBK', 'TIMBERLAND BANCORP INC', 0.5834612271382724),\n",
       " ('SVT', 'SERVOTRONICS INC /DE/', 0.5834959883855462),\n",
       " ('SOTK', 'SONO TEK CORP', 0.5837745403411172),\n",
       " ('RYI', 'Ryerson Holding Corp', 0.583814740272416),\n",
       " ('SGMA', 'SIGMATRON INTERNATIONAL INC', 0.5838641976480285),\n",
       " ('ELTK', 'ELTEK LTD', 0.5838815740708805),\n",
       " ('NTIC', 'NORTHERN TECHNOLOGIES INTERNATIONAL CORP', 0.5838977645375989),\n",
       " ('LINK', 'INTERLINK ELECTRONICS INC', 0.5839517145595271),\n",
       " ('FLXS', 'FLEXSTEEL INDUSTRIES INC', 0.584210062652796),\n",
       " ('TMO', 'THERMO FISHER SCIENTIFIC INC.', 0.5842326041585866),\n",
       " ('MIDD', 'MIDDLEBY Corp', 0.5842566205068634),\n",
       " ('STLD', 'STEEL DYNAMICS INC', 0.5843723106807845),\n",
       " ('VALU', 'VALUE LINE INC', 0.5844353164574907),\n",
       " ('TGLS', 'Tecnoglass Inc.', 0.5845078638454995),\n",
       " ('CRS', 'CARPENTER TECHNOLOGY CORP', 0.5846324999957122),\n",
       " ('CRWS', 'CROWN CRAFTS INC', 0.584634515668107),\n",
       " ('SLAB', 'SILICON LABORATORIES INC.', 0.5847600860074442),\n",
       " ('EMR', 'EMERSON ELECTRIC CO', 0.5847681615842519),\n",
       " ('TMHC', 'Taylor Morrison Home Corp', 0.5848847426641012),\n",
       " ('INTC', 'INTEL CORP', 0.5853051013047033),\n",
       " ('RFIL', 'R F INDUSTRIES LTD', 0.5853284879851686)]"
      ]
     },
     "execution_count": null,
     "metadata": {},
     "output_type": "execute_result"
    }
   ],
   "source": [
    "#notest\n",
    "\n",
    "getRecsFromPort(['RELL','ESP','TRT','TLF'],m[0],cemb,\n",
    "                negWeight=0.001, n=50)"
   ]
  },
  {
   "cell_type": "code",
   "execution_count": null,
   "metadata": {},
   "outputs": [
    {
     "name": "stderr",
     "output_type": "stream",
     "text": [
      "C:\\Users\\ikedi\\Anaconda3\\envs\\fastai\\lib\\site-packages\\sklearn\\ensemble\\_forest.py:721: RuntimeWarning: divide by zero encountered in log\n",
      "  return np.log(proba)\n"
     ]
    },
    {
     "data": {
      "text/plain": [
       "[('TRT', '* TRIO-TECH INTERNATIONAL', 0.356),\n",
       " ('RELL', '* RICHARDSON ELECTRONICS, LTD.', 0.357),\n",
       " ('TLF', '* TANDY LEATHER FACTORY INC', 0.375),\n",
       " ('ESP', '* ESPEY MFG & ELECTRONICS CORP', 0.394),\n",
       " ('SPRS', 'SURGE COMPONENTS INC', 0.988),\n",
       " ('TAYD', 'TAYLOR DEVICES INC', 0.992),\n",
       " ('SCIA', 'SCI Engineered Materials, Inc.', 0.993),\n",
       " ('TIKK', 'TEL INSTRUMENT ELECTRONICS CORP', 0.993),\n",
       " ('ATNM', 'Actinium Pharmaceuticals, Inc.', 0.994),\n",
       " ('INDI', 'indie Semiconductor, Inc.', 0.994),\n",
       " ('MTD', 'METTLER TOLEDO INTERNATIONAL INC/', 0.994),\n",
       " ('TBBB', 'BBB FOODS INC', 0.994),\n",
       " ('AVGO', 'Broadcom Inc.', 0.995),\n",
       " ('FRD', 'FRIEDMAN INDUSTRIES INC', 0.995),\n",
       " ('LEA', 'LEAR CORP', 0.995),\n",
       " ('MOV', 'MOVADO GROUP INC', 0.995),\n",
       " ('ALCO', 'ALICO, INC.', 0.996),\n",
       " ('DLTR', 'DOLLAR TREE, INC.', 0.996),\n",
       " ('ELSE', 'ELECTRO SENSORS INC', 0.996),\n",
       " ('EMR', 'EMERSON ELECTRIC CO', 0.996),\n",
       " ('ETN', 'Eaton Corp plc', 0.996),\n",
       " ('FOSL', 'Fossil Group, Inc.', 0.996),\n",
       " ('FXY', 'Invesco CurrencyShares Japanese Yen Trust', 0.996),\n",
       " ('HOFT', 'HOOKER FURNISHINGS Corp', 0.996),\n",
       " ('INTC', 'INTEL CORP', 0.996),\n",
       " ('JELD', 'JELD-WEN Holding, Inc.', 0.996),\n",
       " ('LEDS', 'SemiLEDs Corp', 0.996),\n",
       " ('NVTS', 'Navitas Semiconductor Corp', 0.996),\n",
       " ('OLN', 'OLIN Corp', 0.996),\n",
       " ('PINE', 'Alpine Income Property Trust, Inc.', 0.996),\n",
       " ('PPIH', 'Perma-Pipe International Holdings, Inc.', 0.996),\n",
       " ('RAY', 'Raytech Holding Ltd', 0.996),\n",
       " ('SELX', 'Semilux International Ltd.', 0.996),\n",
       " ('TCBK', 'TRICO BANCSHARES /', 0.996),\n",
       " ('TDOC', 'Teladoc Health, Inc.', 0.996),\n",
       " ('TIXT', 'TELUS International (Cda) Inc.', 0.996),\n",
       " ('TMHC', 'Taylor Morrison Home Corp', 0.996),\n",
       " ('TRTX', 'TPG RE Finance Trust, Inc.', 0.996),\n",
       " ('TSCO', 'TRACTOR SUPPLY CO /DE/', 0.996),\n",
       " ('VALU', 'VALUE LINE INC', 0.996),\n",
       " ('WFRD', 'Weatherford International plc', 0.996),\n",
       " ('ALV', 'AUTOLIV INC', 0.997),\n",
       " ('AWI', 'ARMSTRONG WORLD INDUSTRIES INC', 0.997),\n",
       " ('BDL', 'FLANIGANS ENTERPRISES INC', 0.997),\n",
       " ('BTBD', 'BT Brands, Inc.', 0.997),\n",
       " ('CARG', 'CarGurus, Inc.', 0.997),\n",
       " ('COO', 'COOPER COMPANIES, INC.', 0.997),\n",
       " ('CRS', 'CARPENTER TECHNOLOGY CORP', 0.997),\n",
       " ('FFIV', 'F5, INC.', 0.997),\n",
       " ('FROG', 'JFrog Ltd', 0.997)]"
      ]
     },
     "execution_count": null,
     "metadata": {},
     "output_type": "execute_result"
    }
   ],
   "source": [
    "#notest\n",
    "\n",
    "getRecsFromPort(['RELL','ESP','TRT','TLF'],m[0],cemb,\n",
    "                negWeight=0.001, n=50,\n",
    "                model=RandomForestClassifier(n_estimators=1000, random_state=42))"
   ]
  },
  {
   "cell_type": "code",
   "execution_count": null,
   "metadata": {},
   "outputs": [
    {
     "data": {
      "text/plain": [
       "[('FGPR', 0.5773333333333333, 7.5, 11.83),\n",
       " ('ADAG', 0.5789473684210529, 1.71, 2.7),\n",
       " ('HRTX', 0.5819209039548021, 1.77, 2.8),\n",
       " ('HEAR', 0.5831037649219466, 10.89, 17.24),\n",
       " ('SRZN', 0.5906562847608454, 8.99, 14.3),\n",
       " ('AHCO', 0.5928961748633879, 7.32, 11.66),\n",
       " ('CEG', 0.5936777178103314, 116.73, 186.03),\n",
       " ('POWL', 0.5957518166573506, 89.45, 142.74),\n",
       " ('ELMD', 0.5958702064896755, 10.17, 16.23),\n",
       " ('LADX', 0.596113809854268, 1.4409999999999998, 2.3),\n",
       " ('OSCR', 0.5967567567567567, 9.25, 14.77),\n",
       " ('TPC', 0.5969162995594715, 9.08, 14.5),\n",
       " ('ATNM', 0.5979591836734692, 4.9, 7.83),\n",
       " ('PRM', 0.6017130620985012, 4.67, 7.48),\n",
       " ('CVNA', 0.6022685693377241, 54.66, 87.58),\n",
       " ('CAVA', 0.6026044005388413, 44.54, 71.38),\n",
       " ('SRTS', 0.6041666666666667, 2.4, 3.85),\n",
       " ('PRPL', 0.6055045871559632, 1.09, 1.75),\n",
       " ('HRTG', 0.6087613293051359, 6.62, 10.65),\n",
       " ('KROS', 0.6108674463937622, 41.04, 66.11),\n",
       " ('ARM', 0.6125574272588055, 78.36, 126.36),\n",
       " ('IPX', 0.6153846153846154, 9.36, 15.12),\n",
       " ('EME', 0.6212886192042244, 215.89, 350.02),\n",
       " ('GENK', 0.6224627875507442, 7.39, 11.99),\n",
       " ('MRUS', 0.6237942122186497, 27.99, 45.45),\n",
       " ('CNTB', 0.625, 1.12, 1.82),\n",
       " ('LRMR', 0.6347826086956523, 4.6, 7.52),\n",
       " ('ARIS', 0.6424452133794696, 8.67, 14.24),\n",
       " ('CTV', 0.644736842105263, 1.52, 2.5),\n",
       " ('CGEM', 0.6696078431372552, 10.2, 17.03),\n",
       " ('GHSI', 0.6735074626865671, 5.36, 8.97),\n",
       " ('IINN', 0.6761904761904762, 1.05, 1.76),\n",
       " ('KOD', 0.6791277258566977, 3.21, 5.39),\n",
       " ('VRT', 0.6805896805896805, 48.84, 82.08),\n",
       " ('GIFI', 0.6866359447004609, 4.34, 7.32),\n",
       " ('LEE', 0.6914212548015366, 7.81, 13.21),\n",
       " ('APP', 0.6963144963144963, 40.7, 69.04),\n",
       " ('BMA', 0.6964722319245547, 28.63, 48.57),\n",
       " ('BDTX', 0.700996677740864, 3.01, 5.12),\n",
       " ('ORN', 0.7030927835051548, 4.85, 8.26),\n",
       " ('SWAV', 0.7035328650801971, 190.78, 325.0),\n",
       " ('INZY', 0.7098214285714284, 4.48, 7.66),\n",
       " ('IOVA', 0.7104651162790698, 8.6, 14.71),\n",
       " ('STIM', 0.7117437722419928, 2.81, 4.81),\n",
       " ('CAPT', 0.7192513368983955, 3.74, 6.43),\n",
       " ('KUKE', 0.7213193576305414, 1.0399, 1.79),\n",
       " ('PWFL', 0.7222222222222221, 3.24, 5.58),\n",
       " ('GLASF', 0.7243589743589745, 4.68, 8.07),\n",
       " ('HIMS', 0.729281767955801, 9.05, 15.65),\n",
       " ('ATXS', 0.7311960542540075, 8.11, 14.04),\n",
       " ('RUM', 0.732608695652174, 4.6, 7.97),\n",
       " ('SMWB', 0.7388781431334623, 5.17, 8.99),\n",
       " ('SMR', 0.7395209580838322, 3.34, 5.81),\n",
       " ('PMN', 0.7410714285714284, 1.12, 1.95),\n",
       " ('ATOS', 0.7523809523809524, 1.05, 1.84),\n",
       " ('FEBO', 0.7555555555555553, 4.95, 8.69),\n",
       " ('MAX', 0.7590051457975988, 11.66, 20.51),\n",
       " ('TARS', 0.7635135135135136, 20.72, 36.54),\n",
       " ('CLRO', 0.7735849056603772, 1.06, 1.88),\n",
       " ('FLGC', 0.7744360902255638, 1.33, 2.36),\n",
       " ('MAIA', 0.782258064516129, 1.24, 2.21),\n",
       " ('ANGH', 0.7850467289719625, 1.07, 1.91),\n",
       " ('GBTC', 0.7851428571428571, 35.0, 62.48),\n",
       " ('CPOP', 0.7920000000000003, 1.25, 2.24),\n",
       " ('FATE', 0.7921760391198045, 4.09, 7.33),\n",
       " ('INLX', 0.7999999999999998, 4.9, 8.82),\n",
       " ('GXLM', 0.8023255813953489, 34.4, 62.0),\n",
       " ('SPRY', 0.8024691358024694, 5.67, 10.22),\n",
       " ('IKT', 0.8032786885245904, 1.22, 2.2),\n",
       " ('VST', 0.8059855521155832, 38.76, 70.0),\n",
       " ('VGAS', 0.8083182640144664, 2.2673, 4.1),\n",
       " ('KRRO', 0.809484705399302, 48.71, 88.14),\n",
       " ('NVDA', 0.8127597213578786, 498.13, 902.99),\n",
       " ('LPCN', 0.8185053380782918, 2.81, 5.11),\n",
       " ('EDUC', 0.824561403508772, 1.14, 2.08),\n",
       " ('VANI', 0.8269230769230769, 1.04, 1.9),\n",
       " ('APRE', 0.8292011019283747, 3.63, 6.64),\n",
       " ('ENTA', 0.8300720906282182, 9.71, 17.77),\n",
       " ('NKTX', 0.8338607594936709, 6.32, 11.59),\n",
       " ('VSTE', 0.8389830508474574, 5.9, 10.85),\n",
       " ('SYRE', 0.8448780487804879, 20.5, 37.82),\n",
       " ('XRTX', 0.8487804878048781, 2.05, 3.79),\n",
       " ('MOR', 0.8507157464212682, 9.78, 18.1),\n",
       " ('NWGL', 0.8636926889714993, 8.07, 15.04),\n",
       " ('MEDS', 0.8813559322033899, 5.31, 9.99),\n",
       " ('GOTU', 0.8845070422535213, 3.55, 6.69),\n",
       " ('REAL', 0.9086538461538463, 2.08, 3.97),\n",
       " ('GLSI', 0.9111318989710011, 10.69, 20.43),\n",
       " ('MRSN', 0.9137931034482762, 2.32, 4.44),\n",
       " ('IDN', 0.9162011173184359, 1.79, 3.43),\n",
       " ('GHRS', 0.9165154264972779, 5.51, 10.56),\n",
       " ('PXLW', 0.9318181818181817, 1.32, 2.55),\n",
       " ('APLT', 0.9354838709677418, 3.1, 6.0),\n",
       " ('REAX', 0.9433962264150941, 1.59, 3.09),\n",
       " ('NXTC', 0.9561403508771931, 1.14, 2.23),\n",
       " ('NTRB', 0.9591836734693875, 2.45, 4.8),\n",
       " ('DTST', 0.9628378378378377, 2.96, 5.81),\n",
       " ('AVTX', 0.9665683382497543, 10.17, 20.0),\n",
       " ('AEYE', 0.9669260700389106, 5.14, 10.11),\n",
       " ('PYYX', 0.9696969696969697, 1.65, 3.25),\n",
       " ('HIPO', 0.9720730397422126, 9.31, 18.36),\n",
       " ('FLXS', 0.9865519096288327, 18.59, 36.93),\n",
       " ('SLDB', 0.9867256637168142, 6.78, 13.47),\n",
       " ('AXTI', 0.9870689655172415, 2.32, 4.61),\n",
       " ('OCUL', 0.9912472647702404, 4.57, 9.1),\n",
       " ('LTRN', 0.9977528089887642, 4.45, 8.89),\n",
       " ('KINS', 1.0, 2.2, 4.4),\n",
       " ('NGLD', 1.012396694214876, 2.42, 4.87),\n",
       " ('MPU', 1.0142857142857142, 1.4, 2.82),\n",
       " ('ESTA', 1.0299844236760127, 25.68, 52.13),\n",
       " ('PEPG', 1.084285714285714, 7.0, 14.59),\n",
       " ('ENGN', 1.0903614457831323, 8.3, 17.35),\n",
       " ('NAMS', 1.1136767317939609, 11.26, 23.8),\n",
       " ('TARA', 1.1256544502617798, 1.91, 4.06),\n",
       " ('FUSN', 1.13, 10.0, 21.3),\n",
       " ('ZUUS', 1.1333333333333333, 3.0, 6.4),\n",
       " ('AQST', 1.1343283582089554, 2.01, 4.29),\n",
       " ('ADXN', 1.1367521367521367, 5.85, 12.5),\n",
       " ('LVTX', 1.1372549019607843, 1.53, 3.27),\n",
       " ('VTYX', 1.1372549019607847, 2.55, 5.45),\n",
       " ('ALRN', 1.1378205128205128, 3.12, 6.67),\n",
       " ('EVTV', 1.143939393939394, 1.32, 2.83),\n",
       " ('DYN', 1.156130997715156, 13.13, 28.31),\n",
       " ('SWIN', 1.1652520353369131, 2.8865, 6.25),\n",
       " ('BYRN', 1.167427701674277, 6.57, 14.24),\n",
       " ('APGE', 1.205862758161226, 30.02, 66.22),\n",
       " ('YMAB', 1.2258503401360543, 7.35, 16.36),\n",
       " ('CDRO', 1.238709677419355, 3.1, 6.94),\n",
       " ('TAYD', 1.243362831858407, 22.6, 50.7),\n",
       " ('ADTH', 1.244755244755245, 1.43, 3.21),\n",
       " ('LGVN', 1.2571428571428576, 1.4, 3.16),\n",
       " ('SANA', 1.2935779816513762, 4.36, 10.0),\n",
       " ('COCH', 1.294797687861272, 1.73, 3.97),\n",
       " ('SG', 1.3031914893617023, 11.28, 25.98),\n",
       " ('GBIO', 1.3055555555555558, 1.8, 4.15),\n",
       " ('INCR', 1.3064516129032255, 1.24, 2.86),\n",
       " ('IMNM', 1.3122087604846224, 10.73, 24.81),\n",
       " ('WAVD', 1.3243243243243241, 1.48, 3.44),\n",
       " ('CDXC', 1.3378378378378377, 1.48, 3.46),\n",
       " ('RGLS', 1.338709677419355, 1.24, 2.9),\n",
       " ('CLVR', 1.3488372093023258, 2.15, 5.05),\n",
       " ('QSG', 1.35, 1.8, 4.23),\n",
       " ('TCNNF', 1.368320610687023, 5.24, 12.41),\n",
       " ('NUVB', 1.3766233766233769, 1.54, 3.66),\n",
       " ('ZENV', 1.4117647058823533, 1.19, 2.87),\n",
       " ('STOK', 1.4212454212454215, 5.46, 13.22),\n",
       " ('PYXS', 1.424581005586592, 1.79, 4.34),\n",
       " ('ASPI', 1.4293785310734464, 1.77, 4.3),\n",
       " ('MSTR', 1.4376657824933687, 674.83, 1645.01),\n",
       " ('TRVI', 1.4500000000000002, 1.4, 3.43),\n",
       " ('IBIO', 1.458904109589041, 1.46, 3.59),\n",
       " ('MNMD', 1.4607329842931938, 3.82, 9.4),\n",
       " ('LTCN', 1.468235294117647, 17.0, 41.96),\n",
       " ('ZHYBF', 1.5073891625615765, 2.03, 5.09),\n",
       " ('NEXI', 1.509009009009009, 2.22, 5.57),\n",
       " ('VTVT', 1.5698689956331875, 9.16, 23.54),\n",
       " ('SOUN', 1.6502242152466366, 2.23, 5.91),\n",
       " ('LUNR', 1.6829268292682924, 2.46, 6.6),\n",
       " ('VERA', 1.6896120150187732, 15.98, 42.98),\n",
       " ('VERI', 1.71875, 1.92, 5.22),\n",
       " ('RNA', 1.7534833869239015, 9.33, 25.69),\n",
       " ('SMTK', 1.8171428571428572, 5.25, 14.79),\n",
       " ('CXAI', 1.8208955223880592, 1.34, 3.78),\n",
       " ('NYXH', 1.8340425531914892, 4.7, 13.32),\n",
       " ('MINM', 1.8669724770642198, 2.18, 6.25),\n",
       " ('ZCSH', 1.87719298245614, 2.85, 8.2),\n",
       " ('ADCT', 1.893081761006289, 1.59, 4.6),\n",
       " ('NGNE', 1.9094036697247705, 17.44, 50.74),\n",
       " ('ARQT', 1.946745562130178, 3.38, 9.96),\n",
       " ('DNTH', 1.9506416584402761, 10.13, 29.89),\n",
       " ('PRAX', 1.9617618586640853, 20.66, 61.19),\n",
       " ('UNG', 1.9941176470588236, 5.1, 15.27),\n",
       " ('SNDA', 2.005181347150259, 9.65, 29.0),\n",
       " ('LEXX', 2.0317460317460316, 1.26, 3.82),\n",
       " ('NOTV', 2.0555555555555554, 3.6, 11.0),\n",
       " ('ALAR', 2.0869822485207106, 6.76, 20.868000000000002),\n",
       " ('JANX', 2.1881355932203386, 11.8, 37.62),\n",
       " ('AISP', 2.4041450777202074, 1.93, 6.57),\n",
       " ('WGS', 2.4600760456273765, 2.63, 9.1),\n",
       " ('SMCI', 2.4647181914857126, 291.51, 1010.0),\n",
       " ('LBPH', 2.487261146496815, 6.28, 21.9),\n",
       " ('CRVO', 2.522875816993464, 6.12, 21.56),\n",
       " ('CRDF', 2.6, 1.5, 5.4),\n",
       " ('IFBD', 2.8434782608695652, 1.15, 4.42),\n",
       " ('APM', 2.9173553719008267, 2.42, 9.48),\n",
       " ('BCHG', 2.9977678571428568, 4.48, 17.91),\n",
       " ('SEZL', 3.123069257598406, 20.07, 82.75),\n",
       " ('VKTX', 3.255970924195223, 19.26, 81.97),\n",
       " ('ZIVO', 3.3352601156069364, 1.73, 7.5),\n",
       " ('DAVE', 3.349056603773585, 8.48, 36.88),\n",
       " ('BMR', 3.524475524475524, 1.43, 6.47),\n",
       " ('HZEN', 3.588571428571428, 1.75, 8.03),\n",
       " ('VINC', 3.7941176470588234, 1.02, 4.89),\n",
       " ('FTEL', 4.266666666666667, 1.5, 7.9),\n",
       " ('MESO', 4.460176991150443, 1.13, 6.17),\n",
       " ('ROOT', 4.831739961759082, 10.46, 61.0),\n",
       " ('SKYE', 4.973180076628353, 2.61, 15.59),\n",
       " ('CRBP', 5.349514563106797, 6.18, 39.24),\n",
       " ('PGY', 6.077464788732395, 1.42, 10.05),\n",
       " ('SWVL', 7.561151079136691, 1.39, 11.9)]"
      ]
     },
     "execution_count": null,
     "metadata": {},
     "output_type": "execute_result"
    }
   ],
   "source": [
    "#notest\n",
    "\n",
    "sorted(((k,m[3][k],m[1][k],m[2][k]) for k in m[3]), key=lambda x : x[1])[-200:]"
   ]
  },
  {
   "cell_type": "code",
   "execution_count": null,
   "metadata": {},
   "outputs": [],
   "source": []
  },
  {
   "cell_type": "code",
   "execution_count": null,
   "metadata": {},
   "outputs": [
    {
     "data": {
      "text/plain": [
       "'1.33.0'"
      ]
     },
     "execution_count": null,
     "metadata": {},
     "output_type": "execute_result"
    }
   ],
   "source": [
    "# import openai\n",
    "# openai.version.VERSION"
   ]
  },
  {
   "cell_type": "code",
   "execution_count": null,
   "metadata": {},
   "outputs": [],
   "source": []
  },
  {
   "cell_type": "code",
   "execution_count": null,
   "metadata": {},
   "outputs": [],
   "source": [
    "#hide\n",
    "# uncomment and run to regenerate all library Python files\n",
    "# from nbdev.export import notebook2script; notebook2script()"
   ]
  },
  {
   "cell_type": "code",
   "execution_count": null,
   "metadata": {},
   "outputs": [],
   "source": []
  }
 ],
 "metadata": {
  "kernelspec": {
   "display_name": "Python 3",
   "language": "python",
   "name": "python3"
  }
 },
 "nbformat": 4,
 "nbformat_minor": 4
}
