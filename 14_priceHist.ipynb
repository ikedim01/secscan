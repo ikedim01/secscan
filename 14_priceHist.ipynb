{
 "cells": [
  {
   "cell_type": "code",
   "execution_count": null,
   "metadata": {},
   "outputs": [],
   "source": [
    "# default_exp priceHist"
   ]
  },
  {
   "cell_type": "markdown",
   "metadata": {},
   "source": [
    "# priceHist\n",
    "\n",
    "> Parse historical stock price data files."
   ]
  },
  {
   "cell_type": "code",
   "execution_count": null,
   "metadata": {},
   "outputs": [],
   "source": [
    "#hide\n",
    "%load_ext autoreload\n",
    "%autoreload 2\n",
    "from nbdev import show_doc"
   ]
  },
  {
   "cell_type": "code",
   "execution_count": null,
   "metadata": {},
   "outputs": [],
   "source": [
    "#export\n",
    "\n",
    "import datetime\n",
    "import numpy as np\n",
    "import os\n",
    "import pandas as pd\n",
    "\n",
    "from secscan import utils\n",
    "\n",
    "USExchanges = ['AMEX','NASDAQ','NYSE','OTCBB']"
   ]
  },
  {
   "cell_type": "markdown",
   "metadata": {},
   "source": [
    "Uses the historical price data from eoddata.com -\n",
    "this comes as one CSV file per exchange per day, sample:\n",
    "\n",
    "```\n",
    "Symbol,Date,Open,High,Low,Close,Volume\n",
    "AACG,08-Jan-2020,1.41,1.58,1.3642,1.5112,90800\n",
    "AAL,08-Jan-2020,27.1,28.09,27.07,27.84,10497200\n",
    "...\n",
    "```\n"
   ]
  },
  {
   "cell_type": "code",
   "execution_count": null,
   "metadata": {},
   "outputs": [],
   "source": [
    "#export\n",
    "\n",
    "def getHistFStuff(exch,dateStr) :\n",
    "    \"\"\"\n",
    "    Returns (fName, fDir, fPath) containing the CSV file of historical prices\n",
    "    for the given exchange and date.\n",
    "    \"\"\"\n",
    "    fName = exch+'_'+dateStr+'.csv'\n",
    "    histFDir = os.path.join(utils.stockPriceRoot,fName[:len(exch)+5])\n",
    "    histFPath = os.path.join(histFDir,fName)\n",
    "    return fName,histFDir,histFPath"
   ]
  },
  {
   "cell_type": "code",
   "execution_count": null,
   "metadata": {},
   "outputs": [],
   "source": [
    "# test getHistFStuff:\n",
    "\n",
    "t = getHistFStuff('NASDAQ','20240510')\n",
    "assert (t[0]=='NASDAQ_20240510.csv'\n",
    "        and t[1]==os.path.join(utils.stockPriceRoot,'NASDAQ_2024')\n",
    "        and t[2]==os.path.join(utils.stockPriceRoot,'NASDAQ_2024',t[0]))"
   ]
  },
  {
   "cell_type": "code",
   "execution_count": null,
   "metadata": {},
   "outputs": [],
   "source": [
    "#export\n",
    "\n",
    "def getDayMap(dateStr, exch, symCol='Symbol', priceCol='Close') :\n",
    "    \"\"\"\n",
    "    Parse the CSV file for a single day and exchange,\n",
    "    returning a dict:<stock symbol> -> <value>\n",
    "    \"\"\"\n",
    "    fPath = getHistFStuff(exch,dateStr)[2]\n",
    "    if not os.path.exists(fPath) :\n",
    "        return {}\n",
    "    df = pd.read_csv(fPath, na_filter=False)\n",
    "    dayMap = {}\n",
    "    for sym,val in zip(df[symCol],df[priceCol]) :\n",
    "        if isinstance(sym,str) :\n",
    "            dayMap[sym] = val\n",
    "        else :\n",
    "            print(dateStr,exch,'non-string symbol',repr(sym))\n",
    "    return dayMap"
   ]
  },
  {
   "cell_type": "code",
   "execution_count": null,
   "metadata": {},
   "outputs": [],
   "source": [
    "# test getDayMap:\n",
    "\n",
    "utils.setStockPriceRoot('testdata')\n",
    "\n",
    "m = getDayMap('20200108','AMEX')\n",
    "assert (len(m)==2024\n",
    "        and min(m.keys())=='AAAU' and m['AAAU']==15.56\n",
    "        and max(m.keys())=='ZSL' and m['ZSL']==26.04)\n",
    "\n",
    "m = getDayMap('20200108','NASDAQ')\n",
    "assert (len(m)==3233\n",
    "        and min(m.keys())=='AACG' and m['AACG']==1.5112\n",
    "        and max(m.keys())=='ZYXI' and m['ZYXI']==8.47)"
   ]
  },
  {
   "cell_type": "code",
   "execution_count": null,
   "metadata": {},
   "outputs": [],
   "source": [
    "#export\n",
    "\n",
    "@utils.delegates(getDayMap)\n",
    "def getCombDayMap(dateStr, exchs=USExchanges, checkDups=True, **kwargs) :\n",
    "    \"\"\"\n",
    "    Combines the day maps for a list of exchanges, optionally checking for symbols\n",
    "    duplicated between exchanges.\n",
    "    \"\"\"\n",
    "    combDayMap = {}\n",
    "    for exch in exchs :\n",
    "        m = getDayMap(dateStr,exch,**kwargs)\n",
    "        if checkDups :\n",
    "            dupKeys = (set(m.keys()) & combDayMap.keys())\n",
    "            if len(dupKeys) > 0 :\n",
    "                print('duplicated keys:',exch,dateStr,sorted(dupKeys)[:10])\n",
    "        combDayMap.update(m)\n",
    "    return combDayMap"
   ]
  },
  {
   "cell_type": "code",
   "execution_count": null,
   "metadata": {},
   "outputs": [],
   "source": [
    "# test getCombDayMap:\n",
    "\n",
    "m = getCombDayMap('20200108', exchs=['AMEX','NASDAQ'])\n",
    "assert len(m)==2024+3233"
   ]
  },
  {
   "cell_type": "code",
   "execution_count": null,
   "metadata": {},
   "outputs": [],
   "source": [
    "#export\n",
    "\n",
    "@utils.delegates(getCombDayMap)\n",
    "def getCombDayMapsForRange(d1, d2, **kwargs) :\n",
    "    \"\"\"\n",
    "    Get all the combined day maps from d1 (inclusive) to d2 (exclusive).\n",
    "    Returns a dict:dateStr -> {<stock symbol> -> <value>}\n",
    "    \"\"\"\n",
    "    combDayMapsForRange = {}\n",
    "    for d in utils.dateStrsBetween(d1, d2) :\n",
    "        combDayMapsForRange[d] = getCombDayMap(d, **kwargs)\n",
    "    return combDayMapsForRange\n",
    "\n",
    "def getDayMapWithLookback(combDayMapsForRange, forD, lookback) :\n",
    "    \"\"\"\n",
    "    Get the day map for a given day, looking back a given number of days -\n",
    "    i.e. uses the value from a previous day if it's not present in the given day.\n",
    "    \"\"\"\n",
    "    if lookback == 0 :\n",
    "        return combDayMapsForRange[forD]\n",
    "    d1 = utils.toDate(forD) + datetime.timedelta(-lookback)\n",
    "    d2 = utils.toDate(forD) + datetime.timedelta(1)\n",
    "    dayMap = {}\n",
    "    for d in utils.dateStrsBetween(d1, d2) :\n",
    "        dayMap.update(combDayMapsForRange[d])\n",
    "    return dayMap\n",
    "\n",
    "@utils.delegates(getCombDayMap)\n",
    "def getCombDayMapsForRangeWithLookback(d1, d2, lookback=7, **kwargs) :\n",
    "    \"\"\"\n",
    "    Get all the combined day maps from d1 (inclusive) to d2 (exclusive), with lookback.\n",
    "    Returns a dict:dateStr -> {<stock symbol> -> <value>}\n",
    "    Skips weekend dates.\n",
    "    \"\"\"\n",
    "    combDayMapsForRange = getCombDayMapsForRange(utils.toDate(d1)+datetime.timedelta(-lookback),\n",
    "                                                 d2, **kwargs)\n",
    "    res = {}\n",
    "    for d in utils.dateStrsBetween(d1, d2) :\n",
    "        if utils.isWeekend(d) :\n",
    "            continue\n",
    "        res[d] = getDayMapWithLookback(combDayMapsForRange, d, lookback)\n",
    "    return res\n",
    "\n",
    "@utils.delegates(getCombDayMapsForRangeWithLookback)\n",
    "def getCleanedPriceData(d1, d2, minPrice=None, **kwargs) :\n",
    "    \"\"\"\n",
    "    \"\"\"\n",
    "    dayMaps = getCombDayMapsForRangeWithLookback(d1, d2, **kwargs)\n",
    "    dateList = sorted(dayMaps.keys())\n",
    "    symsPresentAllDays = sorted(set.intersection(*(set(dayMap.keys())\n",
    "                                                   for dayMap in dayMaps.values())))\n",
    "    if minPrice is not None :\n",
    "        symsToRemove = set()\n",
    "        for dayMap in dayMaps.values() :\n",
    "            for sym,val in dayMap.items() :\n",
    "                if val < minPrice :\n",
    "                    symsToRemove.add(sym)\n",
    "        symsPresentAllDays = [sym for sym in symsPresentAllDays\n",
    "                              if sym not in symsToRemove]\n",
    "    priceMat = np.zeros((len(symsPresentAllDays),len(dateList)))\n",
    "    for dateNo,d in enumerate(dateList) :\n",
    "        dayMap = dayMaps[d]\n",
    "        for symNo,sym in enumerate(symsPresentAllDays) :\n",
    "            priceMat[symNo,dateNo] = dayMap[sym]\n",
    "    print(len(symsPresentAllDays),'symbols',len(dateList),'dates')\n",
    "    return (symsPresentAllDays, dateList, priceMat)\n",
    "\n",
    "@utils.delegates(getCleanedPriceData)\n",
    "def getForwardReturns(d1, d2, d3, weekdaysForward=20, **kwargs) :\n",
    "    \"\"\"\n",
    "    \"\"\"\n",
    "    syms, dateStrs, priceMat = getCleanedPriceData(d1,d3,**kwargs)\n",
    "    dateStrs = [d for d in dateStrs if d<d2]\n",
    "    returnMat = np.zeros((len(syms), len(dateStrs)))\n",
    "    for j in range(len(dateStrs)) :\n",
    "        returnMat[:,j] = priceMat[:,j+weekdaysForward]/priceMat[:,j]\n",
    "    return syms,dateStrs,returnMat\n",
    "\n",
    "def getClosestReturn(sym, syms, dateStrs, returnMat) :\n",
    "    \"\"\"\n",
    "    \"\"\"\n",
    "    rowNo = syms.index(sym)\n",
    "    diffs = ((returnMat - returnMat[rowNo])**2).sum(axis=1)\n",
    "    symsAndDiffs = list(zip(syms,diffs))\n",
    "    symsAndDiffs.sort(key=lambda x : x[1])\n",
    "    return symsAndDiffs"
   ]
  },
  {
   "cell_type": "code",
   "execution_count": null,
   "metadata": {},
   "outputs": [
    {
     "name": "stdout",
     "output_type": "stream",
     "text": [
      "duplicated keys: NYSE 20230306 ['AMB.W']\n",
      "duplicated keys: NYSE 20230307 ['AMB.W']\n",
      "duplicated keys: NYSE 20230308 ['AMB.W']\n",
      "duplicated keys: NYSE 20230309 ['AMB.W']\n",
      "duplicated keys: NYSE 20230310 ['AMB.W']\n",
      "duplicated keys: NYSE 20230313 ['AMB.W']\n",
      "duplicated keys: NYSE 20230314 ['AMB.W']\n",
      "duplicated keys: NYSE 20230315 ['AMB.W']\n",
      "duplicated keys: NYSE 20230316 ['AMB.W']\n",
      "duplicated keys: NYSE 20230317 ['AMB.W']\n",
      "duplicated keys: NYSE 20230320 ['AMB.W']\n",
      "duplicated keys: NYSE 20230321 ['AMB.W']\n",
      "duplicated keys: NYSE 20230322 ['AMB.W']\n",
      "duplicated keys: OTCBB 20230323 ['CETY']\n",
      "duplicated keys: OTCBB 20230614 ['LTRY', 'LTRYW']\n",
      "8541 symbols 283 dates\n"
     ]
    }
   ],
   "source": [
    "# m = getForwardReturns('20230101','20240101','20240201',minPrice=1.0,priceCol='Open',lookback=4)"
   ]
  },
  {
   "cell_type": "code",
   "execution_count": null,
   "metadata": {},
   "outputs": [
    {
     "data": {
      "text/plain": [
       "[('MNDO', 0.0),\n",
       " ('FPE', 0.3939572159416754),\n",
       " ('FPEI', 0.4037418391021024),\n",
       " ('LOAN', 0.4058725785512839),\n",
       " ('CHI', 0.4152784927005114),\n",
       " ('IHTA', 0.44170900864517204),\n",
       " ('JPC', 0.452376416767534),\n",
       " ('EFSCP', 0.45330330487244486),\n",
       " ('JPI', 0.4547505807153403),\n",
       " ('HIO', 0.46793309830180163),\n",
       " ('SPN-B', 0.4700152766777501),\n",
       " ('PRE-J', 0.47212628763457065),\n",
       " ('ACR-C', 0.47461934816855417),\n",
       " ('HIPS', 0.47686817879050203),\n",
       " ('JHPI', 0.47973534129229467),\n",
       " ('FINS', 0.4845376741716778),\n",
       " ('PGZ', 0.4862788449951719),\n",
       " ('PQDI', 0.4975648213837466),\n",
       " ('OAK-A', 0.4991444262088841),\n",
       " ('GPM-A', 0.5011538793366852)]"
      ]
     },
     "execution_count": null,
     "metadata": {},
     "output_type": "execute_result"
    }
   ],
   "source": [
    "# getClosestReturn('MNDO',*m)[:20]"
   ]
  },
  {
   "cell_type": "code",
   "execution_count": null,
   "metadata": {},
   "outputs": [
    {
     "data": {
      "text/plain": [
       "[('TAIT', 0.0),\n",
       " ('NNI', 0.7368105665953435),\n",
       " ('SPN-B', 0.771899859504044),\n",
       " ('ICVT', 0.81698375759366),\n",
       " ('COD-B', 0.8352495377240741),\n",
       " ('CLSM', 0.8366884639203913),\n",
       " ('CET', 0.8384678465364781),\n",
       " ('CWB', 0.8487942439973535),\n",
       " ('ET-D', 0.8519271383152587),\n",
       " ('TLGPY', 0.8523217702721007),\n",
       " ('CSF', 0.8566815134696606),\n",
       " ('MGMT', 0.858181003231267),\n",
       " ('TDSC', 0.8644684103862601),\n",
       " ('WEDXF', 0.8715553578868909),\n",
       " ('WBIF', 0.8718234798733043),\n",
       " ('NCV-A', 0.8744353593018128),\n",
       " ('STT-D', 0.8744449134382206),\n",
       " ('QRMI', 0.8770904594690824),\n",
       " ('ET-C', 0.8804238997785947),\n",
       " ('XRMI', 0.8821812102633625)]"
      ]
     },
     "execution_count": null,
     "metadata": {},
     "output_type": "execute_result"
    }
   ],
   "source": [
    "# getClosestReturn('TAIT',*m)[:20]"
   ]
  },
  {
   "cell_type": "code",
   "execution_count": null,
   "metadata": {},
   "outputs": [
    {
     "data": {
      "text/plain": [
       "[('RELL', 0.0),\n",
       " ('CASS', 2.3632986384989505),\n",
       " ('POWI', 2.8332377785971987),\n",
       " ('GWRS', 2.8404981620316088),\n",
       " ('ANGO', 2.8471128912348176),\n",
       " ('OARK', 2.9107047683916987),\n",
       " ('RRBI', 2.9644257369823506),\n",
       " ('RICK', 2.9732589455373617),\n",
       " ('GTY', 2.982627077477133),\n",
       " ('RGCO', 2.9997206622373067),\n",
       " ('TMP', 3.0179666671694),\n",
       " ('KLIC', 3.0608739237335296),\n",
       " ('SEAS', 3.0614640639877395),\n",
       " ('AMBA', 3.0634315959649765),\n",
       " ('CWE.A', 3.0799862214034004),\n",
       " ('CNRG', 3.136485251345724),\n",
       " ('CWEN', 3.1397049276381717),\n",
       " ('KEYS', 3.1410272634367935),\n",
       " ('MYE', 3.1592785252589612),\n",
       " ('DENN', 3.1643088355572795)]"
      ]
     },
     "execution_count": null,
     "metadata": {},
     "output_type": "execute_result"
    }
   ],
   "source": [
    "# getClosestReturn('RELL',*m)[:20]"
   ]
  },
  {
   "cell_type": "code",
   "execution_count": null,
   "metadata": {},
   "outputs": [],
   "source": []
  },
  {
   "cell_type": "code",
   "execution_count": null,
   "metadata": {},
   "outputs": [],
   "source": [
    "#hide\n",
    "# uncomment and run to regenerate all library Python files\n",
    "# from nbdev.export import notebook2script; notebook2script()"
   ]
  },
  {
   "cell_type": "code",
   "execution_count": null,
   "metadata": {},
   "outputs": [],
   "source": []
  }
 ],
 "metadata": {
  "kernelspec": {
   "display_name": "Python 3",
   "language": "python",
   "name": "python3"
  }
 },
 "nbformat": 4,
 "nbformat_minor": 4
}
