{
 "cells": [
  {
   "cell_type": "code",
   "execution_count": null,
   "metadata": {},
   "outputs": [],
   "source": [
    "# default_exp priceHist"
   ]
  },
  {
   "cell_type": "markdown",
   "metadata": {},
   "source": [
    "# priceHist\n",
    "\n",
    "> Parse historical stock price data files."
   ]
  },
  {
   "cell_type": "code",
   "execution_count": null,
   "metadata": {},
   "outputs": [],
   "source": [
    "#hide\n",
    "%load_ext autoreload\n",
    "%autoreload 2\n",
    "from nbdev import show_doc"
   ]
  },
  {
   "cell_type": "code",
   "execution_count": null,
   "metadata": {},
   "outputs": [],
   "source": [
    "#export\n",
    "\n",
    "import os\n",
    "import pandas as pd\n",
    "\n",
    "from secscan import utils\n",
    "\n",
    "USExchanges = ['AMEX','NASDAQ','NYSE','OTCBB']"
   ]
  },
  {
   "cell_type": "markdown",
   "metadata": {},
   "source": [
    "xxx"
   ]
  },
  {
   "cell_type": "code",
   "execution_count": null,
   "metadata": {},
   "outputs": [],
   "source": [
    "#export\n",
    "\n",
    "def getHistFStuff(exch,dateStr) :\n",
    "    \"\"\"\n",
    "    Returns (fName, fDir, fPath) containing the CSV file of historical prices\n",
    "    for the given exchange and date.\n",
    "    \"\"\"\n",
    "    fName = exch+'_'+dateStr+'.csv'\n",
    "    histFDir = os.path.join(utils.stockPriceRoot,fName[:len(exch)+5])\n",
    "    histFPath = os.path.join(histFDir,fName)\n",
    "    return fName,histFDir,histFPath"
   ]
  },
  {
   "cell_type": "code",
   "execution_count": null,
   "metadata": {},
   "outputs": [],
   "source": [
    "t = getHistFStuff('NASDAQ','20240510')\n",
    "assert (t[0]=='NASDAQ_20240510.csv'\n",
    "        and t[1]==os.path.join(utils.stockPriceRoot,'NASDAQ_2024')\n",
    "        and t[2]==os.path.join(utils.stockPriceRoot,'NASDAQ_2024',t[0]))"
   ]
  },
  {
   "cell_type": "code",
   "execution_count": null,
   "metadata": {},
   "outputs": [],
   "source": [
    "#export\n",
    "\n",
    "def getDayMap(exch, dateStr, symCol='Symbol', priceCol='Close') :\n",
    "    fPath = getHistFStuff(exch,dateStr)[2]\n",
    "    if not os.path.exists(fPath) :\n",
    "        return {}\n",
    "    df = pd.read_csv(fPath)\n",
    "    return dict(zip(df[symCol],df[priceCol]))"
   ]
  },
  {
   "cell_type": "code",
   "execution_count": null,
   "metadata": {},
   "outputs": [
    {
     "data": {
      "text/plain": [
       "2024"
      ]
     },
     "execution_count": null,
     "metadata": {},
     "output_type": "execute_result"
    }
   ],
   "source": [
    "utils.setStockPriceRoot('testdata')\n",
    "m = getDayMap('AMEX','20200108')\n",
    "len(m)"
   ]
  },
  {
   "cell_type": "code",
   "execution_count": null,
   "metadata": {},
   "outputs": [],
   "source": [
    "#hide\n",
    "# uncomment and run to regenerate all library Python files\n",
    "# from nbdev.export import notebook2script; notebook2script()"
   ]
  },
  {
   "cell_type": "code",
   "execution_count": null,
   "metadata": {},
   "outputs": [],
   "source": []
  }
 ],
 "metadata": {
  "kernelspec": {
   "display_name": "Python 3",
   "language": "python",
   "name": "python3"
  }
 },
 "nbformat": 4,
 "nbformat_minor": 4
}
