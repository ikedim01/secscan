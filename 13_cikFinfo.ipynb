{
 "cells": [
  {
   "cell_type": "code",
   "execution_count": null,
   "metadata": {},
   "outputs": [],
   "source": [
    "# default_exp cikFInfo"
   ]
  },
  {
   "cell_type": "markdown",
   "metadata": {},
   "source": [
    "# cikFInfo\n",
    "\n",
    "> Save parsed form info for each CIK in a separate JSON-format file."
   ]
  },
  {
   "cell_type": "code",
   "execution_count": null,
   "metadata": {},
   "outputs": [],
   "source": [
    "#hide\n",
    "%load_ext autoreload\n",
    "%autoreload 2\n",
    "from nbdev import show_doc"
   ]
  },
  {
   "cell_type": "code",
   "execution_count": null,
   "metadata": {},
   "outputs": [],
   "source": [
    "#export\n",
    "\n",
    "import collections\n",
    "import json\n",
    "import os\n",
    "\n",
    "from secscan import utils, dailyList\n",
    "from secscan import scrape13F, scrape8K, scrape6K, scrape13G, scrape13D, scrape4\n",
    "\n",
    "defaultCikFInfoDir = os.path.join(utils.stockDataRoot,'cikFInfo')\n",
    "allScraperClasses = [scrape13F.scraper13F,scrape8K.scraper8K,scrape6K.scraper6K,\n",
    "                     scrape13G.scraper13G,scrape13D.scraper13D,scrape4.scraper4]\n",
    "cikFPrefLen = 4"
   ]
  },
  {
   "cell_type": "markdown",
   "metadata": {},
   "source": [
    "Save parsed form info for each CIK in a separate JSON-format file.\n",
    "The format is designed so that info for additional forms can simply be appended to the file."
   ]
  },
  {
   "cell_type": "code",
   "execution_count": null,
   "metadata": {},
   "outputs": [],
   "source": [
    "#export\n",
    "\n",
    "def getCikFInfoDirAndPath(cik, cikFInfoDir=defaultCikFInfoDir) :\n",
    "    if len(cik)<2 or not cik.isdigit() or cik[0]=='0' :\n",
    "        raise ValueError(f'invalid CIK \"{cik}\"')\n",
    "    fDir = os.path.join(cikFInfoDir,cik[:cikFPrefLen])\n",
    "    return fDir,os.path.join(fDir,cik+'.json')\n",
    "\n",
    "def jsonValError(msg, s) :\n",
    "    if len(s) > 200 :\n",
    "        s = s[:100] + ' ... ' + s[-100:]\n",
    "    return ValueError(msg + ' in ' + s)\n",
    "\n",
    "def loadCikFInfo(cik, cikFInfoDir=defaultCikFInfoDir, returnAsText=False) :\n",
    "    cik = str(cik).lstrip('0')\n",
    "    fPath = getCikFInfoDirAndPath(cik, cikFInfoDir)[1]\n",
    "    if not os.path.exists(fPath) :\n",
    "        return \"\" if returnAsText else {}\n",
    "    with open(fPath,'r',encoding='ascii') as f :\n",
    "        s = f.read().strip()\n",
    "    if s[-1] != ',' :\n",
    "        raise jsonValError('missing ending ,', s)\n",
    "    if returnAsText :\n",
    "        return s[:-1] if returnAsText else json.loads('{'+s[:-1]+'}')\n",
    "\n",
    "def saveCikFInfo(cik, cikFInfo, removeDups=False, cikFInfoDir=defaultCikFInfoDir) :\n",
    "    if removeDups :\n",
    "        existingCikFInfo = loadCikFInfo(cik, cikFInfoDir=cikFInfoDir)\n",
    "        cikFInfo = dict((k,v) for k,v in cikFInfo.items() if k not in existingCikFInfo)\n",
    "    if len(cikFInfo) == 0 :\n",
    "        return\n",
    "    s = json.dumps(cikFInfo, indent=0).strip()\n",
    "    if s[0]!='{' or s[-1]!='}' :\n",
    "        raise jsonValError('missing start/end {}', s)\n",
    "    fDir, fPath = getCikFInfoDirAndPath(cik, cikFInfoDir)\n",
    "    if not os.path.exists(fDir) :\n",
    "        os.makedirs(fDir)\n",
    "    with open(fPath,'a',encoding='ascii') as f :\n",
    "        f.write(s[1:-1])\n",
    "        f.write(',\\n')\n",
    "\n",
    "def modifyInfoForDisp(info, scraper, cikNames) :\n",
    "    if info == 'ERROR' :\n",
    "        return\n",
    "    if scraper.formClass.startswith('SC 13') :\n",
    "        # fill in cik names\n",
    "        if 'ciks' in info :\n",
    "            info['cikNames'] = []\n",
    "            for cik in info['ciks'] :\n",
    "                info['cikNames'].append(cikNames.get(cik.lstrip('0'),\n",
    "                                                     ('CIK'+cik.lstrip('0'),))[0])\n",
    "    elif scraper.formClass.startswith('INSIDER') :\n",
    "        issuerCik = None\n",
    "        for cik,cikType in zip(info['ciks'],info['cikTypes']) :\n",
    "            if cikType == 'Issuer' :\n",
    "                issuerCik = cik\n",
    "                break\n",
    "        if issuerCik is not None :\n",
    "            info['issuerName'] = cikNames.get(issuerCik.lstrip('0'),\n",
    "                                              ('CIK'+issuerCik.lstrip('0'),))[0]\n",
    "    elif scraper.formClass.startswith('13F') :\n",
    "        info['holdings'] = scrape13F.get13FHoldingsReportList(info['holdings'],\n",
    "                                                              minFrac=0.01)\n",
    "def saveAllCikFInfo(startD, endD, scraperClasses,\n",
    "                    removeDups=True, cikFInfoDir=defaultCikFInfoDir, ciks=None) :\n",
    "    dl = dailyList.dailyList(startD=startD, endD=endD)\n",
    "    datesPresent = utils.loadPklFromDir(cikFInfoDir, \"dates.pkl\", set())\n",
    "    cikInfoMap = {}\n",
    "    for scraperClass in scraperClasses :\n",
    "        scraper = scraperClass(startD=startD, endD=endD)\n",
    "        for dInfo in scraper.infoMap.values() :\n",
    "            for info in dInfo.values() :\n",
    "                modifyInfoForDisp(info, scraper, dl.cikNames)\n",
    "        scraper.addToCikInfoMap(dl, cikInfoMap, ciks=ciks, excludeDates=datesPresent)\n",
    "    for cik,cikFInfo in cikInfoMap.items() :\n",
    "        if (ciks is not None and cik not in ciks) :\n",
    "            continue\n",
    "        saveCikFInfo(cik, cikFInfo, removeDups=removeDups, cikFInfoDir=cikFInfoDir)\n",
    "    datesPresent.update(dl.dl.keys())\n",
    "    utils.savePklToDir(cikFInfoDir, \"dates.pkl\", datesPresent)\n",
    "\n",
    "def prSample(s, n=2, filterF=lambda x : True) :\n",
    "    res = []\n",
    "    for dStr,dInfo in s.infoMap.items() :\n",
    "        for accNo,info in dInfo.items() :\n",
    "            if filterF(info) :\n",
    "                print(dStr,accNo,info)\n",
    "                res.append(info)\n",
    "                if len(res) >= n :\n",
    "                    return (res[0] if n==1 else res)\n",
    "\n",
    "def saveYears(startY, endY,\n",
    "              removeDups=False, cikFInfoDir=defaultCikFInfoDir, ciks=None) :\n",
    "    qList = ['0101', '0401', '0701', '1001', '0101']\n",
    "    for y in range(startY, endY) :\n",
    "        for qs, qe in zip(qList, qList[1:]) :\n",
    "            startD, endD = f'{y}{qs}', f'{y+1 if qe==\"0101\" else y}{qe}'\n",
    "            print(startD, endD)\n",
    "            saveAllCikFInfo(startD, endD, allScraperClasses,\n",
    "                            removeDups=removeDups, cikFInfoDir=cikFInfoDir, ciks=ciks)"
   ]
  },
  {
   "cell_type": "markdown",
   "metadata": {},
   "source": [
    "Code to check CIK format and figure out the right prefix length:"
   ]
  },
  {
   "cell_type": "code",
   "execution_count": null,
   "metadata": {},
   "outputs": [],
   "source": [
    "# def checkCiks() :\n",
    "#     cikNames = utils.pickLoad(os.path.join(utils.stockDataRoot,'dlMaps','cikNames.pkl'))\n",
    "#     print('ciks with leading 0', [cik for cik in cikNames if cik[0]=='0'])\n",
    "#     print('less than 4 long', [cik for cik in cikNames if len(cik)<4])\n",
    "#     for prefLen in [3,4] :\n",
    "#         ciksByPref = collections.defaultdict(list)\n",
    "#         for cik in cikNames :\n",
    "#             ciksByPref[cik[:prefLen]].append(cik)\n",
    "#         print(f'prefix length {prefLen}: {len(ciksByPref)} folders,'\n",
    "#               +f' max {max(len(v) for v in ciksByPref.values())} files')\n",
    "# checkCiks()\n",
    "# OUTPUT: \n",
    "# ciks with leading 0 []\n",
    "# less than 4 long ['63']\n",
    "# prefix length 3: 773 folders, max 9154 files\n",
    "# prefix length 4: 4003 folders, max 933 files\n",
    "# - chose prefix length 4"
   ]
  },
  {
   "cell_type": "code",
   "execution_count": null,
   "metadata": {},
   "outputs": [
    {
     "data": {
      "text/plain": [
       "{'links': [['primary_doc.html',\n",
       "   'PRIMARY DOCUMENT',\n",
       "   '4',\n",
       "   '/Archives/edgar/data/73290/000151316221000147/xslF345X03/primary_doc.xml'],\n",
       "  ['primary_doc.xml',\n",
       "   'PRIMARY DOCUMENT',\n",
       "   '4',\n",
       "   '/Archives/edgar/data/73290/000151316221000147/primary_doc.xml']],\n",
       " 'complete': '/Archives/edgar/data/73290/000151316221000147/0001513162-21-000147.txt',\n",
       " 'ciks': ['0000073290', '0001271102'],\n",
       " 'cikTypes': ['Issuer', 'Reporting'],\n",
       " 'period': '2021-12-09',\n",
       " 'acceptDate': '2021-12-10',\n",
       " 'acceptTime': '17:48:30',\n",
       " 'transactions': [['Non-qualified stock option',\n",
       "   '2021-12-09',\n",
       "   'A',\n",
       "   'A',\n",
       "   '45000',\n",
       "   '',\n",
       "   '',\n",
       "   'D',\n",
       "   '265000']],\n",
       " 'reportingName': ['BARBIERI ALLEN'],\n",
       " 'reportingCik': ['1271102']}"
      ]
     },
     "execution_count": null,
     "metadata": {},
     "output_type": "execute_result"
    }
   ],
   "source": [
    "# l = loadCikFInfo(73290)\n",
    "# l['0001513162-21-000147'] # 4\n",
    "# l['0001398344-22-003355'] # 13G"
   ]
  },
  {
   "cell_type": "code",
   "execution_count": null,
   "metadata": {},
   "outputs": [
    {
     "data": {
      "text/plain": [
       "['Item 2.02 Results of Operations and Financial Condition. The registrant announced on January 25, 2023, its results of operations for the fourth quarter of 2022. The text of the press release and accompanying financial information are attached as exhibits and incorporated herein by reference. ',\n",
       " 'Item 9.01 Financial Statements and Exhibits. The following exhibits are furnished as part of this report: (d) Exhibits 99.1 Press release dated January 25, 2023 reporting financial results for the fourth quarter ended December 31, 2022. 99.2 AT&T Inc. selected financial statements and operating data. 99.3 Discussion and reconciliation of non-GAAP measures. 99.4 Supplemental Quarterly Standalone AT&T Financial Information. 104 Cover Page Interactive Data File (embedded within the Inline XBRL document) Signature Pursuant to the requirements of the Securities Exchange Act of 1934, the Registrant has duly caused this report to be signed on its behalf by the undersigned hereunto duly authorized. AT&T INC. Date: January 25, 2023 By: /s/ Debra L. Dial . Debra L. Dial Senior Vice President - Chief Accounting Officer and Controller']"
      ]
     },
     "execution_count": null,
     "metadata": {},
     "output_type": "execute_result"
    }
   ],
   "source": [
    "# l['0000732717-23-000007']['itemTexts']"
   ]
  },
  {
   "cell_type": "code",
   "execution_count": null,
   "metadata": {},
   "outputs": [
    {
     "data": {
      "text/plain": [
       "{'cik': '732717',\n",
       " 'entityType': 'operating',\n",
       " 'sic': '4813',\n",
       " 'sicDescription': 'Telephone Communications (No Radiotelephone)',\n",
       " 'insiderTransactionForOwnerExists': 1,\n",
       " 'insiderTransactionForIssuerExists': 1,\n",
       " 'name': 'AT&T INC.',\n",
       " 'tickers': ['T', 'TBB', 'TBC', 'T-PA', 'T-PC'],\n",
       " 'exchanges': ['NYSE', 'NYSE', 'NYSE', 'NYSE', 'NYSE'],\n",
       " 'ein': '431301883',\n",
       " 'description': '',\n",
       " 'website': '',\n",
       " 'investorWebsite': '',\n",
       " 'category': 'Large accelerated filer',\n",
       " 'fiscalYearEnd': '1231',\n",
       " 'stateOfIncorporation': 'DE',\n",
       " 'stateOfIncorporationDescription': 'DE',\n",
       " 'addresses': {'mailing': {'street1': '208 S. AKARD ST',\n",
       "   'street2': None,\n",
       "   'city': 'DALLAS',\n",
       "   'stateOrCountry': 'TX',\n",
       "   'zipCode': '75202',\n",
       "   'stateOrCountryDescription': 'TX'},\n",
       "  'business': {'street1': '208 S. AKARD ST',\n",
       "   'street2': None,\n",
       "   'city': 'DALLAS',\n",
       "   'stateOrCountry': 'TX',\n",
       "   'zipCode': '75202',\n",
       "   'stateOrCountryDescription': 'TX'}},\n",
       " 'phone': '2108214105',\n",
       " 'flags': '',\n",
       " 'formerNames': [{'name': 'SBC COMMUNICATIONS INC',\n",
       "   'from': '1995-05-26T00:00:00.000Z',\n",
       "   'to': '2005-11-18T00:00:00.000Z'},\n",
       "  {'name': 'SOUTHWESTERN BELL CORP',\n",
       "   'from': '1994-06-24T00:00:00.000Z',\n",
       "   'to': '1995-04-26T00:00:00.000Z'}]}"
      ]
     },
     "execution_count": null,
     "metadata": {},
     "output_type": "execute_result"
    }
   ],
   "source": [
    "# dict((k,v) for k,v in l.items() if k!='filings')"
   ]
  },
  {
   "cell_type": "code",
   "execution_count": null,
   "metadata": {},
   "outputs": [
    {
     "name": "stdout",
     "output_type": "stream",
     "text": [
      "20170101 20170401\n",
      "20170401 20170701\n",
      "20170701 20171001\n",
      "20171001 20180101\n",
      "20180101 20180401\n",
      "20180401 20180701\n",
      "20180701 20181001\n",
      "20181001 20190101\n",
      "20190101 20190401\n",
      "20190401 20190701\n",
      "20190701 20191001\n",
      "20191001 20200101\n",
      "20200101 20200401\n",
      "20200401 20200701\n",
      "20200701 20201001\n",
      "20201001 20210101\n",
      "20210101 20210401\n",
      "20210401 20210701\n",
      "20210701 20211001\n",
      "20211001 20220101\n",
      "20220101 20220401\n",
      "20220401 20220701\n",
      "20220701 20221001\n",
      "20221001 20230101\n",
      "20230101 20230401\n",
      "20230401 20230701\n",
      "20230701 20231001\n",
      "20231001 20240101\n"
     ]
    }
   ],
   "source": [
    "# saveYears(2017,2024)"
   ]
  },
  {
   "cell_type": "code",
   "execution_count": null,
   "metadata": {},
   "outputs": [
    {
     "data": {
      "text/plain": [
       "('20170101', '20230203')"
      ]
     },
     "execution_count": null,
     "metadata": {},
     "output_type": "execute_result"
    }
   ],
   "source": [
    "# ll = sorted(utils.loadPklFromDir(defaultCikFInfoDir,'dates.pkl','xxx')); ll[0],ll[-1]"
   ]
  },
  {
   "cell_type": "code",
   "execution_count": null,
   "metadata": {},
   "outputs": [],
   "source": []
  },
  {
   "cell_type": "markdown",
   "metadata": {},
   "source": [
    "Test cik file info class:"
   ]
  },
  {
   "cell_type": "code",
   "execution_count": null,
   "metadata": {},
   "outputs": [],
   "source": [
    "assert loadCikFInfo('123')=={}\n",
    "fDir, fPath = getCikFInfoDirAndPath('12345')\n",
    "assert fDir.endswith('12345'[:cikFPrefLen]) and fPath.endswith('12345.json')"
   ]
  },
  {
   "cell_type": "code",
   "execution_count": null,
   "metadata": {},
   "outputs": [],
   "source": []
  },
  {
   "cell_type": "code",
   "execution_count": null,
   "metadata": {},
   "outputs": [],
   "source": [
    "#hide\n",
    "# uncomment and run to regenerate all library Python files\n",
    "# from nbdev.export import notebook2script; notebook2script()"
   ]
  },
  {
   "cell_type": "code",
   "execution_count": null,
   "metadata": {},
   "outputs": [],
   "source": []
  }
 ],
 "metadata": {
  "kernelspec": {
   "display_name": "Python 3",
   "language": "python",
   "name": "python3"
  }
 },
 "nbformat": 4,
 "nbformat_minor": 4
}
