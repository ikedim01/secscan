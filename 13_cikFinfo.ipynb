{
 "cells": [
  {
   "cell_type": "code",
   "execution_count": null,
   "metadata": {},
   "outputs": [],
   "source": [
    "# default_exp cikFInfo"
   ]
  },
  {
   "cell_type": "markdown",
   "metadata": {},
   "source": [
    "# cikFInfo\n",
    "\n",
    "> Save parsed form info for each CIK in a separate JSON-format file."
   ]
  },
  {
   "cell_type": "code",
   "execution_count": null,
   "metadata": {},
   "outputs": [],
   "source": [
    "#hide\n",
    "%load_ext autoreload\n",
    "%autoreload 2\n",
    "from nbdev import show_doc"
   ]
  },
  {
   "cell_type": "code",
   "execution_count": null,
   "metadata": {},
   "outputs": [],
   "source": [
    "#export\n",
    "\n",
    "import collections\n",
    "import json\n",
    "import os\n",
    "\n",
    "from secscan import utils, dailyList\n",
    "from secscan import scrape13F, scrape8K, scrape6K, scrape13G, scrape13D, scrape4\n",
    "\n",
    "defaultCikFInfoDir = os.path.join(utils.stockDataRoot,'cikFInfo')\n",
    "allScraperClasses = [scrape13F.scraper13F,scrape8K.scraper8K,scrape6K.scraper6K,\n",
    "                     scrape13G.scraper13G,scrape13D.scraper13D,scrape4.scraper4]\n",
    "cikFPrefLen = 4"
   ]
  },
  {
   "cell_type": "markdown",
   "metadata": {},
   "source": [
    "Save parsed form info for each CIK in a separate JSON-format file.\n",
    "The format is designed so that info for additional forms can simply be appended to the file."
   ]
  },
  {
   "cell_type": "code",
   "execution_count": null,
   "metadata": {},
   "outputs": [],
   "source": [
    "#export\n",
    "\n",
    "def getCikFInfoDirAndPath(cik, cikFInfoDir=defaultCikFInfoDir) :\n",
    "    if len(cik)<2 or not cik.isdigit() or cik[0]=='0' :\n",
    "        raise ValueError(f'invalid CIK \"{cik}\"')\n",
    "    fDir = os.path.join(cikFInfoDir,cik[:cikFPrefLen])\n",
    "    return fDir,os.path.join(fDir,cik+'.json')\n",
    "\n",
    "def jsonValError(msg, s) :\n",
    "    if len(s) > 200 :\n",
    "        s = s[:100] + ' ... ' + s[-100:]\n",
    "    return ValueError(msg + ' in ' + s)\n",
    "\n",
    "def loadCikFInfo(cik, cikFInfoDir=defaultCikFInfoDir, returnAsText=False) :\n",
    "    fPath = getCikFInfoDirAndPath(cik, cikFInfoDir)[1]\n",
    "    if not os.path.exists(fPath) :\n",
    "        return {}\n",
    "    with open(fPath,'r',encoding='ascii') as f :\n",
    "        s = f.read().strip()\n",
    "    if s[-1] != ',' :\n",
    "        raise jsonValError('missing ending ,', s)\n",
    "    if returnAsText :\n",
    "        return s[:-1]\n",
    "    return json.loads('{'+s[:-1]+'}')\n",
    "\n",
    "def saveCikFInfo(cik, cikFInfo, removeDups=False, cikFInfoDir=defaultCikFInfoDir) :\n",
    "    if removeDups :\n",
    "        existingCikFInfo = loadCikFInfo(cik, cikFInfoDir=cikFInfoDir)\n",
    "        cikFInfo = dict((k,v) for k,v in cikFInfo.items() if k not in existingCikFInfo)\n",
    "    if len(cikFInfo) == 0 :\n",
    "        return\n",
    "    s = json.dumps(cikFInfo, indent=0).strip()\n",
    "    if s[0]!='{' or s[-1]!='}' :\n",
    "        raise jsonValError('missing start/end {}', s)\n",
    "    fDir, fPath = getCikFInfoDirAndPath(cik, cikFInfoDir)\n",
    "    if not os.path.exists(fDir) :\n",
    "        os.makedirs(fDir)\n",
    "    with open(fPath,'a',encoding='ascii') as f :\n",
    "        f.write(s[1:-1])\n",
    "        f.write(',\\n')\n",
    "\n",
    "def saveAllCikFInfo(startD, endD, scraperClasses,\n",
    "                    removeDups=True, cikFInfoDir=defaultCikFInfoDir,\n",
    "                    ciks=None) :\n",
    "    dl = dailyList.dailyList(startD=startD, endD=endD)\n",
    "    cikInfoMap = {}\n",
    "    for scraperClass in scraperClasses :\n",
    "        scraper = scraperClass(startD=startD, endD=endD)\n",
    "        scraper.addToCikInfoMap(dl, cikInfoMap, ciks=ciks)\n",
    "    for cik,cikFInfo in cikInfoMap.items() :\n",
    "        if (ciks is not None and cik not in ciks) :\n",
    "            continue\n",
    "        saveCikFInfo(cik, cikFInfo, removeDups=removeDups, cikFInfoDir=cikFInfoDir)"
   ]
  },
  {
   "cell_type": "markdown",
   "metadata": {},
   "source": [
    "Code to check CIK format and figure out the right prefix length:"
   ]
  },
  {
   "cell_type": "code",
   "execution_count": null,
   "metadata": {},
   "outputs": [],
   "source": [
    "# def checkCiks() :\n",
    "#     cikNames = utils.pickLoad(os.path.join(utils.stockDataRoot,'dlMaps','cikNames.pkl'))\n",
    "#     print('ciks with leading 0', [cik for cik in cikNames if cik[0]=='0'])\n",
    "#     print('less than 4 long', [cik for cik in cikNames if len(cik)<4])\n",
    "#     for prefLen in [3,4] :\n",
    "#         ciksByPref = collections.defaultdict(list)\n",
    "#         for cik in cikNames :\n",
    "#             ciksByPref[cik[:prefLen]].append(cik)\n",
    "#         print(f'prefix length {prefLen}: {len(ciksByPref)} folders,'\n",
    "#               +f' max {max(len(v) for v in ciksByPref.values())} files')\n",
    "# checkCiks()\n",
    "# OUTPUT: \n",
    "# ciks with leading 0 []\n",
    "# less than 4 long ['63']\n",
    "# prefix length 3: 773 folders, max 9154 files\n",
    "# prefix length 4: 4003 folders, max 933 files\n",
    "# - chose prefix length 4"
   ]
  },
  {
   "cell_type": "code",
   "execution_count": null,
   "metadata": {},
   "outputs": [],
   "source": [
    "htmlPref = \"\"\"\n",
    "<!DOCTYPE html>\n",
    "<html>\n",
    "<head>\n",
    "<meta charset=\"utf-8\">\n",
    "<style>\n",
    ".collapsible {\n",
    "  background-color: #DDD;\n",
    "  cursor: pointer;\n",
    "  padding: 2px;\n",
    "  margin: 2px;\n",
    "  border: 1px solid black;\n",
    "  text-align: left;\n",
    "  outline: none;\n",
    "  font-size: 15px;\n",
    "}\n",
    ".collapsible:hover {\n",
    "  background-color: #AAA;\n",
    "}\n",
    ".content {\n",
    "  padding: 0 2px;\n",
    "  display: none;\n",
    "  overflow: hidden;\n",
    "  background-color: #DDD;\n",
    "}\n",
    ".bodyclass {\n",
    "  font-size: 16px;\n",
    "  font-family: Arial;\n",
    "}\n",
    "</style>\n",
    "</head>\n",
    "<body class=\"bodyclass\">\n",
    "<div><button type=\"button\" id=\"expandall\">expand all</button></div>\n",
    "<script>\n",
    "\"\"\"\n",
    "\n",
    "htmlSuff = \"\"\"\n",
    "var fList = submissions['filings']['recent'];\n",
    "var accNos = fList['accessionNumber'];\n",
    "for (let i=0; i<accNos.length; i++) {\n",
    "    var el = document.createElement(\"div\");\n",
    "    el.innerHTML = accNos[i];\n",
    "    document.body.appendChild(el);\n",
    "}\n",
    "var collList = document.getElementsByClassName(\"collapsible\");\n",
    "for (let i = 0; i < collList.length; i++) {\n",
    "  collList[i].addEventListener(\"click\", function() {\n",
    "    let content = this.nextElementSibling;\n",
    "    content.style.display = (content.style.display === \"block\" ? \"none\" : \"block\");\n",
    "  }\n",
    "  );\n",
    "}\n",
    "document.getElementById(\"expandall\").addEventListener(\"click\", function() {\n",
    "    let expandingAll = (this.textContent === 'expand all');\n",
    "    this.textContent = (expandingAll ? 'collapse all' : 'expand all');\n",
    "    for (let i = 0; i < collList.length; i++) {\n",
    "        let content = collList[i].nextElementSibling;\n",
    "        content.style.display = (expandingAll ? \"block\" : \"none\");\n",
    "    }\n",
    "});\n",
    "</script>\n",
    "</body>\n",
    "</html>\"\"\"\n",
    "\n",
    "from secscan import getCikFilings\n",
    "\n",
    "def makeHtml(cik) :\n",
    "    cik = str(cik).lstrip('0')\n",
    "    subs = utils.downloadSecUrl(getCikFilings.cikRestFilingsUrl(cik),\n",
    "                             restData=True, toFormat='text')\n",
    "    cikFInfo = loadCikFInfo(cik, returnAsText=True)\n",
    "    with open(os.path.join(utils.stockDataRoot,cik+'.html'), 'w') as f :\n",
    "        f.write(htmlPref)\n",
    "        f.write('var fInfo={')\n",
    "        f.write(cikFInfo)\n",
    "        f.write('};\\n')\n",
    "        f.write('var submissions=')\n",
    "        f.write(subs)\n",
    "        f.write(';\\n')\n",
    "        f.write(htmlSuff)"
   ]
  },
  {
   "cell_type": "code",
   "execution_count": null,
   "metadata": {},
   "outputs": [],
   "source": [
    "makeHtml(732717)"
   ]
  },
  {
   "cell_type": "code",
   "execution_count": null,
   "metadata": {},
   "outputs": [],
   "source": []
  },
  {
   "cell_type": "code",
   "execution_count": null,
   "metadata": {},
   "outputs": [
    {
     "data": {
      "text/plain": [
       "{'cik': '732717',\n",
       " 'entityType': 'operating',\n",
       " 'sic': '4813',\n",
       " 'sicDescription': 'Telephone Communications (No Radiotelephone)',\n",
       " 'insiderTransactionForOwnerExists': 1,\n",
       " 'insiderTransactionForIssuerExists': 1,\n",
       " 'name': 'AT&T INC.',\n",
       " 'tickers': ['T', 'TBB', 'TBC', 'T-PA', 'T-PC'],\n",
       " 'exchanges': ['NYSE', 'NYSE', 'NYSE', 'NYSE', 'NYSE'],\n",
       " 'ein': '431301883',\n",
       " 'description': '',\n",
       " 'website': '',\n",
       " 'investorWebsite': '',\n",
       " 'category': 'Large accelerated filer',\n",
       " 'fiscalYearEnd': '1231',\n",
       " 'stateOfIncorporation': 'DE',\n",
       " 'stateOfIncorporationDescription': 'DE',\n",
       " 'addresses': {'mailing': {'street1': '208 S. AKARD ST',\n",
       "   'street2': None,\n",
       "   'city': 'DALLAS',\n",
       "   'stateOrCountry': 'TX',\n",
       "   'zipCode': '75202',\n",
       "   'stateOrCountryDescription': 'TX'},\n",
       "  'business': {'street1': '208 S. AKARD ST',\n",
       "   'street2': None,\n",
       "   'city': 'DALLAS',\n",
       "   'stateOrCountry': 'TX',\n",
       "   'zipCode': '75202',\n",
       "   'stateOrCountryDescription': 'TX'}},\n",
       " 'phone': '2108214105',\n",
       " 'flags': '',\n",
       " 'formerNames': [{'name': 'SBC COMMUNICATIONS INC',\n",
       "   'from': '1995-05-26T00:00:00.000Z',\n",
       "   'to': '2005-11-18T00:00:00.000Z'},\n",
       "  {'name': 'SOUTHWESTERN BELL CORP',\n",
       "   'from': '1994-06-24T00:00:00.000Z',\n",
       "   'to': '1995-04-26T00:00:00.000Z'}]}"
      ]
     },
     "execution_count": null,
     "metadata": {},
     "output_type": "execute_result"
    }
   ],
   "source": [
    "# dict((k,v) for k,v in l.items() if k!='filings')"
   ]
  },
  {
   "cell_type": "code",
   "execution_count": null,
   "metadata": {},
   "outputs": [],
   "source": [
    "# saveAllCikFInfo('20221001','2024',allScraperClasses)"
   ]
  },
  {
   "cell_type": "code",
   "execution_count": null,
   "metadata": {},
   "outputs": [],
   "source": [
    "# saveAllCikFInfo('20220701','20221001',allScraperClasses)"
   ]
  },
  {
   "cell_type": "code",
   "execution_count": null,
   "metadata": {},
   "outputs": [],
   "source": []
  },
  {
   "cell_type": "markdown",
   "metadata": {},
   "source": [
    "Test cik file info class:"
   ]
  },
  {
   "cell_type": "code",
   "execution_count": null,
   "metadata": {},
   "outputs": [],
   "source": [
    "assert loadCikFInfo('123')=={}\n",
    "fDir, fPath = getCikFInfoDirAndPath('12345')\n",
    "assert fDir.endswith('12345'[:cikFPrefLen]) and fPath.endswith('12345.json')"
   ]
  },
  {
   "cell_type": "code",
   "execution_count": null,
   "metadata": {},
   "outputs": [],
   "source": []
  },
  {
   "cell_type": "code",
   "execution_count": null,
   "metadata": {},
   "outputs": [],
   "source": [
    "#hide\n",
    "# uncomment and run to regenerate all library Python files\n",
    "# from nbdev.export import notebook2script; notebook2script()"
   ]
  },
  {
   "cell_type": "code",
   "execution_count": null,
   "metadata": {},
   "outputs": [],
   "source": []
  }
 ],
 "metadata": {
  "kernelspec": {
   "display_name": "Python 3",
   "language": "python",
   "name": "python3"
  }
 },
 "nbformat": 4,
 "nbformat_minor": 4
}
