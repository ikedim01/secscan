{
 "cells": [
  {
   "cell_type": "code",
   "execution_count": null,
   "metadata": {},
   "outputs": [],
   "source": [
    "# default_exp cikFInfo"
   ]
  },
  {
   "cell_type": "markdown",
   "metadata": {},
   "source": [
    "# cikFInfo\n",
    "\n",
    "> Save parsed form info for each CIK in a separate JSON-format file."
   ]
  },
  {
   "cell_type": "code",
   "execution_count": null,
   "metadata": {},
   "outputs": [],
   "source": [
    "#hide\n",
    "%load_ext autoreload\n",
    "%autoreload 2\n",
    "from nbdev import show_doc"
   ]
  },
  {
   "cell_type": "code",
   "execution_count": null,
   "metadata": {},
   "outputs": [],
   "source": [
    "#export\n",
    "\n",
    "import collections\n",
    "import json\n",
    "import os\n",
    "\n",
    "from secscan import utils, dailyList\n",
    "from secscan import scrape13F, scrape8K, scrape6K, scrape13G, scrape13D, scrape4\n",
    "\n",
    "defaultCikFInfoDir = os.path.join(utils.stockDataRoot,'cikFInfo')\n",
    "allScraperClasses = [scrape13F.scraper13F,scrape8K.scraper8K,scrape6K.scraper6K,\n",
    "                     scrape13G.scraper13G,scrape13D.scraper13D,scrape4.scraper4]\n",
    "cikFPrefLen = 4"
   ]
  },
  {
   "cell_type": "markdown",
   "metadata": {},
   "source": [
    "Save parsed form info for each CIK in a separate JSON-format file.\n",
    "The format is designed so that info for additional forms can simply be appended to the file."
   ]
  },
  {
   "cell_type": "code",
   "execution_count": null,
   "metadata": {},
   "outputs": [],
   "source": [
    "#export\n",
    "\n",
    "def getCikFInfoDirAndPath(cik, cikFInfoDir=defaultCikFInfoDir) :\n",
    "    if len(cik)<2 or not cik.isdigit() or cik[0]=='0' :\n",
    "        raise ValueError(f'invalid CIK \"{cik}\"')\n",
    "    fDir = os.path.join(cikFInfoDir,cik[:cikFPrefLen])\n",
    "    return fDir,os.path.join(fDir,cik+'.json')\n",
    "\n",
    "def jsonValError(msg, s) :\n",
    "    if len(s) > 200 :\n",
    "        s = s[:100] + ' ... ' + s[-100:]\n",
    "    return ValueError(msg + ' in ' + s)\n",
    "\n",
    "def loadCikFInfo(cik, cikFInfoDir=defaultCikFInfoDir) :\n",
    "    fPath = getCikFInfoDirAndPath(cik, cikFInfoDir)[1]\n",
    "    if not os.path.exists(fPath) :\n",
    "        return {}\n",
    "    with open(fPath,'r',encoding='ascii') as f :\n",
    "        s = f.read().strip()\n",
    "    if s[-1] != ',' :\n",
    "        raise jsonValError('missing ending ,', s)\n",
    "    return json.loads('{'+s[:-1]+'}')\n",
    "\n",
    "def saveCikFInfo(cik, cikFInfo, removeDups=False, cikFInfoDir=defaultCikFInfoDir) :\n",
    "    if removeDups :\n",
    "        existingCikFInfo = loadCikFInfo(cik, cikFInfoDir=cikFInfoDir)\n",
    "        cikFInfo = dict((k,v) for k,v in cikFInfo.items() if k not in existingCikFInfo)\n",
    "    if len(cikFInfo) == 0 :\n",
    "        return\n",
    "    s = json.dumps(cikFInfo, indent=0).strip()\n",
    "    if s[0]!='{' or s[-1]!='}' :\n",
    "        raise jsonValError('missing start/end {}', s)\n",
    "    fDir, fPath = getCikFInfoDirAndPath(cik, cikFInfoDir)\n",
    "    if not os.path.exists(fDir) :\n",
    "        os.makedirs(fDir)\n",
    "    with open(fPath,'a',encoding='ascii') as f :\n",
    "        f.write(s[1:-1])\n",
    "        f.write(',\\n')\n",
    "\n",
    "def saveAllCikFInfo(startD, endD, scraperClasses,\n",
    "                    removeDups=True, cikFInfoDir=defaultCikFInfoDir,\n",
    "                    ciks=None) :\n",
    "    dl = dailyList.dailyList(startD=startD, endD=endD)\n",
    "    cikInfoMap = {}\n",
    "    for scraperClass in scraperClasses :\n",
    "        scraper = scraperClass(startD=startD, endD=endD)\n",
    "        scraper.addToCikInfoMap(dl, cikInfoMap, ciks=ciks)\n",
    "    for cik,cikFInfo in cikInfoMap.items() :\n",
    "        if (ciks is not None and cik not in ciks) :\n",
    "            continue\n",
    "        saveCikFInfo(cik, cikFInfo, removeDups=removeDups, cikFInfoDir=cikFInfoDir)"
   ]
  },
  {
   "cell_type": "markdown",
   "metadata": {},
   "source": [
    "Code to check CIK format and figure out the right prefix length:"
   ]
  },
  {
   "cell_type": "code",
   "execution_count": null,
   "metadata": {},
   "outputs": [],
   "source": [
    "def checkCiks() :\n",
    "    cikNames = utils.pickLoad(os.path.join(utils.stockDataRoot,'dlMaps','cikNames.pkl'))\n",
    "    print('ciks with leading 0', [cik for cik in cikNames if cik[0]=='0'])\n",
    "    print('less than 4 long', [cik for cik in cikNames if len(cik)<4])\n",
    "    for prefLen in [3,4] :\n",
    "        ciksByPref = collections.defaultdict(list)\n",
    "        for cik in cikNames :\n",
    "            ciksByPref[cik[:prefLen]].append(cik)\n",
    "        print(f'prefix length {prefLen}: {len(ciksByPref)} folders,'\n",
    "              +f' max {max(len(v) for v in ciksByPref.values())} files')\n",
    "# checkCiks()\n",
    "# OUTPUT: \n",
    "# ciks with leading 0 []\n",
    "# less than 4 long ['63']\n",
    "# prefix length 3: 773 folders, max 9154 files\n",
    "# prefix length 4: 4003 folders, max 933 files\n",
    "# - chose prefix length 4"
   ]
  },
  {
   "cell_type": "code",
   "execution_count": null,
   "metadata": {},
   "outputs": [],
   "source": []
  },
  {
   "cell_type": "code",
   "execution_count": null,
   "metadata": {},
   "outputs": [],
   "source": [
    "# saveAllCikFInfo('20221001','2024',allScraperClasses)\n",
    "# saveAllCikFInfo('20220701','20221001',allScraperClasses)"
   ]
  },
  {
   "cell_type": "code",
   "execution_count": null,
   "metadata": {},
   "outputs": [],
   "source": [
    "# saveAllCikFInfo('20221001','2024',[scrape13F.scraper13F,scrape8K.scraper8K],ciks=['1553733','33533','1634379'])\n",
    "# mm = loadCikFInfo('1634379')\n",
    "# mm.keys()"
   ]
  },
  {
   "cell_type": "code",
   "execution_count": null,
   "metadata": {},
   "outputs": [],
   "source": [
    "# saveAllCikFInfo('20220701','20221001',[scrape13F.scraper13F,scrape8K.scraper8K],ciks=['1553733','33533','1634379'])\n",
    "# mm2 = loadCikFInfo('1634379')\n",
    "# mm2.keys()"
   ]
  },
  {
   "cell_type": "code",
   "execution_count": null,
   "metadata": {},
   "outputs": [],
   "source": []
  },
  {
   "cell_type": "markdown",
   "metadata": {},
   "source": [
    "Test cik file info class:"
   ]
  },
  {
   "cell_type": "code",
   "execution_count": null,
   "metadata": {},
   "outputs": [],
   "source": [
    "assert loadCikFInfo('123')=={}\n",
    "fDir, fPath = getCikFInfoDirAndPath('12345')\n",
    "assert fDir.endswith('12345'[:cikFPrefLen]) and fPath.endswith('12345.json')"
   ]
  },
  {
   "cell_type": "code",
   "execution_count": null,
   "metadata": {},
   "outputs": [],
   "source": []
  },
  {
   "cell_type": "code",
   "execution_count": null,
   "metadata": {},
   "outputs": [],
   "source": [
    "#hide\n",
    "# uncomment and run to regenerate all library Python files\n",
    "# from nbdev.export import notebook2script; notebook2script()"
   ]
  },
  {
   "cell_type": "code",
   "execution_count": null,
   "metadata": {},
   "outputs": [],
   "source": []
  }
 ],
 "metadata": {
  "kernelspec": {
   "display_name": "Python 3",
   "language": "python",
   "name": "python3"
  }
 },
 "nbformat": 4,
 "nbformat_minor": 4
}
