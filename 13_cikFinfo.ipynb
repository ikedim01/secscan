{
 "cells": [
  {
   "cell_type": "code",
   "execution_count": null,
   "metadata": {},
   "outputs": [],
   "source": [
    "# default_exp cikFInfo"
   ]
  },
  {
   "cell_type": "markdown",
   "metadata": {},
   "source": [
    "# cikFInfo\n",
    "\n",
    "> Save parsed form info for each CIK in a separate JSON-format file."
   ]
  },
  {
   "cell_type": "code",
   "execution_count": null,
   "metadata": {},
   "outputs": [],
   "source": [
    "#hide\n",
    "%load_ext autoreload\n",
    "%autoreload 2\n",
    "from nbdev import show_doc"
   ]
  },
  {
   "cell_type": "code",
   "execution_count": null,
   "metadata": {},
   "outputs": [],
   "source": [
    "#export\n",
    "\n",
    "import collections\n",
    "import json\n",
    "import os\n",
    "\n",
    "from secscan import utils, dailyList\n",
    "from secscan import scrape13F, scrape8K, scrape6K, scrape13G, scrape13D, scrape4\n",
    "\n",
    "defaultCikFInfoDir = os.path.join(utils.stockDataRoot,'cikFInfo')\n",
    "allScraperClasses = [scrape13F.scraper13F,scrape8K.scraper8K,scrape6K.scraper6K,\n",
    "                     scrape13G.scraper13G,scrape13D.scraper13D,scrape4.scraper4]\n",
    "cikFPrefLen = 4"
   ]
  },
  {
   "cell_type": "markdown",
   "metadata": {},
   "source": [
    "Save parsed form info for each CIK in a separate JSON-format file.\n",
    "The format is designed so that info for additional forms can simply be appended to the file."
   ]
  },
  {
   "cell_type": "code",
   "execution_count": null,
   "metadata": {},
   "outputs": [],
   "source": [
    "#export\n",
    "\n",
    "def getCikFInfoDirAndPath(cik, cikFInfoDir=defaultCikFInfoDir) :\n",
    "    if len(cik)<2 or not cik.isdigit() or cik[0]=='0' :\n",
    "        raise ValueError(f'invalid CIK \"{cik}\"')\n",
    "    fDir = os.path.join(cikFInfoDir,cik[:cikFPrefLen])\n",
    "    return fDir,os.path.join(fDir,cik+'.json')\n",
    "\n",
    "def jsonValError(msg, s) :\n",
    "    if len(s) > 200 :\n",
    "        s = s[:100] + ' ... ' + s[-100:]\n",
    "    return ValueError(msg + ' in ' + s)\n",
    "\n",
    "def loadCikFInfo(cik, cikFInfoDir=defaultCikFInfoDir, returnAsText=False) :\n",
    "    cik = str(cik).lstrip('0')\n",
    "    fPath = getCikFInfoDirAndPath(cik, cikFInfoDir)[1]\n",
    "    if not os.path.exists(fPath) :\n",
    "        return {}\n",
    "    with open(fPath,'r',encoding='ascii') as f :\n",
    "        s = f.read().strip()\n",
    "    if s[-1] != ',' :\n",
    "        raise jsonValError('missing ending ,', s)\n",
    "    if returnAsText :\n",
    "        return s[:-1]\n",
    "    return json.loads('{'+s[:-1]+'}')\n",
    "\n",
    "def saveCikFInfo(cik, cikFInfo, removeDups=False, cikFInfoDir=defaultCikFInfoDir) :\n",
    "    if removeDups :\n",
    "        existingCikFInfo = loadCikFInfo(cik, cikFInfoDir=cikFInfoDir)\n",
    "        cikFInfo = dict((k,v) for k,v in cikFInfo.items() if k not in existingCikFInfo)\n",
    "    if len(cikFInfo) == 0 :\n",
    "        return\n",
    "    s = json.dumps(cikFInfo, indent=0).strip()\n",
    "    if s[0]!='{' or s[-1]!='}' :\n",
    "        raise jsonValError('missing start/end {}', s)\n",
    "    fDir, fPath = getCikFInfoDirAndPath(cik, cikFInfoDir)\n",
    "    if not os.path.exists(fDir) :\n",
    "        os.makedirs(fDir)\n",
    "    with open(fPath,'a',encoding='ascii') as f :\n",
    "        f.write(s[1:-1])\n",
    "        f.write(',\\n')\n",
    "\n",
    "def saveAllCikFInfo(startD, endD, scraperClasses,\n",
    "                    removeDups=True, cikFInfoDir=defaultCikFInfoDir, ciks=None) :\n",
    "    dl = dailyList.dailyList(startD=startD, endD=endD)\n",
    "    datesPresent = utils.loadPklFromDir(cikFInfoDir, \"dates.pkl\", set())\n",
    "    cikInfoMap = {}\n",
    "    for scraperClass in scraperClasses :\n",
    "        scraper = scraperClass(startD=startD, endD=endD)\n",
    "        scraper.addToCikInfoMap(dl, cikInfoMap, ciks=ciks, excludeDates=datesPresent)\n",
    "    for cik,cikFInfo in cikInfoMap.items() :\n",
    "        if (ciks is not None and cik not in ciks) :\n",
    "            continue\n",
    "        saveCikFInfo(cik, cikFInfo, removeDups=removeDups, cikFInfoDir=cikFInfoDir)\n",
    "    datesPresent.update(dl.dl.keys())\n",
    "    utils.savePklToDir(cikFInfoDir, \"dates.pkl\", datesPresent)\n",
    "\n",
    "def saveYears(startY, endY,\n",
    "              removeDups=False, cikFInfoDir=defaultCikFInfoDir, ciks=None) :\n",
    "    qList = ['0101', '0401', '0701', '1001', '0101']\n",
    "    for y in range(startY, endY) :\n",
    "        for qs, qe in zip(qList, qList[1:]) :\n",
    "            startD, endD = f'{y}{qs}', f'{y+1 if qe==\"0101\" else y}{qe}'\n",
    "            print(startD, endD)\n",
    "            saveAllCikFInfo(startD, endD, allScraperClasses,\n",
    "                            removeDups=removeDups, cikFInfoDir=cikFInfoDir, ciks=ciks)"
   ]
  },
  {
   "cell_type": "markdown",
   "metadata": {},
   "source": [
    "Code to check CIK format and figure out the right prefix length:"
   ]
  },
  {
   "cell_type": "code",
   "execution_count": null,
   "metadata": {},
   "outputs": [],
   "source": [
    "# def checkCiks() :\n",
    "#     cikNames = utils.pickLoad(os.path.join(utils.stockDataRoot,'dlMaps','cikNames.pkl'))\n",
    "#     print('ciks with leading 0', [cik for cik in cikNames if cik[0]=='0'])\n",
    "#     print('less than 4 long', [cik for cik in cikNames if len(cik)<4])\n",
    "#     for prefLen in [3,4] :\n",
    "#         ciksByPref = collections.defaultdict(list)\n",
    "#         for cik in cikNames :\n",
    "#             ciksByPref[cik[:prefLen]].append(cik)\n",
    "#         print(f'prefix length {prefLen}: {len(ciksByPref)} folders,'\n",
    "#               +f' max {max(len(v) for v in ciksByPref.values())} files')\n",
    "# checkCiks()\n",
    "# OUTPUT: \n",
    "# ciks with leading 0 []\n",
    "# less than 4 long ['63']\n",
    "# prefix length 3: 773 folders, max 9154 files\n",
    "# prefix length 4: 4003 folders, max 933 files\n",
    "# - chose prefix length 4"
   ]
  },
  {
   "cell_type": "code",
   "execution_count": null,
   "metadata": {},
   "outputs": [],
   "source": [
    "htmlPref = \"\"\"\n",
    "<!DOCTYPE html>\n",
    "<html>\n",
    "<head>\n",
    "<meta charset=\"utf-8\">\n",
    "<style>\n",
    ".collapsible {\n",
    "  background-color: #DDD;\n",
    "  cursor: pointer;\n",
    "  padding: 2px;\n",
    "  margin: 2px;\n",
    "  border: 1px solid black;\n",
    "  text-align: left;\n",
    "  outline: none;\n",
    "  font-size: 15px;\n",
    "}\n",
    ".collapsible:hover {\n",
    "  background-color: #AAA;\n",
    "}\n",
    ".content {\n",
    "  padding: 0 2px;\n",
    "  display: none;\n",
    "  overflow: hidden;\n",
    "  background-color: #DDD;\n",
    "}\n",
    ".bodyclass {\n",
    "  padding: 0 2px;\n",
    "  font-size: 16px;\n",
    "  font-family: Arial;\n",
    "}\n",
    "</style>\n",
    "</head>\n",
    "<body class=\"bodyclass\">\n",
    "<script>\n",
    "\"\"\"\n",
    "\n",
    "htmlSuff = \"\"\"\n",
    "var fList = submissions['filings']['recent'];\n",
    "var accNos = fList['accessionNumber'];\n",
    "var forms = fList['form'];\n",
    "var fDates = fList['filingDate'];\n",
    "var lastFDate = '';\n",
    "var secUrlPref = 'https://www.sec.gov';\n",
    "function urlForAccNo(accNo) {\n",
    "    return secUrlPref + \"/Archives/edgar/data/\"\n",
    "            + accNo.replace(\"-\",\"\") + \"/\" + accNo + \"-index.htm\";\n",
    "}\n",
    "function urlForCik(cik) {\n",
    "    return secUrlPref + \"/cgi-bin/browse-edgar?CIK=\" + cik;\n",
    "}\n",
    "function showItem(urlText, url, text, textLimit1, textLimit2) {\n",
    "    var res='', textLimit=textLimit2;\n",
    "    if (urlText != '') {\n",
    "        res = \"<a href='\" + secUrlPref + url + \"' target='_blank'>\"\n",
    "                + urlText + \"</a>\";\n",
    "        textLimit = textLimit1;\n",
    "    }\n",
    "    return res + \" &nbsp;<button type='button' class='collapsible'>\"\n",
    "                        + text.slice(0,textLimit) + \"</button>\"\n",
    "                    + \"<div class='content'>\" + text + \"</div>\";\n",
    "}\n",
    "function form4F() {\n",
    "    res = ' ***4***';\n",
    "    return res;\n",
    "}\n",
    "function form8KF(info) {\n",
    "    var urlText=info['links'][0][0], url=info['links'][0][3];\n",
    "    var res = '';\n",
    "    if ('explanatoryNote' in info) {\n",
    "        res += ' &nbsp; ' + showItem(urlText, url, info['explanatoryNote'], 100, 50);\n",
    "        urlText = '';\n",
    "    }\n",
    "    var itemTexts = info['itemTexts'];\n",
    "    for (let i in itemTexts) {\n",
    "        if (itemTexts.length>1 && itemTexts[i].toLowerCase().startsWith('item 9'))\n",
    "            continue;\n",
    "        res += ' &nbsp; ' + showItem(urlText, url, itemTexts[i], 100, 50);\n",
    "        urlText = '';\n",
    "    }\n",
    "    var text99s=info['text99'], links=info['links'];\n",
    "    for (let i in text99s)\n",
    "        if (text99s[i] != '')\n",
    "            res += ' &nbsp; ' + showItem(links[i][0], links[i][3], text99s[i], 100, 50);\n",
    "    return res;\n",
    "}\n",
    "var formFuncs = {\n",
    "    '4': form4F,\n",
    "    '8-K': form8KF\n",
    "};\n",
    "function htmlFor(form, accNo) {\n",
    "    var res = \"<a href='\" + urlForAccNo(accNo) + \"' target='_blank'>\"\n",
    "                + form + \"</a>\";\n",
    "    if (form.endsWith('/A'))\n",
    "        form = form.slice(0,-2);\n",
    "    if (!(form in formFuncs))\n",
    "        return res;\n",
    "    if (accNo in fInfo)\n",
    "        res += formFuncs[form](fInfo[accNo]);\n",
    "    else\n",
    "        res += \" ---\";\n",
    "    return res;\n",
    "}\n",
    "var el = document.createElement(\"div\");\n",
    "el.innerHTML = \"<div><button type='button' id='expandall'>expand all</button>\"\n",
    "                + \" <b><a href='\" + urlForCik(cik) + \"' target='_blank'>\"\n",
    "                        + submissions[\"name\"] + \"</a></b></div>\";\n",
    "document.body.appendChild(el);\n",
    "for (let i in accNos) {\n",
    "    var el = document.createElement(\"div\");\n",
    "    formHtml = (lastFDate==fDates[i] ? \"&nbsp;&nbsp;&nbsp;&nbsp;\" : \"<b>\"+fDates[i]+\"</b>&nbsp; \");\n",
    "    lastFDate = fDates[i];\n",
    "    formHtml += htmlFor(forms[i], accNos[i]);\n",
    "    el.innerHTML = formHtml;\n",
    "    document.body.appendChild(el);\n",
    "}\n",
    "var collList = document.getElementsByClassName(\"collapsible\");\n",
    "for (let i in collList) {\n",
    "  collList[i].addEventListener(\"click\", function() {\n",
    "    let content = this.nextElementSibling;\n",
    "    content.style.display = (content.style.display === \"block\" ? \"none\" : \"block\");\n",
    "  }\n",
    "  );\n",
    "}\n",
    "document.getElementById(\"expandall\").addEventListener(\"click\", function() {\n",
    "    let expandingAll = (this.textContent === 'expand all');\n",
    "    this.textContent = (expandingAll ? 'collapse all' : 'expand all');\n",
    "    for (let i in collList) {\n",
    "        let content = collList[i].nextElementSibling;\n",
    "        content.style.display = (expandingAll ? \"block\" : \"none\");\n",
    "    }\n",
    "});\n",
    "</script>\n",
    "</body>\n",
    "</html>\"\"\"\n",
    "\n",
    "from secscan import getCikFilings\n",
    "\n",
    "def makeHtml(cik) :\n",
    "    cik = str(cik).lstrip('0')\n",
    "    subs = utils.downloadSecUrl(getCikFilings.cikRestFilingsUrl(cik),\n",
    "                             restData=True, toFormat='text')\n",
    "    cikFInfo = loadCikFInfo(cik, returnAsText=True)\n",
    "    with open(os.path.join(utils.stockDataRoot,cik+'.html'), 'w') as f :\n",
    "        f.write(htmlPref)\n",
    "        f.write(f'var cik={cik};')\n",
    "        f.write('var fInfo={')\n",
    "        f.write(cikFInfo)\n",
    "        f.write('};\\n')\n",
    "        f.write('var submissions=')\n",
    "        f.write(subs)\n",
    "        f.write(';\\n')\n",
    "        f.write(htmlSuff)"
   ]
  },
  {
   "cell_type": "code",
   "execution_count": null,
   "metadata": {},
   "outputs": [],
   "source": [
    "# makeHtml(732717)"
   ]
  },
  {
   "cell_type": "code",
   "execution_count": null,
   "metadata": {},
   "outputs": [],
   "source": [
    "# l = loadCikFInfo(732717)"
   ]
  },
  {
   "cell_type": "code",
   "execution_count": null,
   "metadata": {},
   "outputs": [
    {
     "data": {
      "text/plain": [
       "['Item 2.02 Results of Operations and Financial Condition. The registrant announced on January 25, 2023, its results of operations for the fourth quarter of 2022. The text of the press release and accompanying financial information are attached as exhibits and incorporated herein by reference. ',\n",
       " 'Item 9.01 Financial Statements and Exhibits. The following exhibits are furnished as part of this report: (d) Exhibits 99.1 Press release dated January 25, 2023 reporting financial results for the fourth quarter ended December 31, 2022. 99.2 AT&T Inc. selected financial statements and operating data. 99.3 Discussion and reconciliation of non-GAAP measures. 99.4 Supplemental Quarterly Standalone AT&T Financial Information. 104 Cover Page Interactive Data File (embedded within the Inline XBRL document) Signature Pursuant to the requirements of the Securities Exchange Act of 1934, the Registrant has duly caused this report to be signed on its behalf by the undersigned hereunto duly authorized. AT&T INC. Date: January 25, 2023 By: /s/ Debra L. Dial . Debra L. Dial Senior Vice President - Chief Accounting Officer and Controller']"
      ]
     },
     "execution_count": null,
     "metadata": {},
     "output_type": "execute_result"
    }
   ],
   "source": [
    "# l['0000732717-23-000007']['itemTexts']"
   ]
  },
  {
   "cell_type": "code",
   "execution_count": null,
   "metadata": {},
   "outputs": [
    {
     "data": {
      "text/plain": [
       "{'cik': '732717',\n",
       " 'entityType': 'operating',\n",
       " 'sic': '4813',\n",
       " 'sicDescription': 'Telephone Communications (No Radiotelephone)',\n",
       " 'insiderTransactionForOwnerExists': 1,\n",
       " 'insiderTransactionForIssuerExists': 1,\n",
       " 'name': 'AT&T INC.',\n",
       " 'tickers': ['T', 'TBB', 'TBC', 'T-PA', 'T-PC'],\n",
       " 'exchanges': ['NYSE', 'NYSE', 'NYSE', 'NYSE', 'NYSE'],\n",
       " 'ein': '431301883',\n",
       " 'description': '',\n",
       " 'website': '',\n",
       " 'investorWebsite': '',\n",
       " 'category': 'Large accelerated filer',\n",
       " 'fiscalYearEnd': '1231',\n",
       " 'stateOfIncorporation': 'DE',\n",
       " 'stateOfIncorporationDescription': 'DE',\n",
       " 'addresses': {'mailing': {'street1': '208 S. AKARD ST',\n",
       "   'street2': None,\n",
       "   'city': 'DALLAS',\n",
       "   'stateOrCountry': 'TX',\n",
       "   'zipCode': '75202',\n",
       "   'stateOrCountryDescription': 'TX'},\n",
       "  'business': {'street1': '208 S. AKARD ST',\n",
       "   'street2': None,\n",
       "   'city': 'DALLAS',\n",
       "   'stateOrCountry': 'TX',\n",
       "   'zipCode': '75202',\n",
       "   'stateOrCountryDescription': 'TX'}},\n",
       " 'phone': '2108214105',\n",
       " 'flags': '',\n",
       " 'formerNames': [{'name': 'SBC COMMUNICATIONS INC',\n",
       "   'from': '1995-05-26T00:00:00.000Z',\n",
       "   'to': '2005-11-18T00:00:00.000Z'},\n",
       "  {'name': 'SOUTHWESTERN BELL CORP',\n",
       "   'from': '1994-06-24T00:00:00.000Z',\n",
       "   'to': '1995-04-26T00:00:00.000Z'}]}"
      ]
     },
     "execution_count": null,
     "metadata": {},
     "output_type": "execute_result"
    }
   ],
   "source": [
    "# dict((k,v) for k,v in l.items() if k!='filings')"
   ]
  },
  {
   "cell_type": "code",
   "execution_count": null,
   "metadata": {},
   "outputs": [
    {
     "name": "stdout",
     "output_type": "stream",
     "text": [
      "20170101 20170401\n",
      "20170401 20170701\n",
      "20170701 20171001\n",
      "20171001 20180101\n",
      "20180101 20180401\n",
      "20180401 20180701\n",
      "20180701 20181001\n",
      "20181001 20190101\n",
      "20190101 20190401\n",
      "20190401 20190701\n",
      "20190701 20191001\n",
      "20191001 20200101\n",
      "20200101 20200401\n",
      "20200401 20200701\n",
      "20200701 20201001\n",
      "20201001 20210101\n",
      "20210101 20210401\n",
      "20210401 20210701\n",
      "20210701 20211001\n",
      "20211001 20220101\n",
      "20220101 20220401\n",
      "20220401 20220701\n",
      "20220701 20221001\n",
      "20221001 20230101\n",
      "20230101 20230401\n",
      "20230401 20230701\n",
      "20230701 20231001\n",
      "20231001 20240101\n"
     ]
    }
   ],
   "source": [
    "# saveYears(2017,2024)"
   ]
  },
  {
   "cell_type": "code",
   "execution_count": null,
   "metadata": {},
   "outputs": [
    {
     "data": {
      "text/plain": [
       "('20170101', '20230201')"
      ]
     },
     "execution_count": null,
     "metadata": {},
     "output_type": "execute_result"
    }
   ],
   "source": [
    "# ll = sorted(utils.loadPklFromDir(defaultCikFInfoDir,'dates.pkl','xxx')); ll[0],ll[-1]"
   ]
  },
  {
   "cell_type": "code",
   "execution_count": null,
   "metadata": {},
   "outputs": [],
   "source": []
  },
  {
   "cell_type": "markdown",
   "metadata": {},
   "source": [
    "Test cik file info class:"
   ]
  },
  {
   "cell_type": "code",
   "execution_count": null,
   "metadata": {},
   "outputs": [],
   "source": [
    "assert loadCikFInfo('123')=={}\n",
    "fDir, fPath = getCikFInfoDirAndPath('12345')\n",
    "assert fDir.endswith('12345'[:cikFPrefLen]) and fPath.endswith('12345.json')"
   ]
  },
  {
   "cell_type": "code",
   "execution_count": null,
   "metadata": {},
   "outputs": [],
   "source": []
  },
  {
   "cell_type": "code",
   "execution_count": null,
   "metadata": {},
   "outputs": [],
   "source": [
    "#hide\n",
    "# uncomment and run to regenerate all library Python files\n",
    "# from nbdev.export import notebook2script; notebook2script()"
   ]
  },
  {
   "cell_type": "code",
   "execution_count": null,
   "metadata": {},
   "outputs": [],
   "source": []
  }
 ],
 "metadata": {
  "kernelspec": {
   "display_name": "Python 3",
   "language": "python",
   "name": "python3"
  }
 },
 "nbformat": 4,
 "nbformat_minor": 4
}
