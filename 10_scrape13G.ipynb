{
 "cells": [
  {
   "cell_type": "code",
   "execution_count": null,
   "metadata": {},
   "outputs": [],
   "source": [
    "# default_exp scrape13G"
   ]
  },
  {
   "cell_type": "markdown",
   "metadata": {},
   "source": [
    "# scrape13G\n",
    "\n",
    "> Scrape holdings information from 13G SEC filings."
   ]
  },
  {
   "cell_type": "code",
   "execution_count": null,
   "metadata": {},
   "outputs": [],
   "source": [
    "#hide\n",
    "%load_ext autoreload\n",
    "%autoreload 2\n",
    "from nbdev import show_doc"
   ]
  },
  {
   "cell_type": "code",
   "execution_count": null,
   "metadata": {},
   "outputs": [],
   "source": [
    "#export\n",
    "\n",
    "import collections\n",
    "import itertools\n",
    "import os\n",
    "import re\n",
    "\n",
    "from secscan import utils, dailyList, basicInfo, infoScraper\n",
    "\n",
    "default13GDir = os.path.join(utils.stockDataRoot,'scraped13G')"
   ]
  },
  {
   "cell_type": "markdown",
   "metadata": {},
   "source": [
    "13G scraper class - scrape holdings information from the SEC filing:"
   ]
  },
  {
   "cell_type": "code",
   "execution_count": null,
   "metadata": {},
   "outputs": [],
   "source": [
    "#export\n",
    "\n",
    "def parse13G(accNo, formType=None) :\n",
    "    info = basicInfo.getSecFormInfo(accNo, formType=formType, get99=True, textLimit=textLimit)\n",
    "    links = info['links']\n",
    "    if len(links) == 0 :\n",
    "        utils.printErrInfoOrAccessNo('NO LINKS LIST in',accNo)\n",
    "        return info\n",
    "    toFormat = 'text' if links[0][3].endswith('.txt') else 'souptext'\n",
    "    mainText = utils.downloadSecUrl(links[0][3], toFormat=toFormat)\n",
    "    return info, mainText\n",
    "\n",
    "class scraper13G(infoScraper.scraperBase) :\n",
    "    def __init__(self, infoDir=default13GDir, startD=None, endD=None, fSuff='m.pkl', **pickle_kwargs) :\n",
    "        super().__init__(infoDir, 'SC 13G', startD=startD, endD=endD, fSuff=fSuff, **pickle_kwargs)\n",
    "    def scrapeInfo(self, accNo, formType=None) :\n",
    "        return parse13G(accNo, formType), None"
   ]
  },
  {
   "cell_type": "markdown",
   "metadata": {},
   "source": [
    "Test 13G scraper class:"
   ]
  },
  {
   "cell_type": "code",
   "execution_count": null,
   "metadata": {},
   "outputs": [
    {
     "name": "stdout",
     "output_type": "stream",
     "text": [
      "20210703 WEEKEND 20210702 ### list index 21 filings for 20210702: 6569 * 20210701 filings for 20210701: 5573 * "
     ]
    }
   ],
   "source": [
    "dl = dailyList.dailyList(startD='empty')\n",
    "dl.updateForDays('20210701','20210704')\n",
    "assert len(dl.getFilingsList(None,'SC 13G')[0])==100,\"testing 13G scraper class (daily list count)\"\n",
    "# info = parse13G('0001165002-21-000068', formType='SC 13G', textLimit=1000)\n",
    "# assert (info['itemTexts'][0].startswith('ITEM 2.02: RESULTS OF OPERATIONS AND FINANCIAL CONDITION '\n",
    "#                                         +'On July 27, 2021 , Westwood')\n",
    "#         and info['itemTexts'][0].endswith('otherwise expressly stated in such filing. ')\n",
    "#         and info['itemTexts'][1].startswith('ITEM 7.01: REGULATION FD DISCLOSURE Westwood')\n",
    "#         and info['itemTexts'][1].endswith('of record on August 6, 2021. ')\n",
    "#         and info['itemTexts'][2].startswith('ITEM 9.01: FINANCIAL STATEMENTS AND EXHIBITS (d) ')\n",
    "#         and info['itemTexts'][2].endswith('Financial Officer and Treasurer')\n",
    "#         and info['text99'][1].startswith('EX-99.1 2 a2q21earningsrelease.htm EX-99.1 Document Westwood')\n",
    "#         and info['text99'][1].endswith('Income Opportunity and Total R')\n",
    "#     ),\"testing 8-K scraper class (parsing)\""
   ]
  },
  {
   "cell_type": "code",
   "execution_count": null,
   "metadata": {},
   "outputs": [],
   "source": [
    "#hide\n",
    "# assorted test code: \n",
    "\n",
    "# dl = dailyList.dailyList(startD='20200101')\n",
    "\n",
    "# s = scraper6K(startD='empty')\n",
    "# s.updateForDays(dl,startD='20210719',endD='20210721')\n",
    "# print(); s.printCounts()\n",
    "\n",
    "# dailyList.dlCountFilings(startD='20210726',endD='20210731',formClass='13F-HR',noAmend=False)\n",
    "\n",
    "# accNo = '0001174947-20-001195'\n",
    "# utils.secBrowse(accNo)\n",
    "# i = parse8K(accNo,'8-K')\n",
    "# i\n",
    "\n",
    "# b = utils.downloadSecUrl('/Archives/edgar/data/80172/000143774920015853/npk20200727_8k.htm',toFormat='souptext')"
   ]
  },
  {
   "cell_type": "code",
   "execution_count": null,
   "metadata": {},
   "outputs": [],
   "source": []
  },
  {
   "cell_type": "code",
   "execution_count": null,
   "metadata": {},
   "outputs": [],
   "source": [
    "#hide\n",
    "# uncomment and run to regenerate all library Python files\n",
    "# from nbdev.export import notebook2script; notebook2script()"
   ]
  },
  {
   "cell_type": "code",
   "execution_count": null,
   "metadata": {},
   "outputs": [],
   "source": []
  }
 ],
 "metadata": {
  "kernelspec": {
   "display_name": "Python 3",
   "language": "python",
   "name": "python3"
  }
 },
 "nbformat": 4,
 "nbformat_minor": 4
}
