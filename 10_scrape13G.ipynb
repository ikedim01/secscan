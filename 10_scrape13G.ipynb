{
 "cells": [
  {
   "cell_type": "code",
   "execution_count": null,
   "metadata": {},
   "outputs": [],
   "source": [
    "# default_exp scrape13G"
   ]
  },
  {
   "cell_type": "markdown",
   "metadata": {},
   "source": [
    "# scrape13G\n",
    "\n",
    "> Scrape holdings information from 13G SEC filings."
   ]
  },
  {
   "cell_type": "code",
   "execution_count": null,
   "metadata": {},
   "outputs": [],
   "source": [
    "#hide\n",
    "%load_ext autoreload\n",
    "%autoreload 2\n",
    "from nbdev import show_doc"
   ]
  },
  {
   "cell_type": "code",
   "execution_count": null,
   "metadata": {},
   "outputs": [],
   "source": [
    "#export\n",
    "\n",
    "import collections\n",
    "import itertools\n",
    "import os\n",
    "import re\n",
    "\n",
    "from secscan import utils, dailyList, basicInfo, infoScraper\n",
    "\n",
    "default13GDir = os.path.join(utils.stockDataRoot,'scraped13G')"
   ]
  },
  {
   "cell_type": "markdown",
   "metadata": {},
   "source": [
    "13G scraper class - scrape holdings information from the SEC filing:"
   ]
  },
  {
   "cell_type": "code",
   "execution_count": null,
   "metadata": {},
   "outputs": [],
   "source": [
    "#export\n",
    "\n",
    "nSharesPatStr = r'(\\d+(?:[,.]\\d\\d\\d)*)'\n",
    "nPctPatStr = r'(\\d+(?:\\.\\d*)?|\\.\\d+)'\n",
    "form13NshAndPctPats = [\n",
    "    re.compile(r'aggregate\\s+amount.{1,100}?' + nSharesPatStr\n",
    "                + r'.{1,200}?' + r'percent\\s+of\\s+class.{1,100}?' + nPctPatStr + r'\\s*%',\n",
    "                re.IGNORECASE|re.DOTALL),\n",
    "    re.compile(r'item\\s+9\\s*:.*?' + nSharesPatStr\n",
    "                + r'.*?' + r'item\\s+11\\s*:.*?' + nPctPatStr + r'\\s*%',\n",
    "                re.IGNORECASE|re.DOTALL),\n",
    "    re.compile(r'aggregate\\s+amount.{1,100}?' + nSharesPatStr\n",
    "                + r'.{1,200}?' + r'percent\\s+of class.{1,100}?(?!\\D9\\D)\\D' + nPctPatStr,\n",
    "                re.IGNORECASE|re.DOTALL),\n",
    "]\n",
    "def getSec13NshAndPctFromText(txt) :\n",
    "    \"Returns a list [(nShares, percent) ... ] parsed from form 13G or 13D.\"\n",
    "    for pat in form13NshAndPctPats :\n",
    "        res = pat.findall(txt)\n",
    "        if res :\n",
    "            break\n",
    "    return res\n",
    "\n",
    "purposePat = re.compile(r'4\\s*\\.?\\s*purpose\\s*of\\s*(?:the\\s*)?transaction(?:\\s*\\.?\\s*)(.{1,10000}?)'\n",
    "                        + r'(?:\\s*(?:item\\s*)?5\\s*\\.?\\s*interest'\n",
    "                            + r'|\\s*(?:item\\s*)?6\\s*\\.?\\s*contracts'\n",
    "                            + r'|\\s*(?:item\\s*)?7\\s*\\.?\\s*material'\n",
    "                            + r'|\\s*after\\s*reasonable\\s*inquiry'\n",
    "                            + r'|\\s*$'\n",
    "                        + r')',\n",
    "                        re.IGNORECASE|re.DOTALL)\n",
    "\n",
    "def cusipChecksum(cusip) :\n",
    "    s = 0\n",
    "    for i,c in enumerate(cusip[:8]) :\n",
    "        if c.isdigit() :\n",
    "            v = ord(c) - ord('0')\n",
    "        elif c.isalpha() :\n",
    "            v = 10 + ord(c.upper()) - ord('A')\n",
    "        if (i&1) == 1 :\n",
    "            v *= 2\n",
    "        s += (v//10) + (v%10)\n",
    "    return str((10 - (s%10)) % 10)\n",
    "\n",
    "cusipPatStr = r'[0-9A-Za-z]\\d[0-9A-Za-z]\\d[0-9A-Za-z]{2}(?:[-_\\s]*[0-9A-Za-z]{2}(?:[-_\\s]*\\d)?)?'\n",
    "cusipNumberPatStr = r'cusip\\s*(?:number|#|no)'\n",
    "cusipSearchPat1 = re.compile(r'.{1,3000}?\\s+(' + cusipPatStr + r')\\s+.{0,200}?\\s*' + cusipNumberPatStr,\n",
    "                             re.IGNORECASE|re.DOTALL)\n",
    "cusipSearchPat2 = re.compile(r'.{1,3000}?\\s*' + cusipNumberPatStr + '.{0,200}?\\s*(' + cusipPatStr + r')\\s+',\n",
    "                             re.IGNORECASE|re.DOTALL)\n",
    "cusipSearchPat3 = re.compile(r'.{1,2000}\\n\\s*(' + cusipPatStr + r')\\s*\\n',\n",
    "                             re.IGNORECASE|re.DOTALL)\n",
    "spaceDashPat = re.compile(r'[-\\s]*')\n",
    "\n",
    "def parse13GD(accNo, formType=None) :\n",
    "    info = basicInfo.getSecFormInfo(accNo, formType=formType)\n",
    "    links = info['links']\n",
    "    if len(links) == 0 :\n",
    "        print('NO LINKS LIST!')\n",
    "        info['positions'] = []\n",
    "    else :\n",
    "        toFormat = 'text' if links[0][3].endswith('.txt') else 'souptext'\n",
    "        mainText = utils.downloadSecUrl(links[0][3], toFormat=toFormat)\n",
    "        info['positions'] = getSec13NshAndPctFromText(mainText)\n",
    "        m = cusipSearchPat1.match(mainText)\n",
    "        if m is None :\n",
    "            m = cusipSearchPat2.match(mainText)\n",
    "        if m is None and toFormat=='text' :\n",
    "            m = cusipSearchPat3.match(mainText)\n",
    "        if m is None :\n",
    "            if '0001504304' not in info['ciks'] :\n",
    "                # suppress the message for 0001504304 - Bulldog Investors\n",
    "                # - they don't report CUSIPs in their filings\n",
    "                print('no CUSIP found!')\n",
    "        else :\n",
    "            cusip = spaceDashPat.sub('',m.group(1))\n",
    "            if len(cusip) == 6 :\n",
    "                print('adding 10 to CUSIP',cusip)\n",
    "                cusip = cusip + '10'\n",
    "            if len(cusip) == 8 :\n",
    "                print('adding checksum to CUSIP',cusip)\n",
    "                cusip = cusip + cusipChecksum(cusip)\n",
    "            if len(cusip)!=9 or cusip[8]!=cusipChecksum(cusip) :\n",
    "                print('invalid CUSIP!',cusip)\n",
    "            info['cusip'] = cusip\n",
    "            # print('CUSIP-'+cusip,end=' ')\n",
    "        if formType is None :\n",
    "            formType = links[0][2]\n",
    "        if formType.upper().startswith('SC 13D') :\n",
    "            m = purposePat.search(mainText)\n",
    "            if m is None :\n",
    "                print('no purpose of transaction found!')\n",
    "            else :\n",
    "                info['purpose'] = m.group(1)\n",
    "    if len(info['positions']) == 0 :\n",
    "        print('no positions found!')\n",
    "    return info #,mainText\n",
    "\n",
    "class scraper13G(infoScraper.scraperBase) :\n",
    "    def __init__(self, infoDir=default13GDir, startD=None, endD=None, fSuff='m.pkl', **pickle_kwargs) :\n",
    "        super().__init__(infoDir, 'SC 13G', startD=startD, endD=endD, fSuff=fSuff, **pickle_kwargs)\n",
    "    def scrapeInfo(self, accNo, formType=None) :\n",
    "        return parse13GD(accNo, formType=formType), None"
   ]
  },
  {
   "cell_type": "markdown",
   "metadata": {},
   "source": [
    "Test 13G scraper class:"
   ]
  },
  {
   "cell_type": "code",
   "execution_count": null,
   "metadata": {},
   "outputs": [
    {
     "name": "stdout",
     "output_type": "stream",
     "text": [
      "20210703 WEEKEND 20210702 ### list index 28 filings for 20210702: 6569 * 20210701 filings for 20210701: 5573 * "
     ]
    }
   ],
   "source": [
    "dl = dailyList.dailyList(startD='empty')\n",
    "dl.updateForDays('20210701','20210704')\n",
    "assert len(dl.getFilingsList(None,'SC 13G')[0])==100,\"testing 13G scraper class (daily list count)\"\n",
    "info = parse13GD('0001567619-21-013814', formType='SC 13G')\n",
    "assert (info['ciks']==['0000016099', '0001373604']\n",
    "        and info['positions']==[('1350552', '4.36'), ('1582235', '5.10')]\n",
    "        and info['cusip']=='549282101'\n",
    "    ),\"testing 13G scraper class (parsing)\""
   ]
  },
  {
   "cell_type": "code",
   "execution_count": null,
   "metadata": {},
   "outputs": [],
   "source": [
    "#hide\n",
    "# accNo='0001050470-19-000050'; utils.secBrowse(accNo)"
   ]
  },
  {
   "cell_type": "code",
   "execution_count": null,
   "metadata": {},
   "outputs": [],
   "source": [
    "#hide\n",
    "# parse13GD(accNo)"
   ]
  },
  {
   "cell_type": "code",
   "execution_count": null,
   "metadata": {},
   "outputs": [],
   "source": [
    "#hide\n",
    "# dailyList.dlCountFilings(startD='20210101',formClass='SC 13G')"
   ]
  },
  {
   "cell_type": "code",
   "execution_count": null,
   "metadata": {},
   "outputs": [],
   "source": []
  },
  {
   "cell_type": "code",
   "execution_count": null,
   "metadata": {},
   "outputs": [],
   "source": [
    "#hide\n",
    "# uncomment and run to regenerate all library Python files\n",
    "# from nbdev.export import notebook2script; notebook2script()"
   ]
  },
  {
   "cell_type": "code",
   "execution_count": null,
   "metadata": {},
   "outputs": [],
   "source": []
  }
 ],
 "metadata": {
  "kernelspec": {
   "display_name": "Python 3",
   "language": "python",
   "name": "python3"
  }
 },
 "nbformat": 4,
 "nbformat_minor": 4
}
