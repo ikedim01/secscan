{
 "cells": [
  {
   "cell_type": "code",
   "execution_count": null,
   "metadata": {},
   "outputs": [],
   "source": [
    "# default_exp dailyList"
   ]
  },
  {
   "cell_type": "markdown",
   "metadata": {},
   "source": [
    "# dailyList\n",
    "\n",
    "> Parse the SEC's archived daily list of filings."
   ]
  },
  {
   "cell_type": "code",
   "execution_count": null,
   "metadata": {},
   "outputs": [],
   "source": [
    "#hide\n",
    "%load_ext autoreload\n",
    "%autoreload 2\n",
    "from nbdev import show_doc"
   ]
  },
  {
   "cell_type": "code",
   "execution_count": null,
   "metadata": {},
   "outputs": [],
   "source": [
    "#export\n",
    "\n",
    "import csv\n",
    "import re\n",
    "\n",
    "from secscan import utils,recentFeed"
   ]
  },
  {
   "cell_type": "markdown",
   "metadata": {},
   "source": [
    "Download and parse the SEC's archived daily list of filings:"
   ]
  },
  {
   "cell_type": "code",
   "execution_count": null,
   "metadata": {},
   "outputs": [],
   "source": [
    "#export\n",
    "\n",
    "def getQStr(dateStr) :\n",
    "    \"\"\"\n",
    "    Converts a date in YYYYMMDD format to YYYY/QTRn/\n",
    "    where n is the quarter number from 1 to 4.\"\n",
    "    \"\"\"\n",
    "    return dateStr[:4] + '/QTR' + str((int(dateStr[4:6])+2) // 3) + '/'\n",
    "\n",
    "def getSecDailyIndexUrl(dateStr, listType='master') :\n",
    "    return ('/Archives/edgar/daily-index/'\n",
    "            + getQStr(dateStr) + listType + '.' + dateStr + '.idx')\n",
    "\n",
    "noListExceptionPat = re.compile(r'\\b40[34]\\b')\n",
    "edgarTxtFPat = re.compile(\n",
    "            # gets cik and accession no from a file url within the daily index\n",
    "            r\"\\s*edgar/data/(\\d+)\" # cik - should be same as on the index line\n",
    "            + r\"/(\"+utils.accessNoPatStr+r\")\\.txt\\s*$\", # accession no\n",
    "            re.IGNORECASE)\n",
    "\n",
    "def getDailyFList(d) :\n",
    "    \"\"\"\n",
    "    Returns a list of SEC filed forms:\n",
    "        [(cik, cikName, formType, fileDate, accNo), ... ]\n",
    "    for the given date or ISO date string, retrieved from\n",
    "    the SEC daily index.\n",
    "    \"\"\"\n",
    "    dateStr = utils.toDateStr(d)\n",
    "    try :\n",
    "        fListRes = utils.downloadSecUrl(getSecDailyIndexUrl(dateStr))\n",
    "        #print('.',end='')\n",
    "    except Exception as e :\n",
    "        if noListExceptionPat.search(str(e)) >= 0 :\n",
    "            # no list for that date - probably SEC holiday\n",
    "            return []\n",
    "        else : # probably connection error or SEC outage\n",
    "            raise e\n",
    "    r = csv.reader(fListRes.splitlines(), delimiter='|')\n",
    "    res = []\n",
    "    for entry in r :\n",
    "        if len(entry)==5 and entry[0].isdigit() :\n",
    "            cik, cikName, formType, fileDate, txtF = entry\n",
    "        else :\n",
    "            if len(res) > 0 :\n",
    "                print('invalid entry', entry)\n",
    "            continue\n",
    "        m = edgarTxtFPat.match(txtF)\n",
    "        if not m :\n",
    "            print('missing accession no in', entry)\n",
    "            continue\n",
    "        if m.group(1) != cik :\n",
    "            print('cik mismatch in', entry)\n",
    "        res.append((cik,cikName,formType,fileDate,m.group(2)))\n",
    "    print('filings for',dateStr+':', len(res), end=' ')\n",
    "    return res"
   ]
  },
  {
   "cell_type": "markdown",
   "metadata": {},
   "source": [
    "Test downloading and parsing SEC's archived daily list of filings:"
   ]
  },
  {
   "cell_type": "code",
   "execution_count": null,
   "metadata": {},
   "outputs": [
    {
     "name": "stdout",
     "output_type": "stream",
     "text": [
      "*** Problem downloading https://www.sec.gov/Archives/edgar/daily-index/2020/QTR4/master.20201201.idx - 403 Client Error: Forbidden for url: https://www.sec.gov/Archives/edgar/daily-index/2020/QTR4/master.20201201.idx ; retrying ...\n",
      "filings for 20201201: 3464 "
     ]
    }
   ],
   "source": [
    "assert ((getQStr('20200101'),getQStr('20200401'),getQStr('20201201'))\n",
    "        == ('2020/QTR1/','2020/QTR2/','2020/QTR4/')), \"Quarter string calc\"\n",
    "assert (getSecDailyIndexUrl('20201201')\n",
    "        =='/Archives/edgar/daily-index/2020/QTR4/master.20201201.idx'), \"Daily index URL\"\n",
    "r = getDailyFList('20201201')\n",
    "assert len(r)==3464 and r[-1]== ('97745', 'THERMO FISHER SCIENTIFIC INC.',\n",
    "                                 '8-K', '20201201', '0000097745-20-000055')"
   ]
  },
  {
   "cell_type": "markdown",
   "metadata": {},
   "source": [
    "Update a trio of dicts\n",
    "```\n",
    "    dlMap: dateStr -> list of filings [(cik, formType, accNo, fDate,'*'), ... ]\n",
    "    cikNameMap: cik -> (name, latestDateStr)\n",
    "    cikOldNamesMap: cik -> [name1, name2, ...]\n",
    "\n",
    "```\n",
    "using the SEC's archived daily list of filings:"
   ]
  },
  {
   "cell_type": "code",
   "execution_count": null,
   "metadata": {},
   "outputs": [],
   "source": [
    "def findCikName(cikName,oldNames) :\n",
    "    \"\"\"\n",
    "    Checks if a CIK name already appears in a list of old names (case insensitive).\n",
    "    Returns the position if it appears, else -1.\n",
    "    \"\"\"\n",
    "    cikName = cikName.lower()\n",
    "    for i,oldName in enumerate(oldNames) :\n",
    "        if cikName == oldName.lower() :\n",
    "            return i\n",
    "    return -1\n",
    "\n",
    "def updateCikNameMapsFromEntry(dStr, cik, cikName, cikNameMap, cikOldNamesMap) :\n",
    "    \"\"\"\n",
    "    Updates two maps:\n",
    "        cikNameMap: cik -> (name, latestDateStr)\n",
    "        cikOldNamesMap: cik -> [oldname1, oldname2, ...]\n",
    "    to reflect an entry (cik, cikName, ... ) from the index for day dStr.\n",
    "    \"\"\"\n",
    "    if cik not in cikNameMap : # completely new name\n",
    "        cikNameMap[cik] = (cikName, dStr)\n",
    "        return\n",
    "    mapName, mapDStr = cikNameMap[cik]\n",
    "    if dStr < mapDStr :\n",
    "        # name in cikNameMap is newer than this entry\n",
    "        oldName = cikName\n",
    "    else :\n",
    "        # this entry is newer than the name in cikNameMap - update the map\n",
    "        oldName = mapName\n",
    "        cikNameMap[cik] = (cikName, dStr)\n",
    "        mapName = cikName\n",
    "    if oldName==mapName or oldName.lower()==curName.lower() :\n",
    "        # old and new names are the same\n",
    "        return\n",
    "    # update the old names map:\n",
    "    if cik not in cikOldNamesMap :\n",
    "        cikOldNamesMap[cik] = [oldName]\n",
    "        return\n",
    "    oldNames = cikOldNamesMap[cik]\n",
    "    if findCikName(oldName, oldNames) < 0 : # add a new old name\n",
    "        oldNames.append(oldName)\n",
    "    i = findCikName(curName, oldNames)\n",
    "    if i >= 0 : # delete current name if it's in the list of old names\n",
    "        del oldNames[i]\n",
    "\n",
    "# def getDLMapBetween(startD, endD,\n",
    "#                     dlMap=None, cikNameMap=None, cikOldNamesMap=None) :\n",
    "#     \"\"\"\n",
    "#     Updates the trio of maps dlMap, cikNameMap, cikOldNamesMap\n",
    "#     to reflect the filings for dates between startD (inclusive) and\n",
    "#     endD (exclusive). If startD is None, uses the last date already\n",
    "#     in dlMap, or the start of the current year if dlMap is empty.\n",
    "#     If endD is None, uses today.\n",
    "#     Retrieves the filings info from the SEC daily index using getDailyFList.\n",
    "#     \"\"\"\n",
    "#     if dlMap is None :\n",
    "#         dlMap = {}\n",
    "#     if cikNameMap is None :\n",
    "#         cikNameMap = {}\n",
    "#     if cikOldNamesMap is None :\n",
    "#         cikOldNamesMap = {}\n",
    "#     if startD is None :\n",
    "#         if len(dlMap) == 0 :\n",
    "#             startD = toDateStr()[:4]+'0101' # start of current year\n",
    "#         else :\n",
    "#             startD = max(dlMap.keys())\n",
    "#     for d in reversed(dateStrsBetween(startD,endD)) :\n",
    "#         if d in dlMap :\n",
    "#             print 'SKIP'+d,\n",
    "#         else :\n",
    "#             print d,\n",
    "#             dlMap[d] = []\n",
    "#             l = getDailyFList(d)\n",
    "#             print '*',\n",
    "#             for cik, cikName, formType, fileDate, accNo in l :\n",
    "#                 dlMap[d].append((cik,formType,accNo,\n",
    "#                                  '*' if fileDate==d else fileDate, '*'))\n",
    "#                 updateCikNameMapsFromEntry(d,cik,cikName,\n",
    "#                                            cikNameMap,cikOldNamesMap)\n",
    "#     return dlMap,cikNameMap,cikOldNamesMap\n"
   ]
  },
  {
   "cell_type": "code",
   "execution_count": null,
   "metadata": {},
   "outputs": [],
   "source": []
  },
  {
   "cell_type": "code",
   "execution_count": null,
   "metadata": {},
   "outputs": [],
   "source": [
    "#hide\n",
    "# uncomment and run to regenerate all library Python files\n",
    "# from nbdev.export import notebook2script; notebook2script()"
   ]
  },
  {
   "cell_type": "code",
   "execution_count": null,
   "metadata": {},
   "outputs": [],
   "source": []
  }
 ],
 "metadata": {
  "kernelspec": {
   "display_name": "Python 3",
   "language": "python",
   "name": "python3"
  }
 },
 "nbformat": 4,
 "nbformat_minor": 4
}
