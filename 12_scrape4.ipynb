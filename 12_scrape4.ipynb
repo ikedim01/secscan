{
 "cells": [
  {
   "cell_type": "code",
   "execution_count": null,
   "metadata": {},
   "outputs": [],
   "source": [
    "# default_exp scrape4"
   ]
  },
  {
   "cell_type": "markdown",
   "metadata": {},
   "source": [
    "# scrape4\n",
    "\n",
    "> Scrape insider transactions from SEC Form 4 filings."
   ]
  },
  {
   "cell_type": "code",
   "execution_count": null,
   "metadata": {},
   "outputs": [],
   "source": [
    "#hide\n",
    "%load_ext autoreload\n",
    "%autoreload 2\n",
    "from nbdev import show_doc"
   ]
  },
  {
   "cell_type": "code",
   "execution_count": null,
   "metadata": {},
   "outputs": [],
   "source": [
    "#export\n",
    "\n",
    "import collections\n",
    "import itertools\n",
    "import numpy as np\n",
    "import os\n",
    "import re\n",
    "\n",
    "from secscan import utils, dailyList, basicInfo, infoScraper\n",
    "\n",
    "default4Dir = os.path.join(utils.stockDataRoot,'scraped4')"
   ]
  },
  {
   "cell_type": "markdown",
   "metadata": {},
   "source": [
    "Form 4 scraper class - scrape list of insider transactions from XML format in the SEC filing:"
   ]
  },
  {
   "cell_type": "code",
   "execution_count": null,
   "metadata": {},
   "outputs": [],
   "source": [
    "#export\n",
    "\n",
    "form4ReportingNamePat = re.compile('rptownername',re.IGNORECASE)\n",
    "form4ReportingCikPat = re.compile('rptownercik',re.IGNORECASE)\n",
    "form4TransactionPat = re.compile('(non)?derivativetransaction',re.IGNORECASE)\n",
    "form4ValueFieldsAndPats = (\n",
    "    ('title',re.compile('(security)?title',re.IGNORECASE)),\n",
    "    ('trDate',re.compile('(transaction)?date',re.IGNORECASE)),\n",
    "    ('trCcode',re.compile('(transaction)?code',re.IGNORECASE)),\n",
    "    ('aOrD',re.compile('(transaction)?acquireddisposedcode',re.IGNORECASE)),\n",
    "    ('count',re.compile('(transaction)?shares',re.IGNORECASE)),\n",
    "    ('price',re.compile('(transaction)?pricepershare',re.IGNORECASE)),\n",
    "    ('ownership',re.compile('natureofownership?',re.IGNORECASE)),\n",
    "    ('directOrIndirect',re.compile('directorindirectownership',re.IGNORECASE)),\n",
    "    ('remaining',re.compile('(shares)?ownedfollowingtransaction',re.IGNORECASE)),\n",
    ")\n",
    "form4ValueFields = [field for field,_ in form4ValueFieldsAndPats]\n",
    "form4ValuePats = [pat for _,pat in form4ValueFieldsAndPats]\n",
    "\n",
    "#Form 4 transaction codes from SEC:\n",
    "#General Transaction Codes\n",
    "#P - Open market or private purchase of non-derivative or derivative security\n",
    "#S - Open market or private sale of non-derivative or derivative security\n",
    "#V - Transaction voluntarily reported earlier than required\n",
    "#\n",
    "#Rule 16b-3 Transaction Codes\n",
    "#A - Grant, award or other acquisition pursuant to Rule 16b-3(d)\n",
    "#D - Disposition to the issuer of issuer equity securities pursuant to\n",
    "#    Rule 16b-3(e)\n",
    "#F - Payment of exercise price or tax liability by delivering or withholding\n",
    "#    securities incident to the receipt, exercise or vesting of a security\n",
    "#    issued in accordance with Rule 16b-3\n",
    "#I - Discretionary transaction in accordance with Rule 16b-3(f) resulting\n",
    "#    in acquisition or disposition of issuer securities\n",
    "#M - Exercise or conversion of derivative security exempted pursuant to\n",
    "#    Rule 16b-3\n",
    "#\n",
    "#Derivative Securities Codes (Except for transactions exempted pursuant to\n",
    "#            Rule 16b-3)\n",
    "#C - Conversion of derivative security\n",
    "#E - Expiration of short derivative position\n",
    "#H - Expiration (or cancellation) of long derivative position with value\n",
    "#    received\n",
    "#O - Exercise of out-of-the-money derivative security\n",
    "#X - Exercise of in-the-money or at-the-money derivative security\n",
    "#\n",
    "#Other Section 16(b) Exempt Transaction and Small Acquisition Codes (except for\n",
    "#            Rule 16b-3 codes above)\n",
    "#G - Bona fide gift\n",
    "#L - Small acquisition under Rule 16a-6\n",
    "#W - Acquisition or disposition by will or the laws of descent and distribution\n",
    "#Z - Deposit into or withdrawal from voting trust\n",
    "#\n",
    "#Other Transaction Codes\n",
    "#J - Other acquisition or disposition (describe transaction)\n",
    "#K - Transaction in equity swap or instrument with similar characteristics\n",
    "#U - Disposition pursuant to a tender of shares in a change of control\n",
    "#    transaction\n",
    "form4ADCodes = {'A':'+', 'D':'-'}\n",
    "form4DICodes = {'D':'directly owned', 'I':'indirectly owned'}\n",
    "form4TransactionCodes = {\n",
    "    'P':'open market buy',\n",
    "    'S':'open market sell',\n",
    "    'V':'early report',\n",
    "    'A':'grant/award R16b-3',\n",
    "    'D':'disposition to issuer R16b-3',\n",
    "    'F':'payment by delivering/withholding R16b-3',\n",
    "    'I':'discretionary transaction R16b-3',\n",
    "    'M':'exempt derivative exercise R16b-3',\n",
    "    'C':'conversion of derivative',\n",
    "    'E':'expiration/short',\n",
    "    'H':'expiration/long',\n",
    "    'O':'out-of-the-money exercise',\n",
    "    'X':'in-the-money exercise',\n",
    "    'G':'gift',\n",
    "    'L':'small acquisition R16a-6',\n",
    "    'W':'inheritance',\n",
    "    'Z':'transfer with voting trust',\n",
    "    'J':'other',\n",
    "    'K':'equity swap',\n",
    "    'U':'change of control',\n",
    "}\n",
    "def formatF4Num(numStr) :\n",
    "    numStr = numStr.replace(',','')\n",
    "    try :\n",
    "        return f'{int(numStr):,}'\n",
    "    except :\n",
    "        try :\n",
    "            return f'{float(numStr):,}'\n",
    "        except :\n",
    "            return numStr\n",
    "def formatTrans(trans) :\n",
    "    return ' '.join([trans[1],'&nbsp;',trans[0],\n",
    "        f'<b>{form4ADCodes.get(trans[3].upper(),\"???\")}{formatF4Num(trans[4])}',\n",
    "        f'={formatF4Num(trans[8])} @{trans[5]}</b>',\n",
    "        f'({form4TransactionCodes.get(trans[2].upper(),\"???\")}, {form4DICodes.get(trans[7].upper(),\"???\")})',\n",
    "    ]).lower().capitalize().replace(' a ',' A ').replace(' b ',' B ').replace(' c ',' C ')\n",
    "\n",
    "def getForm4Value(transSoup,tagPat) :\n",
    "    tag = transSoup.find(tagPat)\n",
    "    #if tag :\n",
    "    #    tag = tag.find('value')\n",
    "    if tag :\n",
    "        return utils.getCombSoupText(tag)\n",
    "    return ''\n",
    "\n",
    "def parse34(accNo, formType=None) :\n",
    "    info = basicInfo.getSecFormInfo(accNo, formType)\n",
    "    links = info['links']\n",
    "    info['transactions'] = []\n",
    "    info['reportingName'] = []\n",
    "    info['reportingCik'] = []\n",
    "    try :\n",
    "        form4Soup = utils.downloadSecUrl(links[1][-1], toFormat='soup')\n",
    "        for trans in form4Soup.find_all(form4TransactionPat) :\n",
    "            info['transactions'].append(tuple(getForm4Value(trans,vPat) for vPat in form4ValuePats))\n",
    "        for rNameTag in form4Soup.find_all(form4ReportingNamePat) :\n",
    "            info['reportingName'].append(utils.getCombSoupText(rNameTag).strip())\n",
    "        for cikTag in form4Soup.find_all(form4ReportingCikPat) :\n",
    "            info['reportingCik'].append(utils.getCombSoupText(cikTag).strip().lstrip('0'))\n",
    "    except Exception as e:\n",
    "        print('missing or invalid form 4 XML file:',e)\n",
    "    for k in ['transactions', 'reportingName', 'reportingCik'] :\n",
    "        if len(info[k]) == 0 :\n",
    "            print(f'*** NO {k.upper()} ***')\n",
    "    return info\n",
    "\n",
    "class scraper4(infoScraper.scraperBase) :\n",
    "    @utils.delegates(infoScraper.scraperBase.__init__)\n",
    "    def __init__(self, infoDir=default4Dir, **kwargs) :\n",
    "        super().__init__(infoDir, 'INSIDER', **kwargs)\n",
    "    def scrapeInfo(self, accNo, formType=None) :\n",
    "        return parse34(accNo, formType), None\n",
    "    def rescrapeInfo(self, accNo, info) :\n",
    "        return parse34(accNo)"
   ]
  },
  {
   "cell_type": "code",
   "execution_count": null,
   "metadata": {},
   "outputs": [],
   "source": [
    "# hide\n",
    "# accNo = '0001214659-21-013119'\n",
    "# utils.secBrowse(accNo)\n",
    "# parse34(accNo)"
   ]
  },
  {
   "cell_type": "markdown",
   "metadata": {},
   "source": [
    "Test Form 4 scraper class:"
   ]
  },
  {
   "cell_type": "code",
   "execution_count": null,
   "metadata": {},
   "outputs": [
    {
     "name": "stdout",
     "output_type": "stream",
     "text": [
      "UPDATE20211210 ### list index 48 count for 20211210: 4429 * ==========NEW 20211210========== '0001174947-21-001095' *** NO TRANSACTIONS ***\n",
      "'0001174947-21-001097' '0001415889-21-005819' "
     ]
    }
   ],
   "source": [
    "dl = dailyList.dailyList(startD='empty')\n",
    "dl.updateForDays('20211210','20211211')\n",
    "ciks = {'732026','33533'}\n",
    "assert len(dl.getFilingsList(ciks,'INSIDER')[0])==3, \"testing Form 4 scraper class (daily list count)\"\n",
    "\n",
    "s = scraper4(startD='empty')\n",
    "s.updateForDays(dl,'20211210','20211211',ciks)\n",
    "infoMap = s.infoMap['20211210']\n",
    "assert (infoMap['0001174947-21-001095']['transactions']==[]\n",
    "            and infoMap['0001174947-21-001095']['reportingCik']==['1200032']\n",
    "       and infoMap['0001415889-21-005819']['transactions']==[\n",
    "               ('Common Stock','2021-12-08','M','A','1000','3.73','','D','22350'),\n",
    "               ('Common Stock (Right to buy)','2021-12-08','M','D','1000','0','','D','0')]\n",
    "            and infoMap['0001415889-21-005819']['reportingCik']==['1769870']\n",
    "       ), \"testing Form 4 scraper class\""
   ]
  },
  {
   "cell_type": "code",
   "execution_count": null,
   "metadata": {},
   "outputs": [],
   "source": [
    "#hide\n",
    "# uncomment and run to regenerate all library Python files\n",
    "# from nbdev.export import notebook2script; notebook2script()"
   ]
  },
  {
   "cell_type": "code",
   "execution_count": null,
   "metadata": {},
   "outputs": [],
   "source": []
  }
 ],
 "metadata": {
  "kernelspec": {
   "display_name": "Python 3",
   "language": "python",
   "name": "python3"
  }
 },
 "nbformat": 4,
 "nbformat_minor": 4
}
