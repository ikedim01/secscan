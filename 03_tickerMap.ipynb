{
 "cells": [
  {
   "cell_type": "code",
   "execution_count": null,
   "metadata": {},
   "outputs": [],
   "source": [
    "# default_exp tickerMap"
   ]
  },
  {
   "cell_type": "markdown",
   "metadata": {},
   "source": [
    "# tickerMap\n",
    "\n",
    "> Parse the SEC's list of tickers/CIKs."
   ]
  },
  {
   "cell_type": "code",
   "execution_count": null,
   "metadata": {},
   "outputs": [],
   "source": [
    "#hide\n",
    "%load_ext autoreload\n",
    "%autoreload 2\n",
    "from nbdev import show_doc"
   ]
  },
  {
   "cell_type": "code",
   "execution_count": null,
   "metadata": {},
   "outputs": [],
   "source": [
    "#export\n",
    "\n",
    "import collections\n",
    "\n",
    "from secscan import utils"
   ]
  },
  {
   "cell_type": "markdown",
   "metadata": {},
   "source": [
    "Download and parse the SEC's list of tickers/CIKs:"
   ]
  },
  {
   "cell_type": "code",
   "execution_count": null,
   "metadata": {},
   "outputs": [],
   "source": [
    "#export\n",
    "\n",
    "secTickerListUrl = '/files/company_tickers_exchange.json'\n",
    "\n",
    "def getSecTickerDict(field1='ticker', field2='cik', multiValue='last') :\n",
    "    \"\"\"\n",
    "    Return mappings among ticker, cik, name, and exchange based on a\n",
    "    downloaded list from the SEC. Returns a dict: field1 -> field2 values.\n",
    "    \n",
    "    The multivalue argument specifies how to handle multiple field2 values\n",
    "    found for the same field1 value:\n",
    "    'list' - stores a list of all field2 values found\n",
    "    'first' - just stores the first field2 value found\n",
    "    'last' - just stores the last field2 value found\n",
    "    \"\"\"\n",
    "    secTickerJson = utils.downloadSecUrl(secTickerListUrl, toFormat='json')\n",
    "    fieldList, dataList = secTickerJson['fields'], secTickerJson['data']\n",
    "    field1Pos, field2Pos = fieldList.index(field1), fieldList.index(field2)\n",
    "    print('SEC ticker list length',len(dataList),\n",
    "          'with',len(set(tup[field1Pos] for tup in dataList)),'unique values')\n",
    "    res = collections.defaultdict(list) if multiValue=='list' else {}\n",
    "    for tup in dataList :\n",
    "        field1Val, field2Val = str(tup[field1Pos]), str(tup[field2Pos])\n",
    "        if multiValue=='list' :\n",
    "            res[field1Val].append(field2Val)\n",
    "        elif multiValue=='last' or field1Val not in res :\n",
    "            res[field1Val] = field2Val\n",
    "    print('result has',len(res),'keys',end='')\n",
    "    if multiValue != 'list' :\n",
    "        print(' with',len(set(res.values())),'unique values',end='')\n",
    "    print()\n",
    "    return res\n",
    "\n",
    "def getCikToTickersMap() :\n",
    "    \"\"\"\n",
    "    Returns a dict: cik -> <list of corresponding tickers from the SEC list>\n",
    "    \"\"\"\n",
    "    return getSecTickerDict(field1='cik', field2='ticker', multiValue='list')\n",
    "\n",
    "def getCikToFirstTickerMap() :\n",
    "    \"\"\"\n",
    "    Returns a dict: cik -> <first ticker for cik found on the SEC list>\n",
    "    \"\"\"\n",
    "    return getSecTickerDict(field1='cik', field2='ticker', multiValue='first')\n",
    "\n",
    "\n",
    "## Old code using company_tickers.json:\n",
    "# def getCikToTickersMap() :\n",
    "#     \"\"\"\n",
    "#     Retrieves and parses an SEC-maintained list mapping tickers to CIKs.\n",
    "#     Returns a defaultdict: cik -> list of corresponding tickers\n",
    "#     \"\"\"\n",
    "#     tickersJSON = utils.downloadSecUrl('/files/company_tickers.json', toFormat='json')\n",
    "#     cikToTickers = collections.defaultdict(list)\n",
    "#     for v in tickersJSON.values() :\n",
    "#         cikToTickers[str(v['cik_str'])].append(v['ticker'])\n",
    "#     return cikToTickers"
   ]
  },
  {
   "cell_type": "code",
   "execution_count": null,
   "metadata": {},
   "outputs": [
    {
     "name": "stdout",
     "output_type": "stream",
     "text": [
      "SEC ticker list length 10289 with 10289 unique values\n",
      "SEC ticker list length 10289 with 8025 unique values\n"
     ]
    }
   ],
   "source": [
    "# Test downloading and parsing SEC's list of tickers/CIKs:\n",
    "\n",
    "d = getSecTickerDict()\n",
    "assert len(d) > 5000, \"parsing SEC ticker->cik\"\n",
    "assert (d['IBM']=='51143' and d['MNDO']=='1119083'), \"checking cik for ticker\"\n",
    "\n",
    "d = getCikToTickersMap()\n",
    "assert len(d) > 5000, \"parsing SEC cik->tickers\"\n",
    "assert ('PBR' in d['1119639'] and 'PBR-A' in d['1119639']), \"checking tickers for cik\""
   ]
  },
  {
   "cell_type": "code",
   "execution_count": null,
   "metadata": {},
   "outputs": [],
   "source": [
    "#hide\n",
    "# uncomment and run to regenerate all library Python files\n",
    "# from nbdev.export import notebook2script; notebook2script()"
   ]
  },
  {
   "cell_type": "code",
   "execution_count": null,
   "metadata": {},
   "outputs": [],
   "source": []
  }
 ],
 "metadata": {
  "kernelspec": {
   "display_name": "Python 3",
   "language": "python",
   "name": "python3"
  }
 },
 "nbformat": 4,
 "nbformat_minor": 4
}
