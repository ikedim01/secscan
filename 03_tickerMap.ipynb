{
 "cells": [
  {
   "cell_type": "code",
   "execution_count": null,
   "metadata": {},
   "outputs": [],
   "source": [
    "# default_exp tickerMap"
   ]
  },
  {
   "cell_type": "markdown",
   "metadata": {},
   "source": [
    "# tickerMap\n",
    "\n",
    "> Parse the SEC's list of tickers/CIKs."
   ]
  },
  {
   "cell_type": "code",
   "execution_count": null,
   "metadata": {},
   "outputs": [],
   "source": [
    "#hide\n",
    "%load_ext autoreload\n",
    "%autoreload 2\n",
    "from nbdev import show_doc"
   ]
  },
  {
   "cell_type": "code",
   "execution_count": null,
   "metadata": {},
   "outputs": [],
   "source": [
    "#export\n",
    "\n",
    "from secscan import utils"
   ]
  },
  {
   "cell_type": "markdown",
   "metadata": {},
   "source": [
    "Download and parse the SEC's list of tickers/CIKs:"
   ]
  },
  {
   "cell_type": "code",
   "execution_count": null,
   "metadata": {},
   "outputs": [],
   "source": [
    "#export\n",
    "\n",
    "secTickerListUrl = '/files/company_tickers_exchange.json'\n",
    "def getSecTickerDict() :\n",
    "    \"\"\"\n",
    "    Creates a dict mapping ticker -> CIK based on download from the SEC.\n",
    "    \"\"\"\n",
    "    secTickerJson = utils.downloadSecUrl(secTickerListUrl, toFormat='json')\n",
    "    tickerPos = secTickerJson['fields'].index('ticker')\n",
    "    cikPos = secTickerJson['fields'].index('cik')\n",
    "    res = {}\n",
    "    for tup in secTickerJson['data'] :\n",
    "        ticker, cik = tup[tickerPos], tup[cikPos]\n",
    "        if ticker not in res or int(res[ticker]) < cik:\n",
    "            res[ticker] = str(cik)\n",
    "    return res"
   ]
  },
  {
   "cell_type": "markdown",
   "metadata": {},
   "source": [
    "Test downloading and parsing SEC's list of tickers/CIKs:"
   ]
  },
  {
   "cell_type": "code",
   "execution_count": null,
   "metadata": {},
   "outputs": [],
   "source": [
    "d = getSecTickerDict()\n",
    "assert len(d) > 5000, \"parsing SEC ticker list\"\n",
    "assert (d['IBM'], d['MNDO']) == ('51143','1119083'), \"checking ticker CIKs\""
   ]
  },
  {
   "cell_type": "code",
   "execution_count": null,
   "metadata": {},
   "outputs": [],
   "source": [
    "#hide\n",
    "# uncomment and run to regenerate all library Python files\n",
    "# from nbdev.export import notebook2script; notebook2script()"
   ]
  },
  {
   "cell_type": "code",
   "execution_count": null,
   "metadata": {},
   "outputs": [],
   "source": []
  }
 ],
 "metadata": {
  "kernelspec": {
   "display_name": "Python 3",
   "language": "python",
   "name": "python3"
  }
 },
 "nbformat": 4,
 "nbformat_minor": 4
}
