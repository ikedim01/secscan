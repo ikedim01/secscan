{
 "cells": [
  {
   "cell_type": "code",
   "execution_count": null,
   "metadata": {},
   "outputs": [],
   "source": [
    "# default_exp getCikFilings"
   ]
  },
  {
   "cell_type": "markdown",
   "metadata": {},
   "source": [
    "# getCikFilings\n",
    "\n",
    "> Get filings list for a CIK using the SEC's RESTful API."
   ]
  },
  {
   "cell_type": "code",
   "execution_count": null,
   "metadata": {},
   "outputs": [],
   "source": [
    "#hide\n",
    "%load_ext autoreload\n",
    "%autoreload 2\n",
    "from nbdev import show_doc"
   ]
  },
  {
   "cell_type": "code",
   "execution_count": null,
   "metadata": {},
   "outputs": [],
   "source": [
    "#export\n",
    "\n",
    "from secscan import utils"
   ]
  },
  {
   "cell_type": "markdown",
   "metadata": {},
   "source": [
    "Download and parse a list of filings for a CIK:"
   ]
  },
  {
   "cell_type": "code",
   "execution_count": null,
   "metadata": {},
   "outputs": [],
   "source": [
    "#export\n",
    "\n",
    "def getRecent(cik) :\n",
    "    cik = str(cik).lstrip('0')\n",
    "    restFilingsUrl = f'/submissions/CIK{cik.zfill(10)}.json'\n",
    "    filingsJson = utils.downloadSecUrl(restFilingsUrl, restData=True, toFormat='json')\n",
    "    recentList = filingsJson['filings']['recent']\n",
    "    accNos = recentList['accessionNumber']\n",
    "    print(len(accNos),'filings for',filingsJson['name'])\n",
    "    fDates = [fDate.replace('-','') for fDate in recentList['filingDate']]\n",
    "    return [(formType,accNo,fDate)\n",
    "            for formType,accNo,fDate in zip(recentList['form'],accNos,fDates)]"
   ]
  },
  {
   "cell_type": "markdown",
   "metadata": {},
   "source": [
    "Test downloading list of filings for a CIK:"
   ]
  },
  {
   "cell_type": "code",
   "execution_count": null,
   "metadata": {},
   "outputs": [
    {
     "name": "stdout",
     "output_type": "stream",
     "text": [
      "254 filings for RESERVE PETROLEUM CO\n"
     ]
    }
   ],
   "source": [
    "testF = getRecent(83350)\n",
    "assert all(tup in testF for tup in (\n",
    "        ('8-K', '0001437749-21-013386', '20210526'),\n",
    "        ('10-Q', '0001437749-21-012377', '20210517')\n",
    "    )),\"testing get recent CIK filings\""
   ]
  },
  {
   "cell_type": "code",
   "execution_count": null,
   "metadata": {},
   "outputs": [],
   "source": [
    "#hide\n",
    "# uncomment and run to regenerate all library Python files\n",
    "# from nbdev.export import notebook2script; notebook2script()"
   ]
  },
  {
   "cell_type": "code",
   "execution_count": null,
   "metadata": {},
   "outputs": [],
   "source": []
  }
 ],
 "metadata": {
  "kernelspec": {
   "display_name": "Python 3",
   "language": "python",
   "name": "python3"
  }
 },
 "nbformat": 4,
 "nbformat_minor": 4
}
