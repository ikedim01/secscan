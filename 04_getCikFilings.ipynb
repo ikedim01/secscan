{
 "cells": [
  {
   "cell_type": "code",
   "execution_count": null,
   "metadata": {},
   "outputs": [],
   "source": [
    "# default_exp getCikFilings"
   ]
  },
  {
   "cell_type": "markdown",
   "metadata": {},
   "source": [
    "# getCikFilings\n",
    "\n",
    "> Get filings list for a CIK using the SEC's RESTful API."
   ]
  },
  {
   "cell_type": "code",
   "execution_count": null,
   "metadata": {},
   "outputs": [],
   "source": [
    "#hide\n",
    "%load_ext autoreload\n",
    "%autoreload 2\n",
    "from nbdev import show_doc"
   ]
  },
  {
   "cell_type": "code",
   "execution_count": null,
   "metadata": {},
   "outputs": [],
   "source": [
    "#export\n",
    "\n",
    "from secscan import utils"
   ]
  },
  {
   "cell_type": "markdown",
   "metadata": {},
   "source": [
    "Download and parse a list of filings for a CIK:"
   ]
  },
  {
   "cell_type": "code",
   "execution_count": null,
   "metadata": {},
   "outputs": [],
   "source": [
    "#export\n",
    "\n",
    "def cikRestFilingsUrl(cik) :\n",
    "    return f'/submissions/CIK{str(cik).lstrip(\"0\").zfill(10)}.json'\n",
    "\n",
    "def appendFilings(res, filingList, startD) :\n",
    "    fDates = [fDate.replace('-','') for fDate in filingList['filingDate']]\n",
    "    print(len(fDates),'filings')\n",
    "    for formType,accNo,fDate in zip(filingList['form'],\n",
    "                                    filingList['accessionNumber'], fDates) :\n",
    "        if startD is not None and fDate<startD :\n",
    "            return True\n",
    "        res.append((formType,accNo,fDate))\n",
    "    return False\n",
    "\n",
    "def getRecent(cik, startD=None, justFirst=True) :\n",
    "    filingsJson = utils.downloadSecUrl(cikRestFilingsUrl(cik),\n",
    "                                       restData=True, toFormat='json')['filings']\n",
    "    res = []\n",
    "    if appendFilings(res, filingsJson['recent'], startD) or justFirst :\n",
    "        return res\n",
    "    print(filingsJson['files'])\n",
    "    for file in filingsJson.get('files', []) :\n",
    "        extraList = utils.downloadSecUrl(f'/submissions/{file[\"name\"]}',\n",
    "                                         restData=True, toFormat='json')\n",
    "        if appendFilings(res, extraList, startD) :\n",
    "            break\n",
    "    return res"
   ]
  },
  {
   "cell_type": "markdown",
   "metadata": {},
   "source": [
    "Test downloading list of filings for a CIK:"
   ]
  },
  {
   "cell_type": "code",
   "execution_count": null,
   "metadata": {},
   "outputs": [],
   "source": [
    "testF = getRecent(83350)\n",
    "assert all(tup in testF for tup in (\n",
    "        ('8-K', '0001437749-21-013386', '20210526'),\n",
    "        ('10-Q', '0001437749-21-012377', '20210517')\n",
    "    )),\"testing get recent CIK filings on Reserve Petroleum\""
   ]
  },
  {
   "cell_type": "code",
   "execution_count": null,
   "metadata": {},
   "outputs": [
    {
     "name": "stdout",
     "output_type": "stream",
     "text": [
      "1023 filings\n",
      "[{'name': 'CIK0000732717-submissions-001.json', 'filingCount': 2018, 'filingFrom': '2013-02-04', 'filingTo': '2019-02-06'}, {'name': 'CIK0000732717-submissions-002.json', 'filingCount': 2019, 'filingFrom': '2007-02-02', 'filingTo': '2013-02-03'}, {'name': 'CIK0000732717-submissions-003.json', 'filingCount': 2001, 'filingFrom': '1994-05-19', 'filingTo': '2007-02-01'}, {'name': 'CIK0000732717-submissions-004.json', 'filingCount': 7, 'filingFrom': '1994-02-14', 'filingTo': '1994-05-18'}]\n",
      "2018 filings\n"
     ]
    }
   ],
   "source": [
    "testF = getRecent(732717, startD='2017', justFirst=False)\n",
    "assert all(tup in testF for tup in (\n",
    "        ('4', '0001127602-22-020264', '20220802'),\n",
    "        ('425', '0001193125-17-000682', '20170103')\n",
    "    )),\"testing get recent CIK filings on AT&T\""
   ]
  },
  {
   "cell_type": "code",
   "execution_count": null,
   "metadata": {},
   "outputs": [],
   "source": []
  },
  {
   "cell_type": "code",
   "execution_count": null,
   "metadata": {},
   "outputs": [],
   "source": [
    "#hide\n",
    "# uncomment and run to regenerate all library Python files\n",
    "# from nbdev.export import notebook2script; notebook2script()"
   ]
  },
  {
   "cell_type": "code",
   "execution_count": null,
   "metadata": {},
   "outputs": [],
   "source": []
  }
 ],
 "metadata": {
  "kernelspec": {
   "display_name": "Python 3",
   "language": "python",
   "name": "python3"
  }
 },
 "nbformat": 4,
 "nbformat_minor": 4
}
