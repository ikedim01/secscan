{
 "cells": [
  {
   "cell_type": "code",
   "execution_count": null,
   "metadata": {},
   "outputs": [],
   "source": [
    "# default_exp getCikFilings"
   ]
  },
  {
   "cell_type": "markdown",
   "metadata": {},
   "source": [
    "# getCikFilings\n",
    "\n",
    "> Get filings list for a CIK using the SEC's RESTful API."
   ]
  },
  {
   "cell_type": "code",
   "execution_count": null,
   "metadata": {},
   "outputs": [],
   "source": [
    "#hide\n",
    "%load_ext autoreload\n",
    "%autoreload 2\n",
    "from nbdev import show_doc"
   ]
  },
  {
   "cell_type": "code",
   "execution_count": null,
   "metadata": {},
   "outputs": [],
   "source": [
    "#export\n",
    "\n",
    "from secscan import utils"
   ]
  },
  {
   "cell_type": "markdown",
   "metadata": {},
   "source": [
    "Download and parse a list of filings for a CIK:"
   ]
  },
  {
   "cell_type": "code",
   "execution_count": null,
   "metadata": {},
   "outputs": [],
   "source": [
    "#export\n",
    "\n",
    "def getCikFilings(cik) :\n",
    "    restFilingsUrl = f'/submissions/CIK{str(cik).zfill(10)}.json'\n",
    "    filingsJson = utils.downloadSecUrl(restFilingsUrl, restData=True, toFormat='json')\n",
    "    return filingsJson"
   ]
  },
  {
   "cell_type": "code",
   "execution_count": null,
   "metadata": {},
   "outputs": [
    {
     "name": "stdout",
     "output_type": "stream",
     "text": [
      "RESERVE PETROLEUM CO\n"
     ]
    }
   ],
   "source": [
    "testJ = getCikFilings(83350)\n",
    "print(testJ['name'])\n",
    "testJF = testJ['filings']['recent']\n",
    "assert {'0001437749-21-013386','0001437749-21-008960'} < set(testJF['accessionNumber'])"
   ]
  },
  {
   "cell_type": "code",
   "execution_count": null,
   "metadata": {},
   "outputs": [],
   "source": [
    "# list(zip(jf['accessionNumber'],jf['filingDate'],jf['form']))"
   ]
  },
  {
   "cell_type": "code",
   "execution_count": null,
   "metadata": {},
   "outputs": [],
   "source": [
    "#hide\n",
    "# uncomment and run to regenerate all library Python files\n",
    "# from nbdev.export import notebook2script; notebook2script()"
   ]
  },
  {
   "cell_type": "code",
   "execution_count": null,
   "metadata": {},
   "outputs": [],
   "source": []
  }
 ],
 "metadata": {
  "kernelspec": {
   "display_name": "Python 3",
   "language": "python",
   "name": "python3"
  }
 },
 "nbformat": 4,
 "nbformat_minor": 4
}
