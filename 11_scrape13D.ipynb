{
 "cells": [
  {
   "cell_type": "code",
   "execution_count": null,
   "metadata": {},
   "outputs": [],
   "source": [
    "# default_exp scrape13D"
   ]
  },
  {
   "cell_type": "markdown",
   "metadata": {},
   "source": [
    "# scrape13D\n",
    "\n",
    "> Scrape holdings information from 13D SEC filings."
   ]
  },
  {
   "cell_type": "code",
   "execution_count": null,
   "metadata": {},
   "outputs": [],
   "source": [
    "#hide\n",
    "%load_ext autoreload\n",
    "%autoreload 2\n",
    "from nbdev import show_doc"
   ]
  },
  {
   "cell_type": "code",
   "execution_count": null,
   "metadata": {},
   "outputs": [],
   "source": [
    "#export\n",
    "\n",
    "import collections\n",
    "import itertools\n",
    "import os\n",
    "import re\n",
    "\n",
    "from secscan import utils, dailyList, basicInfo, infoScraper, scrape13G\n",
    "\n",
    "default13DDir = os.path.join(utils.stockDataRoot,'scraped13D')"
   ]
  },
  {
   "cell_type": "markdown",
   "metadata": {},
   "source": [
    "13D scraper class - scrape holdings information from the SEC filing:"
   ]
  },
  {
   "cell_type": "code",
   "execution_count": null,
   "metadata": {},
   "outputs": [],
   "source": [
    "#export\n",
    "\n",
    "def parse13D(accNo, formType=None, textLimit=basicInfo.defaultTextLimit) :\n",
    "    info = scrape13G.parse13G(accNo, formType=formType)\n",
    "    return info\n",
    "\n",
    "class scraper13D(infoScraper.scraperBase) :\n",
    "    def __init__(self, infoDir=default13DDir, startD=None, endD=None, fSuff='m.pkl', **pickle_kwargs) :\n",
    "        super().__init__(infoDir, 'SC 13D', startD=startD, endD=endD, fSuff=fSuff, **pickle_kwargs)\n",
    "    def scrapeInfo(self, accNo, formType=None) :\n",
    "        return parse13D(accNo, formType), None"
   ]
  },
  {
   "cell_type": "markdown",
   "metadata": {},
   "source": [
    "Test 13D scraper class:"
   ]
  },
  {
   "cell_type": "code",
   "execution_count": null,
   "metadata": {},
   "outputs": [
    {
     "name": "stdout",
     "output_type": "stream",
     "text": [
      "20210703 WEEKEND 20210702 ### list index 21 filings for 20210702: 6569 * 20210701 filings for 20210701: 5573 * "
     ]
    }
   ],
   "source": [
    "dl = dailyList.dailyList(startD='empty')\n",
    "dl.updateForDays('20210701','20210704')\n",
    "assert len(dl.getFilingsList(None,'SC 13D')[0])==84,\"testing 13D scraper class (daily list count)\"\n",
    "# info = parse13D('0001165002-21-000068', formType='SC 13D', textLimit=1000)\n",
    "# assert (info['itemTexts'][0].startswith('ITEM 2.02: RESULTS OF OPERATIONS AND FINANCIAL CONDITION '\n",
    "#                                         +'On July 27, 2021 , Westwood')\n",
    "#         and info['itemTexts'][0].endswith('otherwise expressly stated in such filing. ')\n",
    "#         and info['itemTexts'][1].startswith('ITEM 7.01: REGULATION FD DISCLOSURE Westwood')\n",
    "#         and info['itemTexts'][1].endswith('of record on August 6, 2021. ')\n",
    "#         and info['itemTexts'][2].startswith('ITEM 9.01: FINANCIAL STATEMENTS AND EXHIBITS (d) ')\n",
    "#         and info['itemTexts'][2].endswith('Financial Officer and Treasurer')\n",
    "#         and info['text99'][1].startswith('EX-99.1 2 a2q21earningsrelease.htm EX-99.1 Document Westwood')\n",
    "#         and info['text99'][1].endswith('Income Opportunity and Total R')\n",
    "#     ),\"testing 13D scraper class (parsing)\""
   ]
  },
  {
   "cell_type": "code",
   "execution_count": null,
   "metadata": {},
   "outputs": [],
   "source": [
    "#hide\n",
    "# assorted test code: \n",
    "\n",
    "# dl = dailyList.dailyList(startD='20200101')\n",
    "\n",
    "# s = scraper13D(startD='empty')\n",
    "# s.updateForDays(dl,startD='20210702',endD='20210703')\n",
    "# print(); s.printCounts()\n",
    "\n",
    "# dailyList.dlCountFilings(startD='20210726',endD='20210731',formClass='13F-HR',noAmend=False)\n",
    "\n",
    "# accNo = '0001174947-20-001195'\n",
    "# i = parse13D(accNo,'SC 13D')\n",
    "# i\n",
    "\n",
    "# for accNo,info in s.infoMap['20210702'].items() :\n",
    "#     print(accNo,info['positions'])\n",
    "\n",
    "# b = utils.downloadSecUrl('',toFormat='souptext')"
   ]
  },
  {
   "cell_type": "code",
   "execution_count": null,
   "metadata": {},
   "outputs": [],
   "source": [
    "#hide\n",
    "# uncomment and run to regenerate all library Python files\n",
    "# from nbdev.export import notebook2script; notebook2script()"
   ]
  },
  {
   "cell_type": "code",
   "execution_count": null,
   "metadata": {},
   "outputs": [],
   "source": []
  }
 ],
 "metadata": {
  "kernelspec": {
   "display_name": "Python 3",
   "language": "python",
   "name": "python3"
  }
 },
 "nbformat": 4,
 "nbformat_minor": 4
}
