{
 "cells": [
  {
   "cell_type": "code",
   "execution_count": null,
   "metadata": {},
   "outputs": [],
   "source": [
    "# default_exp scrape13D"
   ]
  },
  {
   "cell_type": "markdown",
   "metadata": {},
   "source": [
    "# scrape13D\n",
    "\n",
    "> Scrape holdings information from 13D SEC filings."
   ]
  },
  {
   "cell_type": "code",
   "execution_count": null,
   "metadata": {},
   "outputs": [],
   "source": [
    "#hide\n",
    "%load_ext autoreload\n",
    "%autoreload 2\n",
    "from nbdev import show_doc"
   ]
  },
  {
   "cell_type": "code",
   "execution_count": null,
   "metadata": {},
   "outputs": [],
   "source": [
    "#export\n",
    "\n",
    "import collections\n",
    "import itertools\n",
    "import os\n",
    "import re\n",
    "\n",
    "from secscan import utils, dailyList, basicInfo, infoScraper, scrape13G\n",
    "\n",
    "default13DDir = os.path.join(utils.stockDataRoot,'scraped13D')"
   ]
  },
  {
   "cell_type": "markdown",
   "metadata": {},
   "source": [
    "13D scraper class - scrape holdings information from the SEC filing:"
   ]
  },
  {
   "cell_type": "code",
   "execution_count": null,
   "metadata": {},
   "outputs": [],
   "source": [
    "#export\n",
    "\n",
    "class scraper13D(infoScraper.scraperBase) :\n",
    "    def __init__(self, infoDir=default13DDir, startD=None, endD=None, fSuff='m.pkl', **pickle_kwargs) :\n",
    "        super().__init__(infoDir, 'SC 13D', startD=startD, endD=endD, fSuff=fSuff, **pickle_kwargs)\n",
    "    def scrapeInfo(self, accNo, formType=None) :\n",
    "        return scrape13G.parse13GD(accNo, formType=formType), None"
   ]
  },
  {
   "cell_type": "markdown",
   "metadata": {},
   "source": [
    "Test 13D scraper class:"
   ]
  },
  {
   "cell_type": "code",
   "execution_count": null,
   "metadata": {},
   "outputs": [
    {
     "name": "stdout",
     "output_type": "stream",
     "text": [
      "20210703 WEEKEND 20210702 ### list index 22 filings for 20210702: 6569 * 20210701 filings for 20210701: 5573 * "
     ]
    }
   ],
   "source": [
    "dl = dailyList.dailyList(startD='empty')\n",
    "dl.updateForDays('20210701','20210704')\n",
    "assert len(dl.getFilingsList(None,'SC 13D')[0])==84,\"testing 13D scraper class (daily list count)\"\n",
    "info = scrape13G.parse13GD('0000921895-21-001173', formType='SC 13D/A')\n",
    "assert (info['ciks']==['0001165002', '0001461945']\n",
    "        and info['positions']==[('412,925', '5.0'), ('430,214', '5.2'), ('843,139', '10.2'),\n",
    "                                ('843,139', '10.2'), ('860,416', '10.4'), ('860,416', '10.4')]\n",
    "        and info['purpose'].startswith('Item 4 is hereby amended and restated to read')\n",
    "        and info['purpose'].endswith('Item 4 of Schedule 13D. 8 CUSIP No. 961765104')\n",
    "    ),\"testing 13D scraper class (parsing)\""
   ]
  },
  {
   "cell_type": "code",
   "execution_count": null,
   "metadata": {},
   "outputs": [],
   "source": []
  },
  {
   "cell_type": "code",
   "execution_count": null,
   "metadata": {},
   "outputs": [],
   "source": [
    "#hide\n",
    "# assorted test code: \n",
    "\n",
    "# dl = dailyList.dailyList(startD='20200101')\n",
    "\n",
    "# s = scraper13D(startD='empty')\n",
    "# s.updateForDays(dl,startD='20210702',endD='20210703')\n",
    "# print(); s.printCounts()\n",
    "\n",
    "# dailyList.dlCountFilings(startD='20210726',endD='20210731',formClass='13F-HR',noAmend=False)\n",
    "\n",
    "# accNo = '0001174947-20-001195'\n",
    "# i = parse13D(accNo,'SC 13D')\n",
    "# i\n",
    "\n",
    "# for accNo,info in s.infoMap['20210702'].items() :\n",
    "#     print(accNo,info['positions'])\n",
    "\n",
    "# b = utils.downloadSecUrl('',toFormat='souptext')\n",
    "# utils.secBrowse('0001104659-21-079401')\n",
    "# scrape13G.parse13GD('0001171520-19-000289')"
   ]
  },
  {
   "cell_type": "code",
   "execution_count": null,
   "metadata": {},
   "outputs": [],
   "source": [
    "#hide\n",
    "# uncomment and run to regenerate all library Python files\n",
    "# from nbdev.export import notebook2script; notebook2script()"
   ]
  },
  {
   "cell_type": "code",
   "execution_count": null,
   "metadata": {},
   "outputs": [],
   "source": []
  }
 ],
 "metadata": {
  "kernelspec": {
   "display_name": "Python 3",
   "language": "python",
   "name": "python3"
  }
 },
 "nbformat": 4,
 "nbformat_minor": 4
}
